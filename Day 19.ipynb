{
 "cells": [
  {
   "cell_type": "markdown",
   "metadata": {},
   "source": [
    "# Day 19: Tractor Beam\n",
    "\n",
    "https://adventofcode.com/2019/day/19\n",
    "\n",
    "## Part 1\n",
    "\n",
    "Refactored Intcode program into `IntcodeV2` to accept more than one input and not to stop when output is produced. "
   ]
  },
  {
   "cell_type": "code",
   "execution_count": 6,
   "metadata": {},
   "outputs": [],
   "source": [
    "import numpy as np\n",
    "import matplotlib.pyplot as plt\n",
    "from AOC2019 import IntcodeV2, readIntcodeProg"
   ]
  },
  {
   "cell_type": "code",
   "execution_count": null,
   "metadata": {},
   "outputs": [
    {
     "name": "stdout",
     "output_type": "stream",
     "text": [
      "Scanning surrounding space... "
     ]
    }
   ],
   "source": [
    "prog = readIntcodeProg(\"input19.txt\")\n",
    "\n",
    "nx = 50\n",
    "ny = 50\n",
    "beam = np.zeros((ny,nx))\n",
    "\n",
    "d = IntcodeV2(prog,\"DRONE\",[0,0])\n",
    "\n",
    "print(\"Scanning surrounding space... \",end=\"\")\n",
    "\n",
    "for x in range(nx):\n",
    "    for y in range(ny):\n",
    "        d.reset()\n",
    "        d.setInputs([x,y]) \n",
    "        d.runProgram()\n",
    "        beam[y][x] = d.getLastOutput()\n",
    "        \n",
    "print(\"Done!\")"
   ]
  },
  {
   "cell_type": "code",
   "execution_count": null,
   "metadata": {},
   "outputs": [],
   "source": [
    "fig = plt.figure(figsize=(5, 5), dpi=100)\n",
    "plt.imshow(beam)\n",
    "print(\"Number of points affected by the tractor beam =\",int(beam[beam==1].sum()))"
   ]
  },
  {
   "cell_type": "code",
   "execution_count": null,
   "metadata": {},
   "outputs": [],
   "source": []
  }
 ],
 "metadata": {
  "kernelspec": {
   "display_name": "Python 3",
   "language": "python",
   "name": "python3"
  },
  "language_info": {
   "codemirror_mode": {
    "name": "ipython",
    "version": 3
   },
   "file_extension": ".py",
   "mimetype": "text/x-python",
   "name": "python",
   "nbconvert_exporter": "python",
   "pygments_lexer": "ipython3",
   "version": "3.7.5"
  }
 },
 "nbformat": 4,
 "nbformat_minor": 2
}
