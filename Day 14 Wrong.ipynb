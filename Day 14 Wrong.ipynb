{
 "cells": [
  {
   "cell_type": "markdown",
   "metadata": {},
   "source": [
    "# Day 14:  Space Stoichiometry\n",
    "\n",
    "https://adventofcode.com/2019/day/14"
   ]
  },
  {
   "cell_type": "code",
   "execution_count": 103,
   "metadata": {},
   "outputs": [],
   "source": [
    "import numpy as np"
   ]
  },
  {
   "cell_type": "code",
   "execution_count": 104,
   "metadata": {},
   "outputs": [],
   "source": [
    "def isInteger(s):\n",
    "    try:\n",
    "        int(s)\n",
    "        return True\n",
    "    except ValueError:\n",
    "        return False\n",
    "\n",
    "def IntOrString(s):\n",
    "    try:\n",
    "        int(s)\n",
    "        return int(s)\n",
    "    except ValueError:\n",
    "        return s"
   ]
  },
  {
   "cell_type": "code",
   "execution_count": 105,
   "metadata": {},
   "outputs": [],
   "source": [
    "#infile = \"day14test1.txt\" # ORE needed = 31\n",
    "#infile = \"day14test2.txt\" # ORE needed = 165\n",
    "#infile = \"day14test3.txt\" # ORE needed = 13312\n",
    "#infile = \"day14test4.txt\" # ORE needed = 180697\n",
    "infile = \"day14test5.txt\" # ORE needed = 2210736\n",
    "#infile = \"input14.txt\""
   ]
  },
  {
   "cell_type": "code",
   "execution_count": 109,
   "metadata": {},
   "outputs": [
    {
     "data": {
      "text/plain": [
       "['171 ORE => 8 CNZTR',\n",
       " '7 ZLQW, 3 BMBT, 9 XCVML, 26 XMNCP, 1 WPTQ, 2 MZWV, 1 RJRHP => 4 PLWSL',\n",
       " '114 ORE => 4 BHXH',\n",
       " '14 VRPVC => 6 BMBT',\n",
       " '6 BHXH, 18 KTJDG, 12 WPTQ, 7 PLWSL, 31 FHTLT, 37 ZDVW => 1 FUEL',\n",
       " '6 WPTQ, 2 BMBT, 8 ZLQW, 18 KTJDG, 1 XMNCP, 6 MZWV, 1 RJRHP => 6 FHTLT',\n",
       " '15 XDBXC, 2 LTCX, 1 VRPVC => 6 ZLQW',\n",
       " '13 WPTQ, 10 LTCX, 3 RJRHP, 14 XMNCP, 2 MZWV, 1 ZLQW => 1 ZDVW',\n",
       " '5 BMBT => 4 WPTQ',\n",
       " '189 ORE => 9 KTJDG',\n",
       " '1 MZWV, 17 XDBXC, 3 XCVML => 2 XMNCP',\n",
       " '12 VRPVC, 27 CNZTR => 2 XDBXC',\n",
       " '15 KTJDG, 12 BHXH => 5 XCVML',\n",
       " '3 BHXH, 2 VRPVC => 7 MZWV',\n",
       " '121 ORE => 7 VRPVC',\n",
       " '7 XCVML => 6 RJRHP',\n",
       " '5 BHXH, 4 VRPVC => 5 LTCX',\n",
       " '']"
      ]
     },
     "execution_count": 109,
     "metadata": {},
     "output_type": "execute_result"
    }
   ],
   "source": [
    "with open(infile) as f:\n",
    "    lines = [l.rstrip('\\n') for l in f]\n",
    "lines"
   ]
  },
  {
   "cell_type": "code",
   "execution_count": 110,
   "metadata": {},
   "outputs": [],
   "source": [
    "R = {} # dictionary of all reactions, keys are chemicals\n",
    "for l in lines:\n",
    "    if len(l):\n",
    "        D = {} # dictionary of all needed ingredients for a given reaction, keys are chemicals\n",
    "        s = l.split(\" => \")\n",
    "        o = [ IntOrString(ss) for ss in s[1].split(\" \") ]\n",
    "        ing = [ [ IntOrString(sss) for sss in ss.split(\" \") ] for ss in s[0].split(\", \") ]\n",
    "        for i in ing:\n",
    "            D[i[1]] = i[0]\n",
    "        R[o[1]] = ( o[0], D )"
   ]
  },
  {
   "cell_type": "code",
   "execution_count": 111,
   "metadata": {},
   "outputs": [
    {
     "name": "stdout",
     "output_type": "stream",
     "text": [
      "(7, {'ORE': 121})\n"
     ]
    }
   ],
   "source": [
    "print(R['VRPVC'])"
   ]
  },
  {
   "cell_type": "code",
   "execution_count": 112,
   "metadata": {},
   "outputs": [],
   "source": [
    "from math import ceil\n",
    "\n",
    "def ingredients(chem,howmuch):\n",
    "    returns = R[chem][0]\n",
    "    # how many times do I need to perform a reaction?\n",
    "    times = ceil(howmuch/returns)\n",
    "    reac = R[chem][1]\n",
    "    ingr = {}\n",
    "    for r in reac.keys():\n",
    "        ingr[r] = times * reac[r]\n",
    "    return ingr"
   ]
  },
  {
   "cell_type": "code",
   "execution_count": 113,
   "metadata": {},
   "outputs": [
    {
     "data": {
      "text/plain": [
       "{'BHXH': 6, 'KTJDG': 18, 'WPTQ': 12, 'PLWSL': 7, 'FHTLT': 31, 'ZDVW': 37}"
      ]
     },
     "execution_count": 113,
     "metadata": {},
     "output_type": "execute_result"
    }
   ],
   "source": [
    "ingredients(\"FUEL\",1)"
   ]
  },
  {
   "cell_type": "code",
   "execution_count": 114,
   "metadata": {},
   "outputs": [
    {
     "name": "stdout",
     "output_type": "stream",
     "text": [
      "{'FUEL': 1}\n",
      "P -> FUEL 1\n",
      "  I -> BHXH 6\n",
      "  I -> KTJDG 18\n",
      "  I -> WPTQ 12\n",
      "  I -> PLWSL 7\n",
      "  I -> FHTLT 31\n",
      "  I -> ZDVW 37\n",
      "{'BHXH': 6, 'KTJDG': 18, 'WPTQ': 12, 'PLWSL': 7, 'FHTLT': 31, 'ZDVW': 37}\n",
      "P -> BHXH 6\n",
      "  I -> ORE 228\n",
      "P -> KTJDG 18\n",
      "  I -> ORE 378\n",
      "P -> WPTQ 12\n",
      "  I -> BMBT 15\n",
      "P -> PLWSL 7\n",
      "  I -> ZLQW 14\n",
      "  I -> BMBT 6\n",
      "  I -> XCVML 18\n",
      "  I -> XMNCP 52\n",
      "  I -> WPTQ 2\n",
      "  I -> MZWV 4\n",
      "  I -> RJRHP 2\n",
      "P -> FHTLT 31\n",
      "  I -> WPTQ 36\n",
      "  I -> BMBT 12\n",
      "  I -> ZLQW 48\n",
      "  I -> KTJDG 108\n",
      "  I -> XMNCP 6\n",
      "  I -> MZWV 36\n",
      "  I -> RJRHP 6\n",
      "P -> ZDVW 37\n",
      "  I -> WPTQ 481\n",
      "  I -> LTCX 370\n",
      "  I -> RJRHP 111\n",
      "  I -> XMNCP 518\n",
      "  I -> MZWV 74\n",
      "  I -> ZLQW 37\n",
      "{'BHXH': 6, 'KTJDG': 126, 'BMBT': 33, 'ZLQW': 99, 'XCVML': 18, 'XMNCP': 576, 'WPTQ': 519, 'MZWV': 114, 'RJRHP': 119, 'LTCX': 370}\n",
      "P -> BHXH 6\n",
      "  I -> ORE 228\n",
      "P -> KTJDG 126\n",
      "  I -> ORE 2646\n",
      "P -> BMBT 33\n",
      "  I -> VRPVC 84\n",
      "P -> ZLQW 99\n",
      "  I -> XDBXC 255\n",
      "  I -> LTCX 34\n",
      "  I -> VRPVC 17\n",
      "P -> XCVML 18\n",
      "  I -> KTJDG 60\n",
      "  I -> BHXH 48\n",
      "P -> XMNCP 576\n",
      "  I -> MZWV 288\n",
      "  I -> XDBXC 4896\n",
      "  I -> XCVML 864\n",
      "P -> WPTQ 519\n",
      "  I -> BMBT 650\n",
      "P -> MZWV 114\n",
      "  I -> BHXH 51\n",
      "  I -> VRPVC 34\n",
      "P -> RJRHP 119\n",
      "  I -> XCVML 140\n",
      "P -> LTCX 370\n",
      "  I -> BHXH 370\n",
      "  I -> VRPVC 296\n",
      "{'BHXH': 475, 'KTJDG': 186, 'VRPVC': 431, 'XDBXC': 5151, 'LTCX': 34, 'MZWV': 288, 'XCVML': 1004, 'BMBT': 650}\n",
      "P -> BHXH 475\n",
      "  I -> ORE 13566\n",
      "P -> KTJDG 186\n",
      "  I -> ORE 3969\n",
      "P -> VRPVC 431\n",
      "  I -> ORE 7502\n",
      "P -> XDBXC 5151\n",
      "  I -> VRPVC 30912\n",
      "  I -> CNZTR 69552\n",
      "P -> LTCX 34\n",
      "  I -> BHXH 35\n",
      "  I -> VRPVC 28\n",
      "P -> MZWV 288\n",
      "  I -> BHXH 126\n",
      "  I -> VRPVC 84\n",
      "P -> XCVML 1004\n",
      "  I -> KTJDG 3015\n",
      "  I -> BHXH 2412\n",
      "P -> BMBT 650\n",
      "  I -> VRPVC 1526\n",
      "{'BHXH': 3048, 'KTJDG': 3201, 'VRPVC': 32981, 'CNZTR': 69552}\n",
      "P -> BHXH 3048\n",
      "  I -> ORE 86868\n",
      "P -> KTJDG 3201\n",
      "  I -> ORE 67284\n",
      "P -> VRPVC 32981\n",
      "  I -> ORE 570152\n",
      "P -> CNZTR 69552\n",
      "  I -> ORE 1486674\n",
      "{'BHXH': 3048, 'KTJDG': 3201, 'VRPVC': 32981, 'CNZTR': 69552}\n",
      "*** ORE needed =  2210978\n"
     ]
    }
   ],
   "source": [
    "P = {}\n",
    "P[\"FUEL\"] = 1\n",
    "\n",
    "j=0\n",
    "while(True):\n",
    "#while(j<3):\n",
    "    j+=1\n",
    "    print(P)\n",
    "    needmore = 0\n",
    "    Pnew = {}\n",
    "    for p in P.keys():\n",
    "        needmore = 0\n",
    "        print(\"P ->\",p,P[p])       \n",
    "        I = ingredients(p,P[p]) \n",
    "        for i in I.keys():\n",
    "            print(\"  I ->\",i,I[i])\n",
    "            if i==\"ORE\":\n",
    "                Pnew[p] = P[p]\n",
    "            else:\n",
    "                needmore += 1\n",
    "                if not i in Pnew:\n",
    "                    Pnew[i] = I[i]\n",
    "                else:\n",
    "                    Pnew[i] += I[i]\n",
    "    P = Pnew\n",
    "    if not needmore:\n",
    "        break\n",
    "\n",
    "n_ore = 0\n",
    "for p in P.keys():\n",
    "    I = ingredients(p,P[p])\n",
    "    for i in I.keys():\n",
    "        if i==\"ORE\": # not really needed, since now P should contain only elements needing ORE\n",
    "            n_ore += I[i]           \n",
    "\n",
    "print(P)\n",
    "print(\"*** ORE needed = \",n_ore)"
   ]
  },
  {
   "cell_type": "code",
   "execution_count": 88,
   "metadata": {},
   "outputs": [
    {
     "data": {
      "text/plain": [
       "242"
      ]
     },
     "execution_count": 88,
     "metadata": {},
     "output_type": "execute_result"
    }
   ],
   "source": [
    "2210978 - 2210736"
   ]
  },
  {
   "cell_type": "code",
   "execution_count": null,
   "metadata": {},
   "outputs": [],
   "source": []
  }
 ],
 "metadata": {
  "kernelspec": {
   "display_name": "Python 3",
   "language": "python",
   "name": "python3"
  },
  "language_info": {
   "codemirror_mode": {
    "name": "ipython",
    "version": 3
   },
   "file_extension": ".py",
   "mimetype": "text/x-python",
   "name": "python",
   "nbconvert_exporter": "python",
   "pygments_lexer": "ipython3",
   "version": "3.7.5"
  }
 },
 "nbformat": 4,
 "nbformat_minor": 2
}
