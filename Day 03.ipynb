{
 "cells": [
  {
   "cell_type": "markdown",
   "metadata": {},
   "source": [
    "# Day 3: Crossed Wires\n",
    "\n",
    "https://adventofcode.com/2019/day/3\n",
    "\n",
    "## Part 1"
   ]
  },
  {
   "cell_type": "code",
   "execution_count": 16,
   "metadata": {},
   "outputs": [],
   "source": [
    "import numpy as np"
   ]
  },
  {
   "cell_type": "code",
   "execution_count": 33,
   "metadata": {},
   "outputs": [],
   "source": [
    "#c1 = ['R75','D30','R83','U83','L12','D49','R71','U7','L72']\n",
    "#c2 = ['U62','R66','U55','R34','D71','R55','D58','R83']\n",
    "## distance 159\n",
    "c1 = ['R98','U47','R26','D63','R33','U87','L62','D20','R33','U53','R51']\n",
    "c2 = ['U98','R91','D20','R16','D67','R40','U7','R15','U6','R7']\n",
    "## distance 135\n",
    "#c1 = ['R8','U5','L5','D3']\n",
    "#c2 = ['U7','R6','D4','L4']"
   ]
  },
  {
   "cell_type": "code",
   "execution_count": 34,
   "metadata": {},
   "outputs": [],
   "source": [
    "# return string with movement and integer with movement lenght\n",
    "def decode(instr):\n",
    "    return instr[0], int(instr[1:])"
   ]
  },
  {
   "cell_type": "code",
   "execution_count": 35,
   "metadata": {},
   "outputs": [
    {
     "name": "stdout",
     "output_type": "stream",
     "text": [
      "R 98\n"
     ]
    }
   ],
   "source": [
    "instr = c1[0]\n",
    "mov, space = decode(instr)\n",
    "print(mov,space)"
   ]
  },
  {
   "cell_type": "code",
   "execution_count": 36,
   "metadata": {},
   "outputs": [],
   "source": [
    "# tranform movement in final coordinate, assuming an origin\n",
    "def coord(mov,space,x0=0,y0=0):\n",
    "    x1 = x0\n",
    "    y1 = y0\n",
    "    if (mov == \"R\"):\n",
    "        x1 += space\n",
    "    elif (mov == \"L\"):\n",
    "        x1 -= space\n",
    "    elif (mov == \"U\"):\n",
    "        y1 += space\n",
    "    elif (mov == \"D\"):\n",
    "        y1 -= space\n",
    "    else:\n",
    "        print(\"Invalid movement instruction\")\n",
    "    return x1, y1"
   ]
  },
  {
   "cell_type": "code",
   "execution_count": 37,
   "metadata": {},
   "outputs": [
    {
     "name": "stdout",
     "output_type": "stream",
     "text": [
      "98 0\n"
     ]
    }
   ],
   "source": [
    "x1, y1 = coord(mov,space)\n",
    "print(x1,y1)"
   ]
  },
  {
   "cell_type": "code",
   "execution_count": 38,
   "metadata": {},
   "outputs": [],
   "source": [
    "def segments(c,x0=0,y0=0):\n",
    "    seg = []\n",
    "    for i in c:\n",
    "        mov, space = decode(i)\n",
    "        x1,y1 = coord(mov,space,x0,y0)\n",
    "        s = [[x0,y0],[x1,y1]]\n",
    "        seg.append(s)\n",
    "        #print(i1, s1)\n",
    "        x0 = x1\n",
    "        y0 = y1\n",
    "    return seg"
   ]
  },
  {
   "cell_type": "code",
   "execution_count": 39,
   "metadata": {},
   "outputs": [
    {
     "name": "stdout",
     "output_type": "stream",
     "text": [
      "[[[0, 0], [98, 0]], [[98, 0], [98, 47]], [[98, 47], [124, 47]], [[124, 47], [124, -16]], [[124, -16], [157, -16]], [[157, -16], [157, 71]], [[157, 71], [95, 71]], [[95, 71], [95, 51]], [[95, 51], [128, 51]], [[128, 51], [128, 104]], [[128, 104], [179, 104]]]\n",
      "[[[0, 0], [0, 98]], [[0, 98], [91, 98]], [[91, 98], [91, 78]], [[91, 78], [107, 78]], [[107, 78], [107, 11]], [[107, 11], [147, 11]], [[147, 11], [147, 18]], [[147, 18], [162, 18]], [[162, 18], [162, 24]], [[162, 24], [169, 24]]]\n"
     ]
    }
   ],
   "source": [
    "x0=0\n",
    "y0=0\n",
    "\n",
    "seg1 = segments(c1,x0,y0)\n",
    "seg2 = segments(c2,x0,y0)\n",
    "\n",
    "print(seg1)\n",
    "print(seg2)"
   ]
  },
  {
   "cell_type": "code",
   "execution_count": 40,
   "metadata": {},
   "outputs": [],
   "source": [
    "def crossing(seg1,seg2):\n",
    "    # assuming no overlap of parallel segments \n",
    "    crossing = []\n",
    "    p1 = seg1[0]\n",
    "    p2 = seg1[1]\n",
    "    q1 = seg2[0]\n",
    "    q2 = seg2[1]\n",
    "    if (p1[0]==p2[0]): # seg1 vertical \n",
    "        if (q1[0]==q2[0]): # seg2 vertical\n",
    "            crossing = []\n",
    "        else: # seg2 horizontal\n",
    "            if ( min(q1[0],q2[0]) <= p1[0] and p1[0] <= max(q1[0],q2[0]) ) and \\\n",
    "            ( min(p1[1],p2[1]) <= q1[1] and q1[1] <= max(p1[1],p2[1]) ):\n",
    "                crossing = [ p1[0], q1[1] ]\n",
    "            else:\n",
    "                crossing = []\n",
    "    elif (p1[1]==p2[1]): # seg1 horizontal\n",
    "        if (q1[1]==q2[1]): # seg2 horizontal\n",
    "            crossing = []\n",
    "        else: # seg2 vertical\n",
    "            if ( min(p1[0],p2[0]) <= q1[0] and q1[0] <= max(p1[0],p2[0])  ) and \\\n",
    "            ( min(q1[1],q2[1]) <= p1[1] and p1[1] <= max(q1[1],q2[1]) ):\n",
    "                crossing = [ q1[0], p1[1] ]\n",
    "            else:\n",
    "                crossing = []\n",
    "    return crossing"
   ]
  },
  {
   "cell_type": "code",
   "execution_count": 41,
   "metadata": {},
   "outputs": [
    {
     "name": "stdout",
     "output_type": "stream",
     "text": [
      "[[0, 0], [98, 0]]\n",
      "[[0, 0], [0, 98]]\n",
      "[0, 0]\n"
     ]
    }
   ],
   "source": [
    "i = 0\n",
    "s1 = seg1[i]\n",
    "s2 = seg2[i]\n",
    "c = crossing(s1,s2)\n",
    "print(s1)\n",
    "print(s2)\n",
    "print(c)"
   ]
  },
  {
   "cell_type": "code",
   "execution_count": 42,
   "metadata": {},
   "outputs": [],
   "source": [
    "def listcrossing(seg1,seg2):\n",
    "    cross = []\n",
    "    for s1 in seg1:\n",
    "        for s2 in seg2:\n",
    "            c = crossing(s1,s2)\n",
    "            if (len(c)):\n",
    "                #print(s1,\" \",s2,\" \", c)\n",
    "                cross.append(c)\n",
    "    return cross"
   ]
  },
  {
   "cell_type": "code",
   "execution_count": 43,
   "metadata": {},
   "outputs": [
    {
     "data": {
      "text/plain": [
       "[[0, 0], [107, 47], [124, 11], [157, 18], [107, 71], [107, 51]]"
      ]
     },
     "execution_count": 43,
     "metadata": {},
     "output_type": "execute_result"
    }
   ],
   "source": [
    "cross = listcrossing(seg1,seg2)\n",
    "cross"
   ]
  },
  {
   "cell_type": "code",
   "execution_count": 44,
   "metadata": {},
   "outputs": [],
   "source": [
    "def distance(p0,p1):\n",
    "    return abs(p1[0]-p0[0])+abs(p1[1]-p0[1])"
   ]
  },
  {
   "cell_type": "code",
   "execution_count": 45,
   "metadata": {},
   "outputs": [],
   "source": [
    "def mindist(origin,cross):\n",
    "    dmin = 100000000\n",
    "    for c in cross:\n",
    "        d = distance(origin,c)\n",
    "        if (d>0 and d<dmin):\n",
    "            dmin = d\n",
    "        #print(d,dmin)\n",
    "    return dmin"
   ]
  },
  {
   "cell_type": "code",
   "execution_count": 46,
   "metadata": {},
   "outputs": [
    {
     "name": "stdout",
     "output_type": "stream",
     "text": [
      "minimal distance =  135\n"
     ]
    }
   ],
   "source": [
    "origin = [x0,y0]\n",
    "dmin = mindist(origin,cross)\n",
    "print(\"minimal distance = \",dmin)"
   ]
  },
  {
   "cell_type": "markdown",
   "metadata": {},
   "source": [
    "# Part 2"
   ]
  },
  {
   "cell_type": "code",
   "execution_count": 53,
   "metadata": {},
   "outputs": [
    {
     "name": "stdout",
     "output_type": "stream",
     "text": [
      "[[-1527, -957], [-1422, -957], [-1527, -989], [-1422, -989], [-1305, -901], [-1724, -687], [-1834, -613], [-1609, 441], [-1569, 689], [-1569, 484], [-1774, 484], [-2264, 498], [-2291, 594], [-2299, 594], [-2396, 1011], [-2396, 1037], [-1678, 1850]]\n"
     ]
    }
   ],
   "source": [
    "#c1 = ['R75','D30','R83','U83','L12','D49','R71','U7','L72']\n",
    "#c2 = ['U62','R66','U55','R34','D71','R55','D58','R83']\n",
    "\n",
    "#c1 = ['R98','U47','R26','D63','R33','U87','L62','D20','R33','U53','R51']\n",
    "#c2 = ['U98','R91','D20','R16','D67','R40','U7','R15','U6','R7']\n",
    "\n",
    "dt = dtype=np.dtype(np.string_)\n",
    "data = np.genfromtxt(\"./data/input3.txt\",delimiter=\",\",dtype=np.dtype(\"U1000\"))\n",
    "c1 = data[0]\n",
    "c2 = data[1]\n",
    "\n",
    "seg1 = segments(c1,x0,y0)\n",
    "seg2 = segments(c2,x0,y0)\n",
    "cc = listcrossing(seg1,seg2)\n",
    "print(cc)"
   ]
  },
  {
   "cell_type": "code",
   "execution_count": 54,
   "metadata": {},
   "outputs": [],
   "source": [
    "def belongToSegment(c,s):\n",
    "    p1 = s[0]\n",
    "    p2 = s[1]\n",
    "    if (p1[0] == p2[0]): # s is vertical\n",
    "        if (c[0] == p1[0]):\n",
    "            if ( min(p1[1],p2[1]) <= c[1] and c[1] <= max(p1[1],p2[1]) ):\n",
    "                return True\n",
    "            else:\n",
    "                return False\n",
    "        else:\n",
    "            return False\n",
    "    else: # s is horizontal\n",
    "        if (c[1] == p1[1]):\n",
    "            if ( min(p1[0],p2[0]) <= c[0] and c[0] <= max(p1[0],p2[0]) ):\n",
    "                return True\n",
    "            else:\n",
    "                return False\n",
    "        else:\n",
    "            return False"
   ]
  },
  {
   "cell_type": "code",
   "execution_count": 55,
   "metadata": {},
   "outputs": [
    {
     "data": {
      "text/plain": [
       "False"
      ]
     },
     "execution_count": 55,
     "metadata": {},
     "output_type": "execute_result"
    }
   ],
   "source": [
    "c = [1,3]\n",
    "s = [[1,0],[1,2]]\n",
    "belongToSegment(c,s)"
   ]
  },
  {
   "cell_type": "code",
   "execution_count": 56,
   "metadata": {},
   "outputs": [],
   "source": [
    "import math\n",
    "\n",
    "def lenght(p1,p2):\n",
    "    l = math.sqrt( (p2[0]-p1[0])**2 + (p2[1]-p1[1])**2 )\n",
    "    return l\n",
    "\n",
    "def pathToCrossing(seg,cross):\n",
    "    dc = [] # wire lenght from origin to crossing, has the same size as cross\n",
    "    for c in cross:\n",
    "        d = 0.\n",
    "        for s in seg:\n",
    "            # check if crossing belogs to segment\n",
    "            if ( belongToSegment(c,s) ):\n",
    "            # if so, compute distance from beginning of segment to crossing, then exit\n",
    "                d += lenght(s[0],c)\n",
    "                break\n",
    "            else:\n",
    "            # otherwise, compute segment lenght and move to next\n",
    "                d += lenght(s[0],s[1])\n",
    "        dc.append(d)\n",
    "    return dc"
   ]
  },
  {
   "cell_type": "code",
   "execution_count": 57,
   "metadata": {},
   "outputs": [
    {
     "data": {
      "text/plain": [
       "array([ 21666.,  43136.,  21842.,  43458.,  21842.,  46322.,  46322.,\n",
       "       154030., 137810., 137918., 154628., 160748., 140548., 150020.,\n",
       "       158086., 160096., 138618.])"
      ]
     },
     "execution_count": 57,
     "metadata": {},
     "output_type": "execute_result"
    }
   ],
   "source": [
    "dc1 = pathToCrossing(seg1,cc)\n",
    "dc2 = pathToCrossing(seg2,cc)\n",
    "\n",
    "dcsum = np.array(dc1) + np.array(dc2)\n",
    "dcsum"
   ]
  },
  {
   "cell_type": "code",
   "execution_count": 58,
   "metadata": {},
   "outputs": [
    {
     "data": {
      "text/plain": [
       "21666.0"
      ]
     },
     "execution_count": 58,
     "metadata": {},
     "output_type": "execute_result"
    }
   ],
   "source": [
    "min(dcsum)"
   ]
  },
  {
   "cell_type": "code",
   "execution_count": null,
   "metadata": {},
   "outputs": [],
   "source": []
  }
 ],
 "metadata": {
  "kernelspec": {
   "display_name": "Python 3",
   "language": "python",
   "name": "python3"
  },
  "language_info": {
   "codemirror_mode": {
    "name": "ipython",
    "version": 3
   },
   "file_extension": ".py",
   "mimetype": "text/x-python",
   "name": "python",
   "nbconvert_exporter": "python",
   "pygments_lexer": "ipython3",
   "version": "3.7.5"
  }
 },
 "nbformat": 4,
 "nbformat_minor": 2
}
