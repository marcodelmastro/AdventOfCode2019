{
 "cells": [
  {
   "cell_type": "markdown",
   "metadata": {},
   "source": [
    "## Day 5"
   ]
  },
  {
   "cell_type": "markdown",
   "metadata": {},
   "source": [
    "## Part 1"
   ]
  },
  {
   "cell_type": "code",
   "execution_count": 1,
   "metadata": {},
   "outputs": [],
   "source": [
    "def getDigits(num):\n",
    "    digits = []\n",
    "    while num > 0:\n",
    "        d = num%10\n",
    "        num = num//10\n",
    "        digits.append(d)\n",
    "    return digits # [::-1]\n",
    "\n",
    "def repackInstr(op):\n",
    "    dig = getDigits(op)\n",
    "    instr = [0,0,0,0]\n",
    "    n = 0\n",
    "    for i in dig:\n",
    "        if (n==0): instr[0] = i\n",
    "        elif (n==1): instr[0] += 10*i\n",
    "        else: instr[n-1] = i\n",
    "        n += 1\n",
    "    return instr  "
   ]
  },
  {
   "cell_type": "code",
   "execution_count": 2,
   "metadata": {},
   "outputs": [
    {
     "name": "stdout",
     "output_type": "stream",
     "text": [
      "[1, 1, 1, 0]\n"
     ]
    }
   ],
   "source": [
    "op = 1101\n",
    "i = repackInstr(op)\n",
    "print(i)"
   ]
  },
  {
   "cell_type": "code",
   "execution_count": 3,
   "metadata": {},
   "outputs": [],
   "source": [
    "def program(digits,inputDig=0):\n",
    "\n",
    "    outputDig = 0\n",
    "\n",
    "    ip = 0\n",
    "    while ip < len(digits):\n",
    "        \n",
    "        op_ = digits[ip]\n",
    "        \n",
    "        if op_ == 99: \n",
    "            print(\"Program halted!\")\n",
    "            break\n",
    "        \n",
    "        p = repackInstr(op_)\n",
    "        op = p[0]\n",
    "        \n",
    "        #print(\"Operator:\",op)\n",
    "        #print(p)\n",
    "        \n",
    "        if op == 3:\n",
    "            a = digits[ip+1]\n",
    "            if p[1]:\n",
    "                a_ = digits[a]              \n",
    "            else:\n",
    "                a_ = a\n",
    "            digits[a_] = inputDig\n",
    "            ip += 2\n",
    "\n",
    "        elif op==4:\n",
    "            a = digits[ip+1]\n",
    "            if p[1]:\n",
    "                a_ = digits[a]  \n",
    "            else:\n",
    "                a_ = a\n",
    "            outputDig = digits[a_]\n",
    "            print(outputDig)\n",
    "            ip += 2\n",
    "            \n",
    "        elif op == 1 or op == 2: \n",
    "            a, b, c = digits[ip+1:ip+4]            \n",
    "            \n",
    "            if p[1]:\n",
    "                a_ = a \n",
    "            else:\n",
    "                a_ = digits[a] \n",
    "                \n",
    "            if p[2]:\n",
    "                b_ = b\n",
    "            else:\n",
    "                b_ = digits[b]\n",
    "            \n",
    "            if op == 1:\n",
    "                digits[c] = a_ + b_\n",
    "            if op == 2:\n",
    "                digits[c] = a_ * b_\n",
    "\n",
    "            ip += 4\n",
    "            \n",
    "        else:\n",
    "            print(\"Illegal operator:\",op)\n",
    "            return\n",
    "        \n",
    "    return digits, outputDig"
   ]
  },
  {
   "cell_type": "code",
   "execution_count": 4,
   "metadata": {},
   "outputs": [
    {
     "name": "stdout",
     "output_type": "stream",
     "text": [
      "Program halted!\n",
      "input program = [1101, 100, -1, 4, 0]\n",
      "output program = [1101, 100, -1, 4, 99]\n",
      "output digit = 0\n"
     ]
    }
   ],
   "source": [
    "#prog = [1002,4,3,4,33]\n",
    "prog = [1101,100,-1,4,0]\n",
    "#prog = [3,0,4,0,99]\n",
    "\n",
    "thisprog = list(prog)\n",
    "outprog, outdig = program(thisprog,9)\n",
    "print(\"input program =\",prog)\n",
    "print(\"output program =\",outprog)\n",
    "print(\"output digit =\",outdig)"
   ]
  },
  {
   "cell_type": "code",
   "execution_count": 5,
   "metadata": {},
   "outputs": [],
   "source": [
    "fullprog = [3,225,1,225,6,6,1100,1,238,225,104,0,1102,89,49,225,1102,35,88,224,101,-3080,224,224,4,224,102,8,223,223,1001,224,3,224,1,223,224,223,1101,25,33,224,1001,224,-58,224,4,224,102,8,223,223,101,5,224,224,1,223,224,223,1102,78,23,225,1,165,169,224,101,-80,224,224,4,224,102,8,223,223,101,7,224,224,1,224,223,223,101,55,173,224,1001,224,-65,224,4,224,1002,223,8,223,1001,224,1,224,1,223,224,223,2,161,14,224,101,-3528,224,224,4,224,1002,223,8,223,1001,224,7,224,1,224,223,223,1002,61,54,224,1001,224,-4212,224,4,224,102,8,223,223,1001,224,1,224,1,223,224,223,1101,14,71,225,1101,85,17,225,1102,72,50,225,1102,9,69,225,1102,71,53,225,1101,10,27,225,1001,158,34,224,101,-51,224,224,4,224,102,8,223,223,101,6,224,224,1,223,224,223,102,9,154,224,101,-639,224,224,4,224,102,8,223,223,101,2,224,224,1,224,223,223,4,223,99,0,0,0,677,0,0,0,0,0,0,0,0,0,0,0,1105,0,99999,1105,227,247,1105,1,99999,1005,227,99999,1005,0,256,1105,1,99999,1106,227,99999,1106,0,265,1105,1,99999,1006,0,99999,1006,227,274,1105,1,99999,1105,1,280,1105,1,99999,1,225,225,225,1101,294,0,0,105,1,0,1105,1,99999,1106,0,300,1105,1,99999,1,225,225,225,1101,314,0,0,106,0,0,1105,1,99999,108,226,226,224,102,2,223,223,1006,224,329,101,1,223,223,1007,677,677,224,1002,223,2,223,1005,224,344,1001,223,1,223,8,226,677,224,1002,223,2,223,1006,224,359,1001,223,1,223,108,226,677,224,1002,223,2,223,1005,224,374,1001,223,1,223,107,226,677,224,102,2,223,223,1006,224,389,101,1,223,223,1107,226,226,224,1002,223,2,223,1005,224,404,1001,223,1,223,1107,677,226,224,102,2,223,223,1005,224,419,101,1,223,223,1007,226,226,224,102,2,223,223,1006,224,434,1001,223,1,223,1108,677,226,224,1002,223,2,223,1005,224,449,101,1,223,223,1008,226,226,224,102,2,223,223,1005,224,464,101,1,223,223,7,226,677,224,102,2,223,223,1006,224,479,101,1,223,223,1008,226,677,224,1002,223,2,223,1006,224,494,101,1,223,223,1107,226,677,224,1002,223,2,223,1005,224,509,1001,223,1,223,1108,226,226,224,1002,223,2,223,1006,224,524,101,1,223,223,7,226,226,224,102,2,223,223,1006,224,539,1001,223,1,223,107,226,226,224,102,2,223,223,1006,224,554,101,1,223,223,107,677,677,224,102,2,223,223,1006,224,569,101,1,223,223,1008,677,677,224,1002,223,2,223,1006,224,584,1001,223,1,223,8,677,226,224,1002,223,2,223,1005,224,599,101,1,223,223,1108,226,677,224,1002,223,2,223,1005,224,614,101,1,223,223,108,677,677,224,102,2,223,223,1005,224,629,1001,223,1,223,8,677,677,224,1002,223,2,223,1005,224,644,1001,223,1,223,7,677,226,224,102,2,223,223,1006,224,659,1001,223,1,223,1007,226,677,224,102,2,223,223,1005,224,674,101,1,223,223,4,223,99,226]"
   ]
  },
  {
   "cell_type": "code",
   "execution_count": 6,
   "metadata": {},
   "outputs": [
    {
     "name": "stdout",
     "output_type": "stream",
     "text": [
      "225\n",
      "0\n",
      "0\n",
      "0\n",
      "0\n",
      "0\n",
      "0\n",
      "0\n",
      "0\n",
      "7839346\n",
      "Program halted!\n",
      "output digit = 7839346\n"
     ]
    }
   ],
   "source": [
    "thisprog = list(fullprog)\n",
    "outprog, outdig = program(thisprog,1)\n",
    "print(\"output digit =\",outdig)"
   ]
  },
  {
   "cell_type": "markdown",
   "metadata": {},
   "source": [
    "## Part 2"
   ]
  },
  {
   "cell_type": "code",
   "execution_count": 7,
   "metadata": {},
   "outputs": [],
   "source": [
    "def program2(digits,inputDig=0,debug=False):\n",
    "\n",
    "    outputDig = 0\n",
    "\n",
    "    ip = 0\n",
    "    while ip < len(digits):\n",
    "        \n",
    "        op_ = digits[ip]\n",
    "        \n",
    "        if op_ == 99: \n",
    "            print(\"Program halted!\")\n",
    "            break\n",
    "        \n",
    "        p = repackInstr(op_)\n",
    "        op = p[0]\n",
    "        if debug:\n",
    "            print(\"Operator:\",op)\n",
    "            print(digits)\n",
    "        \n",
    "        if op == 3:\n",
    "            a = digits[ip+1]\n",
    "            if p[1]:\n",
    "                digits[ digits[a] ] = inputDig\n",
    "            else:\n",
    "                digits[ a ] = inputDig\n",
    "            ip += 2\n",
    "\n",
    "        elif op==4:\n",
    "            a = digits[ip+1]\n",
    "            if p[1]:\n",
    "                outputDig = a\n",
    "            else:\n",
    "                outputDig = digits[a]\n",
    "            print(outputDig)\n",
    "            ip += 2\n",
    "        \n",
    "        # Opcode 5 is jump-if-true: \n",
    "        # if the first parameter is non-zero, it sets the instruction pointer \n",
    "        # to the value from the second parameter. Otherwise, it does nothing.\n",
    "        elif op==5:\n",
    "            a, b = digits[ip+1:ip+3]\n",
    "            if p[1]:\n",
    "                a_ = a\n",
    "            else:\n",
    "                a_ = digits[a]\n",
    "            if p[2]:\n",
    "                b_ = b\n",
    "            else:\n",
    "                b_ = digits[b]\n",
    "            if a_:\n",
    "                ip = b_\n",
    "            else:\n",
    "                ip += 3\n",
    "            \n",
    "        # Opcode 6 is jump-if-false: \n",
    "        # if the first parameter is zero, it sets the instruction pointer \n",
    "        # to the value from the second parameter. Otherwise, it does nothing.\n",
    "        elif op==6:\n",
    "            a, b = digits[ip+1:ip+3]\n",
    "            if p[1]:\n",
    "                a_ = a\n",
    "            else:\n",
    "                a_ = digits[a]\n",
    "            if p[2]:\n",
    "                b_ = b\n",
    "            else:\n",
    "                b_ = digits[b]\n",
    "            if not a_:\n",
    "                ip = b_\n",
    "            else:\n",
    "                ip += 3\n",
    "        \n",
    "        # Opcode 7 is less than: \n",
    "        # if the first parameter is less than the second parameter, \n",
    "        # it stores 1 in the position given by the third parameter. Otherwise, it stores 0.\n",
    "        elif op==7:\n",
    "            a, b, c = digits[ip+1:ip+4]\n",
    "            if p[1]:\n",
    "                a_ = a\n",
    "            else:\n",
    "                a_ = digits[a]\n",
    "            if p[2]:\n",
    "                b_ = b\n",
    "            else:\n",
    "                b_ = digits[b]\n",
    "            if a_ < b_:\n",
    "                digits[c] = 1\n",
    "            else:\n",
    "                digits[c] = 0\n",
    "            ip += 4\n",
    "\n",
    "        # Opcode 8 is equals: \n",
    "        # if the first parameter is equal to the second parameter, \n",
    "        # it stores 1 in the position given by the third parameter. Otherwise, it stores 0.\n",
    "        elif op==8:\n",
    "            a, b, c = digits[ip+1:ip+4]\n",
    "            if p[1]:\n",
    "                a_ = a\n",
    "            else:\n",
    "                a_ = digits[a]\n",
    "            if p[2]:\n",
    "                b_ = b\n",
    "            else:\n",
    "                b_ = digits[b]            \n",
    "            if a_ == b_:\n",
    "                digits[c] = 1\n",
    "            else:\n",
    "                digits[c] = 0\n",
    "            ip += 4\n",
    "        \n",
    "        elif op == 1 or op == 2: \n",
    "            a, b, c = digits[ip+1:ip+4]\n",
    "            \n",
    "            if p[1]:\n",
    "                a_ = a # immediate mode\n",
    "            else:\n",
    "                a_ = digits[a] # position mode\n",
    "                \n",
    "            if p[2]:\n",
    "                b_ = b\n",
    "            else:\n",
    "                b_ = digits[b]\n",
    "            \n",
    "            if op == 1:\n",
    "                digits[c] = a_ + b_\n",
    "            if op == 2:\n",
    "                digits[c] = a_ * b_\n",
    "\n",
    "            ip += 4\n",
    "            \n",
    "        else:\n",
    "            print(\"Illegal operator:\",op)\n",
    "            return\n",
    "        \n",
    "    return digits, outputDig"
   ]
  },
  {
   "cell_type": "code",
   "execution_count": 8,
   "metadata": {},
   "outputs": [
    {
     "name": "stdout",
     "output_type": "stream",
     "text": [
      "Operator: 3\n",
      "[3, 3, 1105, -1, 9, 1101, 0, 0, 12, 4, 12, 99, 1]\n",
      "Operator: 5\n",
      "[3, 3, 1105, 0, 9, 1101, 0, 0, 12, 4, 12, 99, 1]\n",
      "Operator: 1\n",
      "[3, 3, 1105, 0, 9, 1101, 0, 0, 12, 4, 12, 99, 1]\n",
      "Operator: 4\n",
      "[3, 3, 1105, 0, 9, 1101, 0, 0, 12, 4, 12, 99, 0]\n",
      "0\n",
      "Program halted!\n",
      "output digit = 0\n"
     ]
    }
   ],
   "source": [
    "# Using position mode, consider whether the input is equal to 8; output 1 (if it is) or 0 (if it is not).\n",
    "#test = [3,9,8,9,10,9,4,9,99,-1,8]\n",
    "\n",
    "# Using position mode, consider whether the input is less than 8; output 1 (if it is) or 0 (if it is not).\n",
    "#test =[3,9,7,9,10,9,4,9,99,-1,8]\n",
    "\n",
    "# Using immediate mode, consider whether the input is equal to 8; output 1 (if it is) or 0 (if it is not).\n",
    "#test = [3,3,1108,-1,8,3,4,3,99]\n",
    "\n",
    "# Using immediate mode, consider whether the input is less than 8; output 1 (if it is) or 0 (if it is not).\n",
    "#test = [3,3,1107,-1,8,3,4,3,99]\n",
    "\n",
    "# jump tests that take an input, then output 0 if the input was zero or 1 if the input was non-zero:\n",
    "#test = [3,12,6,12,15,1,13,14,13,4,13,99,-1,0,1,9]\n",
    "test = [3,3,1105,-1,9,1101,0,0,12,4,12,99,1]\n",
    "\n",
    "thisprog = list(test)\n",
    "outprog, outdig = program2(thisprog,0,True)\n",
    "print(\"output digit =\",outdig)"
   ]
  },
  {
   "cell_type": "code",
   "execution_count": 9,
   "metadata": {},
   "outputs": [
    {
     "name": "stdout",
     "output_type": "stream",
     "text": [
      "1001\n",
      "Program halted!\n",
      "output digit = 1001\n"
     ]
    }
   ],
   "source": [
    "test = [3,21,1008,21,8,20,1005,20,22,107,8,21,20,1006,20,31,1106,0,36,98,0,0,1002,21,125,20,4,20,1105,1,46,104,999,1105,1,46,1101,1000,1,20,4,20,1105,1,46,98,99]\n",
    "\n",
    "thisprog = list(test)\n",
    "outprog, outdig = program2(thisprog,9,False)\n",
    "print(\"output digit =\",outdig)"
   ]
  },
  {
   "cell_type": "code",
   "execution_count": 10,
   "metadata": {},
   "outputs": [
    {
     "name": "stdout",
     "output_type": "stream",
     "text": [
      "447803\n",
      "Program halted!\n",
      "output digit = 447803\n"
     ]
    }
   ],
   "source": [
    "thisprog = list(fullprog)\n",
    "outprog, outdig = program2(thisprog,5,False)\n",
    "print(\"output digit =\",outdig)"
   ]
  },
  {
   "cell_type": "code",
   "execution_count": null,
   "metadata": {},
   "outputs": [],
   "source": []
  }
 ],
 "metadata": {
  "kernelspec": {
   "display_name": "Python 3",
   "language": "python",
   "name": "python3"
  },
  "language_info": {
   "codemirror_mode": {
    "name": "ipython",
    "version": 3
   },
   "file_extension": ".py",
   "mimetype": "text/x-python",
   "name": "python",
   "nbconvert_exporter": "python",
   "pygments_lexer": "ipython3",
   "version": "3.7.5"
  }
 },
 "nbformat": 4,
 "nbformat_minor": 2
}
