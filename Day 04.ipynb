{
 "cells": [
  {
   "cell_type": "markdown",
   "metadata": {},
   "source": [
    "# Day 4: Secure Container\n",
    "\n",
    "https://adventofcode.com/2019/day/4"
   ]
  },
  {
   "cell_type": "code",
   "execution_count": 8,
   "metadata": {},
   "outputs": [],
   "source": [
    "def getDigits(num):\n",
    "    digits = []\n",
    "    while num > 0:\n",
    "        d = num%10\n",
    "        num = num//10\n",
    "        digits.append(d)\n",
    "    return digits[::-1]"
   ]
  },
  {
   "cell_type": "code",
   "execution_count": 9,
   "metadata": {},
   "outputs": [
    {
     "data": {
      "text/plain": [
       "[3, 7, 2, 3, 0, 4]"
      ]
     },
     "execution_count": 9,
     "metadata": {},
     "output_type": "execute_result"
    }
   ],
   "source": [
    "digs = getDigits(372304)\n",
    "digs"
   ]
  },
  {
   "cell_type": "code",
   "execution_count": 10,
   "metadata": {},
   "outputs": [],
   "source": [
    "def checkPwd(pwd):\n",
    "    neverDecrease = True\n",
    "    sameAdjacent = False\n",
    "    d = getDigits(pwd)\n",
    "    for i in range(len(d)-1):\n",
    "        if ( d[i+1] < d[i] ):\n",
    "            neverDecrease = False\n",
    "        if ( d[i+1] == d[i] ):\n",
    "            sameAdjacent = True\n",
    "    return sameAdjacent*neverDecrease"
   ]
  },
  {
   "cell_type": "code",
   "execution_count": 11,
   "metadata": {},
   "outputs": [
    {
     "name": "stdout",
     "output_type": "stream",
     "text": [
      "N passwords meeting criteria =  475\n"
     ]
    }
   ],
   "source": [
    "goodPwd = 0\n",
    "for pwd in range (372304,847060):\n",
    "    if checkPwd(pwd):\n",
    "        #print(pwd)\n",
    "        goodPwd += 1\n",
    "\n",
    "print(\"N passwords meeting criteria = \",goodPwd)"
   ]
  },
  {
   "cell_type": "code",
   "execution_count": 12,
   "metadata": {},
   "outputs": [],
   "source": [
    "def isIncreasing(pwd):\n",
    "    d = getDigits(pwd)\n",
    "    neverDecrease = True\n",
    "    for i in range(len(d)-1):\n",
    "        if ( d[i+1] < d[i] ):\n",
    "            neverDecrease = False\n",
    "    return neverDecrease\n",
    "\n",
    "increasing = []\n",
    "for pwd in range (372304,847060):\n",
    "    if isIncreasing(pwd):\n",
    "        increasing.append(pwd)"
   ]
  },
  {
   "cell_type": "code",
   "execution_count": 13,
   "metadata": {},
   "outputs": [],
   "source": [
    "def hasPair(pwd):\n",
    "    d = getDigits(pwd)\n",
    "    dig = map(d.count,d)\n",
    "    if (2 in dig):\n",
    "        return True\n",
    "    else:\n",
    "        return False\n",
    "\n",
    "#hasPair(1112345)"
   ]
  },
  {
   "cell_type": "code",
   "execution_count": 7,
   "metadata": {},
   "outputs": [
    {
     "name": "stdout",
     "output_type": "stream",
     "text": [
      "N passwords meeting criteria =  297\n"
     ]
    }
   ],
   "source": [
    "goodPwd = 0\n",
    "for pwd in increasing:\n",
    "    if hasPair(pwd):\n",
    "        #print(pwd)\n",
    "        goodPwd += 1\n",
    "\n",
    "print(\"N passwords meeting criteria = \",goodPwd)"
   ]
  },
  {
   "cell_type": "code",
   "execution_count": null,
   "metadata": {},
   "outputs": [],
   "source": []
  }
 ],
 "metadata": {
  "kernelspec": {
   "display_name": "Python 3",
   "language": "python",
   "name": "python3"
  },
  "language_info": {
   "codemirror_mode": {
    "name": "ipython",
    "version": 3
   },
   "file_extension": ".py",
   "mimetype": "text/x-python",
   "name": "python",
   "nbconvert_exporter": "python",
   "pygments_lexer": "ipython3",
   "version": "3.7.5"
  }
 },
 "nbformat": 4,
 "nbformat_minor": 2
}
