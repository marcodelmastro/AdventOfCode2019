{
 "cells": [
  {
   "cell_type": "markdown",
   "metadata": {},
   "source": [
    "# Advent of Code 2019\n",
    "\n",
    "* [Day 01](Day%2001.ipynb)\n",
    "* [Day 02](Day%2002.ipynb)\n",
    "* [Day 03](Day%2003.ipynb)\n",
    "* [Day 04](Day%2004.ipynb)\n",
    "* [Day 05](Day%2005.ipynb)\n",
    "* [Day 06](Day%2006.ipynb)\n",
    "* Day 07\n",
    "   * [Part 1](Day%2007-1.ipynb)\n",
    "   * [Part 2](Day%2007-2.ipynb)\n",
    "* [Day 08](Day%2008.ipynb)\n",
    "* Day 09\n",
    "   * [Simple solution](Day%2009.ipynb)\n",
    "   * [Refactoring Intcode program in a class](Day%2009%20Class.ipynb)\n",
    "   * [Moving Intcode class and helper functions to a module](Day%2009%20Module.ipynb)\n",
    "* [Day 10](Day%2010.ipynb)\n",
    "* [Day 11](Day%2011.ipynb)\n",
    "* Day 12\n",
    "   * [Part 1](Day%2012-1.ipynb): a class implementation of the moon system that is elegant but impractical for Part 2\n",
    "   * [Part 2](Day%2012-2.ipynb): the system updates the (x,y,x) components of the moon positions and velocities *independently*, thus the global period would be the LCM of the periods of each components!\n",
    "   * [Moon animation](Day%2012%20Moon%20animation.ipynb)\n",
    "* [Day 13](Day%2013.ipynb)\n",
    "* [Day 14](Day%2014.ipynb): this took me several iterations to get right. See notebook for notes about new techiques learned while solving\n",
    "* [Day 15](Day%2015.ipynb)\n",
    "* [Day 16](Day%2016.ipynb)\n",
    "* [Day 17](Day%2017.ipynb): it turned out that, in order to solve Part 2, I needed a better version of the Intcode computer: I tried the version used to solve Day 25 (V3) and it worked just find with the instructions I worked out on the 17...\n",
    "* [Day 18](Day%2018.ipynb): **TO BE SOLVED**\n",
    "* [Day 19](Day%2019.ipynb)\n",
    "* Day 20: **TO BE SOLVED**\n",
    "* [Day 21](Day%2021.ipynb)\n",
    "* [Day 22](Day%2022.ipynb)\n",
    "* [Day 23](Day%2023.ipynb)\n",
    "* [Day 24](Day%2024.ipynb): **PART 2 STILL TO BE SOLVED**\n",
    "* Day 25\n",
    "   * [Interactive game](Day25.py) (to be run in terminal, used to manually map the sharship)\n",
    "   * [Starship map](Starship.pdf)\n",
    "   * [Brute-force solution of pressure-sensitive floor puzzle](Day%2025.ipynb)"
   ]
  },
  {
   "cell_type": "code",
   "execution_count": null,
   "metadata": {},
   "outputs": [],
   "source": []
  }
 ],
 "metadata": {
  "kernelspec": {
   "display_name": "Python 3",
   "language": "python",
   "name": "python3"
  },
  "language_info": {
   "codemirror_mode": {
    "name": "ipython",
    "version": 3
   },
   "file_extension": ".py",
   "mimetype": "text/x-python",
   "name": "python",
   "nbconvert_exporter": "python",
   "pygments_lexer": "ipython3",
   "version": "3.7.5"
  }
 },
 "nbformat": 4,
 "nbformat_minor": 2
}
