{
 "cells": [
  {
   "cell_type": "markdown",
   "metadata": {},
   "source": [
    "# Advent of Code 2019\n",
    "\n",
    "* [Day 01](Day%2001.ipynb)\n",
    "* [Day 02](Day%2002.ipynb)\n",
    "* [Day 03](Day%2003.ipynb)\n",
    "* [Day 04](Day%2004.ipynb)\n",
    "* [Day 05](Day%2005.ipynb)\n",
    "* [Day 06](Day%2006.ipynb)\n",
    "* Day 07\n",
    "   * [Part 1](Day%2007-1.ipynb)\n",
    "   * [Part 2](Day%2007-2.ipynb)\n",
    "* [Day 08](Day%2008.ipynb)\n",
    "* Day 09\n",
    "   * [Simple solution](Day%2009.ipynb)\n",
    "   * [Refactoring Intcode program in a class](Day%2009%20Class.ipynb)\n",
    "   * [Moving Intcode class and helper functions to a module](Day%2009%20Module.ipynb)\n",
    "* [Day 10](Day%2010.ipynb)\n",
    "\n",
    "\n",
    "\n",
    "\n",
    "\n",
    "\n",
    "\n",
    "\n"
   ]
  },
  {
   "cell_type": "code",
   "execution_count": null,
   "metadata": {},
   "outputs": [],
   "source": []
  }
 ],
 "metadata": {
  "kernelspec": {
   "display_name": "Python 3",
   "language": "python",
   "name": "python3"
  },
  "language_info": {
   "codemirror_mode": {
    "name": "ipython",
    "version": 3
   },
   "file_extension": ".py",
   "mimetype": "text/x-python",
   "name": "python",
   "nbconvert_exporter": "python",
   "pygments_lexer": "ipython3",
   "version": "3.7.5"
  }
 },
 "nbformat": 4,
 "nbformat_minor": 2
}
