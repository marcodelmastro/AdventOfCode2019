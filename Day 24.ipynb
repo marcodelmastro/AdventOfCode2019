{
 "cells": [
  {
   "cell_type": "markdown",
   "metadata": {},
   "source": [
    "# Day 24: Planet of Discord\n",
    "\n",
    "https://adventofcode.com/2019/day/24\n",
    "\n",
    "## Part 1"
   ]
  },
  {
   "cell_type": "code",
   "execution_count": 5,
   "metadata": {},
   "outputs": [],
   "source": [
    "import numpy as np\n",
    "import matplotlib.pyplot as plt"
   ]
  },
  {
   "cell_type": "code",
   "execution_count": 7,
   "metadata": {},
   "outputs": [
    {
     "data": {
      "text/plain": [
       "['..##.', '#....', '.....', '#.#.#', '#..#.']"
      ]
     },
     "execution_count": 7,
     "metadata": {},
     "output_type": "execute_result"
    }
   ],
   "source": [
    "#infile = \"./data/day24test.txt\"\n",
    "infile = \"./data/input24.txt\"\n",
    "\n",
    "with open(infile) as f:\n",
    "    lines = [l.strip('\\n') for l in f ]\n",
    "lines"
   ]
  },
  {
   "cell_type": "code",
   "execution_count": 8,
   "metadata": {},
   "outputs": [
    {
     "data": {
      "image/png": "[encoded data removed]",
      "text/plain": [
       "<Figure size 432x288 with 1 Axes>"
      ]
     },
     "metadata": {
      "needs_background": "light"
     },
     "output_type": "display_data"
    }
   ],
   "source": [
    "size = 5\n",
    "bugs = np.zeros((size,size))\n",
    "\n",
    "for y in range(len(lines)):\n",
    "    for x in range(len(lines[y])):\n",
    "        if lines[y][x]=='.': \n",
    "            bugs[y][x]=0\n",
    "        else:\n",
    "            bugs[y][x]=1\n",
    "\n",
    "plt.imshow(bugs, cmap='binary')\n",
    "plt.show()"
   ]
  },
  {
   "cell_type": "code",
   "execution_count": 9,
   "metadata": {},
   "outputs": [],
   "source": [
    "def survivalOld(y,x,area):\n",
    "    # Each minute, The bugs live and die based on the number of bugs in the four adjacent tiles:\n",
    "    # A bug dies (becoming an empty space) unless there is exactly one bug adjacent to it.\n",
    "    # An empty space becomes infested with a bug if exactly one or two bugs are adjacent to it.\n",
    "    neighbours = 0\n",
    "    if x==0:\n",
    "        if y==0:\n",
    "            neighbours = area[y,x+1] + area[y+1,x]\n",
    "        elif y==len(area)-1:\n",
    "            neighbours = area[y-1,x] + area[y,x+1]\n",
    "        else:\n",
    "            neighbours = area[y,x+1] + area[y-1,x] + area[y+1,x]\n",
    "    elif x==len(area[0])-1:\n",
    "        if y==0:\n",
    "            neighbours = area[y,x-1] + area[y+1,x]\n",
    "        elif y==len(area)-1:\n",
    "            neighbours = area[y-1,x] + area[y,x-1]\n",
    "        else:\n",
    "            neighbours = area[y,x-1] + area[y-1,x] + area[y+1,x]   \n",
    "    else:\n",
    "        if y==0:\n",
    "            neighbours = area[y,x-1] + area[y,x+1] + area[y+1,x]   \n",
    "        elif y==len(area)-1:\n",
    "            neighbours = area[y,x-1] + area[y,x+1] + area[y-1,x]\n",
    "        else:\n",
    "            neighbours = area[y,x-1] + area[y,x+1] + area[y-1,x] + area[y+1,x]\n",
    "    if area[y,x]==1 and neighbours!=1:\n",
    "        return 0\n",
    "    elif area[y,x]==0 and ( neighbours==1 or neighbours==2 ):\n",
    "        return 1\n",
    "    else:\n",
    "        return area[y,x]\n",
    "\n",
    "def survival(y,x,area):\n",
    "    # Add empty borders to ease neighbours check\n",
    "    borders = np.zeros((area.shape[0]+2,area.shape[1]+2))\n",
    "    borders[1:area.shape[0]+1,1:area.shape[1]+1] = area\n",
    "    xb = x+1\n",
    "    yb = y+1\n",
    "    neighbours = borders[yb,xb-1] + borders[yb,xb+1] + borders[yb-1,xb] + borders[yb+1,xb]\n",
    "    if area[y,x]==1 and neighbours!=1:\n",
    "        return 0\n",
    "    elif area[y,x]==0 and ( neighbours==1 or neighbours==2 ):\n",
    "        return 1\n",
    "    else:\n",
    "        return area[y,x]\n",
    "    \n",
    "def evolve(area):\n",
    "    newarea = np.copy(area)\n",
    "    # Apply the survival function to every cell in the area\n",
    "    for y in range(area.shape[0]):\n",
    "        for x in range(area.shape[1]):\n",
    "            newarea[y,x] = survival(y,x,area)\n",
    "    return newarea\n",
    "\n",
    "def bugsBiodiversity(area):\n",
    "    temp = area.reshape(area.shape[0]*area.shape[1])\n",
    "    temp = temp[::-1]\n",
    "    return int(temp.dot(2**np.arange(temp.size)[::-1]))"
   ]
  },
  {
   "cell_type": "code",
   "execution_count": 10,
   "metadata": {},
   "outputs": [
    {
     "name": "stdout",
     "output_type": "stream",
     "text": [
      "Found duplicate state!\n",
      "Biodiversity = 19923473\n"
     ]
    },
    {
     "data": {
      "image/png": "[encoded data removed]",
      "text/plain": [
       "<Figure size 432x288 with 1 Axes>"
      ]
     },
     "metadata": {
      "needs_background": "light"
     },
     "output_type": "display_data"
    }
   ],
   "source": [
    "bughash = []\n",
    "bughash.append(bugsBiodiversity(bugs))\n",
    "\n",
    "h = 0\n",
    "while(True):\n",
    "    bugs = evolve(bugs)\n",
    "    h = bugsBiodiversity(bugs)\n",
    "    if h in bughash:\n",
    "        print(\"Found duplicate state!\")\n",
    "        break\n",
    "    else:\n",
    "        bughash.append(h)\n",
    "\n",
    "print(\"Biodiversity =\",h)\n",
    "plt.imshow(bugs, cmap='binary')\n",
    "plt.show()"
   ]
  },
  {
   "cell_type": "code",
   "execution_count": null,
   "metadata": {},
   "outputs": [],
   "source": []
  }
 ],
 "metadata": {
  "kernelspec": {
   "display_name": "Python 3",
   "language": "python",
   "name": "python3"
  },
  "language_info": {
   "codemirror_mode": {
    "name": "ipython",
    "version": 3
   },
   "file_extension": ".py",
   "mimetype": "text/x-python",
   "name": "python",
   "nbconvert_exporter": "python",
   "pygments_lexer": "ipython3",
   "version": "3.7.5"
  }
 },
 "nbformat": 4,
 "nbformat_minor": 2
}
