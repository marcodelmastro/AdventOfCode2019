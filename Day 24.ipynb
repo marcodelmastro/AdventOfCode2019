{
 "cells": [
  {
   "cell_type": "markdown",
   "metadata": {},
   "source": [
    "# Day 24: Planet of Discord\n",
    "\n",
    "https://adventofcode.com/2019/day/24\n",
    "\n",
    "## Part 1"
   ]
  },
  {
   "cell_type": "code",
   "execution_count": 4,
   "metadata": {},
   "outputs": [],
   "source": [
    "import numpy as np\n",
    "import matplotlib.pyplot as plt"
   ]
  },
  {
   "cell_type": "code",
   "execution_count": 5,
   "metadata": {},
   "outputs": [],
   "source": [
    "#infile = \"./data/day24test.txt\"\n",
    "infile = \"./data/input24.txt\"\n",
    "\n",
    "with open(infile) as f:\n",
    "    lines = [l.strip('\\n') for l in f ]"
   ]
  },
  {
   "cell_type": "code",
   "execution_count": 6,
   "metadata": {},
   "outputs": [
    {
     "data": {
      "image/png": "[encoded data removed]",
      "text/plain": [
       "<Figure size 432x288 with 1 Axes>"
      ]
     },
     "metadata": {
      "needs_background": "light"
     },
     "output_type": "display_data"
    }
   ],
   "source": [
    "def initLevel(lines,size):\n",
    "    bugs = np.zeros((size,size))\n",
    "    for y in range(len(lines)):\n",
    "        for x in range(len(lines[y])):\n",
    "            if lines[y][x]=='.': \n",
    "                bugs[y][x]=0\n",
    "            else:\n",
    "                bugs[y][x]=1\n",
    "    return bugs\n",
    "\n",
    "bugs = initLevel(lines,5)\n",
    "plt.imshow(bugs, cmap='binary')\n",
    "plt.show()"
   ]
  },
  {
   "cell_type": "code",
   "execution_count": 7,
   "metadata": {},
   "outputs": [],
   "source": [
    "def survivalOld(y,x,area):\n",
    "    # Each minute, The bugs live and die based on the number of bugs in the four adjacent tiles:\n",
    "    # A bug dies (becoming an empty space) unless there is exactly one bug adjacent to it.\n",
    "    # An empty space becomes infested with a bug if exactly one or two bugs are adjacent to it.\n",
    "    neighbours = 0\n",
    "    if x==0:\n",
    "        if y==0:\n",
    "            neighbours = area[y,x+1] + area[y+1,x]\n",
    "        elif y==len(area)-1:\n",
    "            neighbours = area[y-1,x] + area[y,x+1]\n",
    "        else:\n",
    "            neighbours = area[y,x+1] + area[y-1,x] + area[y+1,x]\n",
    "    elif x==len(area[0])-1:\n",
    "        if y==0:\n",
    "            neighbours = area[y,x-1] + area[y+1,x]\n",
    "        elif y==len(area)-1:\n",
    "            neighbours = area[y-1,x] + area[y,x-1]\n",
    "        else:\n",
    "            neighbours = area[y,x-1] + area[y-1,x] + area[y+1,x]   \n",
    "    else:\n",
    "        if y==0:\n",
    "            neighbours = area[y,x-1] + area[y,x+1] + area[y+1,x]   \n",
    "        elif y==len(area)-1:\n",
    "            neighbours = area[y,x-1] + area[y,x+1] + area[y-1,x]\n",
    "        else:\n",
    "            neighbours = area[y,x-1] + area[y,x+1] + area[y-1,x] + area[y+1,x]\n",
    "    if area[y,x]==1 and neighbours!=1:\n",
    "        return 0\n",
    "    elif area[y,x]==0 and ( neighbours==1 or neighbours==2 ):\n",
    "        return 1\n",
    "    else:\n",
    "        return area[y,x]\n",
    "\n",
    "def survival(y,x,area):\n",
    "    # Add empty borders to ease neighbours check\n",
    "    borders = np.zeros((area.shape[0]+2,area.shape[1]+2))\n",
    "    borders[1:area.shape[0]+1,1:area.shape[1]+1] = area\n",
    "    xb = x+1\n",
    "    yb = y+1\n",
    "    neighbours = borders[yb,xb-1] + borders[yb,xb+1] + borders[yb-1,xb] + borders[yb+1,xb]\n",
    "    if area[y,x]==1 and neighbours!=1:\n",
    "        return 0\n",
    "    elif area[y,x]==0 and ( neighbours==1 or neighbours==2 ):\n",
    "        return 1\n",
    "    else:\n",
    "        return area[y,x]\n",
    "    \n",
    "def evolve(area):\n",
    "    newarea = np.copy(area)\n",
    "    # Apply the survival function to every cell in the area\n",
    "    for y in range(area.shape[0]):\n",
    "        for x in range(area.shape[1]):\n",
    "            newarea[y,x] = survival(y,x,area)\n",
    "    return newarea\n",
    "\n",
    "def bugsBiodiversity(area):\n",
    "    temp = area.reshape(area.shape[0]*area.shape[1])\n",
    "    temp = temp[::-1]\n",
    "    return int(temp.dot(2**np.arange(temp.size)[::-1]))"
   ]
  },
  {
   "cell_type": "code",
   "execution_count": 8,
   "metadata": {},
   "outputs": [
    {
     "name": "stdout",
     "output_type": "stream",
     "text": [
      "Found duplicate state!\n",
      "Biodiversity = 19923473\n"
     ]
    },
    {
     "data": {
      "image/png": "[encoded data removed]",
      "text/plain": [
       "<Figure size 432x288 with 1 Axes>"
      ]
     },
     "metadata": {
      "needs_background": "light"
     },
     "output_type": "display_data"
    }
   ],
   "source": [
    "bughash = []\n",
    "bughash.append(bugsBiodiversity(bugs))\n",
    "\n",
    "h = 0\n",
    "while(True):\n",
    "    bugs = evolve(bugs)\n",
    "    h = bugsBiodiversity(bugs)\n",
    "    if h in bughash:\n",
    "        print(\"Found duplicate state!\")\n",
    "        break\n",
    "    else:\n",
    "        bughash.append(h)\n",
    "\n",
    "print(\"Biodiversity =\",h)\n",
    "plt.imshow(bugs, cmap='binary')\n",
    "plt.show()"
   ]
  },
  {
   "cell_type": "markdown",
   "metadata": {},
   "source": [
    "## Part 2\n",
    "\n",
    "Umpf, recursion. I began with the idea of building a class for each level, but this is likely overkill. It's probably easier and faster to build a _large_ number of empty levels up and down (How large? Probably of the order of the iteration cycles * 2, assuming that at each cycle only a new level is filled up and down: given the rule of replication of the bugs, it seems a correct assumption). Of course I also need to rebuild the evolution method to properly count all adiacent cells up and down the level ladder, at least for those cells neigbouring the center or at the border."
   ]
  },
  {
   "cell_type": "code",
   "execution_count": 9,
   "metadata": {},
   "outputs": [],
   "source": [
    "def PlotLevels(levels,nplots=1):\n",
    "    nlevel = (len(levels)-1)//2\n",
    "    fig = plt.figure(figsize=(12,4), dpi=100)\n",
    "    for i in range(nplots):\n",
    "        plt.subplot(1,nplots,i+1)\n",
    "        ilevel = nlevel-nplots//2+i\n",
    "        rlevel = ilevel-nlevel\n",
    "        f = plt.imshow(levels[ilevel],cmap='binary')\n",
    "        f.axes.set_title(str(rlevel))\n",
    "        f.axes.get_xaxis().set_visible(False)\n",
    "        f.axes.get_yaxis().set_visible(False)\n",
    "    plt.show()\n",
    "\n",
    "#PlotLevels(levels,9)"
   ]
  },
  {
   "cell_type": "code",
   "execution_count": 10,
   "metadata": {},
   "outputs": [],
   "source": [
    "def isEmpty(level):\n",
    "    return not level.sum()\n",
    "\n",
    "def survivalLevel(x,y,level,levels):\n",
    "    area = np.copy(levels[level])\n",
    "    ldw = np.copy(levels[level+1]) # level within the current level\n",
    "    lup = np.copy(levels[level-1]) # level surrounding the current level\n",
    "    \n",
    "    # Add borders to ease neighbours check\n",
    "    borders = np.zeros((7,7))\n",
    "    borders[1:6,1:6] = area\n",
    "    # Fill with upper level content\n",
    "    if not isEmpty(lup):\n",
    "        borders[0,:] = lup[1,2]\n",
    "        borders[6,:] = lup[3,2]\n",
    "        borders[:,0] = lup[2,1]\n",
    "        borders[:,6] = lup[2,3]\n",
    "    # Fill center with 0, to be used in case lower level is empty\n",
    "    borders[3:3] = 0\n",
    "    \n",
    "    neighbours = 0\n",
    "    xb = x+1\n",
    "    yb = y+1\n",
    "    X = (x,y)\n",
    "    if X==(2,2):\n",
    "        print(\"You should not check the center tile!\")\n",
    "    elif X==(2,1) or X==(1,2) or X==(3,2) or X==(2,3):\n",
    "        # For tiles around center (2,1) (1,2) (3,2) (2,3) I should also count neigbours from deeper level\n",
    "        if isEmpty(ldw):\n",
    "            neighbours = borders[yb,xb-1] + borders[yb,xb+1] + borders[yb-1,xb] + borders[yb+1,xb]\n",
    "        else:\n",
    "            if   X==(2,1): \n",
    "                neighbours = borders[yb,xb-1] + borders[yb,xb+1] + borders[yb-1,xb] + ldw[0,:].sum()\n",
    "            elif X==(1,2):\n",
    "                neighbours = borders[yb,xb-1] + ldw[:,0].sum() + borders[yb-1,xb] + borders[yb+1,xb]\n",
    "            elif X==(3,2):\n",
    "                neighbours = ldw[:,4].sum() + borders[yb,xb+1] + borders[yb-1,xb] + borders[yb+1,xb]\n",
    "            elif X==(2,3):\n",
    "                neighbours = borders[yb,xb-1] + borders[yb,xb+1] + ldw[4,:].sum() + borders[yb+1,xb]\n",
    "    else:\n",
    "        # standard neigbour counting works for outer rim since I filled the borders with outer level values,\n",
    "        # and for inner cells (1,1), (3,1), (1,3), (3,3)\n",
    "        neighbours = borders[yb,xb-1] + borders[yb,xb+1] + borders[yb-1,xb] + borders[yb+1,xb]\n",
    "    \n",
    "    if area[y,x]==1 and neighbours!=1:\n",
    "        return 0\n",
    "    elif area[y,x]==0 and ( neighbours==1 or neighbours==2 ):\n",
    "        return 1\n",
    "    else:\n",
    "        return area[y,x]\n",
    "    \n",
    "def evolveLevel(level,levels):\n",
    "    newarea = np.copy(levels[level])\n",
    "    for y in range(5):\n",
    "        for x in range(5):\n",
    "            if x==2 and y==2: # skip center\n",
    "                continue\n",
    "            newarea[y,x] = survivalLevel(x,y,level,levels)\n",
    "    return newarea\n",
    "\n",
    "def evolveLevels(levels):\n",
    "    newlevels = list(levels)\n",
    "    for i in range(1,len(levels)-1):\n",
    "        if isEmpty(levels[i-1]) and isEmpty(levels[i]) and isEmpty(levels[i+1]):\n",
    "            continue\n",
    "        else:\n",
    "            newlevel = evolveLevel(i,levels)\n",
    "            newlevels[i] = np.copy(newlevel)\n",
    "    return newlevels"
   ]
  },
  {
   "cell_type": "code",
   "execution_count": 11,
   "metadata": {
    "scrolled": true
   },
   "outputs": [
    {
     "data": {
      "image/png": "[encoded data removed]",
      "text/plain": [
       "<Figure size 1200x400 with 7 Axes>"
      ]
     },
     "metadata": {
      "needs_background": "light"
     },
     "output_type": "display_data"
    },
    {
     "data": {
      "image/png": "[encoded data removed]",
      "text/plain": [
       "<Figure size 1200x400 with 7 Axes>"
      ]
     },
     "metadata": {
      "needs_background": "light"
     },
     "output_type": "display_data"
    }
   ],
   "source": [
    "def initializeLevels(lines,size=5,nlevel=200):\n",
    "    # initialize first level\n",
    "    L0 = initLevel(lines,5)\n",
    "    # pregenerate empty levesl up and down\n",
    "    empty = np.zeros((size,size))\n",
    "    levels = []\n",
    "    for l in range( 2*nlevel+1 ):\n",
    "        levels.append(np.copy(empty))\n",
    "    # set central level\n",
    "    levels[nlevel] = np.copy(L0)\n",
    "    return levels\n",
    "\n",
    "# Evolution\n",
    "# A bug dies (becoming an empty space) unless there is exactly one bug adjacent to it.\n",
    "# An empty space becomes infested with a bug if exactly one or two bugs are adjacent to it.\n",
    "levels = initializeLevels(lines,5,200)\n",
    "newlevels = evolveLevels(levels)\n",
    "PlotLevels(levels,7)\n",
    "PlotLevels(newlevels,7)"
   ]
  },
  {
   "cell_type": "code",
   "execution_count": 12,
   "metadata": {},
   "outputs": [],
   "source": [
    "def countBugs(levels):\n",
    "    bugs = 0\n",
    "    for l in levels:\n",
    "        bugs += l.sum()\n",
    "    return int(bugs)"
   ]
  },
  {
   "cell_type": "code",
   "execution_count": 13,
   "metadata": {},
   "outputs": [
    {
     "data": {
      "image/png": "[encoded data removed]",
      "text/plain": [
       "<Figure size 1200x400 with 11 Axes>"
      ]
     },
     "metadata": {
      "needs_background": "light"
     },
     "output_type": "display_data"
    },
    {
     "name": "stdout",
     "output_type": "stream",
     "text": [
      "Number of bugs after 10 minutes =  99\n"
     ]
    }
   ],
   "source": [
    "# Test recursive salgorithm with example\n",
    "\n",
    "infile = \"./data/day24test.txt\"\n",
    "with open(infile) as f:\n",
    "    lines = [l.strip('\\n') for l in f ]\n",
    "\n",
    "i = 0\n",
    "imax = 10\n",
    "levels = initializeLevels(lines,5,200)\n",
    "while True:\n",
    "    newlevels = evolveLevels(levels)\n",
    "    i+=1\n",
    "    levels = list(newlevels)\n",
    "    if i==imax:\n",
    "        break\n",
    "        \n",
    "PlotLevels(levels,11)\n",
    "print(\"Number of bugs after\",imax,\"minutes = \",countBugs(levels))"
   ]
  },
  {
   "cell_type": "code",
   "execution_count": 14,
   "metadata": {},
   "outputs": [
    {
     "data": {
      "image/png": "[encoded data removed]",
      "text/plain": [
       "<Figure size 1200x400 with 11 Axes>"
      ]
     },
     "metadata": {
      "needs_background": "light"
     },
     "output_type": "display_data"
    },
    {
     "name": "stdout",
     "output_type": "stream",
     "text": [
      "Number of bugs after 200 minutes =  1902\n"
     ]
    }
   ],
   "source": [
    "# Now the real thing\n",
    "\n",
    "infile = \"./data/input24.txt\"\n",
    "with open(infile) as f:\n",
    "    lines = [l.strip('\\n') for l in f ]\n",
    "\n",
    "i = 0\n",
    "imax = 200\n",
    "levels = initializeLevels(lines,5,250)\n",
    "while True:\n",
    "    newlevels = evolveLevels(levels)\n",
    "    i+=1\n",
    "    levels = list(newlevels)\n",
    "    if i==imax:\n",
    "        break\n",
    "        \n",
    "PlotLevels(levels,11)\n",
    "print(\"Number of bugs after\",imax,\"minutes = \",countBugs(levels))"
   ]
  },
  {
   "cell_type": "code",
   "execution_count": 15,
   "metadata": {},
   "outputs": [
    {
     "data": {
      "image/png": "[encoded data removed]",
      "text/plain": [
       "<Figure size 1200x400 with 21 Axes>"
      ]
     },
     "metadata": {
      "needs_background": "light"
     },
     "output_type": "display_data"
    }
   ],
   "source": [
    "PlotLevels(levels,21)"
   ]
  },
  {
   "cell_type": "code",
   "execution_count": null,
   "metadata": {},
   "outputs": [],
   "source": []
  }
 ],
 "metadata": {
  "kernelspec": {
   "display_name": "Python 3",
   "language": "python",
   "name": "python3"
  },
  "language_info": {
   "codemirror_mode": {
    "name": "ipython",
    "version": 3
   },
   "file_extension": ".py",
   "mimetype": "text/x-python",
   "name": "python",
   "nbconvert_exporter": "python",
   "pygments_lexer": "ipython3",
   "version": "3.7.5"
  }
 },
 "nbformat": 4,
 "nbformat_minor": 2
}
