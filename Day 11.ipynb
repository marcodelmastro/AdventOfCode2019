{
 "cells": [
  {
   "cell_type": "markdown",
   "metadata": {},
   "source": [
    "# Day 11: Space Police\n",
    "\n",
    "https://adventofcode.com/2019/day/11"
   ]
  },
  {
   "cell_type": "code",
   "execution_count": 1,
   "metadata": {},
   "outputs": [],
   "source": [
    "import numpy as np\n",
    "import matplotlib.pyplot as plt\n",
    "from AOC2019 import Intcode, readIntcodeProg"
   ]
  },
  {
   "cell_type": "code",
   "execution_count": 2,
   "metadata": {},
   "outputs": [],
   "source": [
    "prog = readIntcodeProg(\"input11.txt\")"
   ]
  },
  {
   "cell_type": "code",
   "execution_count": 3,
   "metadata": {},
   "outputs": [],
   "source": [
    "# directions (x,y)\n",
    "U = np.array([0,+1])\n",
    "D = np.array([0,-1])\n",
    "R = np.array([+1,0])\n",
    "L = np.array([-1,0])"
   ]
  },
  {
   "cell_type": "code",
   "execution_count": 4,
   "metadata": {},
   "outputs": [
    {
     "name": "stdout",
     "output_type": "stream",
     "text": [
      "[0 1] [0 1]\n"
     ]
    }
   ],
   "source": [
    "X = [0,0] # starting position\n",
    "V = U # starting direction\n",
    "print(U, V)"
   ]
  },
  {
   "cell_type": "code",
   "execution_count": 5,
   "metadata": {},
   "outputs": [],
   "source": [
    "def movement(X,V,turn):\n",
    "    if turn==0: # turn left 90 degrees\n",
    "        if   np.array_equal(V,U): X+=L; V=L\n",
    "        elif np.array_equal(V,D): X+=R; V=R\n",
    "        elif np.array_equal(V,R): X+=U; V=U\n",
    "        elif np.array_equal(V,L): X+=D; V=D\n",
    "    elif turn==1: # turn right 90 degrees\n",
    "        if   np.array_equal(V,U): X+=R; V=R\n",
    "        elif np.array_equal(V,D): X+=L; V=L\n",
    "        elif np.array_equal(V,R): X+=D; V=D\n",
    "        elif np.array_equal(V,L): X+=U; V=U\n",
    "    return X, V"
   ]
  },
  {
   "cell_type": "code",
   "execution_count": 6,
   "metadata": {},
   "outputs": [
    {
     "data": {
      "text/plain": [
       "(array([-1,  0]), array([-1,  0]))"
      ]
     },
     "execution_count": 6,
     "metadata": {},
     "output_type": "execute_result"
    }
   ],
   "source": [
    "X, V = movement(X,V,0)\n",
    "X, V"
   ]
  },
  {
   "cell_type": "code",
   "execution_count": 18,
   "metadata": {},
   "outputs": [],
   "source": [
    "def robot( prog, init, X, V, shape, debug = False ):\n",
    "\n",
    "    # matrices for painted paves and robot effective path\n",
    "    color = np.zeros(shape)\n",
    "    path = np.zeros(shape)\n",
    "\n",
    "    # initialize intcode computer\n",
    "    b = Intcode(prog,\"BRAIN\")\n",
    "\n",
    "    # set the color of the first pave\n",
    "    color[X[1]][X[0]] = init\n",
    "    \n",
    "    while(not b.isHalted):\n",
    "\n",
    "        if debug: print(\"X =\",X,\"V =\",V)\n",
    "    \n",
    "        inp = color[X[1]][X[0]]      \n",
    "        if debug: print(\"input =\",inp)\n",
    "    \n",
    "        # run program with current color as input\n",
    "        b.runProgram(inp)\n",
    "        c = b.getLastOutput()\n",
    "        if debug: print(\"color =\",c)\n",
    "\n",
    "        if (b.isHalted): # don't paint the last pave if program halts!\n",
    "            break\n",
    "        \n",
    "        # paint current pave with output\n",
    "        color[X[1]][X[0]] = c\n",
    "    \n",
    "        # save path, use it to debug needed matrix dimention \n",
    "        # and to count pave painted at least once\n",
    "        if not path[X[1]][X[0]]:\n",
    "            path[X[1]][X[0]] = 1\n",
    "\n",
    "        # run program again \n",
    "        b.runProgram(c)\n",
    "        t = b.getLastOutput()\n",
    "        if debug: print(\"turn = \",t)\n",
    "    \n",
    "        # move according to output\n",
    "        X, V = movement(X,V,t)\n",
    "        \n",
    "    return path, color"
   ]
  },
  {
   "cell_type": "code",
   "execution_count": 19,
   "metadata": {},
   "outputs": [],
   "source": [
    "path1, color1 = robot( prog, 0, [1,6], U, (80,450) )"
   ]
  },
  {
   "cell_type": "code",
   "execution_count": 20,
   "metadata": {},
   "outputs": [
    {
     "name": "stdout",
     "output_type": "stream",
     "text": [
      "Painted at least once = 1709.0\n"
     ]
    }
   ],
   "source": [
    "print(\"Painted at least once =\",path1.sum())"
   ]
  },
  {
   "cell_type": "code",
   "execution_count": 21,
   "metadata": {},
   "outputs": [],
   "source": [
    "path2, color2 = robot( prog, 1, [1,6], U, (8,45) )"
   ]
  },
  {
   "cell_type": "code",
   "execution_count": 22,
   "metadata": {},
   "outputs": [
    {
     "data": {
      "text/plain": [
       "<matplotlib.image.AxesImage at 0x115a71d90>"
      ]
     },
     "execution_count": 22,
     "metadata": {},
     "output_type": "execute_result"
    },
    {
     "data": {
      "image/png": "[encoded data removed]",
      "text/plain": [
       "<Figure size 432x288 with 1 Axes>"
      ]
     },
     "metadata": {
      "needs_background": "light"
     },
     "output_type": "display_data"
    }
   ],
   "source": [
    "plt.imshow(np.flip(path2,0))"
   ]
  },
  {
   "cell_type": "code",
   "execution_count": 23,
   "metadata": {},
   "outputs": [
    {
     "data": {
      "text/plain": [
       "<matplotlib.image.AxesImage at 0x115b22b50>"
      ]
     },
     "execution_count": 23,
     "metadata": {},
     "output_type": "execute_result"
    },
    {
     "data": {
      "image/png": "[encoded data removed]",
      "text/plain": [
       "<Figure size 432x288 with 1 Axes>"
      ]
     },
     "metadata": {
      "needs_background": "light"
     },
     "output_type": "display_data"
    }
   ],
   "source": [
    "plt.imshow(np.flip(color2,0))"
   ]
  },
  {
   "cell_type": "code",
   "execution_count": null,
   "metadata": {},
   "outputs": [],
   "source": []
  }
 ],
 "metadata": {
  "kernelspec": {
   "display_name": "Python 3",
   "language": "python",
   "name": "python3"
  },
  "language_info": {
   "codemirror_mode": {
    "name": "ipython",
    "version": 3
   },
   "file_extension": ".py",
   "mimetype": "text/x-python",
   "name": "python",
   "nbconvert_exporter": "python",
   "pygments_lexer": "ipython3",
   "version": "3.7.5"
  }
 },
 "nbformat": 4,
 "nbformat_minor": 2
}
