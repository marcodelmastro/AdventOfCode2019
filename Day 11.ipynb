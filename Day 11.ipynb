{
 "cells": [
  {
   "cell_type": "markdown",
   "metadata": {},
   "source": [
    "# Day 11: Space Police\n",
    "\n",
    "https://adventofcode.com/2019/day/11"
   ]
  },
  {
   "cell_type": "code",
   "execution_count": 43,
   "metadata": {},
   "outputs": [],
   "source": [
    "%matplotlib inline\n",
    "import numpy as np\n",
    "import matplotlib.pyplot as plt\n",
    "from AOC2019 import Intcode, readIntcodeProg"
   ]
  },
  {
   "cell_type": "code",
   "execution_count": 44,
   "metadata": {},
   "outputs": [],
   "source": [
    "prog = readIntcodeProg(\"./data/input11.txt\")"
   ]
  },
  {
   "cell_type": "code",
   "execution_count": 45,
   "metadata": {},
   "outputs": [],
   "source": [
    "# directions (x,y)\n",
    "U = np.array([0,+1])\n",
    "D = np.array([0,-1])\n",
    "R = np.array([+1,0])\n",
    "L = np.array([-1,0])"
   ]
  },
  {
   "cell_type": "code",
   "execution_count": 46,
   "metadata": {},
   "outputs": [
    {
     "name": "stdout",
     "output_type": "stream",
     "text": [
      "[0 1] [0 1]\n"
     ]
    }
   ],
   "source": [
    "X = [0,0] # starting position\n",
    "V = U # starting direction\n",
    "print(U, V)"
   ]
  },
  {
   "cell_type": "code",
   "execution_count": 47,
   "metadata": {},
   "outputs": [],
   "source": [
    "def movement(X,V,turn):\n",
    "    if turn==0: # turn left 90 degrees\n",
    "        if   np.array_equal(V,U): X+=L; V=L\n",
    "        elif np.array_equal(V,D): X+=R; V=R\n",
    "        elif np.array_equal(V,R): X+=U; V=U\n",
    "        elif np.array_equal(V,L): X+=D; V=D\n",
    "    elif turn==1: # turn right 90 degrees\n",
    "        if   np.array_equal(V,U): X+=R; V=R\n",
    "        elif np.array_equal(V,D): X+=L; V=L\n",
    "        elif np.array_equal(V,R): X+=D; V=D\n",
    "        elif np.array_equal(V,L): X+=U; V=U\n",
    "    return X, V"
   ]
  },
  {
   "cell_type": "code",
   "execution_count": 48,
   "metadata": {},
   "outputs": [
    {
     "data": {
      "text/plain": [
       "(array([-1,  0]), array([-1,  0]))"
      ]
     },
     "execution_count": 48,
     "metadata": {},
     "output_type": "execute_result"
    }
   ],
   "source": [
    "X, V = movement(X,V,0)\n",
    "X, V"
   ]
  },
  {
   "cell_type": "code",
   "execution_count": 49,
   "metadata": {},
   "outputs": [],
   "source": [
    "def robot( prog, init, X, V, shape, debug = False ):\n",
    "\n",
    "    # matrices for painted paves and robot effective path\n",
    "    path = np.zeros(shape)\n",
    "    color = np.zeros(shape)\n",
    "    \n",
    "    # initialize intcode computer\n",
    "    b = Intcode(prog,\"BRAIN\")\n",
    "\n",
    "    # set the color of the first pave\n",
    "    color[X[1]][X[0]] = init\n",
    "    \n",
    "    while(not b.isHalted):\n",
    "\n",
    "        if debug: print(\"X =\",X,\"V =\",V)\n",
    "    \n",
    "        inp = color[X[1]][X[0]]  \n",
    "        if debug: print(\"input =\",inp)\n",
    "    \n",
    "        # run program with current color as input\n",
    "        b.runProgram(inp)\n",
    "        c = b.getLastOutput()\n",
    "        if debug: print(\"color =\",c)\n",
    "\n",
    "        # don't paint the (last) pave if program halts after first execution!\n",
    "        if (b.isHalted): \n",
    "            break\n",
    "        \n",
    "        # paint current pave with output\n",
    "        color[X[1]][X[0]] = c\n",
    "    \n",
    "        # save path, use it to debug needed matrix dimention \n",
    "        # and to count pave painted at least once\n",
    "        if not path[X[1]][X[0]]:\n",
    "            path[X[1]][X[0]] = 1\n",
    "\n",
    "        # run program again \n",
    "        b.runProgram(c)\n",
    "        t = b.getLastOutput()\n",
    "        if debug: print(\"turn = \",t)\n",
    "    \n",
    "        # move according to output\n",
    "        X, V = movement(X,V,t)\n",
    "        \n",
    "    return path, color"
   ]
  },
  {
   "cell_type": "code",
   "execution_count": 50,
   "metadata": {},
   "outputs": [],
   "source": [
    "path1, color1 = robot( prog, 0, [35,10], U, (65,70) )"
   ]
  },
  {
   "cell_type": "code",
   "execution_count": 51,
   "metadata": {},
   "outputs": [
    {
     "data": {
      "text/plain": [
       "<matplotlib.image.AxesImage at 0x112145a90>"
      ]
     },
     "execution_count": 51,
     "metadata": {},
     "output_type": "execute_result"
    },
    {
     "data": {
      "image/png": "[encoded data removed]",
      "text/plain": [
       "<Figure size 432x288 with 1 Axes>"
      ]
     },
     "metadata": {
      "needs_background": "light"
     },
     "output_type": "display_data"
    }
   ],
   "source": [
    "#plt.imshow(path1)\n",
    "plt.imshow(np.flip(path1,0))"
   ]
  },
  {
   "cell_type": "code",
   "execution_count": 54,
   "metadata": {},
   "outputs": [
    {
     "data": {
      "text/plain": [
       "<matplotlib.image.AxesImage at 0x1109b3d10>"
      ]
     },
     "execution_count": 54,
     "metadata": {},
     "output_type": "execute_result"
    },
    {
     "data": {
      "image/png": "[encoded data removed]",
      "text/plain": [
       "<Figure size 432x288 with 1 Axes>"
      ]
     },
     "metadata": {
      "needs_background": "light"
     },
     "output_type": "display_data"
    }
   ],
   "source": [
    "plt.imshow(np.flip(color1,0))"
   ]
  },
  {
   "cell_type": "code",
   "execution_count": 55,
   "metadata": {},
   "outputs": [
    {
     "data": {
      "text/plain": [
       "<matplotlib.image.AxesImage at 0x110ccd350>"
      ]
     },
     "execution_count": 55,
     "metadata": {},
     "output_type": "execute_result"
    },
    {
     "data": {
      "image/png": "[encoded data removed]",
      "text/plain": [
       "<Figure size 432x288 with 1 Axes>"
      ]
     },
     "metadata": {
      "needs_background": "light"
     },
     "output_type": "display_data"
    }
   ],
   "source": [
    "plt.imshow(np.flip(color1+path1,0))"
   ]
  },
  {
   "cell_type": "code",
   "execution_count": 56,
   "metadata": {},
   "outputs": [
    {
     "name": "stdout",
     "output_type": "stream",
     "text": [
      "Painted at least once = 1709\n"
     ]
    }
   ],
   "source": [
    "print(\"Painted at least once =\",int(path1.sum()))"
   ]
  },
  {
   "cell_type": "code",
   "execution_count": 57,
   "metadata": {},
   "outputs": [],
   "source": [
    "path2, color2 = robot( prog, 1, [1,6], U, (8,45) )"
   ]
  },
  {
   "cell_type": "code",
   "execution_count": 58,
   "metadata": {},
   "outputs": [
    {
     "data": {
      "text/plain": [
       "<matplotlib.image.AxesImage at 0x110dc7690>"
      ]
     },
     "execution_count": 58,
     "metadata": {},
     "output_type": "execute_result"
    },
    {
     "data": {
      "image/png": "[encoded data removed]",
      "text/plain": [
       "<Figure size 432x288 with 1 Axes>"
      ]
     },
     "metadata": {
      "needs_background": "light"
     },
     "output_type": "display_data"
    }
   ],
   "source": [
    "plt.imshow(np.flip(path2,0))"
   ]
  },
  {
   "cell_type": "code",
   "execution_count": 59,
   "metadata": {},
   "outputs": [
    {
     "data": {
      "text/plain": [
       "<matplotlib.image.AxesImage at 0x1109cfd90>"
      ]
     },
     "execution_count": 59,
     "metadata": {},
     "output_type": "execute_result"
    },
    {
     "data": {
      "image/png": "[encoded data removed]",
      "text/plain": [
       "<Figure size 432x288 with 1 Axes>"
      ]
     },
     "metadata": {
      "needs_background": "light"
     },
     "output_type": "display_data"
    }
   ],
   "source": [
    "plt.imshow(np.flip(color2,0))"
   ]
  },
  {
   "cell_type": "code",
   "execution_count": 60,
   "metadata": {},
   "outputs": [
    {
     "data": {
      "text/plain": [
       "<matplotlib.image.AxesImage at 0x110e4b550>"
      ]
     },
     "execution_count": 60,
     "metadata": {},
     "output_type": "execute_result"
    },
    {
     "data": {
      "image/png": "[encoded data removed]",
      "text/plain": [
       "<Figure size 432x288 with 1 Axes>"
      ]
     },
     "metadata": {
      "needs_background": "light"
     },
     "output_type": "display_data"
    }
   ],
   "source": [
    "plt.imshow(np.flip(color2+path2,0))"
   ]
  },
  {
   "cell_type": "code",
   "execution_count": null,
   "metadata": {},
   "outputs": [],
   "source": []
  }
 ],
 "metadata": {
  "kernelspec": {
   "display_name": "Python 3",
   "language": "python",
   "name": "python3"
  },
  "language_info": {
   "codemirror_mode": {
    "name": "ipython",
    "version": 3
   },
   "file_extension": ".py",
   "mimetype": "text/x-python",
   "name": "python",
   "nbconvert_exporter": "python",
   "pygments_lexer": "ipython3",
   "version": "3.7.5"
  }
 },
 "nbformat": 4,
 "nbformat_minor": 2
}
