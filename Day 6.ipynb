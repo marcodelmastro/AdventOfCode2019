{
 "cells": [
  {
   "cell_type": "code",
   "execution_count": 282,
   "metadata": {},
   "outputs": [],
   "source": [
    "import numpy as np"
   ]
  },
  {
   "cell_type": "code",
   "execution_count": 283,
   "metadata": {},
   "outputs": [],
   "source": [
    "# puzzle map\n",
    "with open('input6.txt', 'r') as f:\n",
    "    orbits = [ line.strip('\\n\\r') for line in f ]"
   ]
  },
  {
   "cell_type": "code",
   "execution_count": 284,
   "metadata": {},
   "outputs": [],
   "source": [
    "# test maps\n",
    "testmap = ['COM)B','B)C','C)D','D)E','E)F','B)G','G)H','D)I','E)J','J)K','K)L' ]\n",
    "testsanta = ['COM)B','B)C','C)D','D)E','E)F','B)G','G)H','D)I','E)J','J)K','K)L','K)YOU','I)SAN']"
   ]
  },
  {
   "cell_type": "code",
   "execution_count": 285,
   "metadata": {},
   "outputs": [],
   "source": [
    "def decodeMap(map):\n",
    "    return [ p.split(')') for p in map ]"
   ]
  },
  {
   "cell_type": "code",
   "execution_count": 286,
   "metadata": {},
   "outputs": [],
   "source": [
    "#m = decodeMap(testmap)\n",
    "#m = decodeMap(testsanta)\n",
    "m = decodeMap(orbits)"
   ]
  },
  {
   "cell_type": "code",
   "execution_count": 287,
   "metadata": {},
   "outputs": [
    {
     "name": "stdout",
     "output_type": "stream",
     "text": [
      "total orbits =  417916\n"
     ]
    }
   ],
   "source": [
    "# fill dictionary of orbits\n",
    "orb = {}\n",
    "for o in m:\n",
    "    orb[o[1]] = o[0]\n",
    "\n",
    "norbs = 0\n",
    "for o in np.unique(np.array(m)): # loop on unique objects in maps\n",
    "    if (o != \"COM\"):\n",
    "        while(True):  # navigate from objects to COM\n",
    "            n = orb.get(o)\n",
    "            if (n==None): break\n",
    "            else:\n",
    "                norbs += 1\n",
    "                o = n\n",
    "\n",
    "print(\"total orbits = \", norbs)"
   ]
  },
  {
   "cell_type": "code",
   "execution_count": 288,
   "metadata": {},
   "outputs": [
    {
     "name": "stdout",
     "output_type": "stream",
     "text": [
      "Number of hops = 523\n"
     ]
    }
   ],
   "source": [
    "# Lists orbits for a given object\n",
    "def listOrbits(o):\n",
    "    orbs = []\n",
    "    while(True): \n",
    "        n = orb.get(o)\n",
    "        if (n==None): break\n",
    "        else:\n",
    "            orbs.append(n)\n",
    "            o = n\n",
    "    return orbs\n",
    "\n",
    "me = listOrbits(\"YOU\")\n",
    "santa = listOrbits(\"SAN\")\n",
    "\n",
    "hops = 0\n",
    "for o in me:\n",
    "    hops += 1\n",
    "    santa_index = santa.index(o) if o in santa else -1\n",
    "    if santa_index>0:\n",
    "        break\n",
    "        \n",
    "print(\"Number of hops =\",hops+santa_index-1)"
   ]
  },
  {
   "cell_type": "code",
   "execution_count": null,
   "metadata": {},
   "outputs": [],
   "source": []
  }
 ],
 "metadata": {
  "kernelspec": {
   "display_name": "Python 3",
   "language": "python",
   "name": "python3"
  },
  "language_info": {
   "codemirror_mode": {
    "name": "ipython",
    "version": 3
   },
   "file_extension": ".py",
   "mimetype": "text/x-python",
   "name": "python",
   "nbconvert_exporter": "python",
   "pygments_lexer": "ipython3",
   "version": "3.7.5"
  }
 },
 "nbformat": 4,
 "nbformat_minor": 2
}
