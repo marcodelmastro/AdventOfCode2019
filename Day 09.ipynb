{
 "cells": [
  {
   "cell_type": "markdown",
   "metadata": {},
   "source": [
    "# Day 9\n",
    "\n",
    "Day 9: Sensor Boost\n",
    "\n",
    "## Part 1"
   ]
  },
  {
   "cell_type": "code",
   "execution_count": 1,
   "metadata": {},
   "outputs": [
    {
     "name": "stdout",
     "output_type": "stream",
     "text": [
      "[7, 1, 1, 2]\n"
     ]
    }
   ],
   "source": [
    "def getDigits(num):\n",
    "    digits = []\n",
    "    while num > 0:\n",
    "        d = num%10\n",
    "        num = num//10\n",
    "        digits.append(d)\n",
    "    return digits\n",
    "\n",
    "def repackInstr(op):\n",
    "    dig = getDigits(op)\n",
    "    instr = [0,0,0,0]\n",
    "    n = 0\n",
    "    for i in dig:\n",
    "        if (n==0): instr[0] = i\n",
    "        elif (n==1): instr[0] += 10*i\n",
    "        else: instr[n-1] = i\n",
    "        n += 1\n",
    "    return instr\n",
    "\n",
    "op = 21107\n",
    "print(repackInstr(op))"
   ]
  },
  {
   "cell_type": "code",
   "execution_count": 2,
   "metadata": {},
   "outputs": [],
   "source": [
    "import numpy as np\n",
    "\n",
    "def program9(prog,inputDig=0,debug=False):\n",
    "    step = 0\n",
    "    memsize = 1000000\n",
    "    prog_ = np.array(prog)\n",
    "    digits = np.zeros((memsize,), dtype=int)\n",
    "    digits[:len(prog_)] = prog_\n",
    "    output = []\n",
    "    ip = 0\n",
    "    relbase = 0\n",
    "    while ip < len(digits):\n",
    "        step += 1\n",
    "        op_ = digits[ip]\n",
    "        if op_ == 99:\n",
    "            if debug:\n",
    "                print(\"Program halted!\")\n",
    "            break\n",
    "        p = repackInstr(op_)\n",
    "        op = p[0]\n",
    "        if debug:\n",
    "            print(\"Operator:\",op)\n",
    "            print(digits)\n",
    "        if op == 3:\n",
    "            a = digits[ip+1]\n",
    "            if   p[1]==0: digits[ a ] = inputDig\n",
    "            elif p[1]==1: digits[ digits[a] ] = inputDig\n",
    "            elif p[1]==2: digits[ a + relbase ] = inputDig\n",
    "            ip += 2\n",
    "        elif op==4:\n",
    "            a = digits[ip+1]\n",
    "            if   p[1]==0: output.append(digits[a])\n",
    "            elif p[1]==1: output.append(a)\n",
    "            elif p[1]==2: output.append(digits[a+relbase])\n",
    "            ip += 2    \n",
    "        elif op==5:\n",
    "            a, b = digits[ip+1:ip+3]\n",
    "            if   p[1]==0: a_ = digits[a]\n",
    "            elif p[1]==1: a_ = a\n",
    "            elif p[1]==2: a_ = digits[a+relbase]\n",
    "            if   p[2]==0: b_ = digits[b]\n",
    "            elif p[2]==1: b_ = b\n",
    "            elif p[2]==2: b_ = digits[b+relbase]\n",
    "            if a_: ip = b_\n",
    "            else: ip += 3            \n",
    "        elif op==6:\n",
    "            a, b = digits[ip+1:ip+3]\n",
    "            if   p[1]==0: a_ = digits[a]\n",
    "            elif p[1]==1: a_ = a\n",
    "            elif p[1]==2: a_ = digits[a+relbase]\n",
    "            if   p[2]==0: b_ = digits[b]\n",
    "            elif p[2]==1: b_ = b\n",
    "            elif p[2]==2: b_ = digits[b+relbase]\n",
    "            if not a_: ip = b_\n",
    "            else: ip += 3\n",
    "        elif op==7:\n",
    "            a, b, c = digits[ip+1:ip+4]\n",
    "            if   p[1]==0: a_ = digits[a]\n",
    "            elif p[1]==1: a_ = a\n",
    "            elif p[1]==2: a_ = digits[a+relbase]\n",
    "            if   p[2]==0: b_ = digits[b]\n",
    "            elif p[2]==1: b_ = b            \n",
    "            elif p[2]==2: b_ = digits[b+relbase]\n",
    "            if   p[3]==0: c_ = c\n",
    "            elif p[3]==1: c_ = digits[c]\n",
    "            elif p[3]==2: c_ = c+relbase\n",
    "            if a_ < b_: digits[c_] = 1\n",
    "            else: digits[c_] = 0\n",
    "            ip += 4\n",
    "        elif op==8:\n",
    "            a, b, c = digits[ip+1:ip+4]\n",
    "            if   p[1]==0: a_ = digits[a]\n",
    "            elif p[1]==1: a_ = a\n",
    "            elif p[1]==2: a_ = digits[a+relbase]\n",
    "            if   p[2]==0: b_ = digits[b]            \n",
    "            elif p[2]==1: b_ = b\n",
    "            elif p[2]==2: b_ = digits[b+relbase]\n",
    "            if   p[3]==0: c_ = c\n",
    "            elif p[3]==1: c_ = digits[c]\n",
    "            elif p[3]==2: c_ = c+relbase\n",
    "            if a_ == b_: digits[c_] = 1\n",
    "            else: digits[c_] = 0\n",
    "            ip += 4\n",
    "        elif op==9:\n",
    "            a = digits[ip+1]\n",
    "            if   p[1]==0: relbase += digits[a]\n",
    "            elif p[1]==1: relbase += a\n",
    "            elif p[1]==2: relbase += digits[a+relbase] # needed?\n",
    "            ip += 2\n",
    "        elif op == 1 or op == 2: \n",
    "            a, b, c = digits[ip+1:ip+4]\n",
    "            if   p[1]==0: a_ = digits[a] \n",
    "            elif p[1]==1: a_ = a\n",
    "            elif p[1]==2: a_ = digits[a+relbase]\n",
    "            if   p[2]==0: b_ = digits[b]\n",
    "            elif p[2]==1: b_ = b\n",
    "            elif p[2]==2: b_ = digits[b+relbase]\n",
    "            if   p[3]==0: c_ = c\n",
    "            elif p[3]==1: c_ = digits[c]\n",
    "            elif p[3]==2: c_ = c+relbase                                     \n",
    "            if op == 1: digits[c_] = a_ + b_\n",
    "            if op == 2: digits[c_] = a_ * b_\n",
    "            ip += 4            \n",
    "        else:\n",
    "            print(\"Illegal operator:\",op)\n",
    "            return -1\n",
    "    return output"
   ]
  },
  {
   "cell_type": "code",
   "execution_count": 3,
   "metadata": {},
   "outputs": [],
   "source": [
    "#prog = [109,1,204,-1,1001,100,1,100,1008,100,16,101,1006,101,0,99] # takes no input and produces a copy of itself as output\n",
    "#print ( program9(prog,0) )"
   ]
  },
  {
   "cell_type": "code",
   "execution_count": 4,
   "metadata": {},
   "outputs": [
    {
     "name": "stdout",
     "output_type": "stream",
     "text": [
      "[1219070632396864]\n"
     ]
    }
   ],
   "source": [
    "prog = [ 1102,34915192,34915192,7,4,7,99,0] # should output a 16-digit number.\n",
    "print ( program9(prog,0) )"
   ]
  },
  {
   "cell_type": "code",
   "execution_count": 5,
   "metadata": {},
   "outputs": [
    {
     "name": "stdout",
     "output_type": "stream",
     "text": [
      "[1125899906842624]\n"
     ]
    }
   ],
   "source": [
    "prog = [104,1125899906842624,99]# should output the large number in the middle.\n",
    "print ( program9(prog,0) )"
   ]
  },
  {
   "cell_type": "code",
   "execution_count": 6,
   "metadata": {},
   "outputs": [],
   "source": [
    "def readProg(infile):\n",
    "    with open(infile) as f:\n",
    "        lines = [l.rstrip('\\n') for l in f]\n",
    "        return list([int(c) for c in lines[0].split(',')])"
   ]
  },
  {
   "cell_type": "code",
   "execution_count": 8,
   "metadata": {},
   "outputs": [],
   "source": [
    "fullprog = readProg(\"./data/input9.txt\")\n",
    "#fullprog"
   ]
  },
  {
   "cell_type": "code",
   "execution_count": 9,
   "metadata": {},
   "outputs": [
    {
     "name": "stdout",
     "output_type": "stream",
     "text": [
      "BOOST signal = [2752191671]\n"
     ]
    }
   ],
   "source": [
    "inp = 1\n",
    "output = program9(fullprog,inp)\n",
    "print(\"BOOST signal =\",output)"
   ]
  },
  {
   "cell_type": "markdown",
   "metadata": {},
   "source": [
    "## Part 2"
   ]
  },
  {
   "cell_type": "code",
   "execution_count": 10,
   "metadata": {},
   "outputs": [
    {
     "name": "stdout",
     "output_type": "stream",
     "text": [
      "BOOST signal = 87571  - Execution time = 4.087225 seconds\n"
     ]
    }
   ],
   "source": [
    "import time\n",
    "start_time = time.time()\n",
    "\n",
    "inp = 2\n",
    "output = program9(fullprog,inp)\n",
    "\n",
    "print(\"BOOST signal =\",output[0],\" - Execution time = %f seconds\" % (time.time() - start_time))"
   ]
  },
  {
   "cell_type": "code",
   "execution_count": null,
   "metadata": {},
   "outputs": [],
   "source": []
  }
 ],
 "metadata": {
  "kernelspec": {
   "display_name": "Python 3",
   "language": "python",
   "name": "python3"
  },
  "language_info": {
   "codemirror_mode": {
    "name": "ipython",
    "version": 3
   },
   "file_extension": ".py",
   "mimetype": "text/x-python",
   "name": "python",
   "nbconvert_exporter": "python",
   "pygments_lexer": "ipython3",
   "version": "3.7.5"
  }
 },
 "nbformat": 4,
 "nbformat_minor": 2
}
