{
 "cells": [
  {
   "cell_type": "code",
   "execution_count": 115,
   "metadata": {},
   "outputs": [],
   "source": [
    "testprog = [ 1,9,10,3,2,3,11,0,99,30,40,50 ]"
   ]
  },
  {
   "cell_type": "code",
   "execution_count": 116,
   "metadata": {},
   "outputs": [
    {
     "data": {
      "text/plain": [
       "12"
      ]
     },
     "execution_count": 116,
     "metadata": {},
     "output_type": "execute_result"
    }
   ],
   "source": [
    "len(testprog)"
   ]
  },
  {
   "cell_type": "code",
   "execution_count": 117,
   "metadata": {},
   "outputs": [],
   "source": [
    "fullprog = [1,0,0,3,1,1,2,3,1,3,4,3,1,5,0,3,2,6,1,19,1,5,19,23,2,6,23,27,1,27,5,31,2,9,31,35,1,5,35,39,2,6,39,43,2,6,43,47,1,5,47,51,2,9,51,55,1,5,55,59,1,10,59,63,1,63,6,67,1,9,67,71,1,71,6,75,1,75,13,79,2,79,13,83,2,9,83,87,1,87,5,91,1,9,91,95,2,10,95,99,1,5,99,103,1,103,9,107,1,13,107,111,2,111,10,115,1,115,5,119,2,13,119,123,1,9,123,127,1,5,127,131,2,131,6,135,1,135,5,139,1,139,6,143,1,143,6,147,1,2,147,151,1,151,5,0,99,2,14,0,0]"
   ]
  },
  {
   "cell_type": "code",
   "execution_count": 118,
   "metadata": {},
   "outputs": [
    {
     "data": {
      "text/plain": [
       "161"
      ]
     },
     "execution_count": 118,
     "metadata": {},
     "output_type": "execute_result"
    }
   ],
   "source": [
    "len(fullprog)"
   ]
  },
  {
   "cell_type": "code",
   "execution_count": 119,
   "metadata": {},
   "outputs": [],
   "source": [
    "def program(digits, i1, i2):\n",
    "    digits[1] = i1\n",
    "    digits[2] = i2\n",
    "    ip = 0\n",
    "    while ip < len(digits)-3:\n",
    "        op, a, b, c = digits[ip:ip + 4]\n",
    "        #print(op, a, b, c)\n",
    "        if op == 99: \n",
    "            #print(\"Reached end of program!\")\n",
    "            break\n",
    "        elif op == 1:\n",
    "            digits[c] = digits[a] + digits[b]\n",
    "        elif op == 2:\n",
    "            digits[c] = digits[a] * digits[b]\n",
    "        else:\n",
    "            print(\"Illegal operator: \",op)\n",
    "            return\n",
    "        ip += 4 # jump to next instruction\n",
    "    return digits"
   ]
  },
  {
   "cell_type": "code",
   "execution_count": 120,
   "metadata": {},
   "outputs": [
    {
     "data": {
      "text/plain": [
       "[3500, 9, 10, 70, 2, 3, 11, 0, 99, 30, 40, 50]"
      ]
     },
     "execution_count": 120,
     "metadata": {},
     "output_type": "execute_result"
    }
   ],
   "source": [
    "result = program(testprog,testprog[1],testprog[2])\n",
    "result"
   ]
  },
  {
   "cell_type": "code",
   "execution_count": 124,
   "metadata": {},
   "outputs": [
    {
     "name": "stdout",
     "output_type": "stream",
     "text": [
      "56 96 19690720\n",
      "5696\n"
     ]
    }
   ],
   "source": [
    "noun = 0\n",
    "verb = 0\n",
    "\n",
    "for i1 in range(100):\n",
    "    for i2 in range(100):\n",
    "        fullprogcopy = list(fullprog) # use copy of original program\n",
    "        result = program(fullprogcopy,i1,i2)\n",
    "        if (result[0]==19690720):\n",
    "            noun = i1\n",
    "            verb = i2\n",
    "            print(i1, i2, result[0])\n",
    "            break\n",
    "\n",
    "print(100 * noun + verb)"
   ]
  },
  {
   "cell_type": "code",
   "execution_count": 101,
   "metadata": {},
   "outputs": [
    {
     "name": "stdout",
     "output_type": "stream",
     "text": [
      "[4484226, 12, 2, 2, 1, 1, 2, 3, 1, 3, 4, 3, 1, 5, 0, 3, 2, 6, 1, 24, 1, 5, 19, 25, 2, 6, 23, 50, 1, 27, 5, 51, 2, 9, 31, 153, 1, 5, 35, 154, 2, 6, 39, 308, 2, 6, 43, 616, 1, 5, 47, 617, 2, 9, 51, 1851, 1, 5, 55, 1852, 1, 10, 59, 1856, 1, 63, 6, 1858, 1, 9, 67, 1861, 1, 71, 6, 1863, 1, 75, 13, 1868, 2, 79, 13, 9340, 2, 9, 83, 28020, 1, 87, 5, 28021, 1, 9, 91, 28024, 2, 10, 95, 112096, 1, 5, 99, 112097, 1, 103, 9, 112100, 1, 13, 107, 112105, 2, 111, 10, 448420, 1, 115, 5, 448421, 2, 13, 119, 2242105, 1, 9, 123, 2242108, 1, 5, 127, 2242109, 2, 131, 6, 4484218, 1, 135, 5, 4484219, 1, 139, 6, 4484221, 1, 143, 6, 4484223, 1, 2, 147, 4484225, 1, 151, 5, 0, 99, 2, 14, 0, 0]\n",
      "[1, 0, 0, 3, 1, 1, 2, 3, 1, 3, 4, 3, 1, 5, 0, 3, 2, 6, 1, 19, 1, 5, 19, 23, 2, 6, 23, 27, 1, 27, 5, 31, 2, 9, 31, 35, 1, 5, 35, 39, 2, 6, 39, 43, 2, 6, 43, 47, 1, 5, 47, 51, 2, 9, 51, 55, 1, 5, 55, 59, 1, 10, 59, 63, 1, 63, 6, 67, 1, 9, 67, 71, 1, 71, 6, 75, 1, 75, 13, 79, 2, 79, 13, 83, 2, 9, 83, 87, 1, 87, 5, 91, 1, 9, 91, 95, 2, 10, 95, 99, 1, 5, 99, 103, 1, 103, 9, 107, 1, 13, 107, 111, 2, 111, 10, 115, 1, 115, 5, 119, 2, 13, 119, 123, 1, 9, 123, 127, 1, 5, 127, 131, 2, 131, 6, 135, 1, 135, 5, 139, 1, 139, 6, 143, 1, 143, 6, 147, 1, 2, 147, 151, 1, 151, 5, 0, 99, 2, 14, 0, 0]\n",
      "[4484226, 12, 2, 2, 1, 1, 2, 3, 1, 3, 4, 3, 1, 5, 0, 3, 2, 6, 1, 24, 1, 5, 19, 25, 2, 6, 23, 50, 1, 27, 5, 51, 2, 9, 31, 153, 1, 5, 35, 154, 2, 6, 39, 308, 2, 6, 43, 616, 1, 5, 47, 617, 2, 9, 51, 1851, 1, 5, 55, 1852, 1, 10, 59, 1856, 1, 63, 6, 1858, 1, 9, 67, 1861, 1, 71, 6, 1863, 1, 75, 13, 1868, 2, 79, 13, 9340, 2, 9, 83, 28020, 1, 87, 5, 28021, 1, 9, 91, 28024, 2, 10, 95, 112096, 1, 5, 99, 112097, 1, 103, 9, 112100, 1, 13, 107, 112105, 2, 111, 10, 448420, 1, 115, 5, 448421, 2, 13, 119, 2242105, 1, 9, 123, 2242108, 1, 5, 127, 2242109, 2, 131, 6, 4484218, 1, 135, 5, 4484219, 1, 139, 6, 4484221, 1, 143, 6, 4484223, 1, 2, 147, 4484225, 1, 151, 5, 0, 99, 2, 14, 0, 0]\n"
     ]
    }
   ],
   "source": [
    "print(result)\n",
    "print(fullprog)\n",
    "print(fullprogcopy)"
   ]
  },
  {
   "cell_type": "code",
   "execution_count": null,
   "metadata": {},
   "outputs": [],
   "source": []
  }
 ],
 "metadata": {
  "kernelspec": {
   "display_name": "Python 3",
   "language": "python",
   "name": "python3"
  },
  "language_info": {
   "codemirror_mode": {
    "name": "ipython",
    "version": 3
   },
   "file_extension": ".py",
   "mimetype": "text/x-python",
   "name": "python",
   "nbconvert_exporter": "python",
   "pygments_lexer": "ipython3",
   "version": "3.7.5"
  }
 },
 "nbformat": 4,
 "nbformat_minor": 2
}
