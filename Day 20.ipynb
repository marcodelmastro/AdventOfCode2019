{
 "cells": [
  {
   "cell_type": "markdown",
   "metadata": {},
   "source": [
    "# Day 20: Donut Maze\n",
    "\n",
    "https://adventofcode.com/2019/day/20#part2\n",
    "\n",
    "## Part 1"
   ]
  },
  {
   "cell_type": "code",
   "execution_count": 182,
   "metadata": {},
   "outputs": [],
   "source": [
    "import numpy as np\n",
    "import matplotlib.pyplot as plt\n",
    "from queue import Queue"
   ]
  },
  {
   "cell_type": "code",
   "execution_count": 300,
   "metadata": {},
   "outputs": [
    {
     "data": {
      "text/plain": [
       "['                               H       I       J   D A       U     U       W                               ',\n",
       " '                               R       Z       M   S A       N     V       T                               ',\n",
       " '  #############################.#######.#######.###.#.#######.#####.#######.#############################  ',\n",
       " '  #.#...#.#.......#.#...#...#.........#.#.#.......#.#.....#.....#.....#.....#.............#...#.....#...#  ',\n",
       " '  #.###.#.###.#####.###.###.###.#####.#.#.#######.#.#.###.#.#####.#.###.###.###.#############.#.#.#####.#  ',\n",
       " '  #...#.#...#.#...............#...#...#...#.......#.....#.#.#.#...#.#.#.#.#.....#...#...#.#.#...#.#.....#  ',\n",
       " '  #.###.#.###.#####.#####.###.#####.###.###.#####.###.#.#.#.#.#.#.###.#.#.###.#####.###.#.#.#.#####.#####  ',\n",
       " '  #.#...........#...#...#.#.......#...#...#.....#.#...#.#.#...#.#.....#.....#.#.........#.......#.#.....#  ',\n",
       " '  #.###########.###.#.#.###.###.#.###.#.#####.#####.#####.#.#.#######.#.#####.#.#.#.#######.#####.#.#.###  ',\n",
       " '  #.....#.#.....#...#.#.....#.#.#.....#.....#...#...#...#.#.#.#.......#.#.#.#.#.#.#.#...........#...#.#.#  ',\n",
       " '  #.#####.#####.#.#######.###.#.#####.#.#####.#######.###.#.###.#######.#.#.###.#########.###.###.#####.#  ',\n",
       " '  #.#.#.#...#.#...#.........#.......#.#...#.........#.#.#.#...#.#...#.#.#.........#.#.#...#...#.#.....#.#  ',\n",
       " '  #.#.#.###.#.###.#.###########.#.#####.###.###.#####.#.#.###.#.#.###.#.###.#.#.###.#.#.#######.###.###.#  ',\n",
       " '  #.#.#.......#.#.#.#...#.......#.#.......#...#.#.#.......#...#.....#.......#.#.....#...#.....#...#...#.#  ',\n",
       " '  #.#.#######.#.#######.#######.#######.###.#.#.#.###.#.#.#.###.###.###.#####.#.#####.#######.#.#####.#.#  ',\n",
       " '  #...#...#.#.....#.......#.#.#.....#...#...#.#.#.#...#.#.#...#...#.#.#.....#.#...#.#...#...#.#...#.....#  ',\n",
       " '  #.###.###.###.###.#####.#.#.###.#.###.###.#####.#######.###.###.###.#.#.#########.#.#####.#.#.#####.#.#  ',\n",
       " '  #.....#.........#.#.......#.#...#.#.....#...#.#.....#...#...#.#.....#.#.#.#...#.............#.....#.#.#  ',\n",
       " '  ###.#########.#######.###.#.#.#####.###.###.#.#.#.#####.#.###.#####.#.###.###.###.###.#########.###.###  ',\n",
       " '  #...#.........#.#.#.#.#...........#.#.....#.....#...#...#.#.#.......#.#.#.....#.#...#...#...#.#.......#  ',\n",
       " '  ###.#########.#.#.#.###.#####.#.###.###.###.#.#.#.#####.#.#.#.#######.#.###.###.#.#######.###.#.#.###.#  ',\n",
       " '  #...#.....#.#.......#.#.#.....#...#.#...#...#.#.#.#.#...#...#.......#...................#.#.#...#.#.#.#  ',\n",
       " '  ###.#####.#.#.#.###.#.###.#####.#.###.###.#########.###.#.#.#######.###.#.#####.###.#####.#.#####.#.###  ',\n",
       " '  #.....#...#.#.#...#...#...#.#...#.#...#.........#.....#.#.#.#...#.#.#...#.....#.#.....#.#.............#  ',\n",
       " '  ###.#####.#.#.#############.#.#####.#.#.###.#.#####.###.###.#.###.#.#.#####.#####.#.#.#.#.#####.#######  ',\n",
       " '  #.....#.......#.....#.#.#.......#...#.#.#...#.#.........#.....#.....#...#.......#.#.#...#.#.......#...#  ',\n",
       " '  #.#.#######.#####.###.#.#######.#####.#####.#########.#####.#####.###.#######################.#######.#  ',\n",
       " '  #.#.#.#.......#.#.....#.#      Y     Z     L         U     D     H   G        #...#...#...#.....#...#.#  ',\n",
       " '  #.###.#####.#.#.#.#####.#      A     H     U         O     H     S   U        #.###.#####.###.#####.#.#  ',\n",
       " '  #...#.#.#...#.#.......#.#                                                     #.#.....#.....#...#.#.#.#  ',\n",
       " '  ###.#.#.###.#####.#.#.#.#                                                     #.#.#####.###.#.###.#.#.#  ',\n",
       " '  #.......#.....#.#.#.#.#.#                                                   MZ........#.#.#.#.........#  ',\n",
       " '  ###.#.#####.#.#.#.#####.#                                                     #.#########.#.#.###.###.#  ',\n",
       " '  #...#.#...#.#.#...#.#...#                                                     #.#.#.#.........#...#...#  ',\n",
       " '  #.#####.###.#####.#.#.###                                                     #.#.#.#######.#.###.###.#  ',\n",
       " 'ZH..................#...#.#                                                     #.#.....#.#.#.#.#...#....QV',\n",
       " '  #.###.#####.#.###.#.#.#.#                                                     #.#.#.###.#.#.#########.#  ',\n",
       " '  #...#...#...#.#.....#...#                                                     #...#.........#.#.#...#.#  ',\n",
       " '  #####.#####.#####.#.###.#                                                     ###############.#.#.#####  ',\n",
       " '  #...#.#.....#.#.#.#.#....WT                                                 QV....#.....#...#.......#.#  ',\n",
       " '  #.###########.#.###.#.#.#                                                     ###.#.#.###.#.#.#.#.###.#  ',\n",
       " '  #...#.....#.#.#.#.#.#.#.#                                                     #.....#.....#...#.#.#...#  ',\n",
       " '  #.#.###.###.#.#.#.#######                                                     #############.#####.#.#.#  ',\n",
       " 'UO..#......................BT                                                   #.#.#.#.#...#.#...#...#..LY',\n",
       " '  #########################                                                     #.#.#.#.#.#######.#######  ',\n",
       " '  #...................#...#                                                     #.....#.............#.#.#  ',\n",
       " '  #.###.#.#####.#####.#.#.#                                                     ###.###.###.#######.#.#.#  ',\n",
       " 'HO..#.#.#...#...#.....#.#.#                                                     #...#.....#...#.........#  ',\n",
       " '  #.#.#####.#####.#####.#.#                                                     ###.###.#####.###.#####.#  ',\n",
       " '  #.....#.#...#.....#...#..LY                                                 PY..#.........#.#.....#...#  ',\n",
       " '  #####.#.#########.#.###.#                                                     #.#.###.#.###########.###  ',\n",
       " 'MM......#.....#.........#..IZ                                                   #...#...#.....#...#......HS',\n",
       " '  ###########.###.#######.#                                                     ###########.#####.#######  ',\n",
       " '  #.........#...#.#.....#.#                                                   QW........#.#.#...#...#....MZ',\n",
       " '  #.#######.#.###.#.#.#####                                                     #.###.###.#####.###.###.#  ',\n",
       " '  #.#.........#.#.#.#.....#                                                     #...#.#.......#.#...#...#  ',\n",
       " '  #.#.###.#.###.#.###.#####                                                     #####.#.#.#####.###.###.#  ',\n",
       " '  #.#.#...#...#.#.#........HR                                                   #.....#.#...#...#...#.#.#  ',\n",
       " '  #.#####.#####.#####.###.#                                                     #.#####.#.#####.###.#.#.#  ',\n",
       " 'SH....#.................#.#                                                     #.......#...............#  ',\n",
       " '  ###.#####.#####.#########                                                     ###########.###.#####.###  ',\n",
       " '  #.#.#.#...#...#.#.#.....#                                                     #...#.....#.#.#.#...#.#.#  ',\n",
       " '  #.###.#######.###.#.###.#                                                     #.#.###.#.###.###.#####.#  ',\n",
       " '  #.#...#...#...#.....#.#.#                                                   JM..#.....#...#.....#...#..ZZ',\n",
       " '  #.#.#####.#.#####.#.#.#.#                                                     #.###.###.#####.#.###.#.#  ',\n",
       " '  #...#.......#.....#.#...#                                                     #...#.#.....#.#.#.....#.#  ',\n",
       " '  #.#.#.###.#####.###.#.###                                                     #.#####.#####.#.#####.#.#  ',\n",
       " 'BT..#.....#.........#.#....HO                                                   #.#...#.........#.#......PY',\n",
       " '  #######.#.###.#.#####.###                                                     ###.#####.#####.#.#.#####  ',\n",
       " 'LU....#...#.#...#.....#.#.#                                                     #...#.#.....#...#.#.#....UF',\n",
       " '  ###.###.#####.#####.###.#                                                     ###.#.###########.#####.#  ',\n",
       " '  #.....#.#...#.#...#...#..UF                                                 LE........................#  ',\n",
       " '  #.#########.###.#.#####.#                                                     #####.#####.#.###########  ',\n",
       " '  #.......#.....#.#.#.#.#.#                                                     #.........#.#...#...#.#.#  ',\n",
       " '  ###.###.###.#.#.#.#.#.#.#                                                     #############.###.#.#.#.#  ',\n",
       " '  #.#.#.......#...#.......#                                                   UN....#.#...#.#.#...#...#..DQ',\n",
       " '  #.#.#####.#.#.#.###.#.#.#                                                     #.###.#.###.#####.#.###.#  ',\n",
       " '  #.....#...#.#.#.#...#.#.#                                                     #.#.#...#.#...#.#.#.....#  ',\n",
       " '  #########.###.#######.#.#                                                     #.#.###.#.###.#.#.#####.#  ',\n",
       " '  #.....#.#.#.......#...#.#                                                     #.....................#.#  ',\n",
       " '  #####.#.#.#.###.#########    S       U         D     M           A       D    ###.#.#####.#.#####.###.#  ',\n",
       " '  #...#.....#.#...#...#.#.#    H       V         Q     M           B       S    #...#...#...#...#.....#.#  ',\n",
       " '  ###.#.###.#########.#.#.#####.#######.#########.#####.###########.#######.#######.#.###.###.###.#.###.#  ',\n",
       " '  #.....#.....#...#.............#...#.....#.........#.....#.#.......#.............#.#.#.....#...#.#...#.#  ',\n",
       " '  #.###.###.###.###.###.#####.#.###.#.###.###.###.###.#####.#.#######.#####.###.###.#####.#.#.###.#####.#  ',\n",
       " '  #.#...#.......#.....#.#.....#.#.......#.#...#.#.#.....#.#.......#.....#...#.....#.....#.#.#.#.....#.#.#  ',\n",
       " '  #.###.#.#.#####.#.#########.#.#####.#######.#.#.#.#.#.#.#.###.#.###.###########.###.#.#.###.#.#.#.#.#.#  ',\n",
       " '  #.#...#.#.....#.#...#.....#.#.#...#.......#...#.#.#.#.#.#.#...#.#...........#...#...#.#...#.#.#.#.#...#  ',\n",
       " '  ###.#.###.#######.#####.###.#####.#.#.#####.#######.###.###.#.#####.###################.#.#.###.#####.#  ',\n",
       " '  #...#.#...#...........#.........#...#...#.#...#.#.........#.#...#.#.....#.#.#...#.....#.#.#...#.#.....#  ',\n",
       " '  #####.###.#.#.#.#.#####.#####.###.#.#####.###.#.#.#.#.###.#.#####.#.#####.#.#.#######.#.#.#####.#.###.#  ',\n",
       " '  #...#...#.#.#.#.#.#.....#.#.....#.#.....#.....#.#.#.#...#.#.....#...............#.....#.#.....#.#...#.#  ',\n",
       " '  ###.#########.#.#########.#.###.###.#.###.#.###.#.#######.#####.###.###.###.#######.#.#.#########.#.###  ',\n",
       " '  #.............#...#.........#.#.#...#...#.#...#.....#.#.#.#.#.....#...#.#.....#.#.#.#...#.#.......#...#  ',\n",
       " '  #.#########.#.#.###.###.###.#.#####.#.#####.#######.#.#.#.#.###.###.#########.#.#.#####.#.#######.#.###  ',\n",
       " '  #.#.....#...#.#.#.#.#...#...#.#...#.#...#.........#.#.......#...#.#.#.......#...#...#.........#...#...#  ',\n",
       " '  #####.###.#.#.#.#.###.#.###.#.#.###.#######.#############.#####.#.#.#.###.#.#####.###.#.#.#.###.#.#.#.#  ',\n",
       " '  #.#.....#.#.#.#.#.#.#.#.#.........#...#.#.....#.....#.#.....#.....#.....#.#.#.#...#.#.#.#.#...#.#.#.#.#  ',\n",
       " '  #.#.###.###.###.#.#.###.###.###.###.###.###.#.###.###.###.#######.#####.#####.#.###.#.#.#.#.###.#.#.#.#  ',\n",
       " '  #...#.......#...#...#.#.#...#.#.#.#.......#.#.....#.#.#...#.........#.#...#.........#.#.#.#...#.#.#.#.#  ',\n",
       " '  #.#####.#.#.#######.#.#.#.#.#.#.#.###.###########.#.#.###.###.#######.#.###.###.###.#.###.#.#########.#  ',\n",
       " '  #.#.#...#.#.#.#.........#.#.#...#.......#.#...........#.#...#.......#.....#.#.#...#.#...#.#...#.....#.#  ',\n",
       " '  ###.#.#.#.###.###.###.#########.###.###.#.#####.#.#####.#.#######.#####.###.#.#####.###.###.#######.#.#  ',\n",
       " '  #.#...#.#.#.#.....#.#...#...#.....#.#.#.......#.#.#.......#.#.......#.......#.....#...#.#.......#...#.#  ',\n",
       " '  #.###.#.###.#.###.#.###.#.#.#.#####.#.###.#.###.#######.###.#.###.###.#######.#.#######.###.#.#.###.###  ',\n",
       " '  #.....#.#.....#...#.....#.#.......#.#.....#.#.....#.........#...#.#...........#.....#.....#.#.#.......#  ',\n",
       " '  #################################.###.#########.#########.###.#########.###############################  ',\n",
       " '                                   D   G         L         A   Y         Q                                 ',\n",
       " '                                   H   U         E         B   A         W                                 ']"
      ]
     },
     "execution_count": 300,
     "metadata": {},
     "output_type": "execute_result"
    }
   ],
   "source": [
    "#inputfile = \"./data/day20test1.txt\"\n",
    "#inputfile = \"./data/day20test2.txt\"\n",
    "inputfile = \"./data/input20.txt\"\n",
    "\n",
    "with open(inputfile) as f:\n",
    "    amaze = [l.rstrip('\\n') for l in f]\n",
    "    \n",
    "amaze"
   ]
  },
  {
   "cell_type": "code",
   "execution_count": 184,
   "metadata": {},
   "outputs": [],
   "source": [
    "def getAdjacentBorder(n,xmax,ymax):\n",
    "    '''returns list of adiacent cells'''\n",
    "    x,y = n\n",
    "    adj = []\n",
    "    if x>=1: adj.append((x-1,y)) # W\n",
    "    if y>=1: adj.append((x,y-1)) # N\n",
    "    if x<xmax-1: adj.append((x+1,y)) # E\n",
    "    if y<ymax-1: adj.append((x,y+1)) # S\n",
    "    return adj    \n",
    "\n",
    "def getEntrance(portalList):\n",
    "    for c in portalList:\n",
    "        for cc in getAdjacentBorder(c,len(amaze[0]),len(amaze)):\n",
    "            x, y = cc\n",
    "            ccc = amaze[y][x]\n",
    "            if ccc=='.':\n",
    "                return c\n",
    "\n",
    "def findPortals(amaze):\n",
    "    '''Identify and process portal positions'''\n",
    "    portals = []\n",
    "    j = 0\n",
    "    for l in amaze:\n",
    "        i = 0\n",
    "        for c in l:\n",
    "            if not (c=='#' or c==' ' or c=='.'): # found a portal letter\n",
    "                n = (i,j)\n",
    "                for a in getAdjacentBorder(n,len(amaze[0]),len(amaze)):\n",
    "                    x, y = a\n",
    "                    cc = amaze[y][x]\n",
    "                    if not cc=='#' and not cc==' ' and not cc=='.':\n",
    "                        portalName = ''.join(sorted(c+cc))\n",
    "                        portalCoord = sorted([n,a])\n",
    "                        portal = ( portalName, portalCoord )\n",
    "                        if portal in portals:\n",
    "                            continue\n",
    "                        portals.append(portal)                                 \n",
    "            i+=1\n",
    "        j+=1\n",
    "    portals.sort(key=lambda tup: tup[0]) # sort portals by name\n",
    "    _start = portals[0]\n",
    "    _exit = portals[-1]\n",
    "    start = (0,0)\n",
    "    exit = (0,0)\n",
    "    # reformat start and exit\n",
    "    for cell in _start[1]:\n",
    "        if len(getAdjacentBorder(cell,len(amaze[0]),len(amaze)))==4:\n",
    "            start = cell\n",
    "    for cell in _exit[1]:\n",
    "        if len(getAdjacentBorder(cell,len(amaze[0]),len(amaze)))==4:\n",
    "            exit = cell\n",
    "    # link portal extremes\n",
    "    portals = portals[1:len(portals)-1]\n",
    "    i = 0\n",
    "    P = {}\n",
    "    Plink = {}\n",
    "    while i<len(portals):\n",
    "        name = portals[i][0]\n",
    "        IN = getEntrance(portals[i][1])\n",
    "        OUT = getEntrance(portals[i+1][1])\n",
    "        P[name] = [IN,OUT]\n",
    "        Plink[IN] = OUT\n",
    "        Plink[OUT] = IN\n",
    "        i+=2\n",
    "    return start, exit, P, Plink\n",
    "\n",
    "# Find first walkable tile near to start and exit labels, since only '.' tiles are part of the path\n",
    "\n",
    "def findWalkable(start,amaze):\n",
    "    theStart = start\n",
    "    for c in (getAdjacentBorder(start,len(amaze[0]),len(amaze))):\n",
    "        x,y = c\n",
    "        if amaze[y][x]==\".\":\n",
    "            theStart = c\n",
    "            return theStart"
   ]
  },
  {
   "cell_type": "code",
   "execution_count": 299,
   "metadata": {},
   "outputs": [
    {
     "name": "stdout",
     "output_type": "stream",
     "text": [
      "(53, 1) (105, 63)\n",
      "(53, 2) (104, 63)\n",
      "{'AB': [(67, 81), (59, 107)], 'AY': [(33, 27), (63, 107)], 'BT': [(27, 43), (1, 67)], 'DH': [(61, 27), (35, 107)], 'DQ': [(105, 75), (49, 81)], 'DS': [(51, 1), (75, 81)], 'EL': [(79, 71), (49, 107)], 'FU': [(105, 69), (27, 71)], 'GU': [(71, 27), (39, 107)], 'HO': [(1, 47), (27, 67)], 'HR': [(31, 1), (27, 57)], 'HS': [(1, 59), (31, 81)], 'HZ': [(39, 27), (1, 35)], 'IZ': [(39, 1), (27, 51)], 'JM': [(47, 1), (79, 63)], 'LU': [(45, 27), (1, 69)], 'LY': [(105, 43), (27, 49)], 'MM': [(1, 51), (55, 81)], 'MZ': [(79, 31), (105, 53)], 'NU': [(61, 1), (79, 75)], 'OU': [(55, 27), (1, 43)], 'PY': [(79, 49), (105, 67)], 'QV': [(105, 35), (79, 39)], 'QW': [(79, 53), (73, 107)], 'TW': [(75, 1), (27, 39)], 'UV': [(67, 1), (39, 81)]}\n",
      "{(67, 81): (59, 107), (59, 107): (67, 81), (33, 27): (63, 107), (63, 107): (33, 27), (27, 43): (1, 67), (1, 67): (27, 43), (61, 27): (35, 107), (35, 107): (61, 27), (105, 75): (49, 81), (49, 81): (105, 75), (51, 1): (75, 81), (75, 81): (51, 1), (79, 71): (49, 107), (49, 107): (79, 71), (105, 69): (27, 71), (27, 71): (105, 69), (71, 27): (39, 107), (39, 107): (71, 27), (1, 47): (27, 67), (27, 67): (1, 47), (31, 1): (27, 57), (27, 57): (31, 1), (67, 27): (105, 51), (105, 51): (67, 27), (1, 59): (31, 81), (31, 81): (1, 59), (39, 27): (1, 35), (1, 35): (39, 27), (39, 1): (27, 51), (27, 51): (39, 1), (47, 1): (79, 63), (79, 63): (47, 1), (45, 27): (1, 69), (1, 69): (45, 27), (105, 43): (27, 49), (27, 49): (105, 43), (1, 51): (55, 81), (55, 81): (1, 51), (79, 31): (105, 53), (105, 53): (79, 31), (61, 1): (79, 75), (79, 75): (61, 1), (55, 27): (1, 43), (1, 43): (55, 27), (79, 49): (105, 67), (105, 67): (79, 49), (105, 35): (79, 39), (79, 39): (105, 35), (79, 53): (73, 107), (73, 107): (79, 53), (75, 1): (27, 39), (27, 39): (75, 1), (67, 1): (39, 81), (39, 81): (67, 1)}\n"
     ]
    },
    {
     "data": {
      "text/plain": [
       "{'AB': [(67, 81), (59, 107)],\n",
       " 'AY': [(33, 27), (63, 107)],\n",
       " 'BT': [(27, 43), (1, 67)],\n",
       " 'DH': [(61, 27), (35, 107)],\n",
       " 'DQ': [(105, 75), (49, 81)],\n",
       " 'DS': [(51, 1), (75, 81)],\n",
       " 'EL': [(79, 71), (49, 107)],\n",
       " 'FU': [(105, 69), (27, 71)],\n",
       " 'GU': [(71, 27), (39, 107)],\n",
       " 'HO': [(1, 47), (27, 67)],\n",
       " 'HR': [(31, 1), (27, 57)],\n",
       " 'HS': [(1, 59), (31, 81)],\n",
       " 'HZ': [(39, 27), (1, 35)],\n",
       " 'IZ': [(39, 1), (27, 51)],\n",
       " 'JM': [(47, 1), (79, 63)],\n",
       " 'LU': [(45, 27), (1, 69)],\n",
       " 'LY': [(105, 43), (27, 49)],\n",
       " 'MM': [(1, 51), (55, 81)],\n",
       " 'MZ': [(79, 31), (105, 53)],\n",
       " 'NU': [(61, 1), (79, 75)],\n",
       " 'OU': [(55, 27), (1, 43)],\n",
       " 'PY': [(79, 49), (105, 67)],\n",
       " 'QV': [(105, 35), (79, 39)],\n",
       " 'QW': [(79, 53), (73, 107)],\n",
       " 'TW': [(75, 1), (27, 39)],\n",
       " 'UV': [(67, 1), (39, 81)]}"
      ]
     },
     "execution_count": 299,
     "metadata": {},
     "output_type": "execute_result"
    }
   ],
   "source": [
    "start, exit, P, Plink = findPortals(amaze)\n",
    "\n",
    "theStart = findWalkable(start,amaze)\n",
    "theExit = findWalkable(exit,amaze)\n",
    "        \n",
    "print(start,exit)\n",
    "print(theStart,theExit)\n",
    "print(P)\n",
    "print(Plink)\n",
    "P"
   ]
  },
  {
   "cell_type": "code",
   "execution_count": 186,
   "metadata": {},
   "outputs": [
    {
     "data": {
      "text/plain": [
       "<matplotlib.image.AxesImage at 0x1158cf950>"
      ]
     },
     "execution_count": 186,
     "metadata": {},
     "output_type": "execute_result"
    },
    {
     "data": {
      "image/png": "[encoded data removed]",
      "text/plain": [
       "<Figure size 800x800 with 1 Axes>"
      ]
     },
     "metadata": {
      "needs_background": "light"
     },
     "output_type": "display_data"
    }
   ],
   "source": [
    "WALL    = 1\n",
    "BORDER  = -1\n",
    "EMPTY   = 0\n",
    "PORTAL  = 2\n",
    "VISITED = 3\n",
    "\n",
    "def amaze2matrix(amaze):\n",
    "    nrow = len(amaze)\n",
    "    ncol = len(amaze[0])\n",
    "    shape = (nrow,ncol)\n",
    "    maze = np.zeros(shape)\n",
    "    j = 0\n",
    "    for l in amaze:\n",
    "        i = 0\n",
    "        for c in l:\n",
    "            if c=='#':\n",
    "                maze[j][i] = WALL\n",
    "            elif c==' ':\n",
    "                maze[j][i] = BORDER\n",
    "            elif c=='.':\n",
    "                maze[j][i] = EMPTY\n",
    "            else:\n",
    "                n = (i,j)\n",
    "                if n in Plink.keys():\n",
    "                    maze[j][i] = PORTAL\n",
    "                elif n==start or n==exit:\n",
    "                    maze[j][i] = PORTAL\n",
    "                else:\n",
    "                    maze[j][i] = BORDER\n",
    "            i+=1\n",
    "        j+=1\n",
    "    return maze\n",
    "\n",
    "maze = amaze2matrix(amaze)\n",
    "fig = plt.figure(figsize=(8,8), dpi=100)\n",
    "plt.imshow(maze)"
   ]
  },
  {
   "cell_type": "code",
   "execution_count": 187,
   "metadata": {},
   "outputs": [],
   "source": [
    "def getAdjacent(n):\n",
    "    '''returns list of adiacent cells'''\n",
    "    x,y = n\n",
    "    return [(x-1,y), # W\n",
    "            (x,y-1), # N\n",
    "            (x+1,y), # E\n",
    "            (x,y+1)] # S\n",
    "\n",
    "def getAdjacentPortal(n):\n",
    "    '''returns list of adiacent cells accounting for portals'''\n",
    "    x,y = n\n",
    "    temp = [(x-1,y), (x,y-1), (x+1,y), (x,y+1)] \n",
    "    adjacent = []\n",
    "    for c in temp:\n",
    "        if c in Plink.keys():\n",
    "            for cc in getAdjacent(Plink[c]):\n",
    "                xx,yy = cc\n",
    "                if maze[yy][xx] == WALL or maze[yy][xx] == BORDER:\n",
    "                    continue\n",
    "                else:\n",
    "                    adjacent.append(cc)\n",
    "        else:\n",
    "            adjacent.append(c)\n",
    "    return adjacent\n",
    "\n",
    "def BFSPortal(start, end, theMaze):\n",
    "    '''Find shorter path between two position in the maze using BFS algorithm'''\n",
    "    maze = np.copy(theMaze)\n",
    "    queue = Queue()\n",
    "    queue.put([start])\n",
    "    lenmax = 1\n",
    "    while not queue.empty():\n",
    "        path = queue.get() \n",
    "        c = path[-1] \n",
    "        if c == end:\n",
    "            return path\n",
    "        for a in getAdjacentPortal(c): \n",
    "            x,y = a\n",
    "            if maze[y][x] == WALL or maze[y][x] == BORDER or maze[y][x] == VISITED: \n",
    "                continue\n",
    "            else:\n",
    "                maze[y][x] = VISITED\n",
    "                new_path = list(path)\n",
    "                new_path.append(a)\n",
    "                queue.put(new_path) \n",
    "    return []\n",
    "    \n",
    "def drawPath(path,theMaze):\n",
    "    maze = list(theMaze)\n",
    "    for c in path:\n",
    "        x,y = c\n",
    "        maze[y][x] = VISITED\n",
    "    return maze"
   ]
  },
  {
   "cell_type": "code",
   "execution_count": 202,
   "metadata": {},
   "outputs": [
    {
     "name": "stdout",
     "output_type": "stream",
     "text": [
      "Steps needed =  77\n"
     ]
    }
   ],
   "source": [
    "path = BFSPortal(theStart, theExit, maze)\n",
    "#print(path)\n",
    "print(\"Steps needed = \",len(path)-1) # remove 1 to account for starting tile, according to instructions"
   ]
  },
  {
   "cell_type": "code",
   "execution_count": 189,
   "metadata": {},
   "outputs": [
    {
     "data": {
      "text/plain": [
       "<matplotlib.image.AxesImage at 0x1114a5ad0>"
      ]
     },
     "execution_count": 189,
     "metadata": {},
     "output_type": "execute_result"
    },
    {
     "data": {
      "image/png": "[encoded data removed]",
      "text/plain": [
       "<Figure size 800x800 with 1 Axes>"
      ]
     },
     "metadata": {
      "needs_background": "light"
     },
     "output_type": "display_data"
    }
   ],
   "source": [
    "mazepath = drawPath(path,maze)\n",
    "fig = plt.figure(figsize=(8,8), dpi=100)\n",
    "plt.imshow(mazepath)"
   ]
  },
  {
   "cell_type": "markdown",
   "metadata": {},
   "source": [
    "# Part 2\n",
    "\n",
    "Mapping position as (i,x,y) where i = level"
   ]
  },
  {
   "cell_type": "code",
   "execution_count": 301,
   "metadata": {},
   "outputs": [],
   "source": [
    "#inputfile = \"./data/day20test1.txt\"\n",
    "inputfile = \"./data/day20test3.txt\"\n",
    "#inputfile = \"./data/input20.txt\"\n",
    "\n",
    "with open(inputfile) as f:\n",
    "    amaze = [l.rstrip('\\n') for l in f]"
   ]
  },
  {
   "cell_type": "code",
   "execution_count": 302,
   "metadata": {},
   "outputs": [],
   "source": [
    "def isExternal(p):\n",
    "    nrow = len(amaze)\n",
    "    ncol = len(amaze[0])\n",
    "    x,y = p\n",
    "    if x==1 or x==ncol-2 or y==1 or y==nrow-2: \n",
    "        return True\n",
    "    else:\n",
    "        return False\n",
    "\n",
    "def closeExternal(maze,P):\n",
    "    '''Close external exits. Use on level 0'''\n",
    "    for p in P.keys():\n",
    "        for i in P[p]:\n",
    "            if isExternal(i):\n",
    "                x,y = i\n",
    "                maze[y][x] = WALL\n",
    "\n",
    "def fillPortalLevels(P,nlevel):\n",
    "    '''Fill en extended dictionary of portal coordinates accounting for multiple levels'''\n",
    "    PlinkLevel = {}\n",
    "    for i in range(nlevel-1):\n",
    "        for p in P:\n",
    "            IN  = P[p][0]\n",
    "            OUT = P[p][1]\n",
    "            x1,y1 = IN\n",
    "            x2,y2 = OUT\n",
    "            order = []\n",
    "            if isExternal(IN):\n",
    "                order = [(i,x2,y2),(i+1,x1,y1)]\n",
    "            else:\n",
    "                order = [(i,x1,y1),(i+1,x2,y2)]\n",
    "            PlinkLevel[order[0]] = order[1]\n",
    "            PlinkLevel[order[1]] = order[0]\n",
    "    return PlinkLevel"
   ]
  },
  {
   "cell_type": "code",
   "execution_count": 325,
   "metadata": {},
   "outputs": [
    {
     "data": {
      "image/png": "[encoded data removed]",
      "text/plain": [
       "<Figure size 1000x500 with 2 Axes>"
      ]
     },
     "metadata": {
      "needs_background": "light"
     },
     "output_type": "display_data"
    }
   ],
   "source": [
    "start, exit, P, Plink = findPortals(amaze)\n",
    "theStart = findWalkable(start,amaze)\n",
    "theExit = findWalkable(exit,amaze)\n",
    "\n",
    "maze = amaze2matrix(amaze)\n",
    "\n",
    "mazes = []\n",
    "\n",
    "nmaze = 20\n",
    "\n",
    "for i in range(nmaze):\n",
    "    mazes.append(np.copy(maze))\n",
    "    \n",
    "closeExternal(mazes[0],P)\n",
    "\n",
    "fig = plt.figure(figsize=(10,5), dpi=100)\n",
    "plt.subplot(1,2,1)\n",
    "plt.imshow(mazes[0])\n",
    "plt.subplot(1,2,2)\n",
    "plt.imshow(mazes[1])\n",
    "\n",
    "PlinkLevels = fillPortalLevels(P,nmaze)"
   ]
  },
  {
   "cell_type": "code",
   "execution_count": 308,
   "metadata": {},
   "outputs": [],
   "source": [
    "import copy\n",
    "\n",
    "def getAdjacentLevel(n):\n",
    "    i,x,y = n\n",
    "    return [(i,x-1,y), # W\n",
    "            (i,x,y-1), # N\n",
    "            (i,x+1,y), # E\n",
    "            (i,x,y+1)] # S\n",
    "\n",
    "def getAdjacentPortalLevel(n):\n",
    "    temp = getAdjacentLevel(n)\n",
    "    adjacent = []\n",
    "    for c in temp:\n",
    "        if c in PlinkLevels.keys():\n",
    "            for cc in getAdjacentLevel(PlinkLevels[c]):\n",
    "                j,xx,yy = cc\n",
    "                adjacent.append(cc)\n",
    "        else:\n",
    "            adjacent.append(c)\n",
    "    return adjacent\n",
    "\n",
    "def BFSPortalLevel(start, end, theMazes):\n",
    "    mazes = copy.deepcopy(theMazes)\n",
    "    queue = Queue()\n",
    "    queue.put([start])\n",
    "\n",
    "    istep = 0 \n",
    "\n",
    "    while not queue.empty():\n",
    "        \n",
    "        #npath = queue.qsize()\n",
    "        \n",
    "        path = queue.get()\n",
    "        c = path[-1]\n",
    "        \n",
    "        #istep += 1\n",
    "        #if istep%100==0:\n",
    "        #    ic,xc,yc = c\n",
    "        #    print(npath,end=\" \")     \n",
    "        \n",
    "        if c == end:\n",
    "            print(\"EXIT found!\")\n",
    "            return path\n",
    "        for a in getAdjacentPortalLevel(c): \n",
    "            i,x,y = a\n",
    "            maze = mazes[i]\n",
    "            if maze[y][x] == WALL or maze[y][x] == BORDER or maze[y][x] == VISITED: \n",
    "                continue\n",
    "            else:\n",
    "                maze[y][x] = VISITED\n",
    "                new_path = list(path)\n",
    "                new_path.append(a)\n",
    "                queue.put(new_path)\n",
    "    print(\"No path to EXIT found\")\n",
    "    return []"
   ]
  },
  {
   "cell_type": "code",
   "execution_count": 309,
   "metadata": {},
   "outputs": [],
   "source": [
    "xs, ys = theStart\n",
    "theStartLevel = (0,xs,ys)\n",
    "xe, ye = theExit\n",
    "theExitLevel = (0,xe,ye)"
   ]
  },
  {
   "cell_type": "code",
   "execution_count": 310,
   "metadata": {},
   "outputs": [
    {
     "name": "stdout",
     "output_type": "stream",
     "text": [
      "EXIT found!\n"
     ]
    }
   ],
   "source": [
    "path = BFSPortalLevel(theStartLevel,theExitLevel,mazes)"
   ]
  },
  {
   "cell_type": "code",
   "execution_count": 311,
   "metadata": {},
   "outputs": [
    {
     "name": "stdout",
     "output_type": "stream",
     "text": [
      "396\n"
     ]
    }
   ],
   "source": [
    "print(len(path)-1)"
   ]
  },
  {
   "cell_type": "code",
   "execution_count": 312,
   "metadata": {},
   "outputs": [
    {
     "name": "stdout",
     "output_type": "stream",
     "text": [
      "[(0, 15, 34), (0, 15, 33), (0, 14, 33), (0, 13, 33), (0, 12, 33), (0, 11, 33), (0, 11, 32), (0, 11, 31), (0, 12, 31), (0, 13, 31), (0, 13, 30), (0, 13, 29), (0, 14, 29), (0, 15, 29), (0, 16, 29), (0, 17, 29), (0, 17, 28), (1, 2, 21), (1, 3, 21), (1, 4, 21), (1, 5, 21), (1, 5, 20), (1, 5, 19), (1, 6, 19), (1, 7, 19), (1, 7, 18), (1, 7, 17), (1, 8, 17), (2, 27, 2), (2, 27, 3), (2, 27, 4), (2, 27, 5), (2, 26, 5), (2, 25, 5), (2, 25, 6), (2, 25, 7), (2, 26, 7), (2, 27, 7), (2, 28, 7), (2, 29, 7), (2, 30, 7), (2, 31, 7), (2, 31, 8), (3, 42, 13), (3, 41, 13), (3, 41, 14), (3, 41, 15), (3, 40, 15), (3, 39, 15), (3, 38, 15), (3, 37, 15), (3, 37, 14), (3, 37, 13), (3, 36, 13), (4, 19, 2), (4, 19, 3), (4, 20, 3), (4, 21, 3), (4, 22, 3), (4, 23, 3), (4, 23, 4), (4, 23, 5), (4, 23, 6), (4, 23, 7), (4, 23, 8), (5, 42, 17), (5, 41, 17), (5, 40, 17), (5, 39, 17), (5, 38, 17), (5, 37, 17), (5, 37, 18), (5, 37, 19), (5, 37, 20), (5, 37, 21), (5, 36, 21), (6, 42, 25), (6, 41, 25), (6, 40, 25), (6, 39, 25), (6, 38, 25), (6, 37, 25), (6, 37, 24), (6, 37, 23), (6, 36, 23), (7, 23, 34), (7, 23, 33), (7, 24, 33), (7, 25, 33), (7, 26, 33), (7, 27, 33), (7, 28, 33), (7, 29, 33), (7, 29, 32), (7, 29, 31), (7, 29, 30), (7, 29, 29), (7, 29, 28), (8, 15, 2), (8, 15, 3), (8, 15, 4), (8, 15, 5), (8, 14, 5), (8, 13, 5), (8, 13, 4), (8, 13, 3), (8, 12, 3), (8, 11, 3), (8, 10, 3), (8, 9, 3), (8, 8, 3), (8, 7, 3), (8, 7, 4), (8, 7, 5), (8, 7, 6), (8, 7, 7), (8, 8, 7), (8, 9, 7), (8, 10, 7), (8, 11, 7), (8, 12, 7), (8, 13, 7), (8, 13, 8), (9, 19, 34), (9, 19, 33), (9, 20, 33), (9, 21, 33), (9, 21, 32), (9, 21, 31), (9, 21, 30), (9, 21, 29), (9, 21, 28), (10, 17, 2), (10, 17, 3), (10, 18, 3), (10, 19, 3), (10, 19, 2), (9, 36, 13), (9, 37, 13), (9, 37, 14), (9, 37, 15), (9, 38, 15), (9, 39, 15), (9, 40, 15), (9, 41, 15), (9, 41, 14), (9, 41, 13), (9, 42, 13), (8, 31, 8), (8, 31, 7), (8, 30, 7), (8, 29, 7), (8, 28, 7), (8, 27, 7), (8, 26, 7), (8, 25, 7), (8, 25, 6), (8, 25, 5), (8, 26, 5), (8, 27, 5), (8, 27, 4), (8, 27, 3), (8, 27, 2), (7, 8, 17), (7, 7, 17), (7, 7, 18), (7, 7, 19), (7, 6, 19), (7, 5, 19), (7, 5, 20), (7, 5, 21), (7, 4, 21), (7, 3, 21), (7, 2, 21), (6, 17, 28), (6, 17, 29), (6, 16, 29), (6, 15, 29), (6, 14, 29), (6, 13, 29), (6, 13, 30), (6, 13, 31), (6, 14, 31), (6, 15, 31), (6, 16, 31), (6, 17, 31), (6, 17, 32), (6, 17, 33), (6, 17, 34), (5, 8, 13), (5, 7, 13), (5, 7, 14), (5, 7, 15), (5, 6, 15), (5, 5, 15), (5, 4, 15), (5, 3, 15), (5, 2, 15), (4, 8, 23), (4, 7, 23), (4, 6, 23), (4, 5, 23), (4, 5, 24), (4, 5, 25), (4, 4, 25), (4, 3, 25), (4, 2, 25), (3, 21, 8), (3, 21, 7), (3, 22, 7), (3, 23, 7), (3, 23, 8), (4, 42, 17), (4, 41, 17), (4, 40, 17), (4, 39, 17), (4, 38, 17), (4, 37, 17), (4, 37, 18), (4, 37, 19), (4, 37, 20), (4, 37, 21), (4, 36, 21), (5, 42, 25), (5, 41, 25), (5, 40, 25), (5, 39, 25), (5, 38, 25), (5, 37, 25), (5, 37, 24), (5, 37, 23), (5, 36, 23), (6, 23, 34), (6, 23, 33), (6, 24, 33), (6, 25, 33), (6, 26, 33), (6, 27, 33), (6, 28, 33), (6, 29, 33), (6, 29, 32), (6, 29, 31), (6, 29, 30), (6, 29, 29), (6, 29, 28), (7, 15, 2), (7, 15, 3), (7, 15, 4), (7, 15, 5), (7, 14, 5), (7, 13, 5), (7, 13, 4), (7, 13, 3), (7, 12, 3), (7, 11, 3), (7, 10, 3), (7, 9, 3), (7, 8, 3), (7, 7, 3), (7, 7, 4), (7, 7, 5), (7, 7, 6), (7, 7, 7), (7, 8, 7), (7, 9, 7), (7, 10, 7), (7, 11, 7), (7, 12, 7), (7, 13, 7), (7, 13, 8), (8, 19, 34), (8, 19, 33), (8, 20, 33), (8, 21, 33), (8, 21, 32), (8, 21, 31), (8, 21, 30), (8, 21, 29), (8, 21, 28), (9, 17, 2), (9, 17, 3), (9, 18, 3), (9, 19, 3), (9, 19, 2), (8, 36, 13), (8, 37, 13), (8, 37, 14), (8, 37, 15), (8, 38, 15), (8, 39, 15), (8, 40, 15), (8, 41, 15), (8, 41, 14), (8, 41, 13), (8, 42, 13), (7, 31, 8), (7, 31, 7), (7, 30, 7), (7, 29, 7), (7, 28, 7), (7, 27, 7), (7, 26, 7), (7, 25, 7), (7, 25, 6), (7, 25, 5), (7, 26, 5), (7, 27, 5), (7, 27, 4), (7, 27, 3), (7, 27, 2), (6, 8, 17), (6, 7, 17), (6, 7, 18), (6, 7, 19), (6, 6, 19), (6, 5, 19), (6, 5, 20), (6, 5, 21), (6, 4, 21), (6, 3, 21), (6, 2, 21), (5, 17, 28), (5, 17, 29), (5, 16, 29), (5, 15, 29), (5, 14, 29), (5, 13, 29), (5, 13, 30), (5, 13, 31), (5, 14, 31), (5, 15, 31), (5, 16, 31), (5, 17, 31), (5, 17, 32), (5, 17, 33), (5, 17, 34), (4, 8, 13), (4, 7, 13), (4, 7, 14), (4, 7, 15), (4, 6, 15), (4, 5, 15), (4, 4, 15), (4, 3, 15), (4, 2, 15), (3, 8, 23), (3, 7, 23), (3, 6, 23), (3, 5, 23), (3, 5, 24), (3, 5, 25), (3, 4, 25), (3, 3, 25), (3, 2, 25), (2, 21, 8), (2, 21, 7), (2, 22, 7), (2, 23, 7), (2, 23, 6), (2, 23, 5), (2, 23, 4), (2, 23, 3), (2, 22, 3), (2, 21, 3), (2, 20, 3), (2, 19, 3), (2, 18, 3), (2, 17, 3), (2, 17, 2), (1, 21, 28), (1, 21, 29), (1, 21, 30), (1, 21, 31), (1, 21, 32), (1, 21, 33), (1, 20, 33), (1, 19, 33), (1, 19, 34), (0, 13, 8), (0, 13, 7), (0, 12, 7), (0, 11, 7), (0, 10, 7), (0, 9, 7), (0, 8, 7), (0, 7, 7), (0, 7, 6), (0, 7, 5), (0, 7, 4), (0, 7, 3), (0, 8, 3), (0, 9, 3), (0, 10, 3), (0, 11, 3), (0, 12, 3), (0, 13, 3), (0, 13, 2)]\n"
     ]
    }
   ],
   "source": [
    "print(path)"
   ]
  },
  {
   "cell_type": "code",
   "execution_count": 313,
   "metadata": {},
   "outputs": [],
   "source": [
    "def drawPathLevel(path,theMazes):\n",
    "    mazes = copy.deepcopy(theMazes)\n",
    "    for c in path:\n",
    "        i,x,y = c\n",
    "        maze = mazes[i]\n",
    "        maze[y][x] = VISITED\n",
    "    return mazes"
   ]
  },
  {
   "cell_type": "code",
   "execution_count": 324,
   "metadata": {},
   "outputs": [
    {
     "data": {
      "image/png": "[encoded data removed]",
      "text/plain": [
       "<Figure size 1500x1500 with 11 Axes>"
      ]
     },
     "metadata": {
      "needs_background": "light"
     },
     "output_type": "display_data"
    }
   ],
   "source": [
    "mazespath = drawPathLevel(path,mazes)\n",
    "\n",
    "fig = plt.figure(figsize=(15,15), dpi=100)\n",
    "\n",
    "for i in range(nmaze):\n",
    "    if mazespath[i][mazespath[i]==VISITED].sum()>0:\n",
    "        plt.subplot(6,6,i+1)\n",
    "        f = plt.imshow(mazespath[i])\n",
    "        f.axes.set_title(str(i))\n",
    "        f.axes.get_xaxis().set_visible(False)\n",
    "        f.axes.get_yaxis().set_visible(False)"
   ]
  },
  {
   "cell_type": "code",
   "execution_count": null,
   "metadata": {},
   "outputs": [],
   "source": []
  }
 ],
 "metadata": {
  "kernelspec": {
   "display_name": "Python 3",
   "language": "python",
   "name": "python3"
  },
  "language_info": {
   "codemirror_mode": {
    "name": "ipython",
    "version": 3
   },
   "file_extension": ".py",
   "mimetype": "text/x-python",
   "name": "python",
   "nbconvert_exporter": "python",
   "pygments_lexer": "ipython3",
   "version": "3.7.5"
  }
 },
 "nbformat": 4,
 "nbformat_minor": 2
}
