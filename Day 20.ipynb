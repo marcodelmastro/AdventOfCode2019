{
 "cells": [
  {
   "cell_type": "markdown",
   "metadata": {},
   "source": [
    "# Day 20: Donut Maze\n",
    "\n",
    "https://adventofcode.com/2019/day/20#part2\n",
    "\n",
    "## Part 1"
   ]
  },
  {
   "cell_type": "code",
   "execution_count": 1,
   "metadata": {},
   "outputs": [],
   "source": [
    "import numpy as np\n",
    "import matplotlib.pyplot as plt\n",
    "from queue import Queue"
   ]
  },
  {
   "cell_type": "code",
   "execution_count": 280,
   "metadata": {},
   "outputs": [],
   "source": [
    "#inputfile = \"./data/day20test1.txt\"\n",
    "#inputfile = \"./data/day20test2.txt\"\n",
    "inputfile = \"./data/input20.txt\"\n",
    "\n",
    "with open(inputfile) as f:\n",
    "    amaze = [l.rstrip('\\n') for l in f]"
   ]
  },
  {
   "cell_type": "code",
   "execution_count": 281,
   "metadata": {},
   "outputs": [
    {
     "data": {
      "text/plain": [
       "['                               H       I       J   D A       U     U       W                               ',\n",
       " '                               R       Z       M   S A       N     V       T                               ',\n",
       " '  #############################.#######.#######.###.#.#######.#####.#######.#############################  ',\n",
       " '  #.#...#.#.......#.#...#...#.........#.#.#.......#.#.....#.....#.....#.....#.............#...#.....#...#  ',\n",
       " '  #.###.#.###.#####.###.###.###.#####.#.#.#######.#.#.###.#.#####.#.###.###.###.#############.#.#.#####.#  ',\n",
       " '  #...#.#...#.#...............#...#...#...#.......#.....#.#.#.#...#.#.#.#.#.....#...#...#.#.#...#.#.....#  ',\n",
       " '  #.###.#.###.#####.#####.###.#####.###.###.#####.###.#.#.#.#.#.#.###.#.#.###.#####.###.#.#.#.#####.#####  ',\n",
       " '  #.#...........#...#...#.#.......#...#...#.....#.#...#.#.#...#.#.....#.....#.#.........#.......#.#.....#  ',\n",
       " '  #.###########.###.#.#.###.###.#.###.#.#####.#####.#####.#.#.#######.#.#####.#.#.#.#######.#####.#.#.###  ',\n",
       " '  #.....#.#.....#...#.#.....#.#.#.....#.....#...#...#...#.#.#.#.......#.#.#.#.#.#.#.#...........#...#.#.#  ',\n",
       " '  #.#####.#####.#.#######.###.#.#####.#.#####.#######.###.#.###.#######.#.#.###.#########.###.###.#####.#  ',\n",
       " '  #.#.#.#...#.#...#.........#.......#.#...#.........#.#.#.#...#.#...#.#.#.........#.#.#...#...#.#.....#.#  ',\n",
       " '  #.#.#.###.#.###.#.###########.#.#####.###.###.#####.#.#.###.#.#.###.#.###.#.#.###.#.#.#######.###.###.#  ',\n",
       " '  #.#.#.......#.#.#.#...#.......#.#.......#...#.#.#.......#...#.....#.......#.#.....#...#.....#...#...#.#  ',\n",
       " '  #.#.#######.#.#######.#######.#######.###.#.#.#.###.#.#.#.###.###.###.#####.#.#####.#######.#.#####.#.#  ',\n",
       " '  #...#...#.#.....#.......#.#.#.....#...#...#.#.#.#...#.#.#...#...#.#.#.....#.#...#.#...#...#.#...#.....#  ',\n",
       " '  #.###.###.###.###.#####.#.#.###.#.###.###.#####.#######.###.###.###.#.#.#########.#.#####.#.#.#####.#.#  ',\n",
       " '  #.....#.........#.#.......#.#...#.#.....#...#.#.....#...#...#.#.....#.#.#.#...#.............#.....#.#.#  ',\n",
       " '  ###.#########.#######.###.#.#.#####.###.###.#.#.#.#####.#.###.#####.#.###.###.###.###.#########.###.###  ',\n",
       " '  #...#.........#.#.#.#.#...........#.#.....#.....#...#...#.#.#.......#.#.#.....#.#...#...#...#.#.......#  ',\n",
       " '  ###.#########.#.#.#.###.#####.#.###.###.###.#.#.#.#####.#.#.#.#######.#.###.###.#.#######.###.#.#.###.#  ',\n",
       " '  #...#.....#.#.......#.#.#.....#...#.#...#...#.#.#.#.#...#...#.......#...................#.#.#...#.#.#.#  ',\n",
       " '  ###.#####.#.#.#.###.#.###.#####.#.###.###.#########.###.#.#.#######.###.#.#####.###.#####.#.#####.#.###  ',\n",
       " '  #.....#...#.#.#...#...#...#.#...#.#...#.........#.....#.#.#.#...#.#.#...#.....#.#.....#.#.............#  ',\n",
       " '  ###.#####.#.#.#############.#.#####.#.#.###.#.#####.###.###.#.###.#.#.#####.#####.#.#.#.#.#####.#######  ',\n",
       " '  #.....#.......#.....#.#.#.......#...#.#.#...#.#.........#.....#.....#...#.......#.#.#...#.#.......#...#  ',\n",
       " '  #.#.#######.#####.###.#.#######.#####.#####.#########.#####.#####.###.#######################.#######.#  ',\n",
       " '  #.#.#.#.......#.#.....#.#      Y     Z     L         U     D     H   G        #...#...#...#.....#...#.#  ',\n",
       " '  #.###.#####.#.#.#.#####.#      A     H     U         O     H     S   U        #.###.#####.###.#####.#.#  ',\n",
       " '  #...#.#.#...#.#.......#.#                                                     #.#.....#.....#...#.#.#.#  ',\n",
       " '  ###.#.#.###.#####.#.#.#.#                                                     #.#.#####.###.#.###.#.#.#  ',\n",
       " '  #.......#.....#.#.#.#.#.#                                                   MZ........#.#.#.#.........#  ',\n",
       " '  ###.#.#####.#.#.#.#####.#                                                     #.#########.#.#.###.###.#  ',\n",
       " '  #...#.#...#.#.#...#.#...#                                                     #.#.#.#.........#...#...#  ',\n",
       " '  #.#####.###.#####.#.#.###                                                     #.#.#.#######.#.###.###.#  ',\n",
       " 'ZH..................#...#.#                                                     #.#.....#.#.#.#.#...#....QV',\n",
       " '  #.###.#####.#.###.#.#.#.#                                                     #.#.#.###.#.#.#########.#  ',\n",
       " '  #...#...#...#.#.....#...#                                                     #...#.........#.#.#...#.#  ',\n",
       " '  #####.#####.#####.#.###.#                                                     ###############.#.#.#####  ',\n",
       " '  #...#.#.....#.#.#.#.#....WT                                                 QV....#.....#...#.......#.#  ',\n",
       " '  #.###########.#.###.#.#.#                                                     ###.#.#.###.#.#.#.#.###.#  ',\n",
       " '  #...#.....#.#.#.#.#.#.#.#                                                     #.....#.....#...#.#.#...#  ',\n",
       " '  #.#.###.###.#.#.#.#######                                                     #############.#####.#.#.#  ',\n",
       " 'UO..#......................BT                                                   #.#.#.#.#...#.#...#...#..LY',\n",
       " '  #########################                                                     #.#.#.#.#.#######.#######  ',\n",
       " '  #...................#...#                                                     #.....#.............#.#.#  ',\n",
       " '  #.###.#.#####.#####.#.#.#                                                     ###.###.###.#######.#.#.#  ',\n",
       " 'HO..#.#.#...#...#.....#.#.#                                                     #...#.....#...#.........#  ',\n",
       " '  #.#.#####.#####.#####.#.#                                                     ###.###.#####.###.#####.#  ',\n",
       " '  #.....#.#...#.....#...#..LY                                                 PY..#.........#.#.....#...#  ',\n",
       " '  #####.#.#########.#.###.#                                                     #.#.###.#.###########.###  ',\n",
       " 'MM......#.....#.........#..IZ                                                   #...#...#.....#...#......HS',\n",
       " '  ###########.###.#######.#                                                     ###########.#####.#######  ',\n",
       " '  #.........#...#.#.....#.#                                                   QW........#.#.#...#...#....MZ',\n",
       " '  #.#######.#.###.#.#.#####                                                     #.###.###.#####.###.###.#  ',\n",
       " '  #.#.........#.#.#.#.....#                                                     #...#.#.......#.#...#...#  ',\n",
       " '  #.#.###.#.###.#.###.#####                                                     #####.#.#.#####.###.###.#  ',\n",
       " '  #.#.#...#...#.#.#........HR                                                   #.....#.#...#...#...#.#.#  ',\n",
       " '  #.#####.#####.#####.###.#                                                     #.#####.#.#####.###.#.#.#  ',\n",
       " 'SH....#.................#.#                                                     #.......#...............#  ',\n",
       " '  ###.#####.#####.#########                                                     ###########.###.#####.###  ',\n",
       " '  #.#.#.#...#...#.#.#.....#                                                     #...#.....#.#.#.#...#.#.#  ',\n",
       " '  #.###.#######.###.#.###.#                                                     #.#.###.#.###.###.#####.#  ',\n",
       " '  #.#...#...#...#.....#.#.#                                                   JM..#.....#...#.....#...#..ZZ',\n",
       " '  #.#.#####.#.#####.#.#.#.#                                                     #.###.###.#####.#.###.#.#  ',\n",
       " '  #...#.......#.....#.#...#                                                     #...#.#.....#.#.#.....#.#  ',\n",
       " '  #.#.#.###.#####.###.#.###                                                     #.#####.#####.#.#####.#.#  ',\n",
       " 'BT..#.....#.........#.#....HO                                                   #.#...#.........#.#......PY',\n",
       " '  #######.#.###.#.#####.###                                                     ###.#####.#####.#.#.#####  ',\n",
       " 'LU....#...#.#...#.....#.#.#                                                     #...#.#.....#...#.#.#....UF',\n",
       " '  ###.###.#####.#####.###.#                                                     ###.#.###########.#####.#  ',\n",
       " '  #.....#.#...#.#...#...#..UF                                                 LE........................#  ',\n",
       " '  #.#########.###.#.#####.#                                                     #####.#####.#.###########  ',\n",
       " '  #.......#.....#.#.#.#.#.#                                                     #.........#.#...#...#.#.#  ',\n",
       " '  ###.###.###.#.#.#.#.#.#.#                                                     #############.###.#.#.#.#  ',\n",
       " '  #.#.#.......#...#.......#                                                   UN....#.#...#.#.#...#...#..DQ',\n",
       " '  #.#.#####.#.#.#.###.#.#.#                                                     #.###.#.###.#####.#.###.#  ',\n",
       " '  #.....#...#.#.#.#...#.#.#                                                     #.#.#...#.#...#.#.#.....#  ',\n",
       " '  #########.###.#######.#.#                                                     #.#.###.#.###.#.#.#####.#  ',\n",
       " '  #.....#.#.#.......#...#.#                                                     #.....................#.#  ',\n",
       " '  #####.#.#.#.###.#########    S       U         D     M           A       D    ###.#.#####.#.#####.###.#  ',\n",
       " '  #...#.....#.#...#...#.#.#    H       V         Q     M           B       S    #...#...#...#...#.....#.#  ',\n",
       " '  ###.#.###.#########.#.#.#####.#######.#########.#####.###########.#######.#######.#.###.###.###.#.###.#  ',\n",
       " '  #.....#.....#...#.............#...#.....#.........#.....#.#.......#.............#.#.#.....#...#.#...#.#  ',\n",
       " '  #.###.###.###.###.###.#####.#.###.#.###.###.###.###.#####.#.#######.#####.###.###.#####.#.#.###.#####.#  ',\n",
       " '  #.#...#.......#.....#.#.....#.#.......#.#...#.#.#.....#.#.......#.....#...#.....#.....#.#.#.#.....#.#.#  ',\n",
       " '  #.###.#.#.#####.#.#########.#.#####.#######.#.#.#.#.#.#.#.###.#.###.###########.###.#.#.###.#.#.#.#.#.#  ',\n",
       " '  #.#...#.#.....#.#...#.....#.#.#...#.......#...#.#.#.#.#.#.#...#.#...........#...#...#.#...#.#.#.#.#...#  ',\n",
       " '  ###.#.###.#######.#####.###.#####.#.#.#####.#######.###.###.#.#####.###################.#.#.###.#####.#  ',\n",
       " '  #...#.#...#...........#.........#...#...#.#...#.#.........#.#...#.#.....#.#.#...#.....#.#.#...#.#.....#  ',\n",
       " '  #####.###.#.#.#.#.#####.#####.###.#.#####.###.#.#.#.#.###.#.#####.#.#####.#.#.#######.#.#.#####.#.###.#  ',\n",
       " '  #...#...#.#.#.#.#.#.....#.#.....#.#.....#.....#.#.#.#...#.#.....#...............#.....#.#.....#.#...#.#  ',\n",
       " '  ###.#########.#.#########.#.###.###.#.###.#.###.#.#######.#####.###.###.###.#######.#.#.#########.#.###  ',\n",
       " '  #.............#...#.........#.#.#...#...#.#...#.....#.#.#.#.#.....#...#.#.....#.#.#.#...#.#.......#...#  ',\n",
       " '  #.#########.#.#.###.###.###.#.#####.#.#####.#######.#.#.#.#.###.###.#########.#.#.#####.#.#######.#.###  ',\n",
       " '  #.#.....#...#.#.#.#.#...#...#.#...#.#...#.........#.#.......#...#.#.#.......#...#...#.........#...#...#  ',\n",
       " '  #####.###.#.#.#.#.###.#.###.#.#.###.#######.#############.#####.#.#.#.###.#.#####.###.#.#.#.###.#.#.#.#  ',\n",
       " '  #.#.....#.#.#.#.#.#.#.#.#.........#...#.#.....#.....#.#.....#.....#.....#.#.#.#...#.#.#.#.#...#.#.#.#.#  ',\n",
       " '  #.#.###.###.###.#.#.###.###.###.###.###.###.#.###.###.###.#######.#####.#####.#.###.#.#.#.#.###.#.#.#.#  ',\n",
       " '  #...#.......#...#...#.#.#...#.#.#.#.......#.#.....#.#.#...#.........#.#...#.........#.#.#.#...#.#.#.#.#  ',\n",
       " '  #.#####.#.#.#######.#.#.#.#.#.#.#.###.###########.#.#.###.###.#######.#.###.###.###.#.###.#.#########.#  ',\n",
       " '  #.#.#...#.#.#.#.........#.#.#...#.......#.#...........#.#...#.......#.....#.#.#...#.#...#.#...#.....#.#  ',\n",
       " '  ###.#.#.#.###.###.###.#########.###.###.#.#####.#.#####.#.#######.#####.###.#.#####.###.###.#######.#.#  ',\n",
       " '  #.#...#.#.#.#.....#.#...#...#.....#.#.#.......#.#.#.......#.#.......#.......#.....#...#.#.......#...#.#  ',\n",
       " '  #.###.#.###.#.###.#.###.#.#.#.#####.#.###.#.###.#######.###.#.###.###.#######.#.#######.###.#.#.###.###  ',\n",
       " '  #.....#.#.....#...#.....#.#.......#.#.....#.#.....#.........#...#.#...........#.....#.....#.#.#.......#  ',\n",
       " '  #################################.###.#########.#########.###.#########.###############################  ',\n",
       " '                                   D   G         L         A   Y         Q                                 ',\n",
       " '                                   H   U         E         B   A         W                                 ']"
      ]
     },
     "execution_count": 281,
     "metadata": {},
     "output_type": "execute_result"
    }
   ],
   "source": [
    "amaze"
   ]
  },
  {
   "cell_type": "code",
   "execution_count": 282,
   "metadata": {},
   "outputs": [],
   "source": [
    "def getAdjacent(n,xmax,ymax):\n",
    "    '''returns list of adiacent cells'''\n",
    "    x,y = n\n",
    "    adj = []\n",
    "    if x>=1: adj.append((x-1,y)) # W\n",
    "    if y>=1: adj.append((x,y-1)) # N\n",
    "    if x<xmax-1: adj.append((x+1,y)) # E\n",
    "    if y<ymax-1: adj.append((x,y+1)) # S\n",
    "    return adj    \n",
    "\n",
    "def getEntrance(portalList):\n",
    "    for c in portalList:\n",
    "        for cc in getAdjacent(c,len(amaze[0]),len(amaze)):\n",
    "            x, y = cc\n",
    "            ccc = amaze[y][x]\n",
    "            if ccc=='.':\n",
    "                return c\n",
    "\n",
    "def findPortals(amaze):\n",
    "    '''Identify and process portal positions'''\n",
    "    portals = []\n",
    "    j = 0\n",
    "    for l in amaze:\n",
    "        i = 0\n",
    "        for c in l:\n",
    "            if not (c=='#' or c==' ' or c=='.'): # found a portal letter\n",
    "                n = (i,j)\n",
    "                for a in getAdjacent(n,len(amaze[0]),len(amaze)):\n",
    "                    x, y = a\n",
    "                    cc = amaze[y][x]\n",
    "                    if not cc=='#' and not cc==' ' and not cc=='.':\n",
    "                        portalName = ''.join(sorted(c+cc))\n",
    "                        portalCoord = sorted([n,a])\n",
    "                        portal = ( portalName, portalCoord )\n",
    "                        if portal in portals:\n",
    "                            continue\n",
    "                        portals.append(portal)                                 \n",
    "            i+=1\n",
    "        j+=1\n",
    "    portals.sort(key=lambda tup: tup[0]) # sort portals by name\n",
    "    _start = portals[0]\n",
    "    _exit = portals[-1]\n",
    "    start = (0,0)\n",
    "    exit = (0,0)\n",
    "    # reformat start and exit\n",
    "    for cell in _start[1]:\n",
    "        if len(getAdjacent(cell,len(amaze[0]),len(amaze)))==4:\n",
    "            start = cell\n",
    "    for cell in _exit[1]:\n",
    "        if len(getAdjacent(cell,len(amaze[0]),len(amaze)))==4:\n",
    "            exit = cell\n",
    "    # link portal extremes\n",
    "    portals = portals[1:len(portals)-1]\n",
    "    i = 0\n",
    "    P = {}\n",
    "    Plink = {}\n",
    "    while i<len(portals):\n",
    "        name = portals[i][0]\n",
    "        IN = getEntrance(portals[i][1])\n",
    "        OUT = getEntrance(portals[i+1][1])\n",
    "        P[name] = [IN,OUT]\n",
    "        Plink[IN] = OUT\n",
    "        Plink[OUT] = IN\n",
    "        i+=2\n",
    "    return start, exit, P, Plink"
   ]
  },
  {
   "cell_type": "code",
   "execution_count": 283,
   "metadata": {},
   "outputs": [
    {
     "name": "stdout",
     "output_type": "stream",
     "text": [
      "(53, 1) (105, 63)\n",
      "{'AB': [(67, 81), (59, 107)], 'AY': [(33, 27), (63, 107)], 'BT': [(27, 43), (1, 67)], 'DH': [(61, 27), (35, 107)], 'DQ': [(105, 75), (49, 81)], 'DS': [(51, 1), (75, 81)], 'EL': [(79, 71), (49, 107)], 'FU': [(105, 69), (27, 71)], 'GU': [(71, 27), (39, 107)], 'HO': [(1, 47), (27, 67)], 'HR': [(31, 1), (27, 57)], 'HS': [(1, 59), (31, 81)], 'HZ': [(39, 27), (1, 35)], 'IZ': [(39, 1), (27, 51)], 'JM': [(47, 1), (79, 63)], 'LU': [(45, 27), (1, 69)], 'LY': [(105, 43), (27, 49)], 'MM': [(1, 51), (55, 81)], 'MZ': [(79, 31), (105, 53)], 'NU': [(61, 1), (79, 75)], 'OU': [(55, 27), (1, 43)], 'PY': [(79, 49), (105, 67)], 'QV': [(105, 35), (79, 39)], 'QW': [(79, 53), (73, 107)], 'TW': [(75, 1), (27, 39)], 'UV': [(67, 1), (39, 81)]}\n",
      "{(67, 81): (59, 107), (59, 107): (67, 81), (33, 27): (63, 107), (63, 107): (33, 27), (27, 43): (1, 67), (1, 67): (27, 43), (61, 27): (35, 107), (35, 107): (61, 27), (105, 75): (49, 81), (49, 81): (105, 75), (51, 1): (75, 81), (75, 81): (51, 1), (79, 71): (49, 107), (49, 107): (79, 71), (105, 69): (27, 71), (27, 71): (105, 69), (71, 27): (39, 107), (39, 107): (71, 27), (1, 47): (27, 67), (27, 67): (1, 47), (31, 1): (27, 57), (27, 57): (31, 1), (67, 27): (105, 51), (105, 51): (67, 27), (1, 59): (31, 81), (31, 81): (1, 59), (39, 27): (1, 35), (1, 35): (39, 27), (39, 1): (27, 51), (27, 51): (39, 1), (47, 1): (79, 63), (79, 63): (47, 1), (45, 27): (1, 69), (1, 69): (45, 27), (105, 43): (27, 49), (27, 49): (105, 43), (1, 51): (55, 81), (55, 81): (1, 51), (79, 31): (105, 53), (105, 53): (79, 31), (61, 1): (79, 75), (79, 75): (61, 1), (55, 27): (1, 43), (1, 43): (55, 27), (79, 49): (105, 67), (105, 67): (79, 49), (105, 35): (79, 39), (79, 39): (105, 35), (79, 53): (73, 107), (73, 107): (79, 53), (75, 1): (27, 39), (27, 39): (75, 1), (67, 1): (39, 81), (39, 81): (67, 1)}\n"
     ]
    }
   ],
   "source": [
    "start, exit, P, Plink = findPortals(amaze)\n",
    "print(start,exit)\n",
    "print(P)\n",
    "print(Plink)"
   ]
  },
  {
   "cell_type": "code",
   "execution_count": 284,
   "metadata": {},
   "outputs": [
    {
     "name": "stdout",
     "output_type": "stream",
     "text": [
      "(53, 2) (104, 63)\n"
     ]
    }
   ],
   "source": [
    "# Find first walkable tile near to start and exit labels, since only '.' tiles are part of the path\n",
    "\n",
    "theStart = start\n",
    "for c in (getAdjacent(start,len(amaze[0]),len(amaze))):\n",
    "    x,y = c\n",
    "    if amaze[y][x]==\".\":\n",
    "        theStart = c\n",
    "        \n",
    "theExit = exit\n",
    "for c in (getAdjacent(exit,len(amaze[0]),len(amaze))):\n",
    "    x,y = c\n",
    "    if amaze[y][x]==\".\":\n",
    "        theExit = c   \n",
    "        \n",
    "print(theStart,theExit)"
   ]
  },
  {
   "cell_type": "code",
   "execution_count": 285,
   "metadata": {},
   "outputs": [
    {
     "data": {
      "text/plain": [
       "<matplotlib.image.AxesImage at 0x1112c9cd0>"
      ]
     },
     "execution_count": 285,
     "metadata": {},
     "output_type": "execute_result"
    },
    {
     "data": {
      "image/png": "[encoded data removed]",
      "text/plain": [
       "<Figure size 800x800 with 1 Axes>"
      ]
     },
     "metadata": {
      "needs_background": "light"
     },
     "output_type": "display_data"
    }
   ],
   "source": [
    "WALL    = 1\n",
    "BORDER  = -1\n",
    "EMPTY   = 0\n",
    "PORTAL  = 2\n",
    "VISITED = 3\n",
    "\n",
    "def amaze2matrix(amaze):\n",
    "    nrow = len(amaze)\n",
    "    ncol = len(amaze[0])\n",
    "    shape = (nrow,ncol)\n",
    "    maze = np.zeros(shape)\n",
    "    j = 0\n",
    "    for l in amaze:\n",
    "        i = 0\n",
    "        for c in l:\n",
    "            if c=='#':\n",
    "                maze[j][i] = WALL\n",
    "            elif c==' ':\n",
    "                maze[j][i] = BORDER\n",
    "            elif c=='.':\n",
    "                maze[j][i] = EMPTY\n",
    "            else:\n",
    "                n = (i,j)\n",
    "                if n in Plink.keys():\n",
    "                    maze[j][i] = PORTAL\n",
    "                elif n==start or n==exit:\n",
    "                    maze[j][i] = PORTAL\n",
    "                else:\n",
    "                    maze[j][i] = BORDER\n",
    "            i+=1\n",
    "        j+=1\n",
    "    return maze\n",
    "\n",
    "maze = amaze2matrix(amaze)\n",
    "fig = plt.figure(figsize=(8,8), dpi=100)\n",
    "plt.imshow(maze)"
   ]
  },
  {
   "cell_type": "code",
   "execution_count": 286,
   "metadata": {},
   "outputs": [],
   "source": [
    "def getAdjacent(n):\n",
    "    '''returns list of adiacent cells'''\n",
    "    x,y = n\n",
    "    return [(x-1,y), # W\n",
    "            (x,y-1), # N\n",
    "            (x+1,y), # E\n",
    "            (x,y+1)] # S\n",
    "\n",
    "\n",
    "def getAdjacentPortal(n):\n",
    "    '''returns list of adiacent cells accounting for portals'''\n",
    "    x,y = n\n",
    "    temp = [(x-1,y), (x,y-1), (x+1,y), (x,y+1)] \n",
    "    adjacent = []\n",
    "    for c in temp:\n",
    "        if c in Plink.keys():\n",
    "            for cc in getAdjacent(Plink[c]):\n",
    "                xx,yy = cc\n",
    "                if maze[yy][xx] == WALL or maze[yy][xx] == BORDER:\n",
    "                    continue\n",
    "                else:\n",
    "                    adjacent.append(cc)\n",
    "        else:\n",
    "            adjacent.append(c)\n",
    "    return adjacent\n",
    "\n",
    "def BFSPortal(start, end, theMaze):\n",
    "    '''Find shorter path between two position in the maze using BFS algorithm'''\n",
    "    maze = np.copy(theMaze)\n",
    "    queue = Queue()\n",
    "    queue.put([start]) # wrap the starting cell tuple in a list\n",
    "    lenmax = 1\n",
    "    while not queue.empty():\n",
    "        path = queue.get() # get a path form the paths' queur\n",
    "        c = path[-1] # take last step of current path\n",
    "        if c == end:\n",
    "            return path\n",
    "        for a in getAdjacentPortal(c): # explore adjacent cells\n",
    "            x,y = a\n",
    "            if maze[y][x] == WALL or maze[y][x] == BORDER or maze[y][x] == VISITED: \n",
    "                # if a dead is reached (all WALL or VISITED) path gets dequeued\n",
    "                continue\n",
    "            else:\n",
    "                maze[y][x] = VISITED\n",
    "                new_path = list(path)\n",
    "                new_path.append(a)\n",
    "                queue.put(new_path) # store back the path in the queue with the new step\n",
    "    #print(\"END position not reachable\")\n",
    "    return []\n",
    "    \n",
    "def drawPath(path,theMaze):\n",
    "    maze = list(theMaze)\n",
    "    for c in path:\n",
    "        x,y = c\n",
    "        maze[y][x] = VISITED\n",
    "    return maze"
   ]
  },
  {
   "cell_type": "code",
   "execution_count": 287,
   "metadata": {},
   "outputs": [
    {
     "name": "stdout",
     "output_type": "stream",
     "text": [
      "Steps needed =  400\n"
     ]
    }
   ],
   "source": [
    "path = BFSPortal(theStart, theExit, maze)\n",
    "\n",
    "#print(path)\n",
    "print(\"Steps needed = \",len(path)-1) # remove 1 to account for starting tile, according to instructions"
   ]
  },
  {
   "cell_type": "code",
   "execution_count": 288,
   "metadata": {},
   "outputs": [
    {
     "data": {
      "text/plain": [
       "<matplotlib.image.AxesImage at 0x111265610>"
      ]
     },
     "execution_count": 288,
     "metadata": {},
     "output_type": "execute_result"
    },
    {
     "data": {
      "image/png": "[encoded data removed]",
      "text/plain": [
       "<Figure size 800x800 with 1 Axes>"
      ]
     },
     "metadata": {
      "needs_background": "light"
     },
     "output_type": "display_data"
    }
   ],
   "source": [
    "mazepath = drawPath(path,maze)\n",
    "fig = plt.figure(figsize=(8,8), dpi=100)\n",
    "plt.imshow(mazepath)"
   ]
  },
  {
   "cell_type": "code",
   "execution_count": null,
   "metadata": {},
   "outputs": [],
   "source": []
  }
 ],
 "metadata": {
  "kernelspec": {
   "display_name": "Python 3",
   "language": "python",
   "name": "python3"
  },
  "language_info": {
   "codemirror_mode": {
    "name": "ipython",
    "version": 3
   },
   "file_extension": ".py",
   "mimetype": "text/x-python",
   "name": "python",
   "nbconvert_exporter": "python",
   "pygments_lexer": "ipython3",
   "version": "3.7.5"
  }
 },
 "nbformat": 4,
 "nbformat_minor": 2
}
