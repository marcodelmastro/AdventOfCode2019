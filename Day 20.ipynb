{
 "cells": [
  {
   "cell_type": "markdown",
   "metadata": {},
   "source": [
    "# Day 20: Donut Maze\n",
    "\n",
    "https://adventofcode.com/2019/day/20#part2\n",
    "\n",
    "## Part 1"
   ]
  },
  {
   "cell_type": "code",
   "execution_count": 2,
   "metadata": {},
   "outputs": [],
   "source": [
    "import numpy as np\n",
    "import matplotlib.pyplot as plt\n",
    "from queue import Queue"
   ]
  },
  {
   "cell_type": "code",
   "execution_count": 35,
   "metadata": {},
   "outputs": [],
   "source": [
    "#inputfile = \"./data/day20test1.txt\"\n",
    "#inputfile = \"./data/day20test2.txt\"\n",
    "inputfile = \"./data/input20.txt\"\n",
    "\n",
    "with open(inputfile) as f:\n",
    "    amaze = [l.rstrip('\\n') for l in f]"
   ]
  },
  {
   "cell_type": "code",
   "execution_count": 36,
   "metadata": {},
   "outputs": [
    {
     "data": {
      "text/plain": [
       "['                               H       I       J   D A       U     U       W                               ',\n",
       " '                               R       Z       M   S A       N     V       T                               ',\n",
       " '  #############################.#######.#######.###.#.#######.#####.#######.#############################  ',\n",
       " '  #.#...#.#.......#.#...#...#.........#.#.#.......#.#.....#.....#.....#.....#.............#...#.....#...#  ',\n",
       " '  #.###.#.###.#####.###.###.###.#####.#.#.#######.#.#.###.#.#####.#.###.###.###.#############.#.#.#####.#  ',\n",
       " '  #...#.#...#.#...............#...#...#...#.......#.....#.#.#.#...#.#.#.#.#.....#...#...#.#.#...#.#.....#  ',\n",
       " '  #.###.#.###.#####.#####.###.#####.###.###.#####.###.#.#.#.#.#.#.###.#.#.###.#####.###.#.#.#.#####.#####  ',\n",
       " '  #.#...........#...#...#.#.......#...#...#.....#.#...#.#.#...#.#.....#.....#.#.........#.......#.#.....#  ',\n",
       " '  #.###########.###.#.#.###.###.#.###.#.#####.#####.#####.#.#.#######.#.#####.#.#.#.#######.#####.#.#.###  ',\n",
       " '  #.....#.#.....#...#.#.....#.#.#.....#.....#...#...#...#.#.#.#.......#.#.#.#.#.#.#.#...........#...#.#.#  ',\n",
       " '  #.#####.#####.#.#######.###.#.#####.#.#####.#######.###.#.###.#######.#.#.###.#########.###.###.#####.#  ',\n",
       " '  #.#.#.#...#.#...#.........#.......#.#...#.........#.#.#.#...#.#...#.#.#.........#.#.#...#...#.#.....#.#  ',\n",
       " '  #.#.#.###.#.###.#.###########.#.#####.###.###.#####.#.#.###.#.#.###.#.###.#.#.###.#.#.#######.###.###.#  ',\n",
       " '  #.#.#.......#.#.#.#...#.......#.#.......#...#.#.#.......#...#.....#.......#.#.....#...#.....#...#...#.#  ',\n",
       " '  #.#.#######.#.#######.#######.#######.###.#.#.#.###.#.#.#.###.###.###.#####.#.#####.#######.#.#####.#.#  ',\n",
       " '  #...#...#.#.....#.......#.#.#.....#...#...#.#.#.#...#.#.#...#...#.#.#.....#.#...#.#...#...#.#...#.....#  ',\n",
       " '  #.###.###.###.###.#####.#.#.###.#.###.###.#####.#######.###.###.###.#.#.#########.#.#####.#.#.#####.#.#  ',\n",
       " '  #.....#.........#.#.......#.#...#.#.....#...#.#.....#...#...#.#.....#.#.#.#...#.............#.....#.#.#  ',\n",
       " '  ###.#########.#######.###.#.#.#####.###.###.#.#.#.#####.#.###.#####.#.###.###.###.###.#########.###.###  ',\n",
       " '  #...#.........#.#.#.#.#...........#.#.....#.....#...#...#.#.#.......#.#.#.....#.#...#...#...#.#.......#  ',\n",
       " '  ###.#########.#.#.#.###.#####.#.###.###.###.#.#.#.#####.#.#.#.#######.#.###.###.#.#######.###.#.#.###.#  ',\n",
       " '  #...#.....#.#.......#.#.#.....#...#.#...#...#.#.#.#.#...#...#.......#...................#.#.#...#.#.#.#  ',\n",
       " '  ###.#####.#.#.#.###.#.###.#####.#.###.###.#########.###.#.#.#######.###.#.#####.###.#####.#.#####.#.###  ',\n",
       " '  #.....#...#.#.#...#...#...#.#...#.#...#.........#.....#.#.#.#...#.#.#...#.....#.#.....#.#.............#  ',\n",
       " '  ###.#####.#.#.#############.#.#####.#.#.###.#.#####.###.###.#.###.#.#.#####.#####.#.#.#.#.#####.#######  ',\n",
       " '  #.....#.......#.....#.#.#.......#...#.#.#...#.#.........#.....#.....#...#.......#.#.#...#.#.......#...#  ',\n",
       " '  #.#.#######.#####.###.#.#######.#####.#####.#########.#####.#####.###.#######################.#######.#  ',\n",
       " '  #.#.#.#.......#.#.....#.#      Y     Z     L         U     D     H   G        #...#...#...#.....#...#.#  ',\n",
       " '  #.###.#####.#.#.#.#####.#      A     H     U         O     H     S   U        #.###.#####.###.#####.#.#  ',\n",
       " '  #...#.#.#...#.#.......#.#                                                     #.#.....#.....#...#.#.#.#  ',\n",
       " '  ###.#.#.###.#####.#.#.#.#                                                     #.#.#####.###.#.###.#.#.#  ',\n",
       " '  #.......#.....#.#.#.#.#.#                                                   MZ........#.#.#.#.........#  ',\n",
       " '  ###.#.#####.#.#.#.#####.#                                                     #.#########.#.#.###.###.#  ',\n",
       " '  #...#.#...#.#.#...#.#...#                                                     #.#.#.#.........#...#...#  ',\n",
       " '  #.#####.###.#####.#.#.###                                                     #.#.#.#######.#.###.###.#  ',\n",
       " 'ZH..................#...#.#                                                     #.#.....#.#.#.#.#...#....QV',\n",
       " '  #.###.#####.#.###.#.#.#.#                                                     #.#.#.###.#.#.#########.#  ',\n",
       " '  #...#...#...#.#.....#...#                                                     #...#.........#.#.#...#.#  ',\n",
       " '  #####.#####.#####.#.###.#                                                     ###############.#.#.#####  ',\n",
       " '  #...#.#.....#.#.#.#.#....WT                                                 QV....#.....#...#.......#.#  ',\n",
       " '  #.###########.#.###.#.#.#                                                     ###.#.#.###.#.#.#.#.###.#  ',\n",
       " '  #...#.....#.#.#.#.#.#.#.#                                                     #.....#.....#...#.#.#...#  ',\n",
       " '  #.#.###.###.#.#.#.#######                                                     #############.#####.#.#.#  ',\n",
       " 'UO..#......................BT                                                   #.#.#.#.#...#.#...#...#..LY',\n",
       " '  #########################                                                     #.#.#.#.#.#######.#######  ',\n",
       " '  #...................#...#                                                     #.....#.............#.#.#  ',\n",
       " '  #.###.#.#####.#####.#.#.#                                                     ###.###.###.#######.#.#.#  ',\n",
       " 'HO..#.#.#...#...#.....#.#.#                                                     #...#.....#...#.........#  ',\n",
       " '  #.#.#####.#####.#####.#.#                                                     ###.###.#####.###.#####.#  ',\n",
       " '  #.....#.#...#.....#...#..LY                                                 PY..#.........#.#.....#...#  ',\n",
       " '  #####.#.#########.#.###.#                                                     #.#.###.#.###########.###  ',\n",
       " 'MM......#.....#.........#..IZ                                                   #...#...#.....#...#......HS',\n",
       " '  ###########.###.#######.#                                                     ###########.#####.#######  ',\n",
       " '  #.........#...#.#.....#.#                                                   QW........#.#.#...#...#....MZ',\n",
       " '  #.#######.#.###.#.#.#####                                                     #.###.###.#####.###.###.#  ',\n",
       " '  #.#.........#.#.#.#.....#                                                     #...#.#.......#.#...#...#  ',\n",
       " '  #.#.###.#.###.#.###.#####                                                     #####.#.#.#####.###.###.#  ',\n",
       " '  #.#.#...#...#.#.#........HR                                                   #.....#.#...#...#...#.#.#  ',\n",
       " '  #.#####.#####.#####.###.#                                                     #.#####.#.#####.###.#.#.#  ',\n",
       " 'SH....#.................#.#                                                     #.......#...............#  ',\n",
       " '  ###.#####.#####.#########                                                     ###########.###.#####.###  ',\n",
       " '  #.#.#.#...#...#.#.#.....#                                                     #...#.....#.#.#.#...#.#.#  ',\n",
       " '  #.###.#######.###.#.###.#                                                     #.#.###.#.###.###.#####.#  ',\n",
       " '  #.#...#...#...#.....#.#.#                                                   JM..#.....#...#.....#...#..ZZ',\n",
       " '  #.#.#####.#.#####.#.#.#.#                                                     #.###.###.#####.#.###.#.#  ',\n",
       " '  #...#.......#.....#.#...#                                                     #...#.#.....#.#.#.....#.#  ',\n",
       " '  #.#.#.###.#####.###.#.###                                                     #.#####.#####.#.#####.#.#  ',\n",
       " 'BT..#.....#.........#.#....HO                                                   #.#...#.........#.#......PY',\n",
       " '  #######.#.###.#.#####.###                                                     ###.#####.#####.#.#.#####  ',\n",
       " 'LU....#...#.#...#.....#.#.#                                                     #...#.#.....#...#.#.#....UF',\n",
       " '  ###.###.#####.#####.###.#                                                     ###.#.###########.#####.#  ',\n",
       " '  #.....#.#...#.#...#...#..UF                                                 LE........................#  ',\n",
       " '  #.#########.###.#.#####.#                                                     #####.#####.#.###########  ',\n",
       " '  #.......#.....#.#.#.#.#.#                                                     #.........#.#...#...#.#.#  ',\n",
       " '  ###.###.###.#.#.#.#.#.#.#                                                     #############.###.#.#.#.#  ',\n",
       " '  #.#.#.......#...#.......#                                                   UN....#.#...#.#.#...#...#..DQ',\n",
       " '  #.#.#####.#.#.#.###.#.#.#                                                     #.###.#.###.#####.#.###.#  ',\n",
       " '  #.....#...#.#.#.#...#.#.#                                                     #.#.#...#.#...#.#.#.....#  ',\n",
       " '  #########.###.#######.#.#                                                     #.#.###.#.###.#.#.#####.#  ',\n",
       " '  #.....#.#.#.......#...#.#                                                     #.....................#.#  ',\n",
       " '  #####.#.#.#.###.#########    S       U         D     M           A       D    ###.#.#####.#.#####.###.#  ',\n",
       " '  #...#.....#.#...#...#.#.#    H       V         Q     M           B       S    #...#...#...#...#.....#.#  ',\n",
       " '  ###.#.###.#########.#.#.#####.#######.#########.#####.###########.#######.#######.#.###.###.###.#.###.#  ',\n",
       " '  #.....#.....#...#.............#...#.....#.........#.....#.#.......#.............#.#.#.....#...#.#...#.#  ',\n",
       " '  #.###.###.###.###.###.#####.#.###.#.###.###.###.###.#####.#.#######.#####.###.###.#####.#.#.###.#####.#  ',\n",
       " '  #.#...#.......#.....#.#.....#.#.......#.#...#.#.#.....#.#.......#.....#...#.....#.....#.#.#.#.....#.#.#  ',\n",
       " '  #.###.#.#.#####.#.#########.#.#####.#######.#.#.#.#.#.#.#.###.#.###.###########.###.#.#.###.#.#.#.#.#.#  ',\n",
       " '  #.#...#.#.....#.#...#.....#.#.#...#.......#...#.#.#.#.#.#.#...#.#...........#...#...#.#...#.#.#.#.#...#  ',\n",
       " '  ###.#.###.#######.#####.###.#####.#.#.#####.#######.###.###.#.#####.###################.#.#.###.#####.#  ',\n",
       " '  #...#.#...#...........#.........#...#...#.#...#.#.........#.#...#.#.....#.#.#...#.....#.#.#...#.#.....#  ',\n",
       " '  #####.###.#.#.#.#.#####.#####.###.#.#####.###.#.#.#.#.###.#.#####.#.#####.#.#.#######.#.#.#####.#.###.#  ',\n",
       " '  #...#...#.#.#.#.#.#.....#.#.....#.#.....#.....#.#.#.#...#.#.....#...............#.....#.#.....#.#...#.#  ',\n",
       " '  ###.#########.#.#########.#.###.###.#.###.#.###.#.#######.#####.###.###.###.#######.#.#.#########.#.###  ',\n",
       " '  #.............#...#.........#.#.#...#...#.#...#.....#.#.#.#.#.....#...#.#.....#.#.#.#...#.#.......#...#  ',\n",
       " '  #.#########.#.#.###.###.###.#.#####.#.#####.#######.#.#.#.#.###.###.#########.#.#.#####.#.#######.#.###  ',\n",
       " '  #.#.....#...#.#.#.#.#...#...#.#...#.#...#.........#.#.......#...#.#.#.......#...#...#.........#...#...#  ',\n",
       " '  #####.###.#.#.#.#.###.#.###.#.#.###.#######.#############.#####.#.#.#.###.#.#####.###.#.#.#.###.#.#.#.#  ',\n",
       " '  #.#.....#.#.#.#.#.#.#.#.#.........#...#.#.....#.....#.#.....#.....#.....#.#.#.#...#.#.#.#.#...#.#.#.#.#  ',\n",
       " '  #.#.###.###.###.#.#.###.###.###.###.###.###.#.###.###.###.#######.#####.#####.#.###.#.#.#.#.###.#.#.#.#  ',\n",
       " '  #...#.......#...#...#.#.#...#.#.#.#.......#.#.....#.#.#...#.........#.#...#.........#.#.#.#...#.#.#.#.#  ',\n",
       " '  #.#####.#.#.#######.#.#.#.#.#.#.#.###.###########.#.#.###.###.#######.#.###.###.###.#.###.#.#########.#  ',\n",
       " '  #.#.#...#.#.#.#.........#.#.#...#.......#.#...........#.#...#.......#.....#.#.#...#.#...#.#...#.....#.#  ',\n",
       " '  ###.#.#.#.###.###.###.#########.###.###.#.#####.#.#####.#.#######.#####.###.#.#####.###.###.#######.#.#  ',\n",
       " '  #.#...#.#.#.#.....#.#...#...#.....#.#.#.......#.#.#.......#.#.......#.......#.....#...#.#.......#...#.#  ',\n",
       " '  #.###.#.###.#.###.#.###.#.#.#.#####.#.###.#.###.#######.###.#.###.###.#######.#.#######.###.#.#.###.###  ',\n",
       " '  #.....#.#.....#...#.....#.#.......#.#.....#.#.....#.........#...#.#...........#.....#.....#.#.#.......#  ',\n",
       " '  #################################.###.#########.#########.###.#########.###############################  ',\n",
       " '                                   D   G         L         A   Y         Q                                 ',\n",
       " '                                   H   U         E         B   A         W                                 ']"
      ]
     },
     "execution_count": 36,
     "metadata": {},
     "output_type": "execute_result"
    }
   ],
   "source": [
    "amaze"
   ]
  },
  {
   "cell_type": "code",
   "execution_count": 62,
   "metadata": {},
   "outputs": [],
   "source": [
    "def getAdjacentBorder(n,xmax,ymax):\n",
    "    '''returns list of adiacent cells'''\n",
    "    x,y = n\n",
    "    adj = []\n",
    "    if x>=1: adj.append((x-1,y)) # W\n",
    "    if y>=1: adj.append((x,y-1)) # N\n",
    "    if x<xmax-1: adj.append((x+1,y)) # E\n",
    "    if y<ymax-1: adj.append((x,y+1)) # S\n",
    "    return adj    \n",
    "\n",
    "def getEntrance(portalList):\n",
    "    for c in portalList:\n",
    "        for cc in getAdjacentBorder(c,len(amaze[0]),len(amaze)):\n",
    "            x, y = cc\n",
    "            ccc = amaze[y][x]\n",
    "            if ccc=='.':\n",
    "                return c\n",
    "\n",
    "def findPortals(amaze):\n",
    "    '''Identify and process portal positions'''\n",
    "    portals = []\n",
    "    j = 0\n",
    "    for l in amaze:\n",
    "        i = 0\n",
    "        for c in l:\n",
    "            if not (c=='#' or c==' ' or c=='.'): # found a portal letter\n",
    "                n = (i,j)\n",
    "                for a in getAdjacentBorder(n,len(amaze[0]),len(amaze)):\n",
    "                    x, y = a\n",
    "                    cc = amaze[y][x]\n",
    "                    if not cc=='#' and not cc==' ' and not cc=='.':\n",
    "                        portalName = ''.join(sorted(c+cc))\n",
    "                        portalCoord = sorted([n,a])\n",
    "                        portal = ( portalName, portalCoord )\n",
    "                        if portal in portals:\n",
    "                            continue\n",
    "                        portals.append(portal)                                 \n",
    "            i+=1\n",
    "        j+=1\n",
    "    portals.sort(key=lambda tup: tup[0]) # sort portals by name\n",
    "    _start = portals[0]\n",
    "    _exit = portals[-1]\n",
    "    start = (0,0)\n",
    "    exit = (0,0)\n",
    "    # reformat start and exit\n",
    "    for cell in _start[1]:\n",
    "        if len(getAdjacentBorder(cell,len(amaze[0]),len(amaze)))==4:\n",
    "            start = cell\n",
    "    for cell in _exit[1]:\n",
    "        if len(getAdjacentBorder(cell,len(amaze[0]),len(amaze)))==4:\n",
    "            exit = cell\n",
    "    # link portal extremes\n",
    "    portals = portals[1:len(portals)-1]\n",
    "    i = 0\n",
    "    P = {}\n",
    "    Plink = {}\n",
    "    while i<len(portals):\n",
    "        name = portals[i][0]\n",
    "        IN = getEntrance(portals[i][1])\n",
    "        OUT = getEntrance(portals[i+1][1])\n",
    "        P[name] = [IN,OUT]\n",
    "        Plink[IN] = OUT\n",
    "        Plink[OUT] = IN\n",
    "        i+=2\n",
    "    return start, exit, P, Plink\n",
    "\n",
    "# Find first walkable tile near to start and exit labels, since only '.' tiles are part of the path\n",
    "\n",
    "def findWalkable(start,amaze):\n",
    "    theStart = start\n",
    "    for c in (getAdjacentBorder(start,len(amaze[0]),len(amaze))):\n",
    "        x,y = c\n",
    "        if amaze[y][x]==\".\":\n",
    "            theStart = c\n",
    "            return theStart"
   ]
  },
  {
   "cell_type": "code",
   "execution_count": 63,
   "metadata": {},
   "outputs": [
    {
     "name": "stdout",
     "output_type": "stream",
     "text": [
      "(19, 1) (1, 17)\n",
      "(19, 2) (2, 17)\n",
      "{'AS': [(17, 9), (33, 17)], 'BU': [(25, 21), (11, 35)], 'CP': [(21, 9), (19, 35)], 'DI': [(1, 15), (9, 21)], 'FL': [(33, 21), (15, 27)], 'GQ': [(25, 17), (33, 23)], 'JO': [(1, 19), (13, 27)], 'JP': [(21, 27), (15, 35)], 'NY': [(25, 13), (1, 23)], 'TV': [(33, 11), (25, 23)]}\n",
      "{(17, 9): (33, 17), (33, 17): (17, 9), (25, 21): (11, 35), (11, 35): (25, 21), (21, 9): (19, 35), (19, 35): (21, 9), (1, 15): (9, 21), (9, 21): (1, 15), (33, 21): (15, 27), (15, 27): (33, 21), (25, 17): (33, 23), (33, 23): (25, 17), (1, 19): (13, 27), (13, 27): (1, 19), (21, 27): (15, 35), (15, 35): (21, 27), (25, 13): (1, 23), (1, 23): (25, 13), (33, 11): (25, 23), (25, 23): (33, 11)}\n"
     ]
    }
   ],
   "source": [
    "start, exit, P, Plink = findPortals(amaze)\n",
    "\n",
    "theStart = findWalkable(start,amaze)\n",
    "theExit = findWalkable(exit,amaze)\n",
    "        \n",
    "print(start,exit)\n",
    "print(theStart,theExit)\n",
    "print(P)\n",
    "print(Plink)"
   ]
  },
  {
   "cell_type": "code",
   "execution_count": 64,
   "metadata": {},
   "outputs": [
    {
     "data": {
      "text/plain": [
       "<matplotlib.image.AxesImage at 0x113f82a50>"
      ]
     },
     "execution_count": 64,
     "metadata": {},
     "output_type": "execute_result"
    },
    {
     "data": {
      "image/png": "[encoded data removed]",
      "text/plain": [
       "<Figure size 800x800 with 1 Axes>"
      ]
     },
     "metadata": {
      "needs_background": "light"
     },
     "output_type": "display_data"
    }
   ],
   "source": [
    "WALL    = 1\n",
    "BORDER  = -1\n",
    "EMPTY   = 0\n",
    "PORTAL  = 2\n",
    "VISITED = 3\n",
    "\n",
    "def amaze2matrix(amaze):\n",
    "    nrow = len(amaze)\n",
    "    ncol = len(amaze[0])\n",
    "    shape = (nrow,ncol)\n",
    "    maze = np.zeros(shape)\n",
    "    j = 0\n",
    "    for l in amaze:\n",
    "        i = 0\n",
    "        for c in l:\n",
    "            if c=='#':\n",
    "                maze[j][i] = WALL\n",
    "            elif c==' ':\n",
    "                maze[j][i] = BORDER\n",
    "            elif c=='.':\n",
    "                maze[j][i] = EMPTY\n",
    "            else:\n",
    "                n = (i,j)\n",
    "                if n in Plink.keys():\n",
    "                    maze[j][i] = PORTAL\n",
    "                elif n==start or n==exit:\n",
    "                    maze[j][i] = PORTAL\n",
    "                else:\n",
    "                    maze[j][i] = BORDER\n",
    "            i+=1\n",
    "        j+=1\n",
    "    return maze\n",
    "\n",
    "maze = amaze2matrix(amaze)\n",
    "fig = plt.figure(figsize=(8,8), dpi=100)\n",
    "plt.imshow(maze)"
   ]
  },
  {
   "cell_type": "code",
   "execution_count": 65,
   "metadata": {},
   "outputs": [],
   "source": [
    "def getAdjacent(n):\n",
    "    '''returns list of adiacent cells'''\n",
    "    x,y = n\n",
    "    return [(x-1,y), # W\n",
    "            (x,y-1), # N\n",
    "            (x+1,y), # E\n",
    "            (x,y+1)] # S\n",
    "\n",
    "def getAdjacentPortal(n):\n",
    "    '''returns list of adiacent cells accounting for portals'''\n",
    "    x,y = n\n",
    "    temp = [(x-1,y), (x,y-1), (x+1,y), (x,y+1)] \n",
    "    adjacent = []\n",
    "    for c in temp:\n",
    "        if c in Plink.keys():\n",
    "            for cc in getAdjacent(Plink[c]):\n",
    "                xx,yy = cc\n",
    "                if maze[yy][xx] == WALL or maze[yy][xx] == BORDER:\n",
    "                    continue\n",
    "                else:\n",
    "                    adjacent.append(cc)\n",
    "        else:\n",
    "            adjacent.append(c)\n",
    "    return adjacent\n",
    "\n",
    "def BFSPortal(start, end, theMaze):\n",
    "    '''Find shorter path between two position in the maze using BFS algorithm'''\n",
    "    maze = np.copy(theMaze)\n",
    "    queue = Queue()\n",
    "    queue.put([start])\n",
    "    lenmax = 1\n",
    "    while not queue.empty():\n",
    "        path = queue.get() \n",
    "        c = path[-1] \n",
    "        if c == end:\n",
    "            return path\n",
    "        for a in getAdjacentPortal(c): \n",
    "            x,y = a\n",
    "            if maze[y][x] == WALL or maze[y][x] == BORDER or maze[y][x] == VISITED: \n",
    "                continue\n",
    "            else:\n",
    "                maze[y][x] = VISITED\n",
    "                new_path = list(path)\n",
    "                new_path.append(a)\n",
    "                queue.put(new_path) \n",
    "    return []\n",
    "    \n",
    "def drawPath(path,theMaze):\n",
    "    maze = list(theMaze)\n",
    "    for c in path:\n",
    "        x,y = c\n",
    "        maze[y][x] = VISITED\n",
    "    return maze"
   ]
  },
  {
   "cell_type": "code",
   "execution_count": 66,
   "metadata": {},
   "outputs": [
    {
     "name": "stdout",
     "output_type": "stream",
     "text": [
      "Steps needed =  58\n"
     ]
    }
   ],
   "source": [
    "path = BFSPortal(theStart, theExit, maze)\n",
    "\n",
    "#print(path)\n",
    "print(\"Steps needed = \",len(path)-1) # remove 1 to account for starting tile, according to instructions"
   ]
  },
  {
   "cell_type": "code",
   "execution_count": 67,
   "metadata": {},
   "outputs": [
    {
     "data": {
      "text/plain": [
       "<matplotlib.image.AxesImage at 0x114810090>"
      ]
     },
     "execution_count": 67,
     "metadata": {},
     "output_type": "execute_result"
    },
    {
     "data": {
      "image/png": "[encoded data removed]",
      "text/plain": [
       "<Figure size 800x800 with 1 Axes>"
      ]
     },
     "metadata": {
      "needs_background": "light"
     },
     "output_type": "display_data"
    }
   ],
   "source": [
    "mazepath = drawPath(path,maze)\n",
    "fig = plt.figure(figsize=(8,8), dpi=100)\n",
    "plt.imshow(mazepath)"
   ]
  },
  {
   "cell_type": "markdown",
   "metadata": {},
   "source": [
    "# Part 2"
   ]
  },
  {
   "cell_type": "code",
   "execution_count": 68,
   "metadata": {},
   "outputs": [],
   "source": [
    "inputfile = \"./data/day20test3.txt\"\n",
    "#inputfile = \"./data/input20.txt\"\n",
    "\n",
    "with open(inputfile) as f:\n",
    "    amaze = [l.rstrip('\\n') for l in f]"
   ]
  },
  {
   "cell_type": "code",
   "execution_count": 69,
   "metadata": {},
   "outputs": [
    {
     "name": "stdout",
     "output_type": "stream",
     "text": [
      "(19, 1) (1, 17)\n",
      "(19, 2) (2, 17)\n",
      "{'AS': [(17, 9), (33, 17)], 'BU': [(25, 21), (11, 35)], 'CP': [(21, 9), (19, 35)], 'DI': [(1, 15), (9, 21)], 'FL': [(33, 21), (15, 27)], 'GQ': [(25, 17), (33, 23)], 'JO': [(1, 19), (13, 27)], 'JP': [(21, 27), (15, 35)], 'NY': [(25, 13), (1, 23)], 'TV': [(33, 11), (25, 23)]}\n",
      "{(17, 9): (33, 17), (33, 17): (17, 9), (25, 21): (11, 35), (11, 35): (25, 21), (21, 9): (19, 35), (19, 35): (21, 9), (1, 15): (9, 21), (9, 21): (1, 15), (33, 21): (15, 27), (15, 27): (33, 21), (25, 17): (33, 23), (33, 23): (25, 17), (1, 19): (13, 27), (13, 27): (1, 19), (21, 27): (15, 35), (15, 35): (21, 27), (25, 13): (1, 23), (1, 23): (25, 13), (33, 11): (25, 23), (25, 23): (33, 11)}\n"
     ]
    }
   ],
   "source": [
    "start, exit, P, Plink = findPortals(amaze)\n",
    "\n",
    "theStart = findWalkable(start,amaze)\n",
    "theExit = findWalkable(exit,amaze)\n",
    "        \n",
    "print(start,exit)\n",
    "print(theStart,theExit)\n",
    "print(P)\n",
    "print(Plink)"
   ]
  },
  {
   "cell_type": "code",
   "execution_count": 70,
   "metadata": {},
   "outputs": [
    {
     "data": {
      "text/plain": [
       "True"
      ]
     },
     "execution_count": 70,
     "metadata": {},
     "output_type": "execute_result"
    }
   ],
   "source": [
    "def isExternal(p):\n",
    "    nrow = len(amaze)\n",
    "    ncol = len(amaze[0])\n",
    "    x,y = p\n",
    "    if x==1 or x==ncol-2 or y==1 or y==nrow-2: \n",
    "        return True\n",
    "    \n",
    "p = (1, 19)\n",
    "isExternal(p)"
   ]
  },
  {
   "cell_type": "code",
   "execution_count": null,
   "metadata": {},
   "outputs": [],
   "source": []
  }
 ],
 "metadata": {
  "kernelspec": {
   "display_name": "Python 3",
   "language": "python",
   "name": "python3"
  },
  "language_info": {
   "codemirror_mode": {
    "name": "ipython",
    "version": 3
   },
   "file_extension": ".py",
   "mimetype": "text/x-python",
   "name": "python",
   "nbconvert_exporter": "python",
   "pygments_lexer": "ipython3",
   "version": "3.7.5"
  }
 },
 "nbformat": 4,
 "nbformat_minor": 2
}
