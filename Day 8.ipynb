{
 "cells": [
  {
   "cell_type": "markdown",
   "metadata": {},
   "source": [
    "# Day 8\n",
    "## Part 1"
   ]
  },
  {
   "cell_type": "code",
   "execution_count": 1,
   "metadata": {},
   "outputs": [],
   "source": [
    "import numpy as np"
   ]
  },
  {
   "cell_type": "code",
   "execution_count": 9,
   "metadata": {},
   "outputs": [],
   "source": [
    "file = open('input8.txt', 'r')\n",
    "line = file.readlines()"
   ]
  },
  {
   "cell_type": "code",
   "execution_count": 15,
   "metadata": {},
   "outputs": [],
   "source": [
    "def getDigits(num):\n",
    "    digits = []\n",
    "    while num > 0:\n",
    "        d = num%10\n",
    "        num = num//10\n",
    "        digits.append(d)\n",
    "    return digits[::-1] # return in reverse order"
   ]
  },
  {
   "cell_type": "code",
   "execution_count": 46,
   "metadata": {},
   "outputs": [
    {
     "data": {
      "text/plain": [
       "15000"
      ]
     },
     "execution_count": 46,
     "metadata": {},
     "output_type": "execute_result"
    }
   ],
   "source": [
    "pix = getDigits(int(lines[0]))\n",
    "len(pix)"
   ]
  },
  {
   "cell_type": "code",
   "execution_count": 47,
   "metadata": {},
   "outputs": [
    {
     "name": "stdout",
     "output_type": "stream",
     "text": [
      "150 100\n"
     ]
    }
   ],
   "source": [
    "nrow = 25\n",
    "ncol = 6\n",
    "npix = nrow*ncol\n",
    "nlay = int(len(pix)/npix)\n",
    "print(npix,nlay)"
   ]
  },
  {
   "cell_type": "code",
   "execution_count": 119,
   "metadata": {},
   "outputs": [
    {
     "name": "stdout",
     "output_type": "stream",
     "text": [
      "[2 2 2 2 2 2 2 1 2 0 2 2 2 2 2 2 0 2 2 2 2 2 2 2 2 2 2 2 2 0 1 2 2 2 2 2 2\n",
      " 2 2 0 2 0 2 1 2 2 2 2 0 2 1 2 0 2 2 2 0 2 0 0 2 2 2 2 0 2 2 2 1 2 2 2 0 0\n",
      " 2 2 2 2 2 2 1 2 2 2 0 2 2 2 0 2 2 2 0 2 2 2 0 2 0 2 2 2 2 2 2 2 2 2 2 2 2\n",
      " 2 2 2 0 2 2 2 2 2 2 2 2 2 2 2 2 1 2 2 2 2 2 2 2 2 2 2 2 2 2 2 0 1 2 2 2 2\n",
      " 2 2]\n"
     ]
    }
   ],
   "source": [
    "pixels = np.reshape(pix,(nlay,npix))\n",
    "print(pixels[0])"
   ]
  },
  {
   "cell_type": "code",
   "execution_count": 125,
   "metadata": {},
   "outputs": [
    {
     "name": "stdout",
     "output_type": "stream",
     "text": [
      "Prod of 1 x 2 for min 0 = 1862\n"
     ]
    }
   ],
   "source": [
    "unique = []\n",
    "counts = []\n",
    "for i in range(nrow):\n",
    "    unique_elements, counts_elements = np.unique(pixels[i], return_counts=True)\n",
    "    unique.append(unique_elements)\n",
    "    counts.append(counts_elements)\n",
    "\n",
    "amin = 10000000\n",
    "prod = 0\n",
    "for a in np.array(counts):\n",
    "    if a[0]<amin:\n",
    "        amin = a[0]\n",
    "        prod = a[1]*a[2]\n",
    "print(\"Prod of 1 x 2 for min 0 =\",prod)"
   ]
  },
  {
   "cell_type": "markdown",
   "metadata": {},
   "source": []
  }
 ],
 "metadata": {
  "kernelspec": {
   "display_name": "Python 3",
   "language": "python",
   "name": "python3"
  },
  "language_info": {
   "codemirror_mode": {
    "name": "ipython",
    "version": 3
   },
   "file_extension": ".py",
   "mimetype": "text/x-python",
   "name": "python",
   "nbconvert_exporter": "python",
   "pygments_lexer": "ipython3",
   "version": "3.7.5"
  }
 },
 "nbformat": 4,
 "nbformat_minor": 2
}
