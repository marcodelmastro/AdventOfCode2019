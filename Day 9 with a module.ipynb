{
 "cells": [
  {
   "cell_type": "code",
   "execution_count": 9,
   "metadata": {},
   "outputs": [],
   "source": [
    "import AOC2019 as aoc\n",
    "from AOC2019 import amplifier"
   ]
  },
  {
   "cell_type": "code",
   "execution_count": 10,
   "metadata": {},
   "outputs": [
    {
     "name": "stdout",
     "output_type": "stream",
     "text": [
      "[7, 1, 1, 2]\n"
     ]
    }
   ],
   "source": [
    "op = 21107\n",
    "print(aoc.repackInstr(op))"
   ]
  },
  {
   "cell_type": "code",
   "execution_count": 11,
   "metadata": {},
   "outputs": [],
   "source": [
    "def program5(digits,inp=0,debug=False):\n",
    "    prog = list(digits)\n",
    "    phase = inp # assume no phase is used (yet), thus input and phase are the same\n",
    "    amp = aoc.amplifier(prog,phase,\"AMP\",debug)\n",
    "    while(not amp.isHalted):\n",
    "        amp.runProgram(inp)\n",
    "    return amp.getLastOutput()"
   ]
  },
  {
   "cell_type": "code",
   "execution_count": 17,
   "metadata": {},
   "outputs": [
    {
     "name": "stdout",
     "output_type": "stream",
     "text": [
      "1\n"
     ]
    }
   ],
   "source": [
    "# Consider whether the input is less than 8; output 1 (if it is) or 0 (if it is not).\n",
    "inp = 7\n",
    "prog = [3,3,1107,-1,8,3,4,3,99]\n",
    "print(program5(prog,inp))"
   ]
  },
  {
   "cell_type": "code",
   "execution_count": 18,
   "metadata": {},
   "outputs": [],
   "source": [
    "def program9(digits,inp=0,debug=False):\n",
    "    prog = list(digits)\n",
    "    phase = inp # assume no phase is used (yet), thus input and phase are the same\n",
    "    amp = amplifier(prog,phase,\"AMP\",debug)\n",
    "    while(not amp.isHalted):\n",
    "        amp.runProgram(inp)\n",
    "    return amp.getOutput()"
   ]
  },
  {
   "cell_type": "code",
   "execution_count": 19,
   "metadata": {},
   "outputs": [],
   "source": [
    "def readProg(infile):\n",
    "    with open(infile) as f:\n",
    "        lines = [l.rstrip('\\n') for l in f]\n",
    "        return list([int(c) for c in lines[0].split(',')])"
   ]
  },
  {
   "cell_type": "code",
   "execution_count": 20,
   "metadata": {},
   "outputs": [],
   "source": [
    "fullprog = readProg(\"input9.txt\")"
   ]
  },
  {
   "cell_type": "code",
   "execution_count": 21,
   "metadata": {},
   "outputs": [
    {
     "name": "stdout",
     "output_type": "stream",
     "text": [
      "BOOST signal = [2752191671]\n"
     ]
    }
   ],
   "source": [
    "inp = 1\n",
    "output = program9(fullprog,inp)\n",
    "print(\"BOOST signal =\",output)"
   ]
  },
  {
   "cell_type": "code",
   "execution_count": 23,
   "metadata": {},
   "outputs": [
    {
     "name": "stdout",
     "output_type": "stream",
     "text": [
      "BOOST signal = 87571  - Execution time = 4.916503 seconds\n"
     ]
    }
   ],
   "source": [
    "import time\n",
    "start_time = time.time()\n",
    "\n",
    "inp = 2\n",
    "output = program9(fullprog,inp)\n",
    "\n",
    "print(\"BOOST signal =\",output[0],\" - Execution time = %f seconds\" % (time.time() - start_time))"
   ]
  },
  {
   "cell_type": "code",
   "execution_count": null,
   "metadata": {},
   "outputs": [],
   "source": []
  }
 ],
 "metadata": {
  "kernelspec": {
   "display_name": "Python 3",
   "language": "python",
   "name": "python3"
  },
  "language_info": {
   "codemirror_mode": {
    "name": "ipython",
    "version": 3
   },
   "file_extension": ".py",
   "mimetype": "text/x-python",
   "name": "python",
   "nbconvert_exporter": "python",
   "pygments_lexer": "ipython3",
   "version": "3.7.5"
  }
 },
 "nbformat": 4,
 "nbformat_minor": 2
}
