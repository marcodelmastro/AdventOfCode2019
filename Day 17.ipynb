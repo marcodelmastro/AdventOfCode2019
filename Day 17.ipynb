{
 "cells": [
  {
   "cell_type": "markdown",
   "metadata": {},
   "source": [
    "# Day 17: Set and Forget\n",
    "\n",
    "https://adventofcode.com/2019/day/17"
   ]
  },
  {
   "cell_type": "code",
   "execution_count": 4,
   "metadata": {},
   "outputs": [],
   "source": [
    "import numpy as np\n",
    "import matplotlib.pyplot as plt\n",
    "from AOC2019 import Intcode, readIntcodeProg"
   ]
  },
  {
   "cell_type": "code",
   "execution_count": 5,
   "metadata": {},
   "outputs": [],
   "source": [
    "prog = readIntcodeProg(\"input17.txt\")"
   ]
  },
  {
   "cell_type": "markdown",
   "metadata": {},
   "source": [
    "## Part 1"
   ]
  },
  {
   "cell_type": "code",
   "execution_count": 6,
   "metadata": {},
   "outputs": [
    {
     "name": "stdout",
     "output_type": "stream",
     "text": [
      "....#########......................................\n",
      "....#.......#......................................\n",
      "....#.......#......................................\n",
      "....#.......#......................................\n",
      "....#.......#......................................\n",
      "....#.......#......................................\n",
      "....###########....................................\n",
      "............#.#....................................\n",
      "............#.#....................................\n",
      "............#.#....................................\n",
      "............#######................................\n",
      "..............#...#................................\n",
      "..............#...#.....###########.........#######\n",
      "..............#...#.....#.........#.........#.....#\n",
      "..............#...#.....#.........#.........#.....#\n",
      "..............#...#.....#.........#.........#.....#\n",
      "..........###########...#.........#.........#.....#\n",
      "..........#...#...#.#...#.........#.........#.....#\n",
      "..........#...###########.........#.........#.....#\n",
      "..........#.......#.#.............#.........#.....#\n",
      "......#############.#.............#...#############\n",
      "......#...#.........#.............#...#.....#......\n",
      "###########.........#...........#############......\n",
      "#.....#.............#...........#.#...#............\n",
      "#.....#.............#...........#.#######..........\n",
      "#.....#.............#...........#.....#.#..........\n",
      "#.....#.............#.....^############.#..........\n",
      "#.....#.............#...........#.......#..........\n",
      "#.....#.............#############.......#..........\n",
      "#.....#.................................#..........\n",
      "#######.................................#..........\n",
      "........................................#..........\n",
      "........................................#..........\n",
      "........................................#..........\n",
      "........................................#..........\n",
      "........................................#..........\n",
      "............................#############..........\n",
      "............................#......................\n",
      "............................#......................\n",
      "............................#......................\n",
      "............................#......................\n",
      "............................#......................\n",
      "............................#......................\n",
      "............................#......................\n",
      "............................#......................\n",
      "............................#......................\n",
      "............................#######................\n",
      "..................................#................\n",
      "..................................#................\n",
      "..................................#................\n",
      "..................................#................\n",
      "..................................#................\n",
      "..................................#................\n",
      "..................................#................\n",
      "..................................#................\n",
      "..................................#................\n",
      "..................................#................\n",
      "\n",
      "\n"
     ]
    }
   ],
   "source": [
    "a = Intcode(prog,\"ASCII\")\n",
    "icol = 0\n",
    "irow = 0\n",
    "matrix = []\n",
    "row = []\n",
    "while(not a.isHalted):\n",
    "    a.runProgram(0)\n",
    "    o = a.getLastOutput()\n",
    "    if (o!=10): # 10 starts a new line\n",
    "        print(chr(o),end=\"\")\n",
    "        # 35 means #, 46 means .\n",
    "        if (o==35):\n",
    "            row.append(1)\n",
    "        elif (o==46):\n",
    "            row.append(0)\n",
    "        else:\n",
    "            row.append(2)\n",
    "    else:\n",
    "        print(\"\")\n",
    "        if (len(row)):\n",
    "            matrix.append(row)\n",
    "        row = []"
   ]
  },
  {
   "cell_type": "code",
   "execution_count": 4,
   "metadata": {},
   "outputs": [
    {
     "data": {
      "text/plain": [
       "<matplotlib.image.AxesImage at 0x10cf9dd90>"
      ]
     },
     "execution_count": 4,
     "metadata": {},
     "output_type": "execute_result"
    },
    {
     "data": {
      "image/png": "[encoded data removed]",
      "text/plain": [
       "<Figure size 600x600 with 1 Axes>"
      ]
     },
     "metadata": {
      "needs_background": "light"
     },
     "output_type": "display_data"
    }
   ],
   "source": [
    "fig = plt.figure(figsize=(6, 6), dpi=100)\n",
    "plt.imshow(matrix)"
   ]
  },
  {
   "cell_type": "code",
   "execution_count": 5,
   "metadata": {},
   "outputs": [
    {
     "name": "stdout",
     "output_type": "stream",
     "text": [
      "Sum of alignment parameters = 5948 ( 13 crossings )\n",
      "Starting position: j =  26 , i = 26\n"
     ]
    }
   ],
   "source": [
    "ncol = len(matrix)\n",
    "nrow = len(matrix[0])\n",
    "m = np.array(matrix)\n",
    "ncross = 0\n",
    "alignpar = 0\n",
    "j0 = 0\n",
    "i0 = 0\n",
    "for j in range(1,ncol-1): # skip boards\n",
    "    for i in range(1,nrow-1): # skip boards\n",
    "        if m[j][i]==1: # scaffolding\n",
    "            if m[j-1][i]==1 and \\\n",
    "               m[j+1][i]==1 and \\\n",
    "               m[j][i+1]==1 and \\\n",
    "               m[j][i-1]==1 : # crossing\n",
    "                ncross += 1\n",
    "                alignpar += i*j\n",
    "        elif m[j][i]==2: # starting position\n",
    "            j0 = j\n",
    "            i0 = i\n",
    "print(\"Sum of alignment parameters =\",alignpar, \"(\", ncross, \"crossings )\")\n",
    "print(\"Starting position: j = \",j0,\", i =\",i0)"
   ]
  },
  {
   "cell_type": "markdown",
   "metadata": {},
   "source": [
    "## Part 2"
   ]
  },
  {
   "cell_type": "markdown",
   "metadata": {},
   "source": [
    "Let's start by finding the path, I'll code it in ASCII commands later"
   ]
  },
  {
   "cell_type": "code",
   "execution_count": 6,
   "metadata": {},
   "outputs": [
    {
     "data": {
      "text/plain": [
       "<matplotlib.image.AxesImage at 0x1031785d0>"
      ]
     },
     "execution_count": 6,
     "metadata": {},
     "output_type": "execute_result"
    },
    {
     "data": {
      "image/png": "[encoded data removed]",
      "text/plain": [
       "<Figure size 400x400 with 1 Axes>"
      ]
     },
     "metadata": {
      "needs_background": "light"
     },
     "output_type": "display_data"
    }
   ],
   "source": [
    "testarea = [[1,1,1,1,1,1,1,0,0,0,1,1,1,1,1],\n",
    " [1,0,0,0,0,0,1,0,0,0,1,0,0,0,1],\n",
    " [1,0,0,0,0,0,1,0,0,0,1,0,0,0,1],\n",
    " [0,0,0,0,0,0,1,0,0,0,1,0,0,0,1],\n",
    " [0,0,0,0,0,0,1,0,0,0,1,1,1,0,1],\n",
    " [0,0,0,0,0,0,1,0,0,0,0,0,1,0,1],\n",
    " [2,1,1,1,1,1,1,1,1,0,0,0,1,0,1],\n",
    " [0,0,0,0,0,0,1,0,1,0,0,0,1,0,1],\n",
    " [0,0,0,0,0,0,1,1,1,1,1,1,1,1,1],\n",
    " [0,0,0,0,0,0,0,0,1,0,0,0,1,0,0],\n",
    " [0,0,0,0,1,1,1,1,1,1,1,1,1,0,0],\n",
    " [0,0,0,0,1,0,0,0,1,0,0,0,0,0,0],\n",
    " [0,0,0,0,1,0,0,0,1,0,0,0,0,0,0],\n",
    " [0,0,0,0,1,0,0,0,1,0,0,0,0,0,0],\n",
    " [0,0,0,0,1,1,1,1,1,0,0,0,0,0,0]]\n",
    "\n",
    "\n",
    "len(testarea)\n",
    "\n",
    "fig = plt.figure(figsize=(4, 4), dpi=100)\n",
    "plt.imshow(testarea)"
   ]
  },
  {
   "cell_type": "code",
   "execution_count": 50,
   "metadata": {},
   "outputs": [],
   "source": [
    "N = np.array([-1,0]) # j, i\n",
    "S = np.array([+1,0])\n",
    "W = np.array([0,-1])\n",
    "E = np.array([0,+1])\n",
    "\n",
    "def turn(m,x0,d):\n",
    "    '''Returns (N,S,W,E) direction depending on what L and R turn is needed, plus tunr label'''\n",
    "    ymax = len(m)\n",
    "    xmax = len(m[0])\n",
    "    if   np.array_equal(d,N):\n",
    "        L = W\n",
    "        R = E\n",
    "    elif np.array_equal(d,S):\n",
    "        L = E\n",
    "        R = W\n",
    "    elif np.array_equal(d,W):\n",
    "        L = S\n",
    "        R = N\n",
    "    elif np.array_equal(d,E):\n",
    "        L = N\n",
    "        R = S\n",
    "    xL = x0 + L\n",
    "    tL = 0\n",
    "    if xL[0]>=0 and xL[1]>=0 and xL[0]<ymax and xL[1]<xmax:\n",
    "        tL = m[xL[0]][xL[1]]\n",
    "    xR = x0 + R\n",
    "    tR = 0\n",
    "    if xR[0]>=0 and xR[1]>=0 and xR[0]<ymax and xR[1]<xmax:\n",
    "        tR = m[xR[0]][xR[1]]\n",
    "    if tL>tR:\n",
    "        return L, \"L\"\n",
    "    elif tR>tL:\n",
    "        return R, \"R\"\n",
    "    \n",
    "def commandSequence(m,x0,d,printSeq=False):\n",
    "    '''Find sequence of L and R commands needed to run path'''\n",
    "    ymax = len(m)\n",
    "    xmax = len(m[0])\n",
    "    segment = 0\n",
    "    sequence = []   \n",
    "    while( len(m[m==1]>0) ):\n",
    "        m[x0[0]][x0[1]] = 3\n",
    "        if len(m[m==1])==0:\n",
    "            if(segment):\n",
    "                if printSeq: print(t, segment)\n",
    "                sequence.append(t+str(segment))\n",
    "            break\n",
    "        x1 = x0 + d    \n",
    "        nexttile = 0\n",
    "        if x1[0]>=0 and x1[1]>=0 and x1[0]<ymax and x1[1]<xmax:\n",
    "            nexttile = m[x1[0]][x1[1]]\n",
    "        if not nexttile:\n",
    "            if(segment):\n",
    "                if printSeq: print(t, segment)\n",
    "                sequence.append(t+str(segment))\n",
    "            T, t = turn(m,x0,d)\n",
    "            d = T\n",
    "            segment = 0\n",
    "        else:\n",
    "            segment += 1\n",
    "            m[x0[0]][x0[1]] = 3\n",
    "            x0 = x1\n",
    "    return sequence"
   ]
  },
  {
   "cell_type": "code",
   "execution_count": 53,
   "metadata": {},
   "outputs": [
    {
     "name": "stdout",
     "output_type": "stream",
     "text": [
      "['R8', 'R8', 'R4', 'R4', 'R8', 'L6', 'L2', 'R4', 'R4', 'R8', 'R8', 'R8', 'L6', 'L2']\n"
     ]
    },
    {
     "data": {
      "image/png": "[encoded data removed]",
      "text/plain": [
       "<Figure size 400x400 with 1 Axes>"
      ]
     },
     "metadata": {
      "needs_background": "light"
     },
     "output_type": "display_data"
    }
   ],
   "source": [
    "x0 = np.array([6,0]) # j,i\n",
    "m = np.array(testarea)\n",
    "d = N\n",
    "\n",
    "## R,8,R,8,R,4,R,4,R,8,L,6,L,2,R,4,R,4,R,8,R,8,R,8,L,6,L,2\n",
    "\n",
    "sequence = commandSequence(m,x0,d)\n",
    "fig = plt.figure(figsize=(4, 4), dpi=100)\n",
    "plt.imshow(m)\n",
    "print(sequence)"
   ]
  },
  {
   "cell_type": "code",
   "execution_count": 93,
   "metadata": {
    "scrolled": true
   },
   "outputs": [
    {
     "name": "stdout",
     "output_type": "stream",
     "text": [
      "['R12', 'L6', 'R12', 'L8', 'L6', 'L10', 'R12', 'L6', 'R12', 'R12', 'L10', 'L6', 'R10', 'L8', 'L6', 'L10', 'R12', 'L10', 'L6', 'R10', 'L8', 'L6', 'L10', 'R12', 'L10', 'L6', 'R10', 'R12', 'L6', 'R12', 'R12', 'L10', 'L6', 'R10']\n",
      "34\n"
     ]
    },
    {
     "data": {
      "image/png": "[encoded data removed]",
      "text/plain": [
       "<Figure size 400x400 with 1 Axes>"
      ]
     },
     "metadata": {
      "needs_background": "light"
     },
     "output_type": "display_data"
    }
   ],
   "source": [
    "x0 = np.array([26, 26])\n",
    "mm = np.array(matrix)\n",
    "d = N # robots points N ^\n",
    "fig = plt.figure(figsize=(4, 4), dpi=100)\n",
    "sequence = commandSequence(mm,x0,d)\n",
    "plt.imshow(mm)\n",
    "print(sequence)\n",
    "print(len(sequence))"
   ]
  },
  {
   "cell_type": "code",
   "execution_count": 94,
   "metadata": {},
   "outputs": [
    {
     "name": "stdout",
     "output_type": "stream",
     "text": [
      "20 14 13 19\n"
     ]
    }
   ],
   "source": [
    "# Solving by hand :-) while I'd need a compression algorithm...\n",
    "\n",
    "seq = \\\n",
    "['R12', 'L6' , 'R12',         # A\n",
    " 'L8' , 'L6' , 'L10',         # B\n",
    " 'R12', 'L6' , 'R12',         # A\n",
    " 'R12', 'L10', 'L6' , 'R10',  # C\n",
    " 'L8' , 'L6' , 'L10',         # B\n",
    " 'R12', 'L10', 'L6' , 'R10',  # C\n",
    " 'L8' , 'L6' , 'L10',         # B\n",
    " 'R12', 'L10', 'L6' , 'R10',  # C\n",
    " 'R12', 'L6' , 'R12',         # A\n",
    " 'R12', 'L10', 'L6' , 'R10']  # C\n",
    "\n",
    "# MAIN = \"ABACBCBCAC\"\n",
    "# A = ['R12', 'L6', 'R12']\n",
    "# B = ['L8', 'L6', 'L10' ]\n",
    "# C = ['R12', 'L10', 'L6', 'R10']\n",
    "\n",
    "MAIN = 'A,B,A,C,B,C,B,C,A,C'\n",
    "A = 'R,12,L,6,R,12'\n",
    "B = 'L,8,L,6,L,10'\n",
    "C = 'R,12,L,10,L,6,R,10'\n",
    "\n",
    "# continuous video feed; provide either y or n and a newline.\n",
    "FEED_ = [ord('n'),10]\n",
    "\n",
    "# the ASCII definitions of the main routine and the movement functions may each contain \n",
    "# at most 20 characters, not counting the newline\n",
    "print(len(MAIN_),len(A_),len(B_),len(C_))"
   ]
  },
  {
   "cell_type": "code",
   "execution_count": 95,
   "metadata": {},
   "outputs": [
    {
     "name": "stdout",
     "output_type": "stream",
     "text": [
      "[65, 44, 66, 44, 65, 44, 67, 44, 66, 44, 67, 44, 66, 44, 67, 44, 65, 44, 67, 10] [82, 44, 49, 50, 44, 76, 44, 54, 44, 82, 44, 49, 50, 10] [76, 44, 56, 44, 76, 44, 54, 44, 76, 44, 49, 48, 10] [82, 44, 49, 50, 44, 76, 44, 49, 48, 44, 76, 44, 54, 44, 82, 44, 49, 48, 10] [110, 10]\n"
     ]
    }
   ],
   "source": [
    "def stringToASCII(s):\n",
    "    seq = []\n",
    "    for c in s:\n",
    "        seq.append(ord(c))\n",
    "    seq.append(10) # endline\n",
    "    return seq\n",
    "\n",
    "MAIN_ = stringToASCII(MAIN)\n",
    "A_ = stringToASCII(A)\n",
    "B_ = stringToASCII(B)\n",
    "C_ = stringToASCII(C)\n",
    "print(MAIN_,A_,B_,C_,FEED_)"
   ]
  },
  {
   "cell_type": "code",
   "execution_count": 96,
   "metadata": {},
   "outputs": [
    {
     "data": {
      "text/plain": [
       "46"
      ]
     },
     "execution_count": 96,
     "metadata": {},
     "output_type": "execute_result"
    }
   ],
   "source": [
    "prog2 = list(prog)\n",
    "prog2[0] = 2\n",
    "\n",
    "a = Intcode(prog2,\"ASCII\")\n",
    "\n",
    "for inp in MAIN_: a.runProgram(inp)\n",
    "for inp in A_:    a.runProgram(inp)\n",
    "for inp in B_:    a.runProgram(inp)\n",
    "for inp in C_:    a.runProgram(inp)\n",
    "for inp in FEED_: a.runProgram(inp)\n",
    "\n",
    "a.getLastOutput()"
   ]
  },
  {
   "cell_type": "code",
   "execution_count": null,
   "metadata": {},
   "outputs": [],
   "source": []
  }
 ],
 "metadata": {
  "kernelspec": {
   "display_name": "Python 3",
   "language": "python",
   "name": "python3"
  },
  "language_info": {
   "codemirror_mode": {
    "name": "ipython",
    "version": 3
   },
   "file_extension": ".py",
   "mimetype": "text/x-python",
   "name": "python",
   "nbconvert_exporter": "python",
   "pygments_lexer": "ipython3",
   "version": "3.7.5"
  }
 },
 "nbformat": 4,
 "nbformat_minor": 2
}
