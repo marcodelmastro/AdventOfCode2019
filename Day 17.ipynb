{
 "cells": [
  {
   "cell_type": "markdown",
   "metadata": {},
   "source": [
    "# Day 17: Set and Forget\n",
    "\n",
    "https://adventofcode.com/2019/day/17"
   ]
  },
  {
   "cell_type": "code",
   "execution_count": 39,
   "metadata": {},
   "outputs": [],
   "source": [
    "import numpy as np\n",
    "import matplotlib.pyplot as plt\n",
    "from AOC2019 import Intcode, readIntcodeProg"
   ]
  },
  {
   "cell_type": "code",
   "execution_count": 40,
   "metadata": {},
   "outputs": [],
   "source": [
    "prog = readIntcodeProg(\"input17.txt\")"
   ]
  },
  {
   "cell_type": "code",
   "execution_count": 52,
   "metadata": {},
   "outputs": [
    {
     "name": "stdout",
     "output_type": "stream",
     "text": [
      "....#########......................................\n",
      "....#.......#......................................\n",
      "....#.......#......................................\n",
      "....#.......#......................................\n",
      "....#.......#......................................\n",
      "....#.......#......................................\n",
      "....###########....................................\n",
      "............#.#....................................\n",
      "............#.#....................................\n",
      "............#.#....................................\n",
      "............#######................................\n",
      "..............#...#................................\n",
      "..............#...#.....###########.........#######\n",
      "..............#...#.....#.........#.........#.....#\n",
      "..............#...#.....#.........#.........#.....#\n",
      "..............#...#.....#.........#.........#.....#\n",
      "..........###########...#.........#.........#.....#\n",
      "..........#...#...#.#...#.........#.........#.....#\n",
      "..........#...###########.........#.........#.....#\n",
      "..........#.......#.#.............#.........#.....#\n",
      "......#############.#.............#...#############\n",
      "......#...#.........#.............#...#.....#......\n",
      "###########.........#...........#############......\n",
      "#.....#.............#...........#.#...#............\n",
      "#.....#.............#...........#.#######..........\n",
      "#.....#.............#...........#.....#.#..........\n",
      "#.....#.............#.....^############.#..........\n",
      "#.....#.............#...........#.......#..........\n",
      "#.....#.............#############.......#..........\n",
      "#.....#.................................#..........\n",
      "#######.................................#..........\n",
      "........................................#..........\n",
      "........................................#..........\n",
      "........................................#..........\n",
      "........................................#..........\n",
      "........................................#..........\n",
      "............................#############..........\n",
      "............................#......................\n",
      "............................#......................\n",
      "............................#......................\n",
      "............................#......................\n",
      "............................#......................\n",
      "............................#......................\n",
      "............................#......................\n",
      "............................#......................\n",
      "............................#......................\n",
      "............................#######................\n",
      "..................................#................\n",
      "..................................#................\n",
      "..................................#................\n",
      "..................................#................\n",
      "..................................#................\n",
      "..................................#................\n",
      "..................................#................\n",
      "..................................#................\n",
      "..................................#................\n",
      "..................................#................\n",
      "\n",
      "\n"
     ]
    }
   ],
   "source": [
    "a = Intcode(prog,\"ASCII\")\n",
    "icol = 0\n",
    "irow = 0\n",
    "matrix = []\n",
    "row = []\n",
    "while(not a.isHalted):\n",
    "    a.runProgram(0)\n",
    "    o = a.getLastOutput()\n",
    "    if (o!=10): # 10 starts a new line\n",
    "        print(chr(o),end=\"\")\n",
    "        # 35 means #, 46 means .\n",
    "        if (o==35):\n",
    "            row.append(1)\n",
    "        elif (o==46):\n",
    "            row.append(0)\n",
    "        else:\n",
    "            row.append(2)\n",
    "    else:\n",
    "        print(\"\")\n",
    "        if (len(row)):\n",
    "            matrix.append(row)\n",
    "        row = []"
   ]
  },
  {
   "cell_type": "code",
   "execution_count": 54,
   "metadata": {},
   "outputs": [
    {
     "data": {
      "text/plain": [
       "<matplotlib.image.AxesImage at 0x10f160ad0>"
      ]
     },
     "execution_count": 54,
     "metadata": {},
     "output_type": "execute_result"
    },
    {
     "data": {
      "image/png": "[encoded data removed]",
      "text/plain": [
       "<Figure size 600x600 with 1 Axes>"
      ]
     },
     "metadata": {
      "needs_background": "light"
     },
     "output_type": "display_data"
    }
   ],
   "source": [
    "fig = plt.figure(figsize=(6, 6), dpi=100)\n",
    "plt.imshow(matrix)"
   ]
  },
  {
   "cell_type": "code",
   "execution_count": 66,
   "metadata": {},
   "outputs": [
    {
     "name": "stdout",
     "output_type": "stream",
     "text": [
      "Sum of alignment parameters = 5948 ( 13 crossings )\n"
     ]
    }
   ],
   "source": [
    "ncol = len(matrix)\n",
    "nrow = len(matrix[0])\n",
    "m = np.array(matrix)\n",
    "ncross = 0\n",
    "alignpar = 0\n",
    "for j in range(1,ncol-1): # skip boards\n",
    "    for i in range(1,nrow-1): # skip boards\n",
    "        if m[j][i]==1: # scaffolding\n",
    "            if m[j-1][i]==1 and \\\n",
    "               m[j+1][i]==1 and \\\n",
    "               m[j][i+1]==1 and \\\n",
    "               m[j][i-1]==1 : # crossing\n",
    "                ncross += 1\n",
    "                alignpar += i*j\n",
    "print(\"Sum of alignment parameters =\",alignpar, \"(\", ncross, \"crossings )\")"
   ]
  },
  {
   "cell_type": "markdown",
   "metadata": {},
   "source": []
  }
 ],
 "metadata": {
  "kernelspec": {
   "display_name": "Python 3",
   "language": "python",
   "name": "python3"
  },
  "language_info": {
   "codemirror_mode": {
    "name": "ipython",
    "version": 3
   },
   "file_extension": ".py",
   "mimetype": "text/x-python",
   "name": "python",
   "nbconvert_exporter": "python",
   "pygments_lexer": "ipython3",
   "version": "3.7.5"
  }
 },
 "nbformat": 4,
 "nbformat_minor": 2
}
