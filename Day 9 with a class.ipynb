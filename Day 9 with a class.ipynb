{
 "cells": [
  {
   "cell_type": "markdown",
   "metadata": {},
   "source": [
    "# Day 9 with a class\n",
    "\n",
    "Refactoring solutions for Day 9 to use and extension of Day 7 class, in case this is needed in the future"
   ]
  },
  {
   "cell_type": "code",
   "execution_count": 31,
   "metadata": {},
   "outputs": [],
   "source": [
    "import numpy as np"
   ]
  },
  {
   "cell_type": "code",
   "execution_count": 75,
   "metadata": {},
   "outputs": [
    {
     "name": "stdout",
     "output_type": "stream",
     "text": [
      "[7, 1, 1, 2]\n"
     ]
    }
   ],
   "source": [
    "def getDigits(num):\n",
    "    digits = []\n",
    "    while num > 0:\n",
    "        d = num%10\n",
    "        num = num//10\n",
    "        digits.append(d)\n",
    "    return digits\n",
    "\n",
    "def repackInstr(op):\n",
    "    dig = getDigits(op)\n",
    "    instr = [0,0,0,0]\n",
    "    n = 0\n",
    "    for i in dig:\n",
    "        if (n==0): instr[0] = i\n",
    "        elif (n==1): instr[0] += 10*i\n",
    "        else: instr[n-1] = i\n",
    "        n += 1\n",
    "    return instr\n",
    "\n",
    "op = 21107\n",
    "print(repackInstr(op))"
   ]
  },
  {
   "cell_type": "code",
   "execution_count": 114,
   "metadata": {},
   "outputs": [],
   "source": [
    "class amplifier():\n",
    "    \"\"\"Amplifier\"\"\"\n",
    "\n",
    "    def __init__(self, prog, phase, name, debug=False):\n",
    "        # Increase memory size to account for Day 9 programs\n",
    "        memsize = 1000000\n",
    "        prog_ = np.array(prog)\n",
    "        self.digits = np.zeros((memsize,), dtype=int)\n",
    "        self.digits[:len(prog_)] = prog_\n",
    "        #\n",
    "        self.debug = debug\n",
    "        self.name = name\n",
    "        self.phase = phase\n",
    "        self.relbase = 0 # need for OpInt 9\n",
    "        self.ip = 0\n",
    "        self.lastOutput = -1\n",
    "        self.output = []\n",
    "        self.iinp = 0\n",
    "        self.isRunning = True\n",
    "        self.isHalted = False\n",
    "        self.step = 0\n",
    "\n",
    "    def getLastOutput(self):\n",
    "        return self.lastOutput\n",
    "        \n",
    "    def getOutput(self):\n",
    "        return self.output\n",
    "    \n",
    "    def runProgram(self,theInput):\n",
    "        if self.isHalted:\n",
    "            self.isRunning = False\n",
    "            return\n",
    "        self.isRunning = True\n",
    "        inputs = [self.phase,theInput]\n",
    "        outputDig = 0\n",
    "        if (self.ip and self.isRunning and self.debug):\n",
    "            print(\"Resuming\",self.name,\"operation at instruction\",self.ip,\"with input\",theInput)\n",
    "        while ( self.ip < len(self.digits) and self.isRunning ):\n",
    "            self.step +=1\n",
    "            op_ = self.digits[self.ip]\n",
    "            if op_ == 99: \n",
    "                if (self.debug):\n",
    "                    print(self.name,\"halted - Final output =\",self.output)\n",
    "                self.isRunning = False\n",
    "                self.isHalted = True\n",
    "                self.isRunning\n",
    "                break\n",
    "            p = repackInstr(op_)\n",
    "            op = p[0]\n",
    "            if op == 3:\n",
    "                inputDig = inputs[self.iinp]\n",
    "                self.iinp=1\n",
    "                a = self.digits[self.ip+1]\n",
    "                if   p[1]==0: self.digits[a] = inputDig\n",
    "                elif p[1]==1: self.digits[self.digits[a]] = inputDig\n",
    "                elif p[1]==2: self.digits[a+self.relbase] = inputDig\n",
    "                self.ip += 2\n",
    "            elif op==4:\n",
    "                a = self.digits[self.ip+1]\n",
    "                if   p[1]==0: outputDig = self.digits[a]\n",
    "                elif p[1]==1: outputDig = a\n",
    "                elif p[1]==2: outputDig = self.digits[a+self.relbase]\n",
    "                self.ip += 2\n",
    "                self.lastOutput = outputDig\n",
    "                self.output.append(outputDig)\n",
    "                self.isRunning = False\n",
    "                if (self.debug):\n",
    "                    print(self.name,\"is waiting for new input at instruction\",self.ip,\"- Current output =\",self.lastOutput)\n",
    "            elif op==5:\n",
    "                a, b = self.digits[self.ip+1:self.ip+3]\n",
    "                if   p[1]==0: a_ = self.digits[a]\n",
    "                elif p[1]==1: a_ = a\n",
    "                elif p[1]==2: a_ = self.digits[a+self.relbase]\n",
    "                if   p[2]==0: b_ = self.digits[b]\n",
    "                elif p[2]==1: b_ = b\n",
    "                elif p[2]==2: b_ = self.digits[b+self.relbase]\n",
    "                if a_: self.ip = b_\n",
    "                else: self.ip += 3\n",
    "            elif op==6:\n",
    "                a, b = self.digits[self.ip+1:self.ip+3]\n",
    "                if   p[1]==0: a_ = self.digits[a]               \n",
    "                elif p[1]==1: a_ = a\n",
    "                elif p[1]==2: a_ = self.digits[a+self.relbase]\n",
    "                if   p[2]==0: b_ = self.digits[b]\n",
    "                elif p[2]==1: b_ = b\n",
    "                elif p[2]==2: b_ = self.digits[b+self.relbase]\n",
    "                if not a_: self.ip = b_\n",
    "                else: self.ip += 3\n",
    "            elif op==7:\n",
    "                a, b, c = self.digits[self.ip+1:self.ip+4]\n",
    "                if   p[1]==0: a_ = self.digits[a]\n",
    "                elif p[1]==1: a_ = a\n",
    "                elif p[1]==2: a_ = self.digits[a+self.relbase]\n",
    "                if   p[2]==0: b_ = self.digits[b]\n",
    "                elif p[2]==1: b_ = b\n",
    "                elif p[2]==2: b_ = self.digits[b+self.relbase]\n",
    "                if   p[3]==0: c_ = c\n",
    "                elif p[3]==1: c_ = self.digits[c]\n",
    "                elif p[3]==2: c_ = c+self.relbase\n",
    "                if a_ < b_: self.digits[c_] = 1\n",
    "                else: self.digits[c_] = 0\n",
    "                self.ip += 4\n",
    "            elif op==8:\n",
    "                a, b, c = self.digits[self.ip+1:self.ip+4]\n",
    "                if   p[1]==0: a_ = self.digits[a]\n",
    "                elif p[1]==1: a_ = a\n",
    "                elif p[1]==2: a_ = self.digits[a+self.relbase]    \n",
    "                if   p[2]==0: b_ = self.digits[b]\n",
    "                elif p[2]==1: b_ = b\n",
    "                elif p[2]==2: b_ = self.digits[b+self.relbase]\n",
    "                if   p[3]==0: c_ = c\n",
    "                elif p[3]==1: c_ = self.digits[c]\n",
    "                elif p[3]==2: c_ = c+self.relbase\n",
    "                if a_ == b_: self.digits[c_] = 1\n",
    "                else: self.digits[c_] = 0\n",
    "                self.ip += 4\n",
    "            elif op==9:\n",
    "                a = self.digits[self.ip+1]\n",
    "                if   p[1]==0: self.relbase += self.digits[a]\n",
    "                elif p[1]==1: self.relbase += a\n",
    "                elif p[1]==2: self.relbase += self.digits[a+self.relbase] # needed?\n",
    "                self.ip += 2    \n",
    "            elif op == 1 or op == 2: \n",
    "                a, b, c = self.digits[self.ip+1:self.ip+4]  \n",
    "                if   p[1]==0: a_ = self.digits[a]\n",
    "                elif p[1]==1: a_ = a\n",
    "                elif p[1]==2: a_ = self.digits[a+self.relbase]    \n",
    "                if   p[2]==0: b_ = self.digits[b] \n",
    "                elif p[2]==1: b_ = b   \n",
    "                elif p[2]==2: b_ = self.digits[b+self.relbase]\n",
    "                if   p[3]==0: c_ = c\n",
    "                elif p[3]==1: c_ = self.digits[c]\n",
    "                elif p[3]==2: c_ = c+self.relbase\n",
    "                if op == 1: self.digits[c_] = a_ + b_\n",
    "                if op == 2: self.digits[c_] = a_ * b_\n",
    "                self.ip += 4\n",
    "            else:\n",
    "                if (self.debug):\n",
    "                    print(\"Illegal operator:\",op)\n",
    "                self.isRunning = False\n",
    "                return self.isRunning\n",
    "        return self.isRunning"
   ]
  },
  {
   "cell_type": "markdown",
   "metadata": {},
   "source": [
    "## Day 5 emulation"
   ]
  },
  {
   "cell_type": "code",
   "execution_count": 115,
   "metadata": {},
   "outputs": [],
   "source": [
    "# Emulate Day 5 function with amplifier class\n",
    "\n",
    "def program5(digits,inp=0,debug=False):\n",
    "    prog = list(digits)\n",
    "    phase = inp # assume no phase is used (yet), thus input and phase are the same\n",
    "    amp = amplifier(prog,phase,\"AMP\",debug)\n",
    "    while(not amp.isHalted):\n",
    "        amp.runProgram(inp)\n",
    "    return amp.getLastOutput()"
   ]
  },
  {
   "cell_type": "code",
   "execution_count": 116,
   "metadata": {},
   "outputs": [
    {
     "name": "stdout",
     "output_type": "stream",
     "text": [
      "1\n"
     ]
    }
   ],
   "source": [
    "# Consider whether the input is equal to 8; output 1 (if it is) or 0 (if it is not).\n",
    "#inp = 8\n",
    "#prog = [3,9,8,9,10,9,4,9,99,-1,8] \n",
    "\n",
    "# Consider whether the input is less than 8; output 1 (if it is) or 0 (if it is not).\n",
    "#inp = 7\n",
    "#prog = [3,9,7,9,10,9,4,9,99,-1,8] \n",
    "\n",
    "# Consider whether the input is equal to 8; output 1 (if it is) or 0 (if it is not).\n",
    "#inp = 8\n",
    "#prog = [3,3,1108,-1,8,3,4,3,99]\n",
    "\n",
    "# Consider whether the input is less than 8; output 1 (if it is) or 0 (if it is not).\n",
    "inp = 7\n",
    "prog = [3,3,1107,-1,8,3,4,3,99]\n",
    "\n",
    "print(program5(prog,inp))"
   ]
  },
  {
   "cell_type": "markdown",
   "metadata": {},
   "source": [
    "## Day 9 emulation"
   ]
  },
  {
   "cell_type": "code",
   "execution_count": 2,
   "metadata": {},
   "outputs": [],
   "source": [
    "def program9(digits,inp=0,debug=False):\n",
    "    prog = list(digits)\n",
    "    phase = inp # assume no phase is used (yet), thus input and phase are the same\n",
    "    amp = amplifier(prog,phase,\"AMP\",debug)\n",
    "    while(not amp.isHalted):\n",
    "        amp.runProgram(inp)\n",
    "    return amp.getOutput()"
   ]
  },
  {
   "cell_type": "code",
   "execution_count": 3,
   "metadata": {},
   "outputs": [
    {
     "ename": "NameError",
     "evalue": "name 'amplifier' is not defined",
     "output_type": "error",
     "traceback": [
      "\u001b[0;31m---------------------------------------------------------------------------\u001b[0m",
      "\u001b[0;31mNameError\u001b[0m                                 Traceback (most recent call last)",
      "\u001b[0;32m<ipython-input-3-768a27d70c28>\u001b[0m in \u001b[0;36m<module>\u001b[0;34m\u001b[0m\n\u001b[1;32m      1\u001b[0m \u001b[0;31m# takes no input and produces a copy of itself as output\u001b[0m\u001b[0;34m\u001b[0m\u001b[0;34m\u001b[0m\u001b[0;34m\u001b[0m\u001b[0m\n\u001b[1;32m      2\u001b[0m \u001b[0mprog\u001b[0m \u001b[0;34m=\u001b[0m \u001b[0;34m[\u001b[0m\u001b[0;36m109\u001b[0m\u001b[0;34m,\u001b[0m\u001b[0;36m1\u001b[0m\u001b[0;34m,\u001b[0m\u001b[0;36m204\u001b[0m\u001b[0;34m,\u001b[0m\u001b[0;34m-\u001b[0m\u001b[0;36m1\u001b[0m\u001b[0;34m,\u001b[0m\u001b[0;36m1001\u001b[0m\u001b[0;34m,\u001b[0m\u001b[0;36m100\u001b[0m\u001b[0;34m,\u001b[0m\u001b[0;36m1\u001b[0m\u001b[0;34m,\u001b[0m\u001b[0;36m100\u001b[0m\u001b[0;34m,\u001b[0m\u001b[0;36m1008\u001b[0m\u001b[0;34m,\u001b[0m\u001b[0;36m100\u001b[0m\u001b[0;34m,\u001b[0m\u001b[0;36m16\u001b[0m\u001b[0;34m,\u001b[0m\u001b[0;36m101\u001b[0m\u001b[0;34m,\u001b[0m\u001b[0;36m1006\u001b[0m\u001b[0;34m,\u001b[0m\u001b[0;36m101\u001b[0m\u001b[0;34m,\u001b[0m\u001b[0;36m0\u001b[0m\u001b[0;34m,\u001b[0m\u001b[0;36m99\u001b[0m\u001b[0;34m]\u001b[0m\u001b[0;34m\u001b[0m\u001b[0;34m\u001b[0m\u001b[0m\n\u001b[0;32m----> 3\u001b[0;31m \u001b[0mprint\u001b[0m \u001b[0;34m(\u001b[0m \u001b[0mprogram9\u001b[0m\u001b[0;34m(\u001b[0m\u001b[0mprog\u001b[0m\u001b[0;34m,\u001b[0m\u001b[0;36m0\u001b[0m\u001b[0;34m)\u001b[0m \u001b[0;34m)\u001b[0m\u001b[0;34m\u001b[0m\u001b[0;34m\u001b[0m\u001b[0m\n\u001b[0m",
      "\u001b[0;32m<ipython-input-2-e9751f518ec2>\u001b[0m in \u001b[0;36mprogram9\u001b[0;34m(digits, inp, debug)\u001b[0m\n\u001b[1;32m      2\u001b[0m     \u001b[0mprog\u001b[0m \u001b[0;34m=\u001b[0m \u001b[0mlist\u001b[0m\u001b[0;34m(\u001b[0m\u001b[0mdigits\u001b[0m\u001b[0;34m)\u001b[0m\u001b[0;34m\u001b[0m\u001b[0;34m\u001b[0m\u001b[0m\n\u001b[1;32m      3\u001b[0m     \u001b[0mphase\u001b[0m \u001b[0;34m=\u001b[0m \u001b[0minp\u001b[0m \u001b[0;31m# assume no phase is used (yet), thus input and phase are the same\u001b[0m\u001b[0;34m\u001b[0m\u001b[0;34m\u001b[0m\u001b[0m\n\u001b[0;32m----> 4\u001b[0;31m     \u001b[0mamp\u001b[0m \u001b[0;34m=\u001b[0m \u001b[0mamplifier\u001b[0m\u001b[0;34m(\u001b[0m\u001b[0mprog\u001b[0m\u001b[0;34m,\u001b[0m\u001b[0mphase\u001b[0m\u001b[0;34m,\u001b[0m\u001b[0;34m\"AMP\"\u001b[0m\u001b[0;34m,\u001b[0m\u001b[0mdebug\u001b[0m\u001b[0;34m)\u001b[0m\u001b[0;34m\u001b[0m\u001b[0;34m\u001b[0m\u001b[0m\n\u001b[0m\u001b[1;32m      5\u001b[0m     \u001b[0;32mwhile\u001b[0m\u001b[0;34m(\u001b[0m\u001b[0;32mnot\u001b[0m \u001b[0mamp\u001b[0m\u001b[0;34m.\u001b[0m\u001b[0misHalted\u001b[0m\u001b[0;34m)\u001b[0m\u001b[0;34m:\u001b[0m\u001b[0;34m\u001b[0m\u001b[0;34m\u001b[0m\u001b[0m\n\u001b[1;32m      6\u001b[0m         \u001b[0mamp\u001b[0m\u001b[0;34m.\u001b[0m\u001b[0mrunProgram\u001b[0m\u001b[0;34m(\u001b[0m\u001b[0minp\u001b[0m\u001b[0;34m)\u001b[0m\u001b[0;34m\u001b[0m\u001b[0;34m\u001b[0m\u001b[0m\n",
      "\u001b[0;31mNameError\u001b[0m: name 'amplifier' is not defined"
     ]
    }
   ],
   "source": [
    "prog = [109,1,204,-1,1001,100,1,100,1008,100,16,101,1006,101,0,99] # takes no input and produces a copy of itself as output\n",
    "#prog = [ 1102,34915192,34915192,7,4,7,99,0] # should output a 16-digit number.\n",
    "#prog = [104,1125899906842624,99] # should output the large number in the middle.\n",
    "\n",
    "print ( program9(prog,0) )"
   ]
  },
  {
   "cell_type": "code",
   "execution_count": 119,
   "metadata": {},
   "outputs": [],
   "source": [
    "def readProg(infile):\n",
    "    with open(infile) as f:\n",
    "        lines = [l.rstrip('\\n') for l in f]\n",
    "        return list([int(c) for c in lines[0].split(',')])"
   ]
  },
  {
   "cell_type": "code",
   "execution_count": 120,
   "metadata": {},
   "outputs": [],
   "source": [
    "fullprog = readProg(\"input9.txt\")"
   ]
  },
  {
   "cell_type": "code",
   "execution_count": 121,
   "metadata": {},
   "outputs": [
    {
     "name": "stdout",
     "output_type": "stream",
     "text": [
      "BOOST signal = [2752191671]\n"
     ]
    }
   ],
   "source": [
    "inp = 1\n",
    "output = program9(fullprog,inp)\n",
    "print(\"BOOST signal =\",output)"
   ]
  },
  {
   "cell_type": "code",
   "execution_count": 122,
   "metadata": {},
   "outputs": [
    {
     "name": "stdout",
     "output_type": "stream",
     "text": [
      "BOOST signal = 87571  - Execution time = 4.660713 seconds\n"
     ]
    }
   ],
   "source": [
    "import time\n",
    "start_time = time.time()\n",
    "\n",
    "inp = 2\n",
    "output = program9(fullprog,inp)\n",
    "\n",
    "print(\"BOOST signal =\",output[0],\" - Execution time = %f seconds\" % (time.time() - start_time))"
   ]
  },
  {
   "cell_type": "code",
   "execution_count": null,
   "metadata": {},
   "outputs": [],
   "source": []
  }
 ],
 "metadata": {
  "kernelspec": {
   "display_name": "Python 3",
   "language": "python",
   "name": "python3"
  },
  "language_info": {
   "codemirror_mode": {
    "name": "ipython",
    "version": 3
   },
   "file_extension": ".py",
   "mimetype": "text/x-python",
   "name": "python",
   "nbconvert_exporter": "python",
   "pygments_lexer": "ipython3",
   "version": "3.7.5"
  }
 },
 "nbformat": 4,
 "nbformat_minor": 2
}
