{
 "cells": [
  {
   "cell_type": "markdown",
   "metadata": {},
   "source": [
    "# Day 2: 1202 Program Alarm\n",
    "\n",
    "https://adventofcode.com/2019/day/2"
   ]
  },
  {
   "cell_type": "code",
   "execution_count": 1,
   "metadata": {},
   "outputs": [],
   "source": [
    "testprog = [ 1,9,10,3,2,3,11,0,99,30,40,50 ]"
   ]
  },
  {
   "cell_type": "code",
   "execution_count": 2,
   "metadata": {},
   "outputs": [
    {
     "data": {
      "text/plain": [
       "12"
      ]
     },
     "execution_count": 2,
     "metadata": {},
     "output_type": "execute_result"
    }
   ],
   "source": [
    "len(testprog)"
   ]
  },
  {
   "cell_type": "code",
   "execution_count": 3,
   "metadata": {},
   "outputs": [],
   "source": [
    "fullprog = [1,0,0,3,1,1,2,3,1,3,4,3,1,5,0,3,2,6,1,19,1,5,19,23,2,6,23,27,1,27,5,31,2,9,31,35,1,5,35,39,2,6,39,43,2,6,43,47,1,5,47,51,2,9,51,55,1,5,55,59,1,10,59,63,1,63,6,67,1,9,67,71,1,71,6,75,1,75,13,79,2,79,13,83,2,9,83,87,1,87,5,91,1,9,91,95,2,10,95,99,1,5,99,103,1,103,9,107,1,13,107,111,2,111,10,115,1,115,5,119,2,13,119,123,1,9,123,127,1,5,127,131,2,131,6,135,1,135,5,139,1,139,6,143,1,143,6,147,1,2,147,151,1,151,5,0,99,2,14,0,0]"
   ]
  },
  {
   "cell_type": "code",
   "execution_count": 4,
   "metadata": {},
   "outputs": [
    {
     "data": {
      "text/plain": [
       "161"
      ]
     },
     "execution_count": 4,
     "metadata": {},
     "output_type": "execute_result"
    }
   ],
   "source": [
    "len(fullprog)"
   ]
  },
  {
   "cell_type": "code",
   "execution_count": 5,
   "metadata": {},
   "outputs": [],
   "source": [
    "def program(digits, i1, i2):\n",
    "    digits[1] = i1\n",
    "    digits[2] = i2\n",
    "    ip = 0\n",
    "    while ip < len(digits)-3:\n",
    "        op, a, b, c = digits[ip:ip + 4]\n",
    "        #print(op, a, b, c)\n",
    "        if op == 99: \n",
    "            #print(\"Reached end of program!\")\n",
    "            break\n",
    "        elif op == 1:\n",
    "            digits[c] = digits[a] + digits[b]\n",
    "        elif op == 2:\n",
    "            digits[c] = digits[a] * digits[b]\n",
    "        else:\n",
    "            print(\"Illegal operator: \",op)\n",
    "            return\n",
    "        ip += 4 # jump to next instruction\n",
    "    return digits"
   ]
  },
  {
   "cell_type": "code",
   "execution_count": 6,
   "metadata": {},
   "outputs": [
    {
     "data": {
      "text/plain": [
       "[3500, 9, 10, 70, 2, 3, 11, 0, 99, 30, 40, 50]"
      ]
     },
     "execution_count": 6,
     "metadata": {},
     "output_type": "execute_result"
    }
   ],
   "source": [
    "result = program(testprog,testprog[1],testprog[2])\n",
    "result"
   ]
  },
  {
   "cell_type": "code",
   "execution_count": 10,
   "metadata": {},
   "outputs": [
    {
     "name": "stdout",
     "output_type": "stream",
     "text": [
      "5696\n"
     ]
    }
   ],
   "source": [
    "noun = 0\n",
    "verb = 0\n",
    "\n",
    "for i1 in range(100):\n",
    "    for i2 in range(100):\n",
    "        fullprogcopy = list(fullprog) # use copy of original program\n",
    "        result = program(fullprogcopy,i1,i2)\n",
    "        if (result[0]==19690720):\n",
    "            noun = i1\n",
    "            verb = i2\n",
    "            #print(i1, i2, result[0])\n",
    "            break\n",
    "\n",
    "print(100 * noun + verb)"
   ]
  },
  {
   "cell_type": "code",
   "execution_count": 9,
   "metadata": {},
   "outputs": [
    {
     "name": "stdout",
     "output_type": "stream",
     "text": [
      "[34551523, 99, 99, 2, 1, 1, 2, 3, 1, 3, 4, 3, 1, 5, 0, 3, 2, 6, 1, 198, 1, 5, 19, 199, 2, 6, 23, 398, 1, 27, 5, 399, 2, 9, 31, 1197, 1, 5, 35, 1198, 2, 6, 39, 2396, 2, 6, 43, 4792, 1, 5, 47, 4793, 2, 9, 51, 14379, 1, 5, 55, 14380, 1, 10, 59, 14384, 1, 63, 6, 14386, 1, 9, 67, 14389, 1, 71, 6, 14391, 1, 75, 13, 14396, 2, 79, 13, 71980, 2, 9, 83, 215940, 1, 87, 5, 215941, 1, 9, 91, 215944, 2, 10, 95, 863776, 1, 5, 99, 863777, 1, 103, 9, 863780, 1, 13, 107, 863785, 2, 111, 10, 3455140, 1, 115, 5, 3455141, 2, 13, 119, 17275705, 1, 9, 123, 17275708, 1, 5, 127, 17275709, 2, 131, 6, 34551418, 1, 135, 5, 34551419, 1, 139, 6, 34551421, 1, 143, 6, 34551423, 1, 2, 147, 34551522, 1, 151, 5, 0, 99, 2, 14, 0, 0]\n"
     ]
    }
   ],
   "source": [
    "print(result)\n",
    "#print(fullprog)\n",
    "#print(fullprogcopy)"
   ]
  },
  {
   "cell_type": "code",
   "execution_count": null,
   "metadata": {},
   "outputs": [],
   "source": []
  },
  {
   "cell_type": "code",
   "execution_count": null,
   "metadata": {},
   "outputs": [],
   "source": []
  }
 ],
 "metadata": {
  "kernelspec": {
   "display_name": "Python 3",
   "language": "python",
   "name": "python3"
  },
  "language_info": {
   "codemirror_mode": {
    "name": "ipython",
    "version": 3
   },
   "file_extension": ".py",
   "mimetype": "text/x-python",
   "name": "python",
   "nbconvert_exporter": "python",
   "pygments_lexer": "ipython3",
   "version": "3.7.5"
  }
 },
 "nbformat": 4,
 "nbformat_minor": 2
}
