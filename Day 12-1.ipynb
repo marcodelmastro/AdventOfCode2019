{
 "cells": [
  {
   "cell_type": "markdown",
   "metadata": {},
   "source": [
    "# Day 12: The N-Body Problem\n",
    "\n",
    "https://adventofcode.com/2019/day/12\n",
    "\n",
    "## Part 1"
   ]
  },
  {
   "cell_type": "code",
   "execution_count": 113,
   "metadata": {},
   "outputs": [],
   "source": [
    "import numpy as np\n",
    "import time"
   ]
  },
  {
   "cell_type": "code",
   "execution_count": 114,
   "metadata": {},
   "outputs": [],
   "source": [
    "class Moon():\n",
    "    def __init__(self,x,v):\n",
    "        self.x = np.copy(x)\n",
    "        self.v = np.copy(v)\n",
    "    def pot(self):\n",
    "        return np.absolute(self.x).sum()\n",
    "    def kin(self):\n",
    "        return np.absolute(self.v).sum()\n",
    "    def tot(self):\n",
    "        return self.pot()*self.kin()\n",
    "\n",
    "def ApplyGravity(A,B):\n",
    "    A.v -= (A.x>B.x)\n",
    "    B.v += (A.x>B.x)\n",
    "    B.v -= (B.x>A.x) \n",
    "    A.v += (B.x>A.x)\n",
    "    \n",
    "def ApplyVelocity(A):\n",
    "    A.x += A.v"
   ]
  },
  {
   "cell_type": "code",
   "execution_count": 115,
   "metadata": {},
   "outputs": [],
   "source": [
    "# Example 1\n",
    "#x1 = np.array([-1,0,2])\n",
    "#x2 = np.array([2,-10,-7])\n",
    "#x3 = np.array([4,-8,8])\n",
    "#x4 = np.array([3,5,-1])\n",
    "\n",
    "# Input\n",
    "x1 = np.array([7, 10, 17])\n",
    "x2 = np.array([-2, 7, 0])\n",
    "x3 = np.array([12, 5, 12])\n",
    "x4 = np.array([5, -8, 6])\n",
    "\n",
    "v = np.array([0,0,0])\n",
    "\n",
    "A = Moon(x1,v)\n",
    "B = Moon(x2,v)\n",
    "C = Moon(x3,v)\n",
    "D = Moon(x4,v)"
   ]
  },
  {
   "cell_type": "code",
   "execution_count": 116,
   "metadata": {
    "scrolled": true
   },
   "outputs": [
    {
     "name": "stdout",
     "output_type": "stream",
     "text": [
      "Etot = 9958\n"
     ]
    }
   ],
   "source": [
    "from itertools import combinations \n",
    "\n",
    "moons = [A,B,C,D]\n",
    "etot = 0\n",
    "istep = 0\n",
    "istepmax = 1000\n",
    "debug = False\n",
    "\n",
    "while(istep<istepmax):\n",
    "    pairs = combinations(moons,2) # this needs to be into the loop!\n",
    "    if debug:\n",
    "        print(\"Step\",istep)\n",
    "        for m in moons:\n",
    "            print(m.x,m.v,m.pot(),m.kin(),m.tot(),Etot)\n",
    "    for p in pairs: \n",
    "        ApplyGravity(p[0],p[1])\n",
    "    etot = 0\n",
    "    for m in moons:\n",
    "        ApplyVelocity(m)\n",
    "        etot += m.tot()\n",
    "    istep += 1\n",
    "\n",
    "print(\"Etot =\",etot)"
   ]
  },
  {
   "cell_type": "code",
   "execution_count": 117,
   "metadata": {},
   "outputs": [],
   "source": [
    "class System():\n",
    "    def __init__(self,moons):\n",
    "        self.moons = moons\n",
    "        self.syst = self.stackSystem()\n",
    "        self.hash = self.hashSystem()\n",
    "        self.etot = 0\n",
    "        \n",
    "    def stackSystem(self):\n",
    "        syst = np.array([])\n",
    "        for m in self.moons:\n",
    "            syst = np.append(syst,m.x)\n",
    "            syst = np.append(syst,m.v)\n",
    "        return syst\n",
    "    \n",
    "    def hashSystem(self):\n",
    "        return hash(self.syst.tostring())\n",
    "    \n",
    "    def updateSystem(self):\n",
    "        pairs = combinations(self.moons,2)\n",
    "        for p in pairs: \n",
    "            ApplyGravity(p[0],p[1])\n",
    "        etot = 0\n",
    "        for m in moons:\n",
    "            ApplyVelocity(m)\n",
    "            etot += m.tot()\n",
    "        self.etot = etot\n",
    "        self.hash = hash(self.stackSystem().tostring())        "
   ]
  },
  {
   "cell_type": "code",
   "execution_count": 118,
   "metadata": {},
   "outputs": [
    {
     "name": "stdout",
     "output_type": "stream",
     "text": [
      "Etot = 179\n"
     ]
    }
   ],
   "source": [
    "# Example 1\n",
    "x1 = np.array([-1,0,2])\n",
    "x2 = np.array([2,-10,-7])\n",
    "x3 = np.array([4,-8,8])\n",
    "x4 = np.array([3,5,-1])\n",
    "\n",
    "v = np.array([0,0,0])\n",
    "\n",
    "A = Moon(x1,v)\n",
    "B = Moon(x2,v)\n",
    "C = Moon(x3,v)\n",
    "D = Moon(x4,v)\n",
    "\n",
    "moons = [A,B,C,D]\n",
    "s = SystemSlow(moons)\n",
    "\n",
    "istep = 0\n",
    "istepmax = 10\n",
    "\n",
    "while(istep<istepmax):\n",
    "    s.updateSystem()\n",
    "    #print(istep,s.etot,s.hash)\n",
    "    istep += 1\n",
    "\n",
    "print(\"Etot =\",s.etot)"
   ]
  },
  {
   "cell_type": "code",
   "execution_count": 122,
   "metadata": {},
   "outputs": [
    {
     "name": "stdout",
     "output_type": "stream",
     "text": [
      "\n",
      "System have same configuration at step =  2772\n",
      "Execution time = 0.495776 seconds\n"
     ]
    }
   ],
   "source": [
    "# Example 1\n",
    "x1 = np.array([-1,0,2])\n",
    "x2 = np.array([2,-10,-7])\n",
    "x3 = np.array([4,-8,8])\n",
    "x4 = np.array([3,5,-1])\n",
    "\n",
    "# Example 2\n",
    "# This set of initial positions takes 4686774924 steps before it repeats a previous state!\n",
    "#x1 = np.array([-8, -10, 0])\n",
    "#x2 = np.array([5, 5, 10])\n",
    "#x3 = np.array([2, -7, 3])\n",
    "#x4 = np.array([9, -8, -3])\n",
    "\n",
    "# Input\n",
    "#x1 = np.array([7, 10, 17])\n",
    "#x2 = np.array([-2, 7, 0])\n",
    "#x3 = np.array([12, 5, 12])\n",
    "#x4 = np.array([5, -8, 6])\n",
    "\n",
    "v = np.array([0,0,0])\n",
    "\n",
    "A = Moon(x1,v)\n",
    "B = Moon(x2,v)\n",
    "C = Moon(x3,v)\n",
    "D = Moon(x4,v)\n",
    "\n",
    "moons = [A,B,C,D]\n",
    "s = SystemSlow(moons)\n",
    "\n",
    "istep = 0\n",
    "istepmax = 3000\n",
    "\n",
    "# Dictionary of hashes. \n",
    "# Probaly not needed, since system is linear and predictive, thus first repeated state must be the initial state\n",
    "D = {}\n",
    "\n",
    "# Hash of initial state\n",
    "h0 = s.hash\n",
    "\n",
    "start_time = time.time()\n",
    "prev_step = 0\n",
    "\n",
    "while(True):\n",
    " \n",
    "    istep += 1\n",
    "    s.updateSystem()\n",
    "    h = s.hash\n",
    "    \n",
    "    #if not (h in D):\n",
    "    #    D[h] = istep \n",
    "    #else:\n",
    "    #    break\n",
    "    \n",
    "    if (h ==h0):\n",
    "        break\n",
    "        \n",
    "    if (istep%1000000==0): \n",
    "        print(\"*\",end=\"\")\n",
    " \n",
    "end_time = time.time() \n",
    "print(\"\\nSystem have same configuration at step = \", istep)\n",
    "print(\"Execution time = %f seconds\" % (end_time-start_time))"
   ]
  },
  {
   "cell_type": "code",
   "execution_count": null,
   "metadata": {},
   "outputs": [],
   "source": []
  }
 ],
 "metadata": {
  "kernelspec": {
   "display_name": "Python 3",
   "language": "python",
   "name": "python3"
  },
  "language_info": {
   "codemirror_mode": {
    "name": "ipython",
    "version": 3
   },
   "file_extension": ".py",
   "mimetype": "text/x-python",
   "name": "python",
   "nbconvert_exporter": "python",
   "pygments_lexer": "ipython3",
   "version": "3.7.5"
  }
 },
 "nbformat": 4,
 "nbformat_minor": 2
}
