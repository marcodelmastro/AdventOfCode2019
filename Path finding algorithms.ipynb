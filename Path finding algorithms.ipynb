{
 "cells": [
  {
   "cell_type": "markdown",
   "metadata": {},
   "source": [
    "# Path finding algorithms\n",
    "\n",
    "Trying to understand how different path finding algorithms work, to be used hopefully solve Day 18 and Da 20 puzzles"
   ]
  },
  {
   "cell_type": "code",
   "execution_count": 15,
   "metadata": {},
   "outputs": [],
   "source": [
    "import numpy as np\n",
    "import matplotlib.pyplot as plt\n",
    "%matplotlib inline"
   ]
  },
  {
   "cell_type": "markdown",
   "metadata": {},
   "source": [
    "Using maze from Day 18 as example, removing keys and doors"
   ]
  },
  {
   "cell_type": "code",
   "execution_count": 22,
   "metadata": {},
   "outputs": [
    {
     "name": "stdout",
     "output_type": "stream",
     "text": [
      "(40, 40) (79, 79)\n"
     ]
    },
    {
     "data": {
      "image/png": "[encoded data removed]",
      "text/plain": [
       "<Figure size 600x600 with 1 Axes>"
      ]
     },
     "metadata": {
      "needs_background": "light"
     },
     "output_type": "display_data"
    }
   ],
   "source": [
    "with open(\"./data/input18.txt\") as f:\n",
    "    amaze = [l.rstrip('\\n') for l in f]\n",
    "\n",
    "WALL  = 1\n",
    "EMPTY = 0\n",
    "START = EMPTY\n",
    "DOOR  = EMPTY\n",
    "KEY   = EMPTY\n",
    "\n",
    "def amaze2matrix(amaze):\n",
    "    nrow = len(amaze)\n",
    "    ncol = len(amaze[0])\n",
    "    shape = (nrow,ncol)\n",
    "    maze = np.zeros(shape)\n",
    "    x0 = np.zeros(2)    \n",
    "    doors = {}\n",
    "    keys = {}\n",
    "    j = 0\n",
    "    for l in amaze:\n",
    "        i = 0\n",
    "        for c in l:\n",
    "            if c=='#':\n",
    "                maze[j][i] = WALL\n",
    "            elif c=='.':\n",
    "                maze[j][i] = EMPTY\n",
    "            elif c=='@':\n",
    "                maze[j][i] = EMPTY\n",
    "                start = (i,j) \n",
    "            else:\n",
    "                if c.isupper():\n",
    "                    maze[j][i] = DOOR\n",
    "                    doors[c] = (i,j)\n",
    "                else:\n",
    "                    maze[j][i] = KEY\n",
    "                    keys[c] = (i,j)\n",
    "            i+=1\n",
    "        j+=1\n",
    "    return maze, doors, keys, start\n",
    "\n",
    "maze, doors, keys, start = amaze2matrix(amaze)\n",
    "\n",
    "\n",
    "fig = plt.figure(figsize=(6, 6), dpi=100)\n",
    "plt.imshow(maze)\n",
    "\n",
    "end = (79,79)\n",
    "print(start,end)"
   ]
  },
  {
   "cell_type": "code",
   "execution_count": 23,
   "metadata": {},
   "outputs": [],
   "source": [
    "def drawPath(path,theMaze):\n",
    "    maze = list(theMaze)\n",
    "    for c in path:\n",
    "        x,y = c\n",
    "        maze[y][x] = VISITED\n",
    "    return maze"
   ]
  },
  {
   "cell_type": "markdown",
   "metadata": {},
   "source": [
    "## Breadth First Search"
   ]
  },
  {
   "cell_type": "code",
   "execution_count": 24,
   "metadata": {},
   "outputs": [],
   "source": [
    "from queue import Queue\n",
    "\n",
    "WALL    = 1\n",
    "VISITED = 3\n",
    "\n",
    "## Coordinates for a given position are encoded as (x,y) tuple\n",
    "def getAdjacent(n):\n",
    "    '''returns list of adiacent cells'''\n",
    "    x,y = n\n",
    "    return [(x-1,y), # W\n",
    "            (x,y-1), # N\n",
    "            (x+1,y), # E\n",
    "            (x,y+1)] # S\n",
    "\n",
    "def BFS(start, end, theMaze):\n",
    "    '''Find shorter path between two position in the maze using BFS algorithm'''\n",
    "    maze = np.copy(theMaze)\n",
    "    queue = Queue()\n",
    "    queue.put([start]) # wrap the starting cell tuple in a list\n",
    "    lenmax = 1\n",
    "    while not queue.empty():\n",
    "        path = queue.get() # get a path form the paths' queur\n",
    "        c = path[-1] # take last step of current path\n",
    "        if c == end:\n",
    "            return path\n",
    "        for a in getAdjacent(c): # explore adjacent cells\n",
    "            x,y = a\n",
    "            if maze[y][x] == WALL or maze[y][x] == VISITED: # if a dead is reached (all WALL or VISITED) path gets dequeued\n",
    "                continue\n",
    "            else:\n",
    "                maze[y][x] = VISITED\n",
    "                new_path = list(path)\n",
    "                new_path.append(a)\n",
    "                queue.put(new_path) # store back the path in the queue with the new step\n",
    "    #print(\"END position not reachable\")\n",
    "    return []\n",
    "\n"
   ]
  },
  {
   "cell_type": "code",
   "execution_count": 26,
   "metadata": {},
   "outputs": [
    {
     "name": "stdout",
     "output_type": "stream",
     "text": [
      "--- 0.053859710693359375 seconds ---\n",
      "151\n"
     ]
    }
   ],
   "source": [
    "import time\n",
    "\n",
    "start_time = time.time()\n",
    "\n",
    "path = BFS(start,end,maze)\n",
    "\n",
    "print(\"--- %s seconds ---\" % (time.time() - start_time))\n",
    "print(len(path))"
   ]
  },
  {
   "cell_type": "code",
   "execution_count": 27,
   "metadata": {},
   "outputs": [
    {
     "data": {
      "text/plain": [
       "<matplotlib.image.AxesImage at 0x1141ad0d0>"
      ]
     },
     "execution_count": 27,
     "metadata": {},
     "output_type": "execute_result"
    },
    {
     "data": {
      "image/png": "[encoded data removed]",
      "text/plain": [
       "<Figure size 600x600 with 1 Axes>"
      ]
     },
     "metadata": {
      "needs_background": "light"
     },
     "output_type": "display_data"
    }
   ],
   "source": [
    "mazepath = drawPath(path,maze)\n",
    "fig = plt.figure(figsize=(6, 6), dpi=100)\n",
    "plt.imshow(maze)"
   ]
  },
  {
   "cell_type": "markdown",
   "metadata": {},
   "source": [
    "## A*\n",
    "\n",
    "http://theory.stanford.edu/~amitp/GameProgramming/AStarComparison.html"
   ]
  },
  {
   "cell_type": "code",
   "execution_count": null,
   "metadata": {},
   "outputs": [],
   "source": []
  }
 ],
 "metadata": {
  "kernelspec": {
   "display_name": "Python 3",
   "language": "python",
   "name": "python3"
  },
  "language_info": {
   "codemirror_mode": {
    "name": "ipython",
    "version": 3
   },
   "file_extension": ".py",
   "mimetype": "text/x-python",
   "name": "python",
   "nbconvert_exporter": "python",
   "pygments_lexer": "ipython3",
   "version": "3.7.5"
  }
 },
 "nbformat": 4,
 "nbformat_minor": 2
}
