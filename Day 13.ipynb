{
 "cells": [
  {
   "cell_type": "markdown",
   "metadata": {},
   "source": [
    "# Day 13: Care Package"
   ]
  },
  {
   "cell_type": "code",
   "execution_count": 1,
   "metadata": {},
   "outputs": [],
   "source": [
    "import numpy as np\n",
    "\n",
    "import matplotlib.pyplot as plt\n",
    "%matplotlib inline\n",
    "\n",
    "from matplotlib import cm\n",
    "from celluloid import Camera\n",
    "\n",
    "from AOC2019 import Intcode, readIntcodeProg"
   ]
  },
  {
   "cell_type": "code",
   "execution_count": 2,
   "metadata": {},
   "outputs": [],
   "source": [
    "prog = readIntcodeProg(\"input13.txt\")"
   ]
  },
  {
   "cell_type": "markdown",
   "metadata": {},
   "source": [
    "## Part 1"
   ]
  },
  {
   "cell_type": "code",
   "execution_count": 3,
   "metadata": {},
   "outputs": [
    {
     "name": "stdout",
     "output_type": "stream",
     "text": [
      "2593 1\n"
     ]
    }
   ],
   "source": [
    "def arcade(prog,inp=0):\n",
    "    a = Intcode(prog,\"ARCADE\")\n",
    "    output = []\n",
    "    while(not a.isHalted):\n",
    "        a.runProgram(inp)\n",
    "        out = a.getLastOutput()\n",
    "        output.append(out)\n",
    "    return output\n",
    "    \n",
    "output = arcade(prog)\n",
    "print(len(output),output[len(output)-1])"
   ]
  },
  {
   "cell_type": "markdown",
   "metadata": {},
   "source": [
    "The lenght of the output looks a bit weird, I would have expected a multiple of 3 (x,y,tileID), while there seems to be a value in excess (?)"
   ]
  },
  {
   "cell_type": "code",
   "execution_count": 4,
   "metadata": {},
   "outputs": [
    {
     "name": "stdout",
     "output_type": "stream",
     "text": [
      "865 864 864 23 35 805 1\n",
      "213\n"
     ]
    }
   ],
   "source": [
    "def arcadeScreen(output):\n",
    "    x = []\n",
    "    y = []\n",
    "    tileID = []\n",
    "    j = 0\n",
    "    for o in output:\n",
    "        if   j==0: x.append(o)\n",
    "        elif j==1: y.append(o)\n",
    "        elif j==2: tileID.append(o)\n",
    "        j+=1\n",
    "        if j==3: \n",
    "            j=0\n",
    "    shape = (max(y)+1,max(x)+1)\n",
    "    screen = np.zeros(shape)\n",
    "    for i in range(len(tileID)):\n",
    "        screen[y[i],x[i]] = tileID[i]\n",
    "    return x,y,tileID,screen\n",
    "\n",
    "x, y, tileID, screen = arcadeScreen(output)\n",
    "print(len(x),len(y),len(tileID),max(y),max(x),max(y)*max(x),x[len(x)-1])\n",
    "print(tileID.count(2))"
   ]
  },
  {
   "cell_type": "code",
   "execution_count": 5,
   "metadata": {},
   "outputs": [
    {
     "data": {
      "text/plain": [
       "(24, 36)"
      ]
     },
     "execution_count": 5,
     "metadata": {},
     "output_type": "execute_result"
    },
    {
     "data": {
      "image/png": "[encoded data removed]",
      "text/plain": [
       "<Figure size 432x288 with 1 Axes>"
      ]
     },
     "metadata": {
      "needs_background": "light"
     },
     "output_type": "display_data"
    }
   ],
   "source": [
    "plt.imshow(screen)\n",
    "screen.shape"
   ]
  },
  {
   "cell_type": "markdown",
   "metadata": {},
   "source": [
    "## Part 2"
   ]
  },
  {
   "cell_type": "code",
   "execution_count": 6,
   "metadata": {},
   "outputs": [],
   "source": [
    "def gameStep(g,inp):\n",
    "    out = []\n",
    "    i = 0\n",
    "    while (i<3):\n",
    "        i += 1\n",
    "        g.runProgram(inp)\n",
    "        if(g.isHalted):\n",
    "            break\n",
    "        out.append(g.getLastOutput())\n",
    "    return out"
   ]
  },
  {
   "cell_type": "code",
   "execution_count": null,
   "metadata": {},
   "outputs": [
    {
     "name": "stdout",
     "output_type": "stream",
     "text": [
      "Playing the ARCADE game automatically... ************************************************************************************************************************************************************************************************************************************************** GAME ENDED!\n",
      "ISTEP:   24256\n",
      "IPADDLE: 5742\n",
      "SCORE:   11441\n"
     ]
    }
   ],
   "source": [
    "prog2 = list(prog)\n",
    "prog2[0] = 2\n",
    "\n",
    "g = Intcode(prog2,\"GAME\")\n",
    "\n",
    "score = 0\n",
    "PADDLE = 3\n",
    "BALL = 4\n",
    "x_paddle = -1\n",
    "x_ball = -1\n",
    "\n",
    "newscreen = screen.copy()\n",
    "fig = plt.figure()\n",
    "camera = Camera(fig)\n",
    "\n",
    "print(\"Playing the ARCADE game automatically... \",end=\"\")\n",
    "\n",
    "inp = 0\n",
    "istep = 0\n",
    "ipaddle = 0\n",
    "\n",
    "while(True): # game loop\n",
    "    \n",
    "    istep += 1\n",
    "    if istep%100==0:\n",
    "        print(\"*\",end=\"\")\n",
    "    \n",
    "    # perform one game step\n",
    "    out = gameStep(g,inp)\n",
    "    \n",
    "    if not len(out): # len(out) should be 3 unless the program termined\n",
    "        print(\" GAME ENDED!\")\n",
    "        break\n",
    "    \n",
    "    # get tile info\n",
    "    x, y, tile = out\n",
    "    \n",
    "    if [x,y] == [-1,0]: # check if it's a score output, if so save\n",
    "        score = tile\n",
    "    else:\n",
    "        newscreen[y,x] = tile \n",
    "                \n",
    "    # automatize game\n",
    "    if tile==PADDLE:\n",
    "        x_paddle = x # store where the paddle is\n",
    "    if tile==BALL: # found the ball\n",
    "        x_ball = x\n",
    "        # move the joystick toward the ball\n",
    "        if   (x_paddle>x_ball): # move left\n",
    "            inp = -1\n",
    "        elif (x_paddle<x_ball): # move right\n",
    "            inp = +1\n",
    "        else: # leave where it is\n",
    "            inp = 0\n",
    "\n",
    "    if tile==PADDLE:\n",
    "        ipaddle += 1\n",
    "        plt.imshow(newscreen)\n",
    "        camera.snap()\n",
    "\n",
    "\n",
    "print(\"ISTEP:  \",istep)\n",
    "print(\"IPADDLE:\",ipaddle)\n",
    "print(\"SCORE:  \",score)"
   ]
  },
  {
   "cell_type": "code",
   "execution_count": null,
   "metadata": {},
   "outputs": [],
   "source": [
    "anim = camera.animate(blit=True)"
   ]
  },
  {
   "cell_type": "code",
   "execution_count": null,
   "metadata": {},
   "outputs": [],
   "source": [
    "anim.save('day13animation.mp4')"
   ]
  }
 ],
 "metadata": {
  "kernelspec": {
   "display_name": "Python 3",
   "language": "python",
   "name": "python3"
  },
  "language_info": {
   "codemirror_mode": {
    "name": "ipython",
    "version": 3
   },
   "file_extension": ".py",
   "mimetype": "text/x-python",
   "name": "python",
   "nbconvert_exporter": "python",
   "pygments_lexer": "ipython3",
   "version": "3.7.5"
  }
 },
 "nbformat": 4,
 "nbformat_minor": 2
}
