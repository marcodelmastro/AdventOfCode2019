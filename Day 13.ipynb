{
 "cells": [
  {
   "cell_type": "markdown",
   "metadata": {},
   "source": [
    "# Day 13: Care Package\n",
    "\n",
    "https://adventofcode.com/2019/day/13"
   ]
  },
  {
   "cell_type": "code",
   "execution_count": 13,
   "metadata": {},
   "outputs": [],
   "source": [
    "import numpy as np\n",
    "\n",
    "import matplotlib.pyplot as plt\n",
    "%matplotlib inline\n",
    "\n",
    "from matplotlib import cm\n",
    "from celluloid import Camera\n",
    "\n",
    "from AOC2019 import Intcode, readIntcodeProg"
   ]
  },
  {
   "cell_type": "code",
   "execution_count": 14,
   "metadata": {},
   "outputs": [],
   "source": [
    "prog = readIntcodeProg(\"input13.txt\")"
   ]
  },
  {
   "cell_type": "markdown",
   "metadata": {},
   "source": [
    "## Part 1"
   ]
  },
  {
   "cell_type": "code",
   "execution_count": 15,
   "metadata": {},
   "outputs": [
    {
     "name": "stdout",
     "output_type": "stream",
     "text": [
      "2593 1\n"
     ]
    }
   ],
   "source": [
    "def arcade(prog,inp=0):\n",
    "    a = Intcode(prog,\"ARCADE\")\n",
    "    output = []\n",
    "    while(not a.isHalted):\n",
    "        a.runProgram(inp)\n",
    "        out = a.getLastOutput()\n",
    "        output.append(out)\n",
    "    return output\n",
    "    \n",
    "output = arcade(prog)\n",
    "print(len(output),output[len(output)-1])"
   ]
  },
  {
   "cell_type": "markdown",
   "metadata": {},
   "source": [
    "The lenght of the output looks a bit weird, I would have expected a multiple of 3 (x,y,tileID), while there seems to be a value in excess (?)"
   ]
  },
  {
   "cell_type": "code",
   "execution_count": 16,
   "metadata": {},
   "outputs": [
    {
     "name": "stdout",
     "output_type": "stream",
     "text": [
      "865 864 864 23 35 805 1\n",
      "213\n"
     ]
    }
   ],
   "source": [
    "def arcadeScreen(output):\n",
    "    x = []\n",
    "    y = []\n",
    "    tileID = []\n",
    "    j = 0\n",
    "    for o in output:\n",
    "        if   j==0: x.append(o)\n",
    "        elif j==1: y.append(o)\n",
    "        elif j==2: tileID.append(o)\n",
    "        j+=1\n",
    "        if j==3: \n",
    "            j=0\n",
    "    shape = (max(y)+1,max(x)+1)\n",
    "    screen = np.zeros(shape)\n",
    "    for i in range(len(tileID)):\n",
    "        screen[y[i],x[i]] = tileID[i]\n",
    "    return x,y,tileID,screen\n",
    "\n",
    "x, y, tileID, screen = arcadeScreen(output)\n",
    "print(len(x),len(y),len(tileID),max(y),max(x),max(y)*max(x),x[len(x)-1])\n",
    "print(tileID.count(2))"
   ]
  },
  {
   "cell_type": "code",
   "execution_count": 33,
   "metadata": {},
   "outputs": [
    {
     "data": {
      "text/plain": [
       "24"
      ]
     },
     "execution_count": 33,
     "metadata": {},
     "output_type": "execute_result"
    },
    {
     "data": {
      "image/png": "[encoded data removed]",
      "text/plain": [
       "<Figure size 432x288 with 1 Axes>"
      ]
     },
     "metadata": {
      "needs_background": "light"
     },
     "output_type": "display_data"
    }
   ],
   "source": [
    "plt.imshow(screen)\n",
    "screen.shape[0]"
   ]
  },
  {
   "cell_type": "markdown",
   "metadata": {},
   "source": [
    "## Part 2"
   ]
  },
  {
   "cell_type": "code",
   "execution_count": 39,
   "metadata": {},
   "outputs": [],
   "source": [
    "# Execute 3 steps of the game Intcode computer with a given input\n",
    "# Returns a vector of the corresponsing outputs\n",
    "# Vector should have lenght 3 [x,y,tile] unless program is halted (check this in game loop!)\n",
    "\n",
    "def gameStep(g,inp):\n",
    "    out = []\n",
    "    i = 0\n",
    "    while (i<3):\n",
    "        i += 1\n",
    "        g.runProgram(inp)\n",
    "        if(g.isHalted):\n",
    "            break\n",
    "        out.append(g.getLastOutput())\n",
    "    return out"
   ]
  },
  {
   "cell_type": "code",
   "execution_count": 40,
   "metadata": {},
   "outputs": [
    {
     "name": "stdout",
     "output_type": "stream",
     "text": [
      "Playing the ARCADE game automatically... ************************************************************************************************************************************************************************************************************************************************** GAME ENDED!\n",
      "STEPS:   24256\n",
      "FRAMES:  11485\n",
      "SCORE:   11441\n"
     ]
    },
    {
     "data": {
      "image/png": "[encoded data removed]",
      "text/plain": [
       "<Figure size 432x288 with 1 Axes>"
      ]
     },
     "metadata": {
      "needs_background": "light"
     },
     "output_type": "display_data"
    }
   ],
   "source": [
    "# Change first bit of program according to instructions\n",
    "prog2 = list(prog)\n",
    "prog2[0] = 2\n",
    "\n",
    "# Initialise the game Intcode computer\n",
    "g = Intcode(prog2,\"GAME\")\n",
    "\n",
    "score = 0\n",
    "PADDLE = 3\n",
    "BALL = 4\n",
    "x_paddle = -1\n",
    "x_ball = -1\n",
    "\n",
    "# matrix and camera to save gae visualisation\n",
    "newscreen = screen.copy()\n",
    "fig = plt.figure()\n",
    "#camera = Camera(fig)\n",
    "\n",
    "print(\"Playing the ARCADE game automatically... \",end=\"\")\n",
    "\n",
    "# Leave the joystick at its initial position at the beginning of the game\n",
    "inp = 0\n",
    "\n",
    "istep = 0 # count how many sets of 3 program steps are needed to complete the game\n",
    "\n",
    "# snap a first frame at the beginning of the game\n",
    "plt.imshow(newscreen)\n",
    "camera.snap()\n",
    "iframe = 1\n",
    "\n",
    "while(True): # game loop\n",
    "    \n",
    "    istep += 1\n",
    "    if istep%100==0:\n",
    "        print(\"*\",end=\"\")\n",
    "    \n",
    "    # perform one game step\n",
    "    out = gameStep(g,inp)\n",
    "    \n",
    "    if len(out)<3: # len(out) should be 3 unless the game program termined\n",
    "        print(\" GAME ENDED!\")\n",
    "        break\n",
    "    \n",
    "    # get tile info\n",
    "    x, y, tile = out\n",
    "    \n",
    "    if [x,y] == [-1,0]: # check if it's a score output, if so save\n",
    "        score = tile\n",
    "    else:\n",
    "        newscreen[y,x] = tile # draw current tile\n",
    "                \n",
    "    # automatize game\n",
    "    if tile==PADDLE:\n",
    "        x_paddle = x # store where the paddle is\n",
    "    if tile==BALL: # found the ball\n",
    "        x_ball = x\n",
    "        # move the joystick toward the ball\n",
    "        if   (x_paddle>x_ball): # move left\n",
    "            inp = -1\n",
    "        elif (x_paddle<x_ball): # move right\n",
    "            inp = +1\n",
    "        else: # leave where it is\n",
    "            inp = 0\n",
    "\n",
    "    if tile==PADDLE or tile==BALL: # snap a frame every time paddle or ball are drawn\n",
    "        plt.imshow(newscreen)\n",
    "        camera.snap()\n",
    "        iframe += 1\n",
    "\n",
    "# snap a last frame at the end of the game\n",
    "plt.imshow(newscreen)\n",
    "camera.snap()\n",
    "\n",
    "print(\"STEPS:  \",istep)\n",
    "print(\"FRAMES: \",iframe)\n",
    "print(\"SCORE:  \",score)"
   ]
  },
  {
   "cell_type": "code",
   "execution_count": 42,
   "metadata": {},
   "outputs": [],
   "source": [
    "anim = camera.animate(blit=True)"
   ]
  },
  {
   "cell_type": "code",
   "execution_count": null,
   "metadata": {},
   "outputs": [],
   "source": [
    "anim.save('day13animation.mp4',fps=30)\n",
    "#anim.save('day13animation.gif', writer='imagemagick', fps=30)"
   ]
  },
  {
   "cell_type": "code",
   "execution_count": null,
   "metadata": {},
   "outputs": [],
   "source": []
  }
 ],
 "metadata": {
  "kernelspec": {
   "display_name": "Python 3",
   "language": "python",
   "name": "python3"
  },
  "language_info": {
   "codemirror_mode": {
    "name": "ipython",
    "version": 3
   },
   "file_extension": ".py",
   "mimetype": "text/x-python",
   "name": "python",
   "nbconvert_exporter": "python",
   "pygments_lexer": "ipython3",
   "version": "3.7.5"
  }
 },
 "nbformat": 4,
 "nbformat_minor": 2
}
