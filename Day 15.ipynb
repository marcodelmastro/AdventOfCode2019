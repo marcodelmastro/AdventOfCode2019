{
 "cells": [
  {
   "cell_type": "markdown",
   "metadata": {},
   "source": [
    "# Day 15: Oxygen System\n",
    "\n",
    "https://adventofcode.com/2019/day/15\n",
    "\n",
    "## Part 1\n",
    "\n",
    "### Map the maze\n",
    "\n",
    "Some inspiration on the map mapping algorithm from this page:\n",
    "\n",
    "https://sites.google.com/site/advancedpythonprogramming/recursion/exploring-a-maze"
   ]
  },
  {
   "cell_type": "code",
   "execution_count": 221,
   "metadata": {},
   "outputs": [],
   "source": [
    "import numpy as np\n",
    "import matplotlib.pyplot as plt\n",
    "from AOC2019 import Intcode, readIntcodeProg\n",
    "\n",
    "from random import randint"
   ]
  },
  {
   "cell_type": "code",
   "execution_count": 222,
   "metadata": {},
   "outputs": [],
   "source": [
    "prog = readIntcodeProg(\"input15.txt\")"
   ]
  },
  {
   "cell_type": "code",
   "execution_count": 223,
   "metadata": {},
   "outputs": [
    {
     "name": "stdout",
     "output_type": "stream",
     "text": [
      "[50 50] [50 51]\n"
     ]
    }
   ],
   "source": [
    "# Only four movement commands are understood: north (1), south (2), west (3), and east (4).\n",
    "N = 1\n",
    "S = 2\n",
    "W = 3\n",
    "E = 4\n",
    "\n",
    "def move(d,x):\n",
    "    x1 = np.copy(x)\n",
    "    if   d==N:\n",
    "        x1 += np.array([0,+1])\n",
    "    elif d==S:\n",
    "        x1 += np.array([0,-1])\n",
    "    elif d==W:\n",
    "        x1 += np.array([-1,0])\n",
    "    elif d==E:\n",
    "        x1 += np.array([+1,0])\n",
    "    else:\n",
    "        print(\"Illegal movement!\")\n",
    "    return x1\n",
    "\n",
    "x0 = np.array([50,50])\n",
    "x1 = move(N,x0)\n",
    "print(x0,x1)"
   ]
  },
  {
   "cell_type": "code",
   "execution_count": 224,
   "metadata": {},
   "outputs": [],
   "source": [
    "WALL= 1\n",
    "SEEN = -1\n",
    "OXIGEN = 2"
   ]
  },
  {
   "cell_type": "code",
   "execution_count": 233,
   "metadata": {},
   "outputs": [
    {
     "name": "stdout",
     "output_type": "stream",
     "text": [
      "OXIGEN found! Location =  [35 39]\n",
      "Steps =  2143\n"
     ]
    }
   ],
   "source": [
    "# area and starrting position\n",
    "shape = (41,41)\n",
    "area = np.zeros(shape)\n",
    "x0 = np.array([21,19])\n",
    "\n",
    "# initialize intcode computer\n",
    "droid = Intcode(prog,\"DROID\")\n",
    "\n",
    "def nextdir(d):\n",
    "    '''Cycle between directions (N-S-W-E)'''\n",
    "    nd = d + 1\n",
    "    if nd > 4: \n",
    "        nd = 1\n",
    "    return nd\n",
    "\n",
    "def newdir(x0,olddir):\n",
    "    '''Algorithm to decide new direction after step'''\n",
    "    # gather info about already-explored area\n",
    "    xN = move(N,x0)\n",
    "    xS = move(S,x0)\n",
    "    xW = move(W,x0)\n",
    "    xE = move(E,x0)\n",
    "    dirs = [ xN, xS, xW, xE ]\n",
    "    status = []\n",
    "    for d in dirs:\n",
    "        status.append(area[d[1]][d[0]])\n",
    "    oldd = olddir    \n",
    "    tiles = [p!=0 for p in status]\n",
    "    # goes toward next non explored direction in standard iteration (N-S-W-E) excluding walls\n",
    "    while( np.absolute(np.array(tiles)).sum() < 4 ): # All walls or already explored\n",
    "        newd = nextdir(oldd)\n",
    "        if status[newd-1]==0:\n",
    "            return newd\n",
    "        else:\n",
    "            oldd = newd\n",
    "    # if all walls or already explored, go toward least visited non-wall direction\n",
    "    tiles = []\n",
    "    for s in status:\n",
    "        if (s==WALL): tiles.append(-10000000) # replace WALL with very ngeative value\n",
    "        else: tiles.append(s)\n",
    "    return tiles.index(max(tiles))+1\n",
    "    \n",
    "# mark starting point\n",
    "#area[x0[1]][x0[0]] = SEEN\n",
    "area[x0[1]][x0[0]] = OXIGEN\n",
    "            \n",
    "# begin by moving N            \n",
    "direction = N \n",
    "\n",
    "# Test steps\n",
    "istep = 0\n",
    "istepmax = 3000\n",
    "\n",
    "while(True):\n",
    "#while(istep<istepmax):\n",
    "    \n",
    "    istep += 1\n",
    "    #if istep%100==0:\n",
    "    #    print(\"*\",end=\"\")\n",
    "    \n",
    "    x1 = move(direction,x0)\n",
    "    droid.runProgram(direction)\n",
    "    o = droid.getLastOutput()\n",
    "\n",
    "    if o==0: # 0: The repair droid hit a wall. Its position has not changed.\n",
    "        area[x1[1]][x1[0]] = WALL\n",
    "        direction = newdir(x0,direction)\n",
    "    elif o==1: # 1: The repair droid has moved one step in the requested direction.\n",
    "        area[x1[1]][x1[0]] += SEEN\n",
    "        #area[x1[1]][x1[0]] = SEEN\n",
    "        x0 = x1\n",
    "        direction = newdir(x0,direction)\n",
    "    elif o==2:  # 2: The repair droid has moved one step in the requested direction; its new position is the location of the oxygen system.\n",
    "        area[x1[1]][x1[0]] = OXIGEN\n",
    "        print(\"OXIGEN found! Location =\",x1)\n",
    "        break\n",
    "\n",
    "print(\"Steps = \",istep)"
   ]
  },
  {
   "cell_type": "code",
   "execution_count": 226,
   "metadata": {},
   "outputs": [
    {
     "data": {
      "text/plain": [
       "<matplotlib.image.AxesImage at 0x11ec6b2d0>"
      ]
     },
     "execution_count": 226,
     "metadata": {},
     "output_type": "execute_result"
    },
    {
     "data": {
      "image/png": "[encoded data removed]",
      "text/plain": [
       "<Figure size 600x600 with 1 Axes>"
      ]
     },
     "metadata": {
      "needs_background": "light"
     },
     "output_type": "display_data"
    }
   ],
   "source": [
    "fig = plt.figure(figsize=(6, 6), dpi=100)\n",
    "plt.imshow(np.flip(area,0))"
   ]
  },
  {
   "cell_type": "code",
   "execution_count": 236,
   "metadata": {},
   "outputs": [
    {
     "data": {
      "text/plain": [
       "<matplotlib.image.AxesImage at 0x11ec9bad0>"
      ]
     },
     "execution_count": 236,
     "metadata": {},
     "output_type": "execute_result"
    },
    {
     "data": {
      "image/png": "[encoded data removed]",
      "text/plain": [
       "<Figure size 600x600 with 1 Axes>"
      ]
     },
     "metadata": {
      "needs_background": "light"
     },
     "output_type": "display_data"
    }
   ],
   "source": [
    "# Reformat map removing race of explored path\n",
    "\n",
    "maze = np.copy(area)\n",
    "# Replace all remaingin zeros with WALL\n",
    "maze[maze==0] = WALL\n",
    "# Replace negative values (PATH) with 0 \n",
    "maze[maze<0] = 0\n",
    "\n",
    "fig = plt.figure(figsize=(6, 6), dpi=100)\n",
    "plt.imshow(np.flip(maze,0))"
   ]
  },
  {
   "cell_type": "code",
   "execution_count": 238,
   "metadata": {},
   "outputs": [],
   "source": [
    "IN  = np.array([21,19])\n",
    "OUT = np.array([35,39])\n",
    "\n",
    "# print(maze[IN[1],IN[0]],maze[OUT[1],OUT[0]])"
   ]
  },
  {
   "cell_type": "markdown",
   "metadata": {},
   "source": [
    "Problem: find fewest number of movement commands required to move the repair droid from its starting position to the location of the oxygen system.\n",
    "\n",
    "Backtracking algorithm?"
   ]
  },
  {
   "cell_type": "code",
   "execution_count": null,
   "metadata": {},
   "outputs": [],
   "source": []
  }
 ],
 "metadata": {
  "kernelspec": {
   "display_name": "Python 3",
   "language": "python",
   "name": "python3"
  },
  "language_info": {
   "codemirror_mode": {
    "name": "ipython",
    "version": 3
   },
   "file_extension": ".py",
   "mimetype": "text/x-python",
   "name": "python",
   "nbconvert_exporter": "python",
   "pygments_lexer": "ipython3",
   "version": "3.7.5"
  }
 },
 "nbformat": 4,
 "nbformat_minor": 2
}
