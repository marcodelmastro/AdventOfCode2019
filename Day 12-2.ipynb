{
 "cells": [
  {
   "cell_type": "markdown",
   "metadata": {},
   "source": [
    "\n",
    "# Day 12: The N-Body Problem\n",
    "\n",
    "https://adventofcode.com/2019/day/12\n",
    "\n",
    "## Part 2\n",
    "\n",
    "### Period search independently over the different directions\n",
    "\n",
    "I realised that the system updates the various (x,y,x) components of the moon positions and velocities *independently*, thus the global period would be the LCM of the periods of each components!"
   ]
  },
  {
   "cell_type": "code",
   "execution_count": 1,
   "metadata": {},
   "outputs": [],
   "source": [
    "import numpy as np"
   ]
  },
  {
   "cell_type": "code",
   "execution_count": 2,
   "metadata": {},
   "outputs": [],
   "source": [
    "# A matrix implementation suited to run both on vectors and on a single vector components\n",
    "\n",
    "class System():\n",
    "    def __init__(self,x1,x2,x3,x4):\n",
    "        self.x = np.array([x1,x2,x3,x4])\n",
    "        self.v = self.x*0\n",
    "    \n",
    "    def updateSystem(self):\n",
    "        # compute velocities\n",
    "        deltav = []\n",
    "        for xi in self.x:\n",
    "            # empty matrix\n",
    "            dv = self.v*0 \n",
    "            # apply gravity to matrix (line for current moon will be empty by definition)\n",
    "            dv += (xi-self.x < 0) # add if smaller\n",
    "            dv -= (xi-self.x > 0) # subtract if bigger\n",
    "            dv_ = np.sum(dv,axis=0) # sum all velocity variations for current moon    \n",
    "            deltav.append(dv_.tolist()) # repackage as matrix adding row for current moon        \n",
    "        # update velocities\n",
    "        self.v += np.array(deltav)\n",
    "        # update positions\n",
    "        self.x += self.v\n",
    "        \n",
    "    def tot(self):\n",
    "        return (np.absolute(self.x).sum(axis=1)*np.absolute(self.v).sum(axis=1)).sum()\n",
    "    \n",
    "    def getHash(self):\n",
    "        return hash(np.append(self.x,self.v).tostring())"
   ]
  },
  {
   "cell_type": "code",
   "execution_count": 5,
   "metadata": {},
   "outputs": [],
   "source": [
    "# Function to find GCD and LCM of two input numbers\n",
    "\n",
    "def GCD(x, y):\n",
    "    while(y):\n",
    "        x, y = y, x % y\n",
    "    return x\n",
    "\n",
    "def LCM(x, y):\n",
    "    return (x*y)//GCD(x,y)"
   ]
  },
  {
   "cell_type": "code",
   "execution_count": 6,
   "metadata": {},
   "outputs": [
    {
     "name": "stdout",
     "output_type": "stream",
     "text": [
      "period X =  28482\n",
      "period Y =  231614\n",
      "period Z =  193052\n"
     ]
    },
    {
     "ename": "ImportError",
     "evalue": "cannot import name 'lcm' from 'math' (/usr/local/Cellar/python/3.7.5/Frameworks/Python.framework/Versions/3.7/lib/python3.7/lib-dynload/math.cpython-37m-darwin.so)",
     "output_type": "error",
     "traceback": [
      "\u001b[0;31m---------------------------------------------------------------------------\u001b[0m",
      "\u001b[0;31mImportError\u001b[0m                               Traceback (most recent call last)",
      "\u001b[0;32m<ipython-input-6-086b9b4b2c74>\u001b[0m in \u001b[0;36m<module>\u001b[0;34m\u001b[0m\n\u001b[1;32m     82\u001b[0m \u001b[0mprint\u001b[0m\u001b[0;34m(\u001b[0m\u001b[0;34m\"period Z = \"\u001b[0m\u001b[0;34m,\u001b[0m\u001b[0miz\u001b[0m\u001b[0;34m)\u001b[0m\u001b[0;34m\u001b[0m\u001b[0;34m\u001b[0m\u001b[0m\n\u001b[1;32m     83\u001b[0m \u001b[0;34m\u001b[0m\u001b[0m\n\u001b[0;32m---> 84\u001b[0;31m \u001b[0;32mfrom\u001b[0m \u001b[0mmath\u001b[0m \u001b[0;32mimport\u001b[0m \u001b[0mlcm\u001b[0m\u001b[0;34m\u001b[0m\u001b[0;34m\u001b[0m\u001b[0m\n\u001b[0m\u001b[1;32m     85\u001b[0m \u001b[0;34m\u001b[0m\u001b[0m\n\u001b[1;32m     86\u001b[0m \u001b[0mistep\u001b[0m \u001b[0;34m=\u001b[0m \u001b[0mLCM\u001b[0m\u001b[0;34m(\u001b[0m\u001b[0mLCM\u001b[0m\u001b[0;34m(\u001b[0m\u001b[0mix\u001b[0m\u001b[0;34m,\u001b[0m\u001b[0miy\u001b[0m\u001b[0;34m)\u001b[0m\u001b[0;34m,\u001b[0m\u001b[0miz\u001b[0m\u001b[0;34m)\u001b[0m\u001b[0;34m\u001b[0m\u001b[0;34m\u001b[0m\u001b[0m\n",
      "\u001b[0;31mImportError\u001b[0m: cannot import name 'lcm' from 'math' (/usr/local/Cellar/python/3.7.5/Frameworks/Python.framework/Versions/3.7/lib/python3.7/lib-dynload/math.cpython-37m-darwin.so)"
     ]
    }
   ],
   "source": [
    "# Example 1\n",
    "#x1 = np.array([-1,  0, 2])\n",
    "#x2 = np.array([ 2,-10,-7])\n",
    "#x3 = np.array([ 4, -8, 8])\n",
    "#x4 = np.array([ 3, 5 ,-1])\n",
    "\n",
    "x1 = np.array([-1])\n",
    "x2 = np.array([ 2])\n",
    "x3 = np.array([ 4])\n",
    "x4 = np.array([ 3])\n",
    "\n",
    "y1 = np.array([  0])\n",
    "y2 = np.array([-10])\n",
    "y3 = np.array([ -8])\n",
    "y4 = np.array([  5])\n",
    "\n",
    "z1 = np.array([ 2])\n",
    "z2 = np.array([-7])\n",
    "z3 = np.array([ 8])\n",
    "z4 = np.array([ -1])\n",
    "\n",
    "# Input\n",
    "x1 = np.array([7])\n",
    "x2 = np.array([-2])\n",
    "x3 = np.array([12])\n",
    "x4 = np.array([5])\n",
    "\n",
    "y1 = np.array([10])\n",
    "y2 = np.array([7])\n",
    "y3 = np.array([5])\n",
    "y4 = np.array([-8])\n",
    "\n",
    "z1 = np.array([17])\n",
    "z2 = np.array([0])\n",
    "z3 = np.array([12])\n",
    "z4 = np.array([6])\n",
    "\n",
    "sx = System(x1,x2,x3,x4)\n",
    "sy = System(y1,y2,y3,y4)\n",
    "sz = System(z1,z2,z3,z4)\n",
    "\n",
    "#istep = 0\n",
    "#istepmax = 10\n",
    "#while(istep<=istepmax):\n",
    "#    print(istep,\"\\n\",sz.x,\"\\n\",sz.v)\n",
    "#    sx.updateSystem()\n",
    "#    sy.updateSystem()\n",
    "#    sz.updateSystem()\n",
    "#    istep += 1\n",
    "    \n",
    "h0x = sx.getHash() \n",
    "ix = 0\n",
    "while(True):    \n",
    "    ix += 1\n",
    "    sx.updateSystem()\n",
    "    hx = sx.getHash()\n",
    "    if (hx ==h0x):\n",
    "        break\n",
    "\n",
    "print(\"period X = \",ix)\n",
    "        \n",
    "h0y = sy.getHash() \n",
    "iy = 0\n",
    "while(True):    \n",
    "    iy += 1\n",
    "    sy.updateSystem()\n",
    "    hy = sy.getHash()\n",
    "    if (hy ==h0y):\n",
    "        break\n",
    "\n",
    "print(\"period Y = \",iy)\n",
    "\n",
    "h0z = sz.getHash() \n",
    "iz = 0\n",
    "while(True):    \n",
    "    iz += 1\n",
    "    sz.updateSystem()\n",
    "    hz = sz.getHash()\n",
    "    if (hz ==h0z):\n",
    "        break\n",
    "\n",
    "print(\"period Z = \",iz)\n",
    "\n",
    "from math import lcm\n",
    "\n",
    "istep = LCM(LCM(ix,iy),iz)\n",
    "print(\"\\nSystem have same (initial) configuration at step = \", istep)"
   ]
  },
  {
   "cell_type": "code",
   "execution_count": null,
   "metadata": {},
   "outputs": [],
   "source": []
  }
 ],
 "metadata": {
  "kernelspec": {
   "display_name": "Python 3",
   "language": "python",
   "name": "python3"
  },
  "language_info": {
   "codemirror_mode": {
    "name": "ipython",
    "version": 3
   },
   "file_extension": ".py",
   "mimetype": "text/x-python",
   "name": "python",
   "nbconvert_exporter": "python",
   "pygments_lexer": "ipython3",
   "version": "3.7.5"
  }
 },
 "nbformat": 4,
 "nbformat_minor": 2
}
