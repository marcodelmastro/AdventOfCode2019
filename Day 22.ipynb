{
 "cells": [
  {
   "cell_type": "markdown",
   "metadata": {},
   "source": [
    "# Day 22: Slam Shuffle\n",
    "\n",
    "https://adventofcode.com/2019/day/22#part2\n",
    "\n",
    "## Part 1\n",
    "\n",
    "Full-size brute-force shuffling using lists"
   ]
  },
  {
   "cell_type": "code",
   "execution_count": 1,
   "metadata": {},
   "outputs": [],
   "source": [
    "import numpy as np"
   ]
  },
  {
   "cell_type": "code",
   "execution_count": 2,
   "metadata": {},
   "outputs": [
    {
     "name": "stdout",
     "output_type": "stream",
     "text": [
      "[0 1 2 3 4 5 6 7 8 9]\n"
     ]
    }
   ],
   "source": [
    "size = 10\n",
    "deck = np.arange(size).reshape(size)\n",
    "print(deck)"
   ]
  },
  {
   "cell_type": "code",
   "execution_count": 3,
   "metadata": {},
   "outputs": [
    {
     "name": "stdout",
     "output_type": "stream",
     "text": [
      "[9 8 7 6 5 4 3 2 1 0]\n"
     ]
    }
   ],
   "source": [
    "# 1. deal into new stack\n",
    "def dealNew(deck):\n",
    "    newdeck = deck[::-1] \n",
    "    return newdeck\n",
    "\n",
    "print(dealNew(deck))"
   ]
  },
  {
   "cell_type": "code",
   "execution_count": 4,
   "metadata": {},
   "outputs": [
    {
     "name": "stdout",
     "output_type": "stream",
     "text": [
      "[3 4 5 6 7 8 9 0 1 2]\n"
     ]
    }
   ],
   "source": [
    "# 2. cut N cards (N can be negative)\n",
    "def cutN(deck,N):\n",
    "    if N>0:\n",
    "        cut = deck[0:N]\n",
    "        left = deck[N:]\n",
    "        newdeck = np.append(left,cut)\n",
    "    elif N<0:\n",
    "        cut = deck[len(deck)+N:]\n",
    "        left = deck[:N]\n",
    "        newdeck = np.append(cut,left)\n",
    "    return newdeck\n",
    "    \n",
    "print(cutN(deck,3))"
   ]
  },
  {
   "cell_type": "code",
   "execution_count": 5,
   "metadata": {},
   "outputs": [
    {
     "name": "stdout",
     "output_type": "stream",
     "text": [
      "[0. 7. 4. 1. 8. 5. 2. 9. 6. 3.]\n"
     ]
    }
   ],
   "source": [
    "# 3. deal with increment N\n",
    "def dealWithIncrementN(deck,N):\n",
    "    newdeck = np.zeros(len(deck))\n",
    "    j = 0\n",
    "    for i in range(len(deck)):\n",
    "        #print(j)\n",
    "        newdeck[j] = deck[i]\n",
    "        j = (j+N)%len(deck)\n",
    "    return newdeck\n",
    " \n",
    "deck = np.arange(size).reshape(size)\n",
    "print(dealWithIncrementN(deck,3))"
   ]
  },
  {
   "cell_type": "code",
   "execution_count": 6,
   "metadata": {},
   "outputs": [],
   "source": [
    "lines = [\n",
    "'deal with increment 7',\n",
    "'deal into new stack',\n",
    "'deal into new stack']\n",
    "# Result: 0 3 6 9 2 5 8 1 4 7 --> OK\n",
    "\n",
    "lines = [\n",
    "'cut 6',\n",
    "'deal with increment 7',\n",
    "'deal into new stack' ] \n",
    "#Result: 3 0 7 4 1 8 5 2 9 6 --> OK\n",
    "\n",
    "lines = [\n",
    "'deal with increment 7',\n",
    "'deal with increment 9',\n",
    "'cut -2' ]\n",
    "#Result: 6 3 0 7 4 1 8 5 2 9 --> OK\n",
    "\n",
    "lines = [\n",
    "'deal into new stack',\n",
    "'cut -2',\n",
    "'deal with increment 7',\n",
    "'cut 8',\n",
    "'cut -4',\n",
    "'deal with increment 7',\n",
    "'cut 3',\n",
    "'deal with increment 9',\n",
    "'deal with increment 3',\n",
    "'cut -1' ]\n",
    "# Result: 9 2 5 8 1 4 7 0 3 6 --> OK\n",
    "\n",
    "size = 10"
   ]
  },
  {
   "cell_type": "code",
   "execution_count": 8,
   "metadata": {},
   "outputs": [],
   "source": [
    "with open(\"./data/input22.txt\") as f:\n",
    "    lines = [l.rstrip('\\n') for l in f]\n",
    "#lines\n",
    "\n",
    "size = 10007"
   ]
  },
  {
   "cell_type": "code",
   "execution_count": 9,
   "metadata": {},
   "outputs": [],
   "source": [
    "s1 = 'deal into new stack'\n",
    "s2 = 'cut '\n",
    "s3 = 'deal with increment '\n",
    "\n",
    "deck = np.arange(size).reshape(size)\n",
    "\n",
    "for l in lines:\n",
    "    if l == s1:\n",
    "        deck = dealNew(deck)\n",
    "    elif l[0:4]== s2:\n",
    "        n = l.split(' ')\n",
    "        N = int(n[1])\n",
    "        deck = cutN(deck,N)\n",
    "    else:\n",
    "        n = l.split(' ')\n",
    "        N = int(n[3])\n",
    "        deck = dealWithIncrementN(deck,N)"
   ]
  },
  {
   "cell_type": "code",
   "execution_count": 10,
   "metadata": {},
   "outputs": [
    {
     "name": "stdout",
     "output_type": "stream",
     "text": [
      "Card 2019 is found at position 7171\n"
     ]
    }
   ],
   "source": [
    "card = 2019\n",
    "pos = np.where(deck==card)[0][0]\n",
    "print(\"Card\",card,\"is found at position\",pos)"
   ]
  },
  {
   "cell_type": "markdown",
   "metadata": {},
   "source": [
    "## Part 2\n",
    "\n",
    "Direct shuffling is unfeasible given the new deck size. On the other hand, each shuffling operation can be represented as a **linear function** of the card value:\n",
    "\n",
    "- deal: `(N-x-1) % N`\n",
    "- cut: `(x-n) % N`\n",
    "- deal with increment: `(x*n) % N`\n",
    "\n",
    "The sequence of shufflings can therefore be expressed as a **combination of linear functions**."
   ]
  },
  {
   "cell_type": "code",
   "execution_count": 11,
   "metadata": {},
   "outputs": [],
   "source": [
    "with open(\"./data/input22.txt\") as f:\n",
    "    lines = [l.rstrip('\\n') for l in f]\n",
    "\n",
    "s1 = 'deal into new stack'\n",
    "s2 = 'cut '\n",
    "s3 = 'deal with increment '\n",
    "\n",
    "seq = [] # save wha shuffling is operated, and, in case of cut and deal with increment, the value\n",
    "\n",
    "for l in lines:\n",
    "    if l == s1:\n",
    "        seq.append([1,0])\n",
    "    elif l[0:4]== s2:\n",
    "        ll = l.split(' ')\n",
    "        n = int(ll[1])\n",
    "        seq.append([2,n])\n",
    "    else:\n",
    "        ll = l.split(' ')\n",
    "        n = int(ll[3])\n",
    "        seq.append([3,n])"
   ]
  },
  {
   "cell_type": "code",
   "execution_count": 12,
   "metadata": {},
   "outputs": [],
   "source": [
    "# mod operation is factorizable!\n",
    "\n",
    "def deal(x,N):\n",
    "    return (N-x-1) #% N\n",
    "\n",
    "def cut(x,N,n):\n",
    "    return (x-n) #% N\n",
    "\n",
    "def dealwi(x,N,n):\n",
    "    return (x*n) #% N\n",
    "\n",
    "def sequence(x,N,seq):\n",
    "    for s in seq:\n",
    "        if s[0]==1:\n",
    "            x = deal(x,N)\n",
    "        elif s[0]==2:\n",
    "            x = cut(x,N,s[1])\n",
    "        elif s[0]==3:\n",
    "            x = dealwi(x,N,s[1])\n",
    "    return x % N"
   ]
  },
  {
   "cell_type": "code",
   "execution_count": 13,
   "metadata": {},
   "outputs": [
    {
     "name": "stdout",
     "output_type": "stream",
     "text": [
      "7171\n"
     ]
    }
   ],
   "source": [
    "x = 2019\n",
    "N = 10007\n",
    "print(sequence(x,N,seq))"
   ]
  },
  {
   "cell_type": "markdown",
   "metadata": {},
   "source": [
    "`sequence()` solves Part 1 by implementing all instructions as operations on a single card/value, and that's good. On the other hand, it's still defined as a sequence of operations, while I'd like to **condensate all operations in a simplified $y=ax+b$ form**. Since each operation is a linear tranformation (plus a `mod()` operation that is factorisable), I can compute the \"cumulative\" factors $a$ and $b$ factor as \"sum\" of the coefficients of all transformations ($a$'s needs to be multipled, $b$'s are summed, but I should not forget to also multiply the previous $b$ value if the current tranformation has a scaling factor $a$)."
   ]
  },
  {
   "cell_type": "code",
   "execution_count": 14,
   "metadata": {},
   "outputs": [
    {
     "name": "stdout",
     "output_type": "stream",
     "text": [
      "a = 5636 b = 6046\n"
     ]
    }
   ],
   "source": [
    "def linearSeq(seq,N):\n",
    "    a = 1\n",
    "    b = 0\n",
    "    for s in seq:\n",
    "        if s[0]==1:\n",
    "            a *= -1\n",
    "            b = (-1*b)+N-1 # b needs to be multiplied by -1 (a of current transforamtion) before shifting\n",
    "        elif s[0]==2:\n",
    "            #a *= 1\n",
    "            b -= s[1]\n",
    "        elif s[0]==3:\n",
    "            a *= s[1]\n",
    "            b *= s[1]\n",
    "    return a%N,b%N\n",
    "\n",
    "a, b = linearSeq(seq,N)\n",
    "print(\"a =\",a,\"b =\",b)"
   ]
  },
  {
   "cell_type": "code",
   "execution_count": 15,
   "metadata": {},
   "outputs": [
    {
     "name": "stdout",
     "output_type": "stream",
     "text": [
      "x = 2019 --> y = 7171\n"
     ]
    }
   ],
   "source": [
    "x = 2019\n",
    "y = (a * x + b)%N\n",
    "print(\"x =\",x,\"--> y =\",y)"
   ]
  },
  {
   "cell_type": "markdown",
   "metadata": {},
   "source": [
    "I now have a simple linear function $y = ax + b$ that solves Part 1! In order to solve Part 2, I need the inverse of this function to get $x = (y-b)/a$, but I cannot really divide by $a$ since I'm working with integer numbers and modular algebra. I therefore need to find the **multiplicative inverse** $1/a \\mod N$. To do it I can use the **extended Euclid algorithm**: http://www.di-srv.unisa.it/~ads/ads/Sicurezza_files/NumberTheory.pdf\n"
   ]
  },
  {
   "cell_type": "code",
   "execution_count": 16,
   "metadata": {},
   "outputs": [
    {
     "data": {
      "text/plain": [
       "(3, -11, 14)"
      ]
     },
     "execution_count": 16,
     "metadata": {},
     "output_type": "execute_result"
    }
   ],
   "source": [
    "def EuclidGDC(a,n):\n",
    "    '''Euclid algorithm to computed GCD'''\n",
    "    if n==0:\n",
    "        return a\n",
    "    else:\n",
    "        return EuclidGDC(n, a%n)\n",
    "\n",
    "def ExtendedEuclidGDC(a,n): \n",
    "    '''Extended Euclid algorithm to computed GCD and integer pair (x,y) that satifies d = gcd(a,n) = a*x+n*y'''\n",
    "    if n==0:\n",
    "        return a,1,0\n",
    "    di, xi, yi = ExtendedEuclidGDC(n,a%n)\n",
    "    d = di\n",
    "    x = yi\n",
    "    y = xi - a//n * yi # use // for integer division!\n",
    "    return d, x, y \n",
    "    \n",
    "\n",
    "d,x,y = ExtendedEuclidGDC(99,78)\n",
    "d,x,y\n",
    "#=-11*99+14*78"
   ]
  },
  {
   "cell_type": "markdown",
   "metadata": {},
   "source": [
    "I can solve an equation in the form $ax = n\\mod n$ it with Euclid. Solutions exists if and only if $g|b$ where $g = \\gcd(a,n)$. In this case I have $g$ solutions:\n",
    "$$ x'\\frac{b}{g} + i \\frac{n}{g} \\quad\\text{for}\\quad i = 0,1,..., g-1$$\n",
    "\n",
    "In my case I want to invert $y=ax+b \\mod n$, so I want to find $a^{-1}\\mod{n}$ and $b/a\\mod{n}$ to be able to compute:\n",
    "$$ x = y \\frac{1}{a} - \\frac{b}{a}\\mod n$$"
   ]
  },
  {
   "cell_type": "code",
   "execution_count": 17,
   "metadata": {},
   "outputs": [
    {
     "name": "stdout",
     "output_type": "stream",
     "text": [
      "5^-1 mod 7 = 3\n"
     ]
    }
   ],
   "source": [
    "# example: compute di 5^-1 mod 7\n",
    "d,x,y = ExtendedEuclidGDC(5,7)\n",
    "print(\"5^-1 mod 7 =\",x)"
   ]
  },
  {
   "cell_type": "code",
   "execution_count": 18,
   "metadata": {},
   "outputs": [
    {
     "name": "stdout",
     "output_type": "stream",
     "text": [
      "a = 5636 --> 1/a mod N = 3631\n"
     ]
    }
   ],
   "source": [
    "D,inva,Y = ExtendedEuclidGDC(a,N)\n",
    "print(\"a =\", a,\"--> 1/a mod N =\",inva)"
   ]
  },
  {
   "cell_type": "code",
   "execution_count": 19,
   "metadata": {},
   "outputs": [
    {
     "name": "stdout",
     "output_type": "stream",
     "text": [
      "y = 7171 --> x = 2019\n"
     ]
    }
   ],
   "source": [
    "A = inva\n",
    "B = - b * inva\n",
    "\n",
    "y = 7171\n",
    "x = (A*y+B)%N\n",
    "\n",
    "print('y =',y,'--> x =',x)"
   ]
  },
  {
   "cell_type": "markdown",
   "metadata": {},
   "source": [
    "I now want to apply the inverse function M = 101741582076661 times. Direct application is not feasible, but I can compute the \"cumulative\" transformation corresponding to iteratively applying the inverse transformation M times. \n",
    "\n",
    "Before doing this, I need to recompute the linear transformation parameters $a,b$ and $A,B$ for a deck of size N = 119315717514047:"
   ]
  },
  {
   "cell_type": "code",
   "execution_count": 20,
   "metadata": {},
   "outputs": [
    {
     "name": "stdout",
     "output_type": "stream",
     "text": [
      "Linear transform a,b =  38251765999964 57940767209306\n",
      "Inverse linear transform A,B =  14101252936313 37661399858180\n"
     ]
    }
   ],
   "source": [
    "N = 119315717514047 # size of deck\n",
    "\n",
    "a, b = linearSeq(seq,N)\n",
    "print(\"Linear transform a,b = \",a,b)\n",
    "D,inva,Y = ExtendedEuclidGDC(a,N)\n",
    "A = inva\n",
    "B = (- b * inva)%N\n",
    "print(\"Inverse linear transform A,B = \",A,B)"
   ]
  },
  {
   "cell_type": "markdown",
   "metadata": {},
   "source": [
    "Now I need to apply M = 101741582076661 times the inverse tranformation, that I defined as:\n",
    "\n",
    "$$G_1(y) = ( Ay + B ) \\mod N$$\n",
    "\n",
    "with A and B computed as before. \n",
    "\n",
    "If I apply $G_1$ twice I get:\n",
    "\n",
    "$$G_2(y) = G_1(G_1(y)) = A^2 + B (A+1) \\mod N$$\n",
    "\n",
    "Following the same procedure, I can define the generic $G_M$ transformation corresponding to applyting M times $G_1$ as:\n",
    "\n",
    "$$G_M(y) = A^M + B \\sum_{i=0}^{M-1} A^i \\mod N$$\n",
    "\n",
    "The first term $A^M \\mod N$ requires a **modular exponentiation**. \n",
    "\n",
    "The second term contains a **geometric series**, for which I know the sum:\n",
    "\n",
    "$$\\sum_{i=0}^{M-1} A^i = \\frac{1-A^M}{1-A}$$\n",
    "\n",
    "I therefore get:\n",
    "\n",
    "$$G_M(y) = A^M y + B \\frac{A^M-1}{A-1} \\mod N$$\n",
    "\n",
    "Now the issue is that this is computed in a modular agebra context, so I cannot simply divide by $(A-1)$, but I need to **compute $1/(A-1)$ using the extended Euclid algorithm** as I did before."
   ]
  },
  {
   "cell_type": "code",
   "execution_count": 21,
   "metadata": {},
   "outputs": [],
   "source": [
    "def modpow(x, y, z):\n",
    "    \"Calculate (x ** y) % z\"\n",
    "    number = 1\n",
    "    while y:\n",
    "        if y & 1:\n",
    "            number = number * x % z\n",
    "        y >>= 1\n",
    "        x = x * x % z\n",
    "    return number"
   ]
  },
  {
   "cell_type": "code",
   "execution_count": 22,
   "metadata": {},
   "outputs": [
    {
     "name": "stdout",
     "output_type": "stream",
     "text": [
      "Cumulative inverse linear transform coefficients (AM, BM) = 113756250669691 87839588395182\n"
     ]
    }
   ],
   "source": [
    "M = 101741582076661 # number of repetition of shuffling sequence\n",
    "\n",
    "AM = modpow(A,M,N) # My implementation\n",
    "#AM = pow(A,M,N) # Python bult-in function \n",
    "\n",
    "DD,inv1A,Y = ExtendedEuclidGDC((A-1),N)\n",
    "\n",
    "BM = (B * (AM-1)*inv1A )%N\n",
    "\n",
    "print(\"Cumulative inverse linear transform coefficients (AM, BM) =\",AM,BM)"
   ]
  },
  {
   "cell_type": "code",
   "execution_count": 23,
   "metadata": {},
   "outputs": [
    {
     "name": "stdout",
     "output_type": "stream",
     "text": [
      "Number on card ending in position 2020 = 73394009116480\n"
     ]
    }
   ],
   "source": [
    "Y = 2020\n",
    "X = (AM*Y+BM)%N\n",
    "print(\"Number on card ending in position\",Y,\"=\",X)"
   ]
  },
  {
   "cell_type": "code",
   "execution_count": null,
   "metadata": {},
   "outputs": [],
   "source": []
  }
 ],
 "metadata": {
  "kernelspec": {
   "display_name": "Python 3",
   "language": "python",
   "name": "python3"
  },
  "language_info": {
   "codemirror_mode": {
    "name": "ipython",
    "version": 3
   },
   "file_extension": ".py",
   "mimetype": "text/x-python",
   "name": "python",
   "nbconvert_exporter": "python",
   "pygments_lexer": "ipython3",
   "version": "3.7.5"
  }
 },
 "nbformat": 4,
 "nbformat_minor": 2
}
