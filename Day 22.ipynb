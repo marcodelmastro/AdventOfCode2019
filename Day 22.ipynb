{
 "cells": [
  {
   "cell_type": "markdown",
   "metadata": {},
   "source": [
    "# Day 22: Slam Shuffle\n",
    "\n",
    "https://adventofcode.com/2019/day/22#part2\n",
    "\n",
    "## Part 1"
   ]
  },
  {
   "cell_type": "code",
   "execution_count": 225,
   "metadata": {},
   "outputs": [],
   "source": [
    "import numpy as np"
   ]
  },
  {
   "cell_type": "code",
   "execution_count": 236,
   "metadata": {},
   "outputs": [
    {
     "name": "stdout",
     "output_type": "stream",
     "text": [
      "[0 1 2 3 4 5 6 7 8 9]\n"
     ]
    }
   ],
   "source": [
    "size = 10\n",
    "deck = np.arange(size).reshape(size)\n",
    "print(deck)"
   ]
  },
  {
   "cell_type": "code",
   "execution_count": 473,
   "metadata": {},
   "outputs": [
    {
     "name": "stdout",
     "output_type": "stream",
     "text": [
      "[9 8 7 6 5 4 3 2 1 0]\n"
     ]
    }
   ],
   "source": [
    "# 1. deal into new stack\n",
    "def dealNew(deck):\n",
    "    newdeck = deck[::-1] \n",
    "    return newdeck\n",
    "\n",
    "print(dealNew(deck))"
   ]
  },
  {
   "cell_type": "code",
   "execution_count": 474,
   "metadata": {},
   "outputs": [
    {
     "name": "stdout",
     "output_type": "stream",
     "text": [
      "[3 4 5 6 7 8 9 0 1 2]\n"
     ]
    }
   ],
   "source": [
    "# 2. cut N cards (N can be negative)\n",
    "def cutN(deck,N):\n",
    "    if N>0:\n",
    "        cut = deck[0:N]\n",
    "        left = deck[N:]\n",
    "        newdeck = np.append(left,cut)\n",
    "    elif N<0:\n",
    "        cut = deck[len(deck)+N:]\n",
    "        left = deck[:N]\n",
    "        newdeck = np.append(cut,left)\n",
    "    return newdeck\n",
    "    \n",
    "print(cutN(deck,3))"
   ]
  },
  {
   "cell_type": "code",
   "execution_count": 475,
   "metadata": {},
   "outputs": [
    {
     "name": "stdout",
     "output_type": "stream",
     "text": [
      "[    0.  3336.  6672. ... 10006.  3335.  6671.]\n"
     ]
    }
   ],
   "source": [
    "# 3. deal with increment N\n",
    "def dealWithIncrementN(deck,N):\n",
    "    newdeck = np.zeros(len(deck))\n",
    "    j = 0\n",
    "    for i in range(len(deck)):\n",
    "        #print(j)\n",
    "        newdeck[j] = deck[i]\n",
    "        j = (j+N)%len(deck)\n",
    "    return newdeck\n",
    " \n",
    "deck = np.arange(size).reshape(size)\n",
    "print(dealWithIncrementN(deck,3))"
   ]
  },
  {
   "cell_type": "code",
   "execution_count": 476,
   "metadata": {},
   "outputs": [],
   "source": [
    "lines = [\n",
    "'deal with increment 7',\n",
    "'deal into new stack',\n",
    "'deal into new stack']\n",
    "# Result: 0 3 6 9 2 5 8 1 4 7 --> OK\n",
    "\n",
    "lines = [\n",
    "'cut 6',\n",
    "'deal with increment 7',\n",
    "'deal into new stack' ] \n",
    "#Result: 3 0 7 4 1 8 5 2 9 6 --> OK\n",
    "\n",
    "lines = [\n",
    "'deal with increment 7',\n",
    "'deal with increment 9',\n",
    "'cut -2' ]\n",
    "#Result: 6 3 0 7 4 1 8 5 2 9 --> OK\n",
    "\n",
    "lines = [\n",
    "'deal into new stack',\n",
    "'cut -2',\n",
    "'deal with increment 7',\n",
    "'cut 8',\n",
    "'cut -4',\n",
    "'deal with increment 7',\n",
    "'cut 3',\n",
    "'deal with increment 9',\n",
    "'deal with increment 3',\n",
    "'cut -1' ]\n",
    "# Result: 9 2 5 8 1 4 7 0 3 6 --> OK\n",
    "\n",
    "size = 10"
   ]
  },
  {
   "cell_type": "code",
   "execution_count": 477,
   "metadata": {},
   "outputs": [],
   "source": [
    "with open(\"input22.txt\") as f:\n",
    "    lines = [l.rstrip('\\n') for l in f]\n",
    "#lines\n",
    "\n",
    "size = 10007"
   ]
  },
  {
   "cell_type": "code",
   "execution_count": 478,
   "metadata": {},
   "outputs": [],
   "source": [
    "s1 = 'deal into new stack'\n",
    "s2 = 'cut '\n",
    "s3 = 'deal with increment '\n",
    "\n",
    "deck = np.arange(size).reshape(size)\n",
    "\n",
    "for l in lines:\n",
    "    if l == s1:\n",
    "        deck = dealNew(deck)\n",
    "    elif l[0:4]== s2:\n",
    "        n = l.split(' ')\n",
    "        N = int(n[1])\n",
    "        deck = cutN(deck,N)\n",
    "    else:\n",
    "        n = l.split(' ')\n",
    "        N = int(n[3])\n",
    "        deck = dealWithIncrementN(deck,N)"
   ]
  },
  {
   "cell_type": "code",
   "execution_count": 479,
   "metadata": {},
   "outputs": [
    {
     "name": "stdout",
     "output_type": "stream",
     "text": [
      "Card 2019 is found at position 7171\n"
     ]
    }
   ],
   "source": [
    "card = 2019\n",
    "pos = np.where(deck==card)[0][0]\n",
    "print(\"Card\",card,\"is found at position\",pos)"
   ]
  },
  {
   "cell_type": "markdown",
   "metadata": {},
   "source": [
    "## Part 2\n",
    "\n",
    "(in italiano qualche suggerimento matematico di Zar da http://www.frenf.it/earlyadopters/p/marcodelmastro/1006619 )\n",
    "\n",
    "L'idea sarebbe quella di trasformare ogni tipo di ridistribuzione di carte in una funzione lineare. Per esempio, il deal diventa questo calcolo: return (N-x-1) % N, il cut diventa (x-n) % N e il deal with increment diventa (x*n) % N. A questo punto la sequenza di istruzioni diventa una composizione di funzioni lineari, quindi alla fine tutto il procedimento si può riassumere in una operazione y = ax+b."
   ]
  },
  {
   "cell_type": "code",
   "execution_count": 513,
   "metadata": {},
   "outputs": [],
   "source": [
    "with open(\"input22.txt\") as f:\n",
    "    lines = [l.rstrip('\\n') for l in f]\n",
    "\n",
    "s1 = 'deal into new stack'\n",
    "s2 = 'cut '\n",
    "s3 = 'deal with increment '\n",
    "\n",
    "seq = []\n",
    "\n",
    "for l in lines:\n",
    "    if l == s1:\n",
    "        seq.append([1,0])\n",
    "    elif l[0:4]== s2:\n",
    "        ll = l.split(' ')\n",
    "        n = int(ll[1])\n",
    "        seq.append([2,n])\n",
    "    else:\n",
    "        ll = l.split(' ')\n",
    "        n = int(ll[3])\n",
    "        seq.append([3,n])"
   ]
  },
  {
   "cell_type": "code",
   "execution_count": 514,
   "metadata": {},
   "outputs": [],
   "source": [
    "# mod operation is factorizable!\n",
    "\n",
    "def deal(x,N):\n",
    "    return (N-x-1) #% N\n",
    "\n",
    "def cut(x,N,n):\n",
    "    return (x-n) #% N\n",
    "\n",
    "def dealwi(x,N,n):\n",
    "    return (x*n) #% N\n",
    "\n",
    "def sequence(x,N,seq):\n",
    "    for s in seq:\n",
    "        if s[0]==1:\n",
    "            x = deal(x,N)\n",
    "        elif s[0]==2:\n",
    "            x = cut(x,N,s[1])\n",
    "        elif s[0]==3:\n",
    "            x = dealwi(x,N,s[1])\n",
    "    return x % N"
   ]
  },
  {
   "cell_type": "code",
   "execution_count": 515,
   "metadata": {},
   "outputs": [
    {
     "name": "stdout",
     "output_type": "stream",
     "text": [
      "7171\n"
     ]
    }
   ],
   "source": [
    "x = 2019\n",
    "N = 10007\n",
    "print(sequence(x,N,seq))"
   ]
  },
  {
   "cell_type": "markdown",
   "metadata": {},
   "source": [
    "`sequence()` solves Part 1 implementing all instructions as operations on a single card/value, and that's good.\n",
    "\n",
    "On the other hand, it's still defined as a sequence of operations, while I'd like to **condensate it in a simplified y=ax+b form**. Since each operation is a linear tranformation (plus a `mod()` operation that is factorisable), I can compute the \"cumulative\" factors a and b factor as \"sum\" of the coefficients of all transformations (a's needs to be multipled, b's are summed, but I should not forget to also multiply b's if current tranformation has a scaling factor!)."
   ]
  },
  {
   "cell_type": "code",
   "execution_count": 588,
   "metadata": {},
   "outputs": [
    {
     "name": "stdout",
     "output_type": "stream",
     "text": [
      "a = 5636 b = 6046\n"
     ]
    }
   ],
   "source": [
    "def linearSeq(seq,N):\n",
    "    a = 1\n",
    "    b = 0\n",
    "    for s in seq:\n",
    "        if s[0]==1:\n",
    "            a *= -1\n",
    "            b = (-1*b)+N-1 # b needs to be multiplied by -1 (a of current stranforamtion) before shifting\n",
    "        elif s[0]==2:\n",
    "            #a *= 1\n",
    "            b -= s[1]\n",
    "        elif s[0]==3:\n",
    "            a *= s[1]\n",
    "            b *= s[1]\n",
    "    return a%N,b%N\n",
    "\n",
    "a, b = linearSeq(seq,N)\n",
    "print(\"a =\",a,\"b =\",b)"
   ]
  },
  {
   "cell_type": "code",
   "execution_count": 589,
   "metadata": {},
   "outputs": [
    {
     "name": "stdout",
     "output_type": "stream",
     "text": [
      "x = 2019 --> y = 7171\n"
     ]
    }
   ],
   "source": [
    "x = 2019\n",
    "y = (a * x + b)%N\n",
    "print(\"x =\",x,\"--> y =\",y)"
   ]
  },
  {
   "cell_type": "markdown",
   "metadata": {},
   "source": [
    "Per risolvere la seconda parte del quesito serve la funzione inversa, cioè x = (y-b)/a, dove però non si può davvero dividere per a perché stiamo lavorando con numeri interi, quindi la divisione per a deve diventare una moltiplicazione per l'inverso moltiplicativo di a.\n",
    "\n",
    "Per trovare la funzione inversa, posso usare l'algoritmo di Euclide esteso: http://www.di-srv.unisa.it/~ads/ads/Sicurezza_files/NumberTheory.pdf\n"
   ]
  },
  {
   "cell_type": "code",
   "execution_count": 590,
   "metadata": {},
   "outputs": [
    {
     "data": {
      "text/plain": [
       "(3, -11, 14)"
      ]
     },
     "execution_count": 590,
     "metadata": {},
     "output_type": "execute_result"
    }
   ],
   "source": [
    "def EuclidGDC(a,n):\n",
    "    '''Euclid algorithm to computed GCD'''\n",
    "    if n==0:\n",
    "        return a\n",
    "    else:\n",
    "        return EuclidGDC(n, a%n)\n",
    "\n",
    "def ExtendedEuclidGDC(a,n): \n",
    "    '''Extended Euclid algorithm to computed GCD and integer pair (x,y) that satifies d = gcd(a,n) = a*x+n*y'''\n",
    "    if n==0:\n",
    "        return a,1,0\n",
    "    di, xi, yi = ExtendedEuclidGDC(n,a%n)\n",
    "    d = di\n",
    "    x = yi\n",
    "    y = xi - a//n * yi # use // for integer division!\n",
    "    return d, x, y \n",
    "    \n",
    "\n",
    "d,x,y = ExtendedEuclidGDC(99,78)\n",
    "d,x,y\n",
    "#=-11*99+14*78"
   ]
  },
  {
   "cell_type": "markdown",
   "metadata": {},
   "source": [
    "I can solve an equation in the form $ax = n\\mod n$ it with Euclid. Solutions exists if and only if $g|b$ where $g = \\gcd(a,n)$. In this case I have $g$ solutions:\n",
    "$$ x'\\frac{b}{g} + i \\frac{n}{g} \\quad\\text{for}\\quad i = 0,1,..., g-1$$\n",
    "\n",
    "In my case I want to invert $y=ax+b \\mod n$, so I want to find $a^{-1}\\mod{n}$ and $b/a\\mod{n}$ to be able to compute:\n",
    "$$ x = y \\frac{1}{a} - \\frac{b}{a}\\mod n$$"
   ]
  },
  {
   "cell_type": "code",
   "execution_count": 596,
   "metadata": {},
   "outputs": [
    {
     "name": "stdout",
     "output_type": "stream",
     "text": [
      "5^-1 mod 7 = 3\n"
     ]
    }
   ],
   "source": [
    "# example: compute di 5^-1 mod 7\n",
    "d,x,y = ExtendedEuclidGDC(5,7)\n",
    "print(\"5^-1 mod 7 =\",x)"
   ]
  },
  {
   "cell_type": "code",
   "execution_count": 599,
   "metadata": {},
   "outputs": [
    {
     "name": "stdout",
     "output_type": "stream",
     "text": [
      "a = 5636 --> 1/a mod N = 3631\n"
     ]
    }
   ],
   "source": [
    "D,inva,Y = ExtendedEuclidGDC(a,N)\n",
    "print(\"a =\", a,\"--> 1/a mod N =\",inva)"
   ]
  },
  {
   "cell_type": "code",
   "execution_count": 593,
   "metadata": {},
   "outputs": [
    {
     "data": {
      "text/plain": [
       "2019"
      ]
     },
     "execution_count": 593,
     "metadata": {},
     "output_type": "execute_result"
    }
   ],
   "source": [
    "def invSeq(y,inva,b,n):\n",
    "    return (y * inva - b * inva)%n\n",
    "\n",
    "invSeq(7171,inva,b,N)"
   ]
  },
  {
   "cell_type": "markdown",
   "metadata": {},
   "source": [
    "La parte 2 chiede di calcolare l'inverso di 2020 dopo aver applicato la funzione inversa 101741582076661 volte, cosa improponibile. Il giochetto è (chiamiamo G la funzione inversa): calcolo G(G(x)), che chiamo G2. Poi calcolo G2(G2(x)), che chiamo G4, poi G4(G4(x)), che chiamo G16. E così via, raddoppiando, in un numero di passi dell'ordine del logaritmo in base 2 di 101741582076661 si arriva al risultato.\n",
    "\n",
    "Questa è l'idea: http://proooof.blogspot.com/2010/05/alice-bob-e-eva-modpow.html"
   ]
  },
  {
   "cell_type": "code",
   "execution_count": 595,
   "metadata": {},
   "outputs": [
    {
     "data": {
      "text/plain": [
       "2019"
      ]
     },
     "execution_count": 595,
     "metadata": {},
     "output_type": "execute_result"
    }
   ],
   "source": [
    "# Summary of previous steps, to be recompute with new N (larger deck)\n",
    "# N = 119315717514047\n",
    "# M = 101741582076661\n",
    "\n",
    "N = 10007\n",
    "x = 2019\n",
    "y = 7171\n",
    "\n",
    "a, b = linearSeq(seq,N)\n",
    "D,inva,Y = ExtendedEuclidGDC(a,N)\n",
    "invSeq(y,inva,b,N)"
   ]
  },
  {
   "cell_type": "code",
   "execution_count": null,
   "metadata": {},
   "outputs": [],
   "source": []
  }
 ],
 "metadata": {
  "kernelspec": {
   "display_name": "Python 3",
   "language": "python",
   "name": "python3"
  },
  "language_info": {
   "codemirror_mode": {
    "name": "ipython",
    "version": 3
   },
   "file_extension": ".py",
   "mimetype": "text/x-python",
   "name": "python",
   "nbconvert_exporter": "python",
   "pygments_lexer": "ipython3",
   "version": "3.7.5"
  }
 },
 "nbformat": 4,
 "nbformat_minor": 2
}
