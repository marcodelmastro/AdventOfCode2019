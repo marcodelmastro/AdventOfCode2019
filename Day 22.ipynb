{
 "cells": [
  {
   "cell_type": "code",
   "execution_count": 107,
   "metadata": {},
   "outputs": [],
   "source": [
    "import numpy as np"
   ]
  },
  {
   "cell_type": "code",
   "execution_count": 108,
   "metadata": {},
   "outputs": [
    {
     "name": "stdout",
     "output_type": "stream",
     "text": [
      "[0 1 2 3 4 5 6 7 8 9]\n"
     ]
    }
   ],
   "source": [
    "size = 10\n",
    "deck = np.arange(size).reshape(size)\n",
    "print(deck)"
   ]
  },
  {
   "cell_type": "code",
   "execution_count": 109,
   "metadata": {},
   "outputs": [
    {
     "name": "stdout",
     "output_type": "stream",
     "text": [
      "[9 8 7 6 5 4 3 2 1 0]\n"
     ]
    }
   ],
   "source": [
    "# 1. deal into new stack\n",
    "def shuffle1(deck):\n",
    "    #newdeck = np.copy(deck)\n",
    "    newdeck = deck[::-1] \n",
    "    return newdeck\n",
    "\n",
    "print(shuffle1(deck))"
   ]
  },
  {
   "cell_type": "code",
   "execution_count": 110,
   "metadata": {},
   "outputs": [
    {
     "name": "stdout",
     "output_type": "stream",
     "text": [
      "[6 7 8 9 0 1 2 3 4 5]\n"
     ]
    }
   ],
   "source": [
    "# 2. cut N cards (N can be negative)\n",
    "def shuffle2(deck,N):\n",
    "    if N>0:\n",
    "        cut = deck[0:N]\n",
    "        left = deck[N:]\n",
    "        newdeck = np.append(left,cut)\n",
    "    elif N<0:\n",
    "        cut = deck[len(deck)+N:]\n",
    "        left = deck[:N]\n",
    "        newdeck = np.append(cut,left)\n",
    "    return newdeck\n",
    "    \n",
    "print(shuffle2(deck,-4))"
   ]
  },
  {
   "cell_type": "code",
   "execution_count": 166,
   "metadata": {},
   "outputs": [
    {
     "name": "stdout",
     "output_type": "stream",
     "text": [
      "[    0.  3336.  6672. ... 10006.  3335.  6671.]\n"
     ]
    }
   ],
   "source": [
    "# 3. deal with increment N\n",
    "def shuffle3(deck,N):\n",
    "    newdeck = np.zeros(len(deck))\n",
    "    j = 0\n",
    "    for i in range(len(deck)):\n",
    "        #print(j)\n",
    "        newdeck[j] = deck[i]\n",
    "        j = (j+N)%len(deck)\n",
    "    return newdeck\n",
    " \n",
    "deck = np.arange(size).reshape(size)\n",
    "print(shuffle3(deck,3))"
   ]
  },
  {
   "cell_type": "code",
   "execution_count": 167,
   "metadata": {},
   "outputs": [],
   "source": [
    "lines = [\n",
    "'deal with increment 7',\n",
    "'deal into new stack',\n",
    "'deal into new stack']\n",
    "# Result: 0 3 6 9 2 5 8 1 4 7 --> OK\n",
    "\n",
    "lines = [\n",
    "'cut 6',\n",
    "'deal with increment 7',\n",
    "'deal into new stack' ] \n",
    "#Result: 3 0 7 4 1 8 5 2 9 6 --> OK\n",
    "\n",
    "lines = [\n",
    "'deal with increment 7',\n",
    "'deal with increment 9',\n",
    "'cut -2' ]\n",
    "#Result: 6 3 0 7 4 1 8 5 2 9 --> OK\n",
    "\n",
    "lines = [\n",
    "'deal into new stack',\n",
    "'cut -2',\n",
    "'deal with increment 7',\n",
    "'cut 8',\n",
    "'cut -4',\n",
    "'deal with increment 7',\n",
    "'cut 3',\n",
    "'deal with increment 9',\n",
    "'deal with increment 3',\n",
    "'cut -1' ]\n",
    "# Result: 9 2 5 8 1 4 7 0 3 6 --> OK\n",
    "\n",
    "size = 10"
   ]
  },
  {
   "cell_type": "code",
   "execution_count": 184,
   "metadata": {},
   "outputs": [],
   "source": [
    "with open(\"input22.txt\") as f:\n",
    "    lines = [l.rstrip('\\n') for l in f]\n",
    "#lines\n",
    "\n",
    "size = 10007"
   ]
  },
  {
   "cell_type": "code",
   "execution_count": 185,
   "metadata": {},
   "outputs": [],
   "source": [
    "s1 = 'deal into new stack'\n",
    "s2 = 'cut '\n",
    "s3 = 'deal with increment '\n",
    "\n",
    "deck = np.arange(size).reshape(size)\n",
    "\n",
    "for l in lines:\n",
    "    if l == s1:\n",
    "        deck = shuffle1(deck)\n",
    "    elif l[0:4]== s2:\n",
    "        n = l.split(' ')\n",
    "        N = int(n[1])\n",
    "        deck = shuffle2(deck,N)\n",
    "    else:\n",
    "        n = l.split(' ')\n",
    "        N = int(n[3])\n",
    "        deck = shuffle3(deck,N)"
   ]
  },
  {
   "cell_type": "code",
   "execution_count": 186,
   "metadata": {},
   "outputs": [
    {
     "name": "stdout",
     "output_type": "stream",
     "text": [
      "Card 2019 is found at position 7171\n"
     ]
    }
   ],
   "source": [
    "card = 2019\n",
    "pos = np.where(deck==card)[0][0]\n",
    "print(\"Card\",card,\"is found at position\",pos)"
   ]
  },
  {
   "cell_type": "code",
   "execution_count": null,
   "metadata": {},
   "outputs": [],
   "source": []
  }
 ],
 "metadata": {
  "kernelspec": {
   "display_name": "Python 3",
   "language": "python",
   "name": "python3"
  },
  "language_info": {
   "codemirror_mode": {
    "name": "ipython",
    "version": 3
   },
   "file_extension": ".py",
   "mimetype": "text/x-python",
   "name": "python",
   "nbconvert_exporter": "python",
   "pygments_lexer": "ipython3",
   "version": "3.7.5"
  }
 },
 "nbformat": 4,
 "nbformat_minor": 2
}
