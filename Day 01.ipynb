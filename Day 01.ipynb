{
 "cells": [
  {
   "cell_type": "markdown",
   "metadata": {},
   "source": [
    "# Day 1: The Tyranny of the Rocket Equation\n",
    "\n",
    "https://adventofcode.com/2019/day/1"
   ]
  },
  {
   "cell_type": "code",
   "execution_count": 7,
   "metadata": {},
   "outputs": [],
   "source": [
    "import numpy as np"
   ]
  },
  {
   "cell_type": "code",
   "execution_count": 8,
   "metadata": {},
   "outputs": [
    {
     "data": {
      "text/plain": [
       "array([ 98435.,  61869., 123694.,  51157.,  70664., 107632.,  60289.,\n",
       "       140493., 135101.,  89758., 142578.,  63389., 126315., 133069.,\n",
       "       139989., 121089., 148127., 117475.,  65718., 129198.,  98612.,\n",
       "        67678.,  79752.,  97930., 141835.,  80575., 125798., 114298.,\n",
       "       139861.,  75550.,  64724.,  76315.,  71871., 132949., 117877.,\n",
       "        57157.,  93756., 113889.,  60388., 145810.,  86668.,  94498.,\n",
       "        50502., 106789., 119505.,  65341.,  60103.,  75963., 104149.,\n",
       "       134483.,  92833., 102273.,  56988.,  74202.,  69016., 110217.,\n",
       "       132242.,  87186.,  95704.,  88433.,  56225.,  60206.,  70508.,\n",
       "        62692., 143847.,  70088., 129908., 133319., 104284., 108627.,\n",
       "       106977., 107696.,  59576.,  76422., 115945., 137414.,  83299.,\n",
       "       138678., 108034., 140276.,  74857., 143726., 116028., 101970.,\n",
       "        84298., 133544., 116069.,  77564.,  91964.,  57954., 121404.,\n",
       "        54416.,  83370.,  74842.,  91677.,  65323.,  82036., 138725.,\n",
       "        95805., 112490.])"
      ]
     },
     "execution_count": 8,
     "metadata": {},
     "output_type": "execute_result"
    }
   ],
   "source": [
    "data = np.loadtxt(\"./data/input1.txt\")\n",
    "data"
   ]
  },
  {
   "cell_type": "code",
   "execution_count": 9,
   "metadata": {},
   "outputs": [],
   "source": [
    "def fuel(mass): \n",
    "    return int(mass/3)-2"
   ]
  },
  {
   "cell_type": "code",
   "execution_count": 10,
   "metadata": {},
   "outputs": [
    {
     "name": "stdout",
     "output_type": "stream",
     "text": [
      "3273715\n"
     ]
    }
   ],
   "source": [
    "f = 0\n",
    "for mass in data:\n",
    "    f += fuel(mass)\n",
    "print(f)"
   ]
  },
  {
   "cell_type": "code",
   "execution_count": 11,
   "metadata": {},
   "outputs": [
    {
     "name": "stdout",
     "output_type": "stream",
     "text": [
      "50346\n"
     ]
    }
   ],
   "source": [
    "def fullfuel(mass):\n",
    "    tot = 0\n",
    "    f = mass\n",
    "    while (f>0):\n",
    "        f = fuel(mass)\n",
    "        if (f<0):\n",
    "            f=0\n",
    "        tot += f\n",
    "        mass = f\n",
    "        #print(tot, f)\n",
    "    return tot\n",
    "\n",
    "testfuel = fullfuel(100756)\n",
    "print(testfuel)"
   ]
  },
  {
   "cell_type": "code",
   "execution_count": 6,
   "metadata": {},
   "outputs": [
    {
     "name": "stdout",
     "output_type": "stream",
     "text": [
      "4907702\n"
     ]
    }
   ],
   "source": [
    "totfuel = 0\n",
    "for mass in data:\n",
    "    totfuel += fullfuel(mass)\n",
    "print(totfuel)"
   ]
  },
  {
   "cell_type": "code",
   "execution_count": null,
   "metadata": {},
   "outputs": [],
   "source": []
  }
 ],
 "metadata": {
  "kernelspec": {
   "display_name": "Python 3",
   "language": "python",
   "name": "python3"
  },
  "language_info": {
   "codemirror_mode": {
    "name": "ipython",
    "version": 3
   },
   "file_extension": ".py",
   "mimetype": "text/x-python",
   "name": "python",
   "nbconvert_exporter": "python",
   "pygments_lexer": "ipython3",
   "version": "3.7.5"
  }
 },
 "nbformat": 4,
 "nbformat_minor": 2
}
