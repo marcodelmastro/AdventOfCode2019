{
 "cells": [
  {
   "cell_type": "markdown",
   "metadata": {},
   "source": [
    "# Day 12 with a more parallel implementation\n",
    "\n",
    "A class instance for each moon is a neat idea, but makes things slow. Let's see whether I can parallelize the calculation and speed up the completion of Part 2... (SPOILER: not really)"
   ]
  },
  {
   "cell_type": "code",
   "execution_count": 4,
   "metadata": {},
   "outputs": [],
   "source": [
    "import numpy as np"
   ]
  },
  {
   "cell_type": "code",
   "execution_count": 100,
   "metadata": {},
   "outputs": [],
   "source": [
    "class System():\n",
    "    def __init__(self,x1,x2,x3,x4):\n",
    "        self.x = np.array([x1,x2,x3,x4])\n",
    "        self.v = self.x*0\n",
    "    \n",
    "    def updateSystem(self):\n",
    "        # compute velocities\n",
    "        deltav = []\n",
    "        for xi in self.x:\n",
    "            # empty matrix\n",
    "            dv = self.v*0 \n",
    "            # apply gravity to matrix (line for current moon will be empty by definition)\n",
    "            dv += (xi-self.x < 0) # add if smaller\n",
    "            dv -= (xi-self.x > 0) # subtract if bigger\n",
    "            dv_ = np.sum(dv,axis=0) # sum all velocity variations for current moon    \n",
    "            deltav.append(dv_.tolist()) # repackage as matrix adding row for current moon        \n",
    "        # update velocities\n",
    "        self.v += np.array(deltav)\n",
    "        # update positions\n",
    "        self.x += self.v\n",
    "        \n",
    "    def tot(self):\n",
    "        return (np.absolute(self.x).sum(axis=1)*np.absolute(self.v).sum(axis=1)).sum()\n",
    "    \n",
    "    def getHash(self):\n",
    "        return hash(np.append(self.x,self.v).tostring())"
   ]
  },
  {
   "cell_type": "code",
   "execution_count": null,
   "metadata": {},
   "outputs": [],
   "source": [
    "# Example 1\n",
    "#x1 = np.array([-1,  0, 2])\n",
    "#x2 = np.array([ 2,-10,-7])\n",
    "#x3 = np.array([ 4, -8, 8])\n",
    "#x4 = np.array([ 3, 5 ,-1])\n",
    "\n",
    "# Input\n",
    "x1 = np.array([7, 10, 17])\n",
    "x2 = np.array([-2, 7, 0])\n",
    "x3 = np.array([12, 5, 12])\n",
    "x4 = np.array([5, -8, 6])\n",
    "\n",
    "s = System(x1,x2,x3,x4)\n",
    "\n",
    "istep = 0\n",
    "istepmax = 1000\n",
    "etot = -1\n",
    "\n",
    "while(istep<=istepmax):\n",
    "    #print(istep,\"\\n\",s.x,\"\\n\",s.v)\n",
    "    #print(\"Etot = \",s.tot())\n",
    "    etot = s.tot()\n",
    "    s.updateSystem()\n",
    "    istep += 1\n",
    "    \n",
    "print(\"Etot =\",etot)"
   ]
  },
  {
   "cell_type": "code",
   "execution_count": 102,
   "metadata": {},
   "outputs": [
    {
     "data": {
      "text/plain": [
       "8205716582213997605"
      ]
     },
     "execution_count": 102,
     "metadata": {},
     "output_type": "execute_result"
    }
   ],
   "source": [
    "s.getHash()"
   ]
  },
  {
   "cell_type": "code",
   "execution_count": 112,
   "metadata": {},
   "outputs": [
    {
     "name": "stdout",
     "output_type": "stream",
     "text": [
      "**************************************************************************************************************************************************************************************************************************************************************************************************************************************************************************************************"
     ]
    },
    {
     "ename": "KeyboardInterrupt",
     "evalue": "",
     "output_type": "error",
     "traceback": [
      "\u001b[0;31m---------------------------------------------------------------------------\u001b[0m",
      "\u001b[0;31mKeyboardInterrupt\u001b[0m                         Traceback (most recent call last)",
      "\u001b[0;32m<ipython-input-112-1b65302b522d>\u001b[0m in \u001b[0;36m<module>\u001b[0;34m\u001b[0m\n\u001b[1;32m     35\u001b[0m \u001b[0;34m\u001b[0m\u001b[0m\n\u001b[1;32m     36\u001b[0m     \u001b[0mistep\u001b[0m \u001b[0;34m+=\u001b[0m \u001b[0;36m1\u001b[0m\u001b[0;34m\u001b[0m\u001b[0;34m\u001b[0m\u001b[0m\n\u001b[0;32m---> 37\u001b[0;31m     \u001b[0ms\u001b[0m\u001b[0;34m.\u001b[0m\u001b[0mupdateSystem\u001b[0m\u001b[0;34m(\u001b[0m\u001b[0;34m)\u001b[0m\u001b[0;34m\u001b[0m\u001b[0;34m\u001b[0m\u001b[0m\n\u001b[0m\u001b[1;32m     38\u001b[0m     \u001b[0mh\u001b[0m \u001b[0;34m=\u001b[0m \u001b[0ms\u001b[0m\u001b[0;34m.\u001b[0m\u001b[0mgetHash\u001b[0m\u001b[0;34m(\u001b[0m\u001b[0;34m)\u001b[0m\u001b[0;34m\u001b[0m\u001b[0;34m\u001b[0m\u001b[0m\n\u001b[1;32m     39\u001b[0m     \u001b[0;32mif\u001b[0m \u001b[0;34m(\u001b[0m\u001b[0mh\u001b[0m \u001b[0;34m==\u001b[0m\u001b[0mh0\u001b[0m\u001b[0;34m)\u001b[0m\u001b[0;34m:\u001b[0m\u001b[0;34m\u001b[0m\u001b[0;34m\u001b[0m\u001b[0m\n",
      "\u001b[0;32m<ipython-input-100-7608ea013b23>\u001b[0m in \u001b[0;36mupdateSystem\u001b[0;34m(self)\u001b[0m\n\u001b[1;32m     12\u001b[0m             \u001b[0;31m# apply gravity to matrix (line for current moon will be empty by definition)\u001b[0m\u001b[0;34m\u001b[0m\u001b[0;34m\u001b[0m\u001b[0;34m\u001b[0m\u001b[0m\n\u001b[1;32m     13\u001b[0m             \u001b[0mdv\u001b[0m \u001b[0;34m+=\u001b[0m \u001b[0;34m(\u001b[0m\u001b[0mxi\u001b[0m\u001b[0;34m-\u001b[0m\u001b[0mself\u001b[0m\u001b[0;34m.\u001b[0m\u001b[0mx\u001b[0m \u001b[0;34m<\u001b[0m \u001b[0;36m0\u001b[0m\u001b[0;34m)\u001b[0m \u001b[0;31m# add if smaller\u001b[0m\u001b[0;34m\u001b[0m\u001b[0;34m\u001b[0m\u001b[0m\n\u001b[0;32m---> 14\u001b[0;31m             \u001b[0mdv\u001b[0m \u001b[0;34m-=\u001b[0m \u001b[0;34m(\u001b[0m\u001b[0mxi\u001b[0m\u001b[0;34m-\u001b[0m\u001b[0mself\u001b[0m\u001b[0;34m.\u001b[0m\u001b[0mx\u001b[0m \u001b[0;34m>\u001b[0m \u001b[0;36m0\u001b[0m\u001b[0;34m)\u001b[0m \u001b[0;31m# subtract if bigger\u001b[0m\u001b[0;34m\u001b[0m\u001b[0;34m\u001b[0m\u001b[0m\n\u001b[0m\u001b[1;32m     15\u001b[0m             \u001b[0mdv_\u001b[0m \u001b[0;34m=\u001b[0m \u001b[0mnp\u001b[0m\u001b[0;34m.\u001b[0m\u001b[0msum\u001b[0m\u001b[0;34m(\u001b[0m\u001b[0mdv\u001b[0m\u001b[0;34m,\u001b[0m\u001b[0maxis\u001b[0m\u001b[0;34m=\u001b[0m\u001b[0;36m0\u001b[0m\u001b[0;34m)\u001b[0m \u001b[0;31m# sum all velocity variations for current moon\u001b[0m\u001b[0;34m\u001b[0m\u001b[0;34m\u001b[0m\u001b[0m\n\u001b[1;32m     16\u001b[0m             \u001b[0mdeltav\u001b[0m\u001b[0;34m.\u001b[0m\u001b[0mappend\u001b[0m\u001b[0;34m(\u001b[0m\u001b[0mdv_\u001b[0m\u001b[0;34m.\u001b[0m\u001b[0mtolist\u001b[0m\u001b[0;34m(\u001b[0m\u001b[0;34m)\u001b[0m\u001b[0;34m)\u001b[0m \u001b[0;31m# repackage as matrix adding row for current moon\u001b[0m\u001b[0;34m\u001b[0m\u001b[0;34m\u001b[0m\u001b[0m\n",
      "\u001b[0;31mKeyboardInterrupt\u001b[0m: "
     ]
    }
   ],
   "source": [
    "import time\n",
    "\n",
    "# Example 1\n",
    "#x1 = np.array([-1,0,2])\n",
    "#x2 = np.array([2,-10,-7])\n",
    "#x3 = np.array([4,-8,8])\n",
    "#x4 = np.array([3,5,-1])\n",
    "\n",
    "# Example 2\n",
    "# This set of initial positions takes 4686774924 steps before it repeats a previous state!\n",
    "x1 = np.array([-8, -10, 0])\n",
    "x2 = np.array([5, 5, 10])\n",
    "x3 = np.array([2, -7, 3])\n",
    "x4 = np.array([9, -8, -3])\n",
    "\n",
    "# Input\n",
    "#x1 = np.array([7, 10, 17])\n",
    "#x2 = np.array([-2, 7, 0])\n",
    "#x3 = np.array([12, 5, 12])\n",
    "#x4 = np.array([5, -8, 6])\n",
    "\n",
    "s = System(x1,x2,x3,x4)\n",
    "\n",
    "# system is linear, thus first repetition must be equal to initial state\n",
    "# so it should not be needed to cache and check all hashes for all states\n",
    "\n",
    "h0 = s.getHash() \n",
    "\n",
    "istep = 0\n",
    "start_time = time.time()\n",
    "\n",
    "while(True):\n",
    "    \n",
    "    istep += 1\n",
    "    s.updateSystem()\n",
    "    h = s.getHash()\n",
    "    if (h ==h0):\n",
    "        break\n",
    "        \n",
    "    if (istep%10000==0): \n",
    "        print(\"*\",end=\"\")\n",
    "        \n",
    "end_time = time.time() \n",
    "print(\"\\nSystem have same (initial) configuration at step = \", istep)\n",
    "print(\"Execution time = %f seconds\" % (end_time-start_time))"
   ]
  },
  {
   "cell_type": "code",
   "execution_count": null,
   "metadata": {},
   "outputs": [],
   "source": []
  },
  {
   "cell_type": "code",
   "execution_count": null,
   "metadata": {},
   "outputs": [],
   "source": []
  }
 ],
 "metadata": {
  "kernelspec": {
   "display_name": "Python 3",
   "language": "python",
   "name": "python3"
  },
  "language_info": {
   "codemirror_mode": {
    "name": "ipython",
    "version": 3
   },
   "file_extension": ".py",
   "mimetype": "text/x-python",
   "name": "python",
   "nbconvert_exporter": "python",
   "pygments_lexer": "ipython3",
   "version": "3.7.5"
  }
 },
 "nbformat": 4,
 "nbformat_minor": 2
}
