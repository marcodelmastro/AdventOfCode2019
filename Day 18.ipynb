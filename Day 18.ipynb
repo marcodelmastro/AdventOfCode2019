{
 "cells": [
  {
   "cell_type": "markdown",
   "metadata": {},
   "source": [
    "# Day 18: Many-Worlds Interpretation\n",
    "\n",
    "https://adventofcode.com/2019/day/18"
   ]
  },
  {
   "cell_type": "code",
   "execution_count": 145,
   "metadata": {},
   "outputs": [],
   "source": [
    "import numpy as np\n",
    "import matplotlib.pyplot as plt\n",
    "from queue import Queue"
   ]
  },
  {
   "cell_type": "code",
   "execution_count": 274,
   "metadata": {},
   "outputs": [],
   "source": [
    "WALL  = 1\n",
    "EMPTY = 0\n",
    "DOOR  = 2\n",
    "KEY   = EMPTY\n",
    "VISITED = 3\n",
    "START   = VISITED\n",
    "\n",
    "def amaze2matrix(amaze):\n",
    "    nrow = len(amaze)\n",
    "    ncol = len(amaze[0])\n",
    "    shape = (nrow,ncol)\n",
    "    maze = np.zeros(shape)\n",
    "    x0 = np.zeros(2)    \n",
    "    doors = {}\n",
    "    keys = {}\n",
    "    j = 0\n",
    "    for l in amaze:\n",
    "        i = 0\n",
    "        for c in l:\n",
    "            if c=='#':\n",
    "                maze[j][i] = WALL\n",
    "            elif c=='.':\n",
    "                maze[j][i] = EMPTY\n",
    "            elif c=='@':\n",
    "                maze[j][i] = START\n",
    "                start = (i,j) \n",
    "            else:\n",
    "                if c.isupper():\n",
    "                    maze[j][i] = DOOR\n",
    "                    doors[c] = (i,j)\n",
    "                else:\n",
    "                    maze[j][i] = KEY\n",
    "                    keys[c] = (i,j)\n",
    "            i+=1\n",
    "        j+=1\n",
    "    return maze, doors, keys, start\n",
    "\n",
    "## Coordinates for a given position are encoded as (x,y) tuple\n",
    "def getAdjacent(n):\n",
    "    '''returns list of adiacent cells'''\n",
    "    x,y = n\n",
    "    return [(x-1,y), # W\n",
    "            (x,y-1), # N\n",
    "            (x+1,y), # E\n",
    "            (x,y+1)] # S\n",
    "\n",
    "def BFS(start, end, theMaze, ignoreDoors=True):\n",
    "    '''Find shorter path between two position in the maze using BFS algorithm'''\n",
    "    maze = np.copy(theMaze)\n",
    "    queue = Queue()\n",
    "    queue.put([start]) # wrap the starting cell tuple in a list\n",
    "    lenmax = 1\n",
    "    while not queue.empty():\n",
    "        path = queue.get() # get a path form the paths' queur\n",
    "        c = path[-1] # take last step of current path\n",
    "        if c == end:\n",
    "            return path\n",
    "        for a in getAdjacent(c): # explore adjacent cells\n",
    "            x,y = a\n",
    "            if maze[y][x] == WALL or maze[y][x] == VISITED \\\n",
    "                or ( not ignoreDoors and maze[y][x] == DOOR) : \n",
    "                # if a dead is reached (all WALL or VISITED) path gets dequeued\n",
    "                continue\n",
    "            else:\n",
    "                maze[y][x] = VISITED\n",
    "                new_path = list(path)\n",
    "                new_path.append(a)\n",
    "                queue.put(new_path) # store back the path in the queue with the new step\n",
    "    #print(\"END position not reachable\")\n",
    "    return []"
   ]
  },
  {
   "cell_type": "code",
   "execution_count": 275,
   "metadata": {},
   "outputs": [],
   "source": [
    "#inputfile = \"./data/day18test1.txt\"\n",
    "inputfile = \"./data/input18.txt\"\n",
    "\n",
    "with open(inputfile) as f:\n",
    "    amaze = [l.rstrip('\\n') for l in f]"
   ]
  },
  {
   "cell_type": "code",
   "execution_count": 276,
   "metadata": {},
   "outputs": [
    {
     "data": {
      "text/plain": [
       "<matplotlib.image.AxesImage at 0x11815ea10>"
      ]
     },
     "execution_count": 276,
     "metadata": {},
     "output_type": "execute_result"
    },
    {
     "data": {
      "image/png": "[encoded data removed]",
      "text/plain": [
       "<Figure size 500x500 with 1 Axes>"
      ]
     },
     "metadata": {
      "needs_background": "light"
     },
     "output_type": "display_data"
    }
   ],
   "source": [
    "maze, doors, keys, start = amaze2matrix(amaze)\n",
    "\n",
    "fig = plt.figure(figsize=(5,5), dpi=100)\n",
    "plt.imshow(maze)"
   ]
  },
  {
   "cell_type": "code",
   "execution_count": 277,
   "metadata": {},
   "outputs": [],
   "source": [
    "def reachableKeys(pos,keys,theMaze):\n",
    "    maze = np.copy(theMaze)\n",
    "    # check distance of reachable keys from current position\n",
    "    reachable = {}\n",
    "    for k in keys.keys():\n",
    "        end = keys[k]\n",
    "        path = BFS(pos,end,maze,ignoreDoors=False)\n",
    "        if len(path): # Key is reachable\n",
    "            reachable[k] = end\n",
    "    return reachable"
   ]
  },
  {
   "cell_type": "code",
   "execution_count": 278,
   "metadata": {},
   "outputs": [
    {
     "data": {
      "text/plain": [
       "{'s': (69, 27), 'c': (67, 41), 'q': (41, 45), 'm': (29, 65), 'z': (35, 67)}"
      ]
     },
     "execution_count": 278,
     "metadata": {},
     "output_type": "execute_result"
    }
   ],
   "source": [
    "pos = start\n",
    "reachableKeys(pos,keys,maze)"
   ]
  },
  {
   "cell_type": "code",
   "execution_count": 279,
   "metadata": {},
   "outputs": [],
   "source": [
    "def shortestPath(start,end,maze,doors):\n",
    "    path = BFS(start,end,maze,ignoreDoors=True)\n",
    "    doorsOnPath = []\n",
    "    for c in path:\n",
    "        if c in doors.values():\n",
    "            doorsOnPath.append(list(doors.keys())[list(doors.values()).index(c)])\n",
    "    return path, doorsOnPath"
   ]
  },
  {
   "cell_type": "code",
   "execution_count": 280,
   "metadata": {},
   "outputs": [
    {
     "data": {
      "text/plain": [
       "(339, ['A'])"
      ]
     },
     "execution_count": 280,
     "metadata": {},
     "output_type": "execute_result"
    }
   ],
   "source": [
    "start = keys['s']\n",
    "end = keys['t']\n",
    "path, doorsOnPath = shortestPath(start,end,maze,doors)\n",
    "len(path), doorsOnPath"
   ]
  },
  {
   "cell_type": "code",
   "execution_count": null,
   "metadata": {},
   "outputs": [],
   "source": [
    "pos = start\n",
    "\n",
    "for k in reachableKeys(pos,keys,maze):\n",
    "    end = keys[k]\n",
    "    path = BFS(pos,end,maze,ignoreDoors=False)\n",
    "\n"
   ]
  }
 ],
 "metadata": {
  "kernelspec": {
   "display_name": "Python 3",
   "language": "python",
   "name": "python3"
  },
  "language_info": {
   "codemirror_mode": {
    "name": "ipython",
    "version": 3
   },
   "file_extension": ".py",
   "mimetype": "text/x-python",
   "name": "python",
   "nbconvert_exporter": "python",
   "pygments_lexer": "ipython3",
   "version": "3.7.5"
  }
 },
 "nbformat": 4,
 "nbformat_minor": 2
}
