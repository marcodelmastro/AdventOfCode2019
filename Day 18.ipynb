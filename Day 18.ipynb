{
 "cells": [
  {
   "cell_type": "markdown",
   "metadata": {},
   "source": [
    "# Day 18: Many-Worlds Interpretation\n",
    "\n",
    "https://adventofcode.com/2019/day/18\n",
    "\n",
    "## Some notes\n",
    "\n",
    "This is the last puzzle I'm trying to solve, and possibly the most difficult for me. In the meanwhile, tough, I learned a thing of two about maze searching (e.g. for Day 20) and search algorithms. \n",
    "\n",
    "I think the idea of storing the maze in a matrix is not very good, since the keys and doors add an additional dimension to the problem, and the amount of mazes to be stored just t save whther a tile has been visited or note in a BFS search would be of the order of 26! given I have 26 key: too many!\n",
    "\n",
    "I could represent a point in a search pash as `(x,y,collectedkeys)`, and store the information about the visited cells in a dictionary of a cell. I need to decide how to represent the `collectedkeys` information, it could be a 26-bits word.\n",
    "\n",
    "## Part 1"
   ]
  },
  {
   "cell_type": "code",
   "execution_count": 1,
   "metadata": {},
   "outputs": [],
   "source": [
    "import numpy as np\n",
    "import matplotlib.pyplot as plt\n",
    "from collections import defaultdict\n",
    "from queue import Queue"
   ]
  },
  {
   "cell_type": "code",
   "execution_count": 2,
   "metadata": {},
   "outputs": [],
   "source": [
    "def readInput(inputfile):\n",
    "    amaze = []\n",
    "    with open(inputfile) as f:\n",
    "        amaze = [l.rstrip('\\n') for l in f]\n",
    "    return amaze"
   ]
  },
  {
   "cell_type": "markdown",
   "metadata": {},
   "source": [
    "Define various bitwise operations to store information about collected keys, and use them to check if a door can be traversed"
   ]
  },
  {
   "cell_type": "code",
   "execution_count": 3,
   "metadata": {},
   "outputs": [],
   "source": [
    "def setBit(value, bit):\n",
    "    return value | (1<<bit)\n",
    "\n",
    "def clearBit(value, bit):\n",
    "    return value & ~(1<<bit)\n",
    "\n",
    "def isSet(x, n):\n",
    "    return x & 1 << n != 0\n",
    "\n",
    "def keyString(collectedkeys):\n",
    "    keys = \"abcdefghijklmnopqrstuvwxyz\"\n",
    "    keystr = \"\"\n",
    "    for i in range(26):\n",
    "        if isSet(collectedkeys,i):\n",
    "            keystr += keys[i]\n",
    "    return keystr\n",
    "\n",
    "def addKey(collectedkeys,key):\n",
    "    keys = \"abcdefghijklmnopqrstuvwxyz\"\n",
    "    bit = keys.find(key)\n",
    "    if bit >=0:\n",
    "        return collectedkeys | (1<<bit)\n",
    "    else:\n",
    "        return collectedkeys\n",
    "\n",
    "def hasKey(key,collectedkeys):\n",
    "    keys = \"abcdefghijklmnopqrstuvwxyz\"\n",
    "    bit = keys.find(key)\n",
    "    return ( collectedkeys & (1<<bit) ) > 0\n",
    "\n",
    "def isOpen(door,collectedkeys):\n",
    "    if door.isupper():\n",
    "        key = door.lower()\n",
    "        return hasKey(key,collectedkeys)\n",
    "    else:\n",
    "        return False\n",
    "\n",
    "def allKeys(amaze):\n",
    "    keys = \"\"\n",
    "    for l in amaze:\n",
    "        for c in l:\n",
    "            if c.islower():\n",
    "                keys += c\n",
    "    keys = ''.join(sorted(keys))\n",
    "    keyword = 0\n",
    "    for i in range(len(keys)):\n",
    "        keyword = keyword | (1<<i)\n",
    "    return keyword\n",
    "\n",
    "def getStart(amaze):\n",
    "    foundStart = False\n",
    "    ys = 0\n",
    "    for l in amaze:\n",
    "        xs = 0\n",
    "        for c in l:\n",
    "            if c==\"@\":\n",
    "                foundStart = True\n",
    "                break\n",
    "            xs += 1\n",
    "        if foundStart:\n",
    "            break\n",
    "        ys += 1\n",
    "    return (xs,ys,0)"
   ]
  },
  {
   "cell_type": "code",
   "execution_count": 4,
   "metadata": {},
   "outputs": [],
   "source": [
    "def getAdjacent(n):\n",
    "    '''returns list of adiacent cells'''\n",
    "    x,y = n\n",
    "    return [(x-1,y), # W\n",
    "            (x,y-1), # N\n",
    "            (x+1,y), # E\n",
    "            (x,y+1)] # S\n",
    "\n",
    "def SearchKeysBFS(start, amaze):\n",
    "    allkeys = allKeys(amaze)\n",
    "    queue = Queue()\n",
    "    queue.put([start])\n",
    "    visited = [start]\n",
    "    while not queue.empty():\n",
    "        path = queue.get()\n",
    "        c = path[-1]\n",
    "        xc,yc,collectedkeys = c\n",
    "        if collectedkeys == allkeys:\n",
    "            # I don't really need to check all paths for lenght: \n",
    "            # BFS will reach the shortest pay with all the keys first\n",
    "            # so I can simply exit the loop when found!\n",
    "            print(\"Found path with all keys collected\")\n",
    "            break\n",
    "        for a in getAdjacent((xc,yc)):\n",
    "            xa,ya = a\n",
    "            ak = (xa,ya,collectedkeys) # adiacent position, current key set\n",
    "            if amaze[ya][xa] == '#' or ak in visited or \\\n",
    "                ( amaze[ya][xa].isupper() and not isOpen(amaze[ya][xa],collectedkeys) ) : \n",
    "                continue\n",
    "            else:\n",
    "                # if it's a key I don't already have, collect it\n",
    "                isKey = amaze[ya][xa].islower() and not hasKey(amaze[ya][xa],collectedkeys)\n",
    "                new_collectedkeys = collectedkeys\n",
    "                if isKey:\n",
    "                    new_collectedkeys = addKey(collectedkeys,amaze[ya][xa])\n",
    "                ak = (xa,ya,new_collectedkeys)\n",
    "                visited.append(ak)\n",
    "                new_path = list(path)                \n",
    "                new_path.append(ak)\n",
    "                queue.put(new_path)\n",
    "                #if isKey:\n",
    "                    #print(keyString(new_collectedkeys))\n",
    "    return path\n",
    "\n",
    "def SearchKeysBFSLenghtOnly(start, amaze):\n",
    "    allkeys = allKeys(amaze)\n",
    "    queue = Queue()\n",
    "    queue.put([0,start]) # saving only path lenght and last visited cell \n",
    "    visited = defaultdict(bool) # save visited cell in dictionary for faster access\n",
    "    visited[start] = True\n",
    "    while not queue.empty():\n",
    "        path = queue.get()\n",
    "        c = path[1]\n",
    "        xc,yc,collectedkeys = c\n",
    "        if collectedkeys == allkeys:\n",
    "            print(\"Found path with all keys collected\")\n",
    "            break\n",
    "        for a in getAdjacent((xc,yc)):\n",
    "            xa,ya = a\n",
    "            ak = (xa,ya,collectedkeys) # adiacent position, current key set\n",
    "            if amaze[ya][xa] == '#' or visited[ak] or \\\n",
    "                ( amaze[ya][xa].isupper() and not isOpen(amaze[ya][xa],collectedkeys) ) : \n",
    "                continue\n",
    "            else:\n",
    "                # if it's a key I don't already have, collect it\n",
    "                isKey = amaze[ya][xa].islower() and not hasKey(amaze[ya][xa],collectedkeys)\n",
    "                new_collectedkeys = collectedkeys\n",
    "                if isKey:\n",
    "                    new_collectedkeys = addKey(collectedkeys,amaze[ya][xa])\n",
    "                ak = (xa,ya,new_collectedkeys)\n",
    "                visited[ak] = True\n",
    "                lenght = path[0]+1 # incrementing path lenght\n",
    "                new_path = [lenght,ak] # saving path lenght and last cell position/collectedkeys\n",
    "                queue.put(new_path)\n",
    "    return path"
   ]
  },
  {
   "cell_type": "code",
   "execution_count": 5,
   "metadata": {},
   "outputs": [
    {
     "name": "stdout",
     "output_type": "stream",
     "text": [
      "Found path with all keys collected\n",
      "Test 1 - Steps = 8\n",
      "Found path with all keys collected\n",
      "Test 1 - Steps = 8\n"
     ]
    }
   ],
   "source": [
    "## Test 1 -> 8 steps\n",
    "amaze1 = readInput(\"./data/day18test1.txt\")\n",
    "\n",
    "path1 = SearchKeysBFS(getStart(amaze1), amaze1)\n",
    "print(\"Test 1 - Steps =\", len(path1)-1)\n",
    "\n",
    "path1L = SearchKeysBFSLenghtOnly(getStart(amaze1), amaze1)\n",
    "print(\"Test 1 - Steps =\", path1L[0])"
   ]
  },
  {
   "cell_type": "code",
   "execution_count": 6,
   "metadata": {},
   "outputs": [
    {
     "name": "stdout",
     "output_type": "stream",
     "text": [
      "Found path with all keys collected\n",
      "Test 2 - Steps = 86\n",
      "Found path with all keys collected\n",
      "Test 2 - Steps = 86\n"
     ]
    }
   ],
   "source": [
    "## Test 2 -> 86 steps\n",
    "amaze2 = readInput(\"./data/day18test2.txt\")\n",
    "path2 = SearchKeysBFS(getStart(amaze2), amaze2)\n",
    "print(\"Test 2 - Steps =\", len(path2)-1)\n",
    "path2L = SearchKeysBFSLenghtOnly(getStart(amaze2), amaze2)\n",
    "print(\"Test 2 - Steps =\", path2L[0])"
   ]
  },
  {
   "cell_type": "code",
   "execution_count": 7,
   "metadata": {},
   "outputs": [
    {
     "name": "stdout",
     "output_type": "stream",
     "text": [
      "Found path with all keys collected\n",
      "Test 3 - Steps = 132\n",
      "Found path with all keys collected\n",
      "Test 3 - Steps = 132\n"
     ]
    }
   ],
   "source": [
    "## Test 3 -> 132 steps\n",
    "amaze3 = readInput(\"./data/day18test3.txt\")\n",
    "path3 = SearchKeysBFS(getStart(amaze3), amaze3)\n",
    "print(\"Test 3 - Steps =\", len(path3)-1)\n",
    "path3L = SearchKeysBFSLenghtOnly(getStart(amaze3), amaze3)\n",
    "print(\"Test 3 - Steps =\", path3L[0])"
   ]
  },
  {
   "cell_type": "code",
   "execution_count": 8,
   "metadata": {},
   "outputs": [
    {
     "name": "stdout",
     "output_type": "stream",
     "text": [
      "Found path with all keys collected\n",
      "Test 5 - Steps = 81\n",
      "Found path with all keys collected\n",
      "Test 5 - Steps = 81\n"
     ]
    }
   ],
   "source": [
    "## Test 5 -> 81 steps\n",
    "amaze5 = readInput(\"./data/day18test5.txt\")\n",
    "path5 = SearchKeysBFS(getStart(amaze5), amaze5)\n",
    "print(\"Test 5 - Steps =\", len(path5)-1)\n",
    "path5L = SearchKeysBFSLenghtOnly(getStart(amaze5), amaze5)\n",
    "print(\"Test 5 - Steps =\", path5L[0])"
   ]
  },
  {
   "cell_type": "code",
   "execution_count": 9,
   "metadata": {},
   "outputs": [
    {
     "name": "stdout",
     "output_type": "stream",
     "text": [
      "Found path with all keys collected\n",
      "--- 1.0431249141693115 seconds ---\n",
      "Test 4 - Steps = 136\n"
     ]
    }
   ],
   "source": [
    "# Test 4 -> 136 steps\n",
    "amaze4 = readInput(\"./data/day18test4.txt\")\n",
    "\n",
    "# Standard BFS search seems to run forever\n",
    "#path4 = SearchKeysBFS(getStart(amaze4), amaze4)\n",
    "#print(\"Test 4 - Steps =\", len(path4)-1)\n",
    "\n",
    "import time\n",
    "start_time = time.time()\n",
    "# Optimized BFS saving only path lenght and last visited cell, \n",
    "# and storing visited cells in dictionary for faster access\n",
    "path4L = SearchKeysBFSLenghtOnly(getStart(amaze4), amaze4)\n",
    "print(\"--- %s seconds ---\" % (time.time() - start_time))\n",
    "print(\"Test 4 - Steps =\", path4L[0])"
   ]
  },
  {
   "cell_type": "code",
   "execution_count": 11,
   "metadata": {},
   "outputs": [
    {
     "name": "stdout",
     "output_type": "stream",
     "text": [
      "Found path with all keys collected\n",
      "--- 43.13924789428711 seconds ---\n",
      "Full input - Steps = 3146\n"
     ]
    }
   ],
   "source": [
    "amaze = readInput(\"./data/input18.txt\")\n",
    "\n",
    "start_time = time.time()\n",
    "pathL = SearchKeysBFSLenghtOnly(getStart(amaze), amaze)\n",
    "print(\"--- %s seconds ---\" % (time.time() - start_time))\n",
    "print(\"Full input - Steps =\", pathL[0])"
   ]
  },
  {
   "cell_type": "code",
   "execution_count": null,
   "metadata": {},
   "outputs": [],
   "source": []
  }
 ],
 "metadata": {
  "kernelspec": {
   "display_name": "Python 3",
   "language": "python",
   "name": "python3"
  },
  "language_info": {
   "codemirror_mode": {
    "name": "ipython",
    "version": 3
   },
   "file_extension": ".py",
   "mimetype": "text/x-python",
   "name": "python",
   "nbconvert_exporter": "python",
   "pygments_lexer": "ipython3",
   "version": "3.7.5"
  }
 },
 "nbformat": 4,
 "nbformat_minor": 2
}
