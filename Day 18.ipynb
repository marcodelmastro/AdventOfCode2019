{
 "cells": [
  {
   "cell_type": "markdown",
   "metadata": {},
   "source": [
    "# Day 18: Many-Worlds Interpretation\n",
    "\n",
    "https://adventofcode.com/2019/day/18"
   ]
  },
  {
   "cell_type": "code",
   "execution_count": 2,
   "metadata": {},
   "outputs": [],
   "source": [
    "import numpy as np\n",
    "import matplotlib.pyplot as plt"
   ]
  },
  {
   "cell_type": "code",
   "execution_count": 3,
   "metadata": {},
   "outputs": [
    {
     "data": {
      "text/plain": [
       "['#################################################################################',\n",
       " '#.....#.#...#...........Z...........#...#.......#...#...........#.........#.....#',\n",
       " '#.###.#.#.#.#.###########.#########.###.#.#####.#.#.#.#.#######.#####.###.#.###.#',\n",
       " '#.#.....#.#.#.#b#.......#...#...#.#...#.#.#...#...#.#.#...#...#...#...#.#.#...#.#',\n",
       " '#M#######.#.#.#.#.###.#####.#.#.#.###.#.#.###.#####.#.###.#.#.###.#.###.#.###.#.#',\n",
       " '#.........#.#.#.#...#.....#.#.#.....#.#.#...#.....#.....#.#.#...#...#.....#...#.#',\n",
       " '#.#########.#.#.###.#####.#.#.#####.#.#.###.#.###.#######.#.###.#####.#####.###.#',\n",
       " '#...#.....#...#.....#.....#.#.....#.#...#.#.#.#.....#...#.#.#.#.....#.....#.#.#.#',\n",
       " '###.###.#.###########.###.#.#####.#####.#.#.#.#######.#.#.#.#.###.#######.#.#.#.#',\n",
       " '#...#.T.#.#...........#...#.....#.......#.#.#...#.....#...#.#...#.......#...#.#.#',\n",
       " '#.###.###.#.###########.#######.###.#####.#.###.#.#########.###.#######.#####.#.#',\n",
       " '#.....#.#.#.#.........#.#.....#...#.#...#.......#...#.....#.#.........#i....#...#',\n",
       " '#######.#.#.#.#######.#.#.###.###.#.#.#.###########.#.###.#.#.#######.###.###.###',\n",
       " '#.#.....#.#.#...#.....#.#.#.#.#...#.#.#.#.........#.#.#.#...#.....#.#.#...#...#.#',\n",
       " '#.#.#.###.#V###.#.#######.#.#.#.###.#.#.#.#######.#.#.#.#########.#.#.#.###.###.#',\n",
       " '#...#.......#.#.#.....#...#...#.#...#.#.#a#.........#.........#...#.#.#.....#...#',\n",
       " '###########.#.#.#####.#.###.###.#.#####.#.###################.#.###.#.#######.###',\n",
       " '#.....#...#.#.#.#...#.#.#.#...#.#...#...#.#.....#...........#.#...#.#.#........e#',\n",
       " '#.###.#.#.#.#.#.#.#.#.#.#.###.#.###.#.#.#.#.###.#######.#.###.###.#.#.#########.#',\n",
       " '#...#...#.#...#.#.#.....#...#.#.#.....#.#.#.#.#.......#.#.........#.....#.......#',\n",
       " '###.#####.###.#.#########.#.#.#.#######.#.#.#.#######.#.###############.#.#######',\n",
       " '#.#.#.....#...#.....#.#...#.#.#.......#.#.#...#...#...#.#...#.#.....#..w#.#.....#',\n",
       " '#.#.#.#############.#.#.###.#.#####.#.###Q###.#.#.#.###.###.#.#.###.#.###.#.###.#',\n",
       " '#.#.#.............#...#.#...#.....#.#...#.....#.#...#.......#.#.#...#.....#.#.#.#',\n",
       " '#.#.#############.#####.#.#######.#.###.#.#####.###.#######.#.#.###.###.###.#.#.#',\n",
       " '#.#.#.........#.#.......#.#.......#...#.#.#...#.#...#.....#.#.#...#...#.#...#.#.#',\n",
       " '#.#.#.#.#####.#.###.#####.#.###########.#.###.#.#####.###.#.#.#.#.###.###.###.#.#',\n",
       " '#.#.#.#.#x..#...#.#.#...#.#...#.........#.....#.#.....#.#.#.#.#.#...#s..#.#.#...#',\n",
       " '#.#.#.###.#.###.#.#.#.#.#####.#.#.#.#####.#####.#.#####.#.###.#####.###.#.#.#.###',\n",
       " '#.#.#...#.#...#...#...#.......#.#.#.#...#.#.....#.....#.#...#.......#.#...#.#...#',\n",
       " '#.#.#.#.#.###.###################.###.#.#.#.###.#####.#.###.#########.#####.###.#',\n",
       " '#...#.#...#.#.............#.....#...#.#.#.#.#.....#...#...#...#.......#.....#...#',\n",
       " '#.###.#####.#######.#####.###.#.#.#.#.#.#.#.#.#####.###.#.#.###.#.###.#.###.#.###',\n",
       " '#...#.......#...#...#.#.C.#...#.#.#...#.#.#.#.#...#...#.#.#.....#.#...#.#...#.#.#',\n",
       " '###.#######.###.#.###.#.###.###.#######.#.#.###.#.###.#.#.#######.#.###.#####.#.#',\n",
       " '#.#...#.....#...#.#.....#.....#...#...#.#.#...#.#.....#.#...#...#.#.#...#...#...#',\n",
       " '#.###.#.#####.#.#.###.#######.###.#.#.#.#.###.#.#######.###.#.#.#.#.#.###.#.###.#',\n",
       " '#...#.#.......#.#...#...#...#.#...#.#...#...#.#.#...#...#.#.#.#.#.#...#...#...#.#',\n",
       " '#.#.#.#############.###.#.#.#.#.###.###.###.#.#.#.#.###.#.#.###.#.#####.###.###.#',\n",
       " '#.#.................#.....#...#.....#.......#.....#.....#.......#.........#.....#',\n",
       " '#######################################.@.#######################################',\n",
       " '#h#.......#.#...........#.......#.#.................#.......#......c....#.#.....#',\n",
       " '#.#.###.#.#.#.#####.###.#.#####F#.#.#.#####.###.#####.#.#####.#.#######.#.#.#.#.#',\n",
       " '#.#...#.#...#l..J.#.#.L.#.#.#...#...#...#...#...#.....#.......#.#.....#...#.#.#.#',\n",
       " '#O###.#.#########.#.#####.#.#.#########.#.#######.#############.#.###.#####.#.###',\n",
       " '#.#...#....j..#...#.....#f..#.#.........#q#.....#...#...#.....#.#.#.#.......#...#',\n",
       " '#.#.#######.###.#######.#.###.#.#######.#.#.###.###.#.#.#####.#.#.#.#########.#.#',\n",
       " '#.#.#.....#...#.#.....#...#..k#.#.....#.#...#.#.....#.#.....#.#...#.#...#...#.#.#',\n",
       " '#.#.#.###.###.#.###.#######.###.###.#.#.#.###.#######.#####.#.#####.#.#.#.#.###.#',\n",
       " '#.#.#...#...#...#...#.......#.....#.#...#.....#.......#.......#.....#.#...#.#...#',\n",
       " '#.#.###.###.#####.#.#K###########.###.#######.#.#####.#######.###.###.#####.#.###',\n",
       " '#.#.#...#.#...#...#.#....d#.....#...#...#...#.#.#...#.....#.#.#...#...#...#.#...#',\n",
       " '#.#.#.###.###.###.#######.#.###D###.#####.#.#.###.#.#.###.#.#.#.#.#.#####.#.###.#',\n",
       " '#...#...#...#...#.#.....#.....#...#.....#.#.#.....#.#...#.#..u..#.#.#...#.....X.#',\n",
       " '#.###.#.#.#####.#.#.###P###.#####.#####.#.#########.###.#.#########.#.#.#######.#',\n",
       " '#.#.E.#.#.........#g#.#...#.#...#...#...#.........#.#...#.#.......#...#...#v..#.#',\n",
       " '#.#####.#H#########.#.###.#.#.#.###.#.###.#.#######.#.###.#.#####.#.#####.#.#.###',\n",
       " '#..o..#.#.#.....#...#p....#.#.#..y..#...#.#.#.....#.#...#.#.....#.#.#...#...#...#',\n",
       " '#####.#.###.###.#.###.#######.#########.###.#.###.#.#####.#####.#.#.#.#.#######.#',\n",
       " '#.....#...#...#.#...#.......Y.#.......#.#...#...#.#...#...#.#...#.#.#.#.....#...#',\n",
       " '#.#######.#.###.###.###########.#####.#.#.#####.#.###.#.#.#.#.###.#.#.#####.#.###',\n",
       " '#...#...#...#.....#.#...#...........#...#.#.....#.#...#.#...#.#.#.#.#.....#...#.#',\n",
       " '###.#.#.#####.###.#.###.###########.###.#.#.#####.#.###.###.###.#.#.#####.#####.#',\n",
       " '#.#...#.W.....#...#...#.#.........#...#.#...#.....#.#.#...#...B.#.#.#.#...#.....#',\n",
       " '#.#############.###G###N#.#######.#.#.#.#####.#####A#.#.#.#####.#.#.#.#.###.#####',\n",
       " '#.....R...#.U.#.#...#...#.#..m..#.#.#.#.#.....#.....#.#.#...#...#.#...#..r#.....#',\n",
       " '#.###.#####.#.#.#.###.###.#.###.#.#.#.###.###.#.#####.#.###.###.#.#######.#.###.#',\n",
       " '#.#...#...#.#...#..n..#...#...#.#.#z#...#.#.#.#.....#.....#...#.#.......#.#.#...#',\n",
       " '###.###.#.#.#############.#.#.###.#####.#.#.#.#####.#########.#.#######.#.#.#.###',\n",
       " '#...#...#...#.......#.....#.#...#.......#.#.......#.......#...#.....#.#...#.#...#',\n",
       " '#.###.#######.#####.#.#########.#######.#.#######.#######.#.#######.#.#####.###.#',\n",
       " '#...#.#.....#.....#.#...#.....#...#...#.#...#.....#.....#.#.......#.....#...#...#',\n",
       " '#.#.#S#.###.#####.#.#.#.#.###.###.#.#.#.#.#.#.#######.###.#.#####.#####.#.###.#.#',\n",
       " '#.#.#.#.#.#.......#.#.#...#.#...#...#...#.#.#...#.....#...#.....#.....#.#.#...#.#',\n",
       " '###.#.#.#.#########.#.#####.###.#.#########.###.###.###.#######.#####.###.#.###.#',\n",
       " '#.I.#.#.#.....#...#.#.........#.#...#...#...#.#.....#...#...#...#...#.....#.#.#.#',\n",
       " '#.#.#.#.#.#.###.#.#.###########.###.###.#.###.#.#####.###.#.###.#.#.#######.#.#.#',\n",
       " '#.#.#...#.#.....#...#.........#...#.....#.#.....#.....#...#...#.#.#.....#...#...#',\n",
       " '#.#######.###########.#######.###.#####.#.#######.#####.#####.###.#####.#.###.###',\n",
       " '#.....................#...........#.....#...............#.........#....t..#.....#',\n",
       " '#################################################################################']"
      ]
     },
     "execution_count": 3,
     "metadata": {},
     "output_type": "execute_result"
    }
   ],
   "source": [
    "with open(\"input18.txt\") as f:\n",
    "    lines = [l.rstrip('\\n') for l in f]\n",
    "lines"
   ]
  },
  {
   "cell_type": "code",
   "execution_count": 4,
   "metadata": {},
   "outputs": [],
   "source": [
    "ll = list(lines)\n",
    "objects = []\n",
    "for l in ll:\n",
    "    t = l.replace(\"#\",\"\").replace(\".\",\"\")\n",
    "    for c in t:\n",
    "        objects.append(c)\n",
    "objects.sort()"
   ]
  },
  {
   "cell_type": "code",
   "execution_count": 5,
   "metadata": {},
   "outputs": [],
   "source": [
    "WALL  = 1\n",
    "EMPTY = 0\n",
    "START = 3\n",
    "DOOR  = 4\n",
    "KEY   = 5\n",
    "\n",
    "nrow = len(lines)\n",
    "ncol = len(lines[0])\n",
    "shape = (nrow,ncol)\n",
    "maze = area = np.zeros(shape)\n",
    "x0 = np.zeros(2)\n",
    "\n",
    "doors = {}\n",
    "keys = {}\n",
    "\n",
    "j = 0\n",
    "for l in lines:\n",
    "    i = 0\n",
    "    for c in l:\n",
    "        if c=='#':\n",
    "            maze[j][i] = WALL\n",
    "        elif c=='.':\n",
    "            maze[j][i] = EMPTY\n",
    "        elif c=='@':\n",
    "            maze[j][i] = START\n",
    "            x0 = np.array([j,i])\n",
    "        else:\n",
    "            if c.isupper():\n",
    "                maze[j][i] = DOOR\n",
    "                doors[c] = [j,i]\n",
    "            else:\n",
    "                maze[j][i] = KEY\n",
    "                keys[c] = [j,i]\n",
    "        i+=1\n",
    "    j+=1"
   ]
  },
  {
   "cell_type": "code",
   "execution_count": 6,
   "metadata": {},
   "outputs": [
    {
     "data": {
      "text/plain": [
       "<matplotlib.image.AxesImage at 0x1169c6310>"
      ]
     },
     "execution_count": 6,
     "metadata": {},
     "output_type": "execute_result"
    },
    {
     "data": {
      "image/png": "[encoded data removed]",
      "text/plain": [
       "<Figure size 700x700 with 1 Axes>"
      ]
     },
     "metadata": {
      "needs_background": "light"
     },
     "output_type": "display_data"
    }
   ],
   "source": [
    "fig = plt.figure(figsize=(7, 7), dpi=100)\n",
    "plt.imshow(maze)"
   ]
  },
  {
   "cell_type": "markdown",
   "metadata": {},
   "source": [
    "A few ideas about how to solve this (when I'll have the time)\n",
    "\n",
    "- Run \"flooding\" algorithm (similar to that used for \"oxigen\" problem on Day 15) to find closest key and closest door\n",
    "- Find shortest path from found key to closest key and to door corresponding to found key. Door might be inaccessible.\n",
    "- If door closest go there and open it, otherwise go to next key. Repeat."
   ]
  },
  {
   "cell_type": "code",
   "execution_count": null,
   "metadata": {},
   "outputs": [],
   "source": []
  }
 ],
 "metadata": {
  "kernelspec": {
   "display_name": "Python 3",
   "language": "python",
   "name": "python3"
  },
  "language_info": {
   "codemirror_mode": {
    "name": "ipython",
    "version": 3
   },
   "file_extension": ".py",
   "mimetype": "text/x-python",
   "name": "python",
   "nbconvert_exporter": "python",
   "pygments_lexer": "ipython3",
   "version": "3.7.5"
  }
 },
 "nbformat": 4,
 "nbformat_minor": 2
}
