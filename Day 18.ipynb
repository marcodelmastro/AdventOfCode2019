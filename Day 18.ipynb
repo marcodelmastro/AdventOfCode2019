{
 "cells": [
  {
   "cell_type": "markdown",
   "metadata": {},
   "source": [
    "# Day 18: Many-Worlds Interpretation\n",
    "\n",
    "https://adventofcode.com/2019/day/18"
   ]
  },
  {
   "cell_type": "code",
   "execution_count": 3,
   "metadata": {},
   "outputs": [],
   "source": [
    "import numpy as np\n",
    "import matplotlib.pyplot as plt"
   ]
  },
  {
   "cell_type": "code",
   "execution_count": 4,
   "metadata": {},
   "outputs": [
    {
     "data": {
      "text/plain": [
       "['#################################################################################',\n",
       " '#.....#.#...#...........Z...........#...#.......#...#...........#.........#.....#',\n",
       " '#.###.#.#.#.#.###########.#########.###.#.#####.#.#.#.#.#######.#####.###.#.###.#',\n",
       " '#.#.....#.#.#.#b#.......#...#...#.#...#.#.#...#...#.#.#...#...#...#...#.#.#...#.#',\n",
       " '#M#######.#.#.#.#.###.#####.#.#.#.###.#.#.###.#####.#.###.#.#.###.#.###.#.###.#.#',\n",
       " '#.........#.#.#.#...#.....#.#.#.....#.#.#...#.....#.....#.#.#...#...#.....#...#.#',\n",
       " '#.#########.#.#.###.#####.#.#.#####.#.#.###.#.###.#######.#.###.#####.#####.###.#',\n",
       " '#...#.....#...#.....#.....#.#.....#.#...#.#.#.#.....#...#.#.#.#.....#.....#.#.#.#',\n",
       " '###.###.#.###########.###.#.#####.#####.#.#.#.#######.#.#.#.#.###.#######.#.#.#.#',\n",
       " '#...#.T.#.#...........#...#.....#.......#.#.#...#.....#...#.#...#.......#...#.#.#',\n",
       " '#.###.###.#.###########.#######.###.#####.#.###.#.#########.###.#######.#####.#.#',\n",
       " '#.....#.#.#.#.........#.#.....#...#.#...#.......#...#.....#.#.........#i....#...#',\n",
       " '#######.#.#.#.#######.#.#.###.###.#.#.#.###########.#.###.#.#.#######.###.###.###',\n",
       " '#.#.....#.#.#...#.....#.#.#.#.#...#.#.#.#.........#.#.#.#...#.....#.#.#...#...#.#',\n",
       " '#.#.#.###.#V###.#.#######.#.#.#.###.#.#.#.#######.#.#.#.#########.#.#.#.###.###.#',\n",
       " '#...#.......#.#.#.....#...#...#.#...#.#.#a#.........#.........#...#.#.#.....#...#',\n",
       " '###########.#.#.#####.#.###.###.#.#####.#.###################.#.###.#.#######.###',\n",
       " '#.....#...#.#.#.#...#.#.#.#...#.#...#...#.#.....#...........#.#...#.#.#........e#',\n",
       " '#.###.#.#.#.#.#.#.#.#.#.#.###.#.###.#.#.#.#.###.#######.#.###.###.#.#.#########.#',\n",
       " '#...#...#.#...#.#.#.....#...#.#.#.....#.#.#.#.#.......#.#.........#.....#.......#',\n",
       " '###.#####.###.#.#########.#.#.#.#######.#.#.#.#######.#.###############.#.#######',\n",
       " '#.#.#.....#...#.....#.#...#.#.#.......#.#.#...#...#...#.#...#.#.....#..w#.#.....#',\n",
       " '#.#.#.#############.#.#.###.#.#####.#.###Q###.#.#.#.###.###.#.#.###.#.###.#.###.#',\n",
       " '#.#.#.............#...#.#...#.....#.#...#.....#.#...#.......#.#.#...#.....#.#.#.#',\n",
       " '#.#.#############.#####.#.#######.#.###.#.#####.###.#######.#.#.###.###.###.#.#.#',\n",
       " '#.#.#.........#.#.......#.#.......#...#.#.#...#.#...#.....#.#.#...#...#.#...#.#.#',\n",
       " '#.#.#.#.#####.#.###.#####.#.###########.#.###.#.#####.###.#.#.#.#.###.###.###.#.#',\n",
       " '#.#.#.#.#x..#...#.#.#...#.#...#.........#.....#.#.....#.#.#.#.#.#...#s..#.#.#...#',\n",
       " '#.#.#.###.#.###.#.#.#.#.#####.#.#.#.#####.#####.#.#####.#.###.#####.###.#.#.#.###',\n",
       " '#.#.#...#.#...#...#...#.......#.#.#.#...#.#.....#.....#.#...#.......#.#...#.#...#',\n",
       " '#.#.#.#.#.###.###################.###.#.#.#.###.#####.#.###.#########.#####.###.#',\n",
       " '#...#.#...#.#.............#.....#...#.#.#.#.#.....#...#...#...#.......#.....#...#',\n",
       " '#.###.#####.#######.#####.###.#.#.#.#.#.#.#.#.#####.###.#.#.###.#.###.#.###.#.###',\n",
       " '#...#.......#...#...#.#.C.#...#.#.#...#.#.#.#.#...#...#.#.#.....#.#...#.#...#.#.#',\n",
       " '###.#######.###.#.###.#.###.###.#######.#.#.###.#.###.#.#.#######.#.###.#####.#.#',\n",
       " '#.#...#.....#...#.#.....#.....#...#...#.#.#...#.#.....#.#...#...#.#.#...#...#...#',\n",
       " '#.###.#.#####.#.#.###.#######.###.#.#.#.#.###.#.#######.###.#.#.#.#.#.###.#.###.#',\n",
       " '#...#.#.......#.#...#...#...#.#...#.#...#...#.#.#...#...#.#.#.#.#.#...#...#...#.#',\n",
       " '#.#.#.#############.###.#.#.#.#.###.###.###.#.#.#.#.###.#.#.###.#.#####.###.###.#',\n",
       " '#.#.................#.....#...#.....#.......#.....#.....#.......#.........#.....#',\n",
       " '#######################################.@.#######################################',\n",
       " '#h#.......#.#...........#.......#.#.................#.......#......c....#.#.....#',\n",
       " '#.#.###.#.#.#.#####.###.#.#####F#.#.#.#####.###.#####.#.#####.#.#######.#.#.#.#.#',\n",
       " '#.#...#.#...#l..J.#.#.L.#.#.#...#...#...#...#...#.....#.......#.#.....#...#.#.#.#',\n",
       " '#O###.#.#########.#.#####.#.#.#########.#.#######.#############.#.###.#####.#.###',\n",
       " '#.#...#....j..#...#.....#f..#.#.........#q#.....#...#...#.....#.#.#.#.......#...#',\n",
       " '#.#.#######.###.#######.#.###.#.#######.#.#.###.###.#.#.#####.#.#.#.#########.#.#',\n",
       " '#.#.#.....#...#.#.....#...#..k#.#.....#.#...#.#.....#.#.....#.#...#.#...#...#.#.#',\n",
       " '#.#.#.###.###.#.###.#######.###.###.#.#.#.###.#######.#####.#.#####.#.#.#.#.###.#',\n",
       " '#.#.#...#...#...#...#.......#.....#.#...#.....#.......#.......#.....#.#...#.#...#',\n",
       " '#.#.###.###.#####.#.#K###########.###.#######.#.#####.#######.###.###.#####.#.###',\n",
       " '#.#.#...#.#...#...#.#....d#.....#...#...#...#.#.#...#.....#.#.#...#...#...#.#...#',\n",
       " '#.#.#.###.###.###.#######.#.###D###.#####.#.#.###.#.#.###.#.#.#.#.#.#####.#.###.#',\n",
       " '#...#...#...#...#.#.....#.....#...#.....#.#.#.....#.#...#.#..u..#.#.#...#.....X.#',\n",
       " '#.###.#.#.#####.#.#.###P###.#####.#####.#.#########.###.#.#########.#.#.#######.#',\n",
       " '#.#.E.#.#.........#g#.#...#.#...#...#...#.........#.#...#.#.......#...#...#v..#.#',\n",
       " '#.#####.#H#########.#.###.#.#.#.###.#.###.#.#######.#.###.#.#####.#.#####.#.#.###',\n",
       " '#..o..#.#.#.....#...#p....#.#.#..y..#...#.#.#.....#.#...#.#.....#.#.#...#...#...#',\n",
       " '#####.#.###.###.#.###.#######.#########.###.#.###.#.#####.#####.#.#.#.#.#######.#',\n",
       " '#.....#...#...#.#...#.......Y.#.......#.#...#...#.#...#...#.#...#.#.#.#.....#...#',\n",
       " '#.#######.#.###.###.###########.#####.#.#.#####.#.###.#.#.#.#.###.#.#.#####.#.###',\n",
       " '#...#...#...#.....#.#...#...........#...#.#.....#.#...#.#...#.#.#.#.#.....#...#.#',\n",
       " '###.#.#.#####.###.#.###.###########.###.#.#.#####.#.###.###.###.#.#.#####.#####.#',\n",
       " '#.#...#.W.....#...#...#.#.........#...#.#...#.....#.#.#...#...B.#.#.#.#...#.....#',\n",
       " '#.#############.###G###N#.#######.#.#.#.#####.#####A#.#.#.#####.#.#.#.#.###.#####',\n",
       " '#.....R...#.U.#.#...#...#.#..m..#.#.#.#.#.....#.....#.#.#...#...#.#...#..r#.....#',\n",
       " '#.###.#####.#.#.#.###.###.#.###.#.#.#.###.###.#.#####.#.###.###.#.#######.#.###.#',\n",
       " '#.#...#...#.#...#..n..#...#...#.#.#z#...#.#.#.#.....#.....#...#.#.......#.#.#...#',\n",
       " '###.###.#.#.#############.#.#.###.#####.#.#.#.#####.#########.#.#######.#.#.#.###',\n",
       " '#...#...#...#.......#.....#.#...#.......#.#.......#.......#...#.....#.#...#.#...#',\n",
       " '#.###.#######.#####.#.#########.#######.#.#######.#######.#.#######.#.#####.###.#',\n",
       " '#...#.#.....#.....#.#...#.....#...#...#.#...#.....#.....#.#.......#.....#...#...#',\n",
       " '#.#.#S#.###.#####.#.#.#.#.###.###.#.#.#.#.#.#.#######.###.#.#####.#####.#.###.#.#',\n",
       " '#.#.#.#.#.#.......#.#.#...#.#...#...#...#.#.#...#.....#...#.....#.....#.#.#...#.#',\n",
       " '###.#.#.#.#########.#.#####.###.#.#########.###.###.###.#######.#####.###.#.###.#',\n",
       " '#.I.#.#.#.....#...#.#.........#.#...#...#...#.#.....#...#...#...#...#.....#.#.#.#',\n",
       " '#.#.#.#.#.#.###.#.#.###########.###.###.#.###.#.#####.###.#.###.#.#.#######.#.#.#',\n",
       " '#.#.#...#.#.....#...#.........#...#.....#.#.....#.....#...#...#.#.#.....#...#...#',\n",
       " '#.#######.###########.#######.###.#####.#.#######.#####.#####.###.#####.#.###.###',\n",
       " '#.....................#...........#.....#...............#.........#....t..#.....#',\n",
       " '#################################################################################']"
      ]
     },
     "execution_count": 4,
     "metadata": {},
     "output_type": "execute_result"
    }
   ],
   "source": [
    "with open(\"input18.txt\") as f:\n",
    "    lines = [l.rstrip('\\n') for l in f]\n",
    "lines"
   ]
  },
  {
   "cell_type": "code",
   "execution_count": 5,
   "metadata": {},
   "outputs": [],
   "source": [
    "WALL  = 1\n",
    "EMPTY = 0\n",
    "START = 0\n",
    "DOOR  = 4\n",
    "KEY   = 5\n",
    "\n",
    "nrow = len(lines)\n",
    "ncol = len(lines[0])\n",
    "shape = (nrow,ncol)\n",
    "maze = np.zeros(shape)\n",
    "x0 = np.zeros(2)\n",
    "\n",
    "doors = {}\n",
    "keys = {}\n",
    "\n",
    "j = 0\n",
    "for l in lines:\n",
    "    i = 0\n",
    "    for c in l:\n",
    "        if c=='#':\n",
    "            maze[j][i] = WALL\n",
    "        elif c=='.':\n",
    "            maze[j][i] = EMPTY\n",
    "        elif c=='@':\n",
    "            maze[j][i] = START\n",
    "            x0 = np.array([j,i])\n",
    "        else:\n",
    "            if c.isupper():\n",
    "                maze[j][i] = DOOR\n",
    "                doors[c] = [j,i]\n",
    "            else:\n",
    "                maze[j][i] = KEY\n",
    "                keys[c] = [j,i]\n",
    "        i+=1\n",
    "    j+=1"
   ]
  },
  {
   "cell_type": "code",
   "execution_count": 6,
   "metadata": {},
   "outputs": [
    {
     "data": {
      "text/plain": [
       "<matplotlib.image.AxesImage at 0x117ed8710>"
      ]
     },
     "execution_count": 6,
     "metadata": {},
     "output_type": "execute_result"
    },
    {
     "data": {
      "image/png": "[encoded data removed]",
      "text/plain": [
       "<Figure size 700x700 with 1 Axes>"
      ]
     },
     "metadata": {
      "needs_background": "light"
     },
     "output_type": "display_data"
    }
   ],
   "source": [
    "fig = plt.figure(figsize=(7, 7), dpi=100)\n",
    "plt.imshow(maze)"
   ]
  },
  {
   "cell_type": "markdown",
   "metadata": {},
   "source": [
    "A few ideas about how to solve this (when I'll have the time)\n",
    "\n",
    "- Run \"flooding\" algorithm (similar to that used for \"oxigen\" problem on Day 15) to find closest key and closest door\n",
    "- Find shortest path from found key to closest key and to door corresponding to found key. Door might be inaccessible.\n",
    "- If door closest go there and open it, otherwise go to next key. Repeat."
   ]
  },
  {
   "cell_type": "code",
   "execution_count": 18,
   "metadata": {},
   "outputs": [],
   "source": [
    "EMPTY = 0\n",
    "WALL  = 1\n",
    "EXIT  = 2\n",
    "SEEN  = 3\n",
    "BACKTRACK = 4\n",
    "\n",
    "EMPTY = 0\n",
    "SEEN  = 3\n",
    "\n",
    "N = 1\n",
    "S = 2\n",
    "W = 3\n",
    "E = 4\n",
    "\n",
    "def exploreMaze(maze,row,col):    \n",
    "    if maze[row][col]==EXIT:\n",
    "        return True\n",
    "    elif maze[row][col]==EMPTY: # Empty path, not yet explored\n",
    "        maze[row][col]=SEEN\n",
    "        if row<len(maze)-1:\n",
    "            # Explore path below\n",
    "            if exploreMaze(maze,row+1,col):\n",
    "                return True\n",
    "        if row>0:\n",
    "            # Explore path above\n",
    "            if exploreMaze(maze,row-1,col):\n",
    "                return True\n",
    "        if col<len(maze[row])-1:\n",
    "            # Explore path to the right\n",
    "            if exploreMaze(maze,row,col+1):\n",
    "                return True\n",
    "        if col>0:\n",
    "            # Explore path to the left\n",
    "            if exploreMaze(maze,row,col-1):\n",
    "                return True\n",
    "        # Backtrack\n",
    "        maze[row][col]=BACKTRACK    \n",
    "\n",
    "def move(d,x): ## x = [j,i]\n",
    "    x1 = np.copy(x)\n",
    "    if   d==N:\n",
    "        x1 += np.array([+1,0])\n",
    "    elif d==S:\n",
    "        x1 += np.array([-1,0])\n",
    "    elif d==W:\n",
    "        x1 += np.array([0,-1])\n",
    "    elif d==E:\n",
    "        x1 += np.array([0,+1])\n",
    "    else:\n",
    "        print(\"Illegal movement!\")\n",
    "    return x1\n",
    "\n",
    "def exploreAdjacents(maze,x0list,TARGET):\n",
    "    adj = []\n",
    "    for x0 in x0list:\n",
    "        xN = move(N,x0)\n",
    "        xS = move(S,x0)\n",
    "        xW = move(W,x0)\n",
    "        xE = move(E,x0)\n",
    "        dirs = [ xN, xS, xW, xE ]\n",
    "        for d in dirs:\n",
    "            if maze[d[0]][d[1]] == EMPTY:\n",
    "                maze[d[0]][d[1]] = SEEN\n",
    "                adj.append(d)\n",
    "            elif maze[d[0]][d[1]] == TARGET:\n",
    "                adj.append(d)  \n",
    "    return adj\n",
    "\n",
    "def findClosestTarget(maze,IN,TARGET,name=\"\"):\n",
    "    maze_ = maze.copy()\n",
    "    adj = [ IN ]\n",
    "    p = IN\n",
    "    while(len(maze_[maze_==EMPTY])):\n",
    "        newadj = exploreAdjacents(maze_,adj,TARGET)\n",
    "        adj = list(newadj)\n",
    "        for p in adj:\n",
    "            if  maze[p[0]][p[1]] == TARGET:\n",
    "                print(\"Found closest\",name,\"at\",p)\n",
    "                return p, maze_\n",
    "    return p, maze_"
   ]
  },
  {
   "cell_type": "code",
   "execution_count": 19,
   "metadata": {},
   "outputs": [
    {
     "name": "stdout",
     "output_type": "stream",
     "text": [
      "Found closest key at [45 41]\n"
     ]
    }
   ],
   "source": [
    "p, maze_ = findClosestTarget(maze,x0,KEY,\"key\")"
   ]
  },
  {
   "cell_type": "code",
   "execution_count": 20,
   "metadata": {},
   "outputs": [
    {
     "data": {
      "text/plain": [
       "<matplotlib.image.AxesImage at 0x11c785e10>"
      ]
     },
     "execution_count": 20,
     "metadata": {},
     "output_type": "execute_result"
    },
    {
     "data": {
      "image/png": "[encoded data removed]",
      "text/plain": [
       "<Figure size 700x700 with 1 Axes>"
      ]
     },
     "metadata": {
      "needs_background": "light"
     },
     "output_type": "display_data"
    }
   ],
   "source": [
    "fig = plt.figure(figsize=(7, 7), dpi=100)\n",
    "plt.imshow(maze_)"
   ]
  },
  {
   "cell_type": "code",
   "execution_count": 21,
   "metadata": {},
   "outputs": [
    {
     "name": "stdout",
     "output_type": "stream",
     "text": [
      "q [22, 41]\n"
     ]
    }
   ],
   "source": [
    "def keyName(p):\n",
    "    '''Returns key name according to position'''\n",
    "    for k in keys.keys():\n",
    "        _k = np.array(keys[k])\n",
    "        _p = np.array(p)\n",
    "        if np.equal(_k,_p).sum()==2:\n",
    "            return k\n",
    "        \n",
    "kn = keyName(p)\n",
    "dp = doors[kn.upper()]\n",
    "print(kn,dp)"
   ]
  },
  {
   "cell_type": "code",
   "execution_count": 22,
   "metadata": {},
   "outputs": [
    {
     "name": "stdout",
     "output_type": "stream",
     "text": [
      "Starting search at [40 40]\n",
      "Found closest key at [45 41]\n",
      "Key name = q --> door Q is at [22, 41]\n",
      "Door at [22, 41] can be opened!\n",
      "Starting search at [22, 41]\n",
      "Found closest key at [15 41]\n",
      "Key name = a --> door A is at [64, 51]\n",
      "Door at [64, 51] can be opened!\n",
      "Starting search at [64, 51]\n",
      "Found closest key at [79 71]\n",
      "Key name = t --> door T is at [9, 6]\n",
      "Door at [9, 6] cannot be reached, go search for a new key...\n",
      "Starting search at [79 71]\n",
      "Found closest key at [79 71]\n",
      "Key name = t --> door T is at [9, 6]\n",
      "Door at [9, 6] cannot be reached, go search for a new key...\n",
      "['q', 'a']\n",
      "['Q', 'A']\n",
      "['T', 'T']\n"
     ]
    },
    {
     "data": {
      "text/plain": [
       "<matplotlib.image.AxesImage at 0x11d41f0d0>"
      ]
     },
     "execution_count": 22,
     "metadata": {},
     "output_type": "execute_result"
    },
    {
     "data": {
      "image/png": "[encoded data removed]",
      "text/plain": [
       "<Figure size 700x700 with 1 Axes>"
      ]
     },
     "metadata": {
      "needs_background": "light"
     },
     "output_type": "display_data"
    }
   ],
   "source": [
    "mazerun = maze.copy()\n",
    "havekeys = []\n",
    "opendoors = []\n",
    "closedwithkeys = []\n",
    "\n",
    "def openDoor(mazerun,dp,p):\n",
    "    mazetest = mazerun.copy()\n",
    "    mazetest[mazetest==KEY] = EMPTY # temporary remove all keys\n",
    "    mazetest[mazetest==DOOR] = WALL # close all doors\n",
    "    mazetest[dp[0],dp[1]] = EXIT # mark current door ar EXIT\n",
    "    # run backtracking from key to door\n",
    "    opened = exploreMaze(mazetest,p[0],p[1])\n",
    "    # check whether door can be opened\n",
    "    if opened: \n",
    "        # Open door\n",
    "        print(\"Door at\",dp,\"can be opened!\")\n",
    "        opendoors.append(kn.upper())\n",
    "        mazerun[dp[0],dp[1]] = EMPTY\n",
    "        # current position is last door location\n",
    "        return True, dp\n",
    "    else:\n",
    "        closedwithkeys.append(kn.upper())\n",
    "        print(\"Door at\",dp,\"cannot be reached, go search for a new key...\")\n",
    "        return False, p\n",
    "\n",
    "isteps = 0\n",
    "imax = 4\n",
    "\n",
    "while(isteps<imax):\n",
    "    \n",
    "    print(\"Starting search at\",x0)\n",
    "    # Look for closest accessible key\n",
    "    p, m_ = findClosestTarget(mazerun,x0,KEY,\"key\")\n",
    "    # get key name from position\n",
    "    kn = keyName(p)\n",
    "    print(\"Key name =\",kn,end=\" \")   \n",
    "    # get corresponsing door position\n",
    "    dp = doors[kn.upper()]\n",
    "    print(\"--> door\",kn.upper(),\"is at\", dp)\n",
    "\n",
    "    # try to open door\n",
    "    opened, x0 = openDoor(mazerun,dp,p)\n",
    "    if opened:\n",
    "        # mark key as collected\n",
    "        havekeys.append(kn)\n",
    "        mazerun[p[0],p[1]] = EMPTY   \n",
    "    \n",
    "    isteps+=1 \n",
    "\n",
    "print(havekeys)\n",
    "print(opendoors)\n",
    "print(closedwithkeys)\n",
    "\n",
    "fig = plt.figure(figsize=(7, 7), dpi=100)\n",
    "plt.imshow(mazerun)"
   ]
  },
  {
   "cell_type": "code",
   "execution_count": null,
   "metadata": {},
   "outputs": [],
   "source": []
  }
 ],
 "metadata": {
  "kernelspec": {
   "display_name": "Python 3",
   "language": "python",
   "name": "python3"
  },
  "language_info": {
   "codemirror_mode": {
    "name": "ipython",
    "version": 3
   },
   "file_extension": ".py",
   "mimetype": "text/x-python",
   "name": "python",
   "nbconvert_exporter": "python",
   "pygments_lexer": "ipython3",
   "version": "3.7.5"
  }
 },
 "nbformat": 4,
 "nbformat_minor": 2
}
