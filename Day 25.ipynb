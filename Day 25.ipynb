{
 "cells": [
  {
   "cell_type": "code",
   "execution_count": 1,
   "metadata": {},
   "outputs": [],
   "source": [
    "from AOC2019 import IntcodeV3, readIntcodeProg\n",
    "\n",
    "prog = readIntcodeProg(\"./data/input25.txt\")\n",
    "d = IntcodeV3(prog,\"DROID\",[])"
   ]
  },
  {
   "cell_type": "code",
   "execution_count": 2,
   "metadata": {},
   "outputs": [],
   "source": [
    "def sendToProgram(command):\n",
    "    #print(command)\n",
    "    asc = command2ASCII(command)\n",
    "    d.setInputs(asc)\n",
    "    d.resetOutput()\n",
    "    d.runProgram()\n",
    "    #printASCII(d.getOutput())\n",
    "\n",
    "def command2ASCII(command):\n",
    "    asc = []\n",
    "    for c in command:\n",
    "        asc.append(ord(c))\n",
    "    asc.append(10)\n",
    "    return asc\n",
    "\n",
    "def printASCII(o):\n",
    "    for i in o:\n",
    "        if (i!=10):\n",
    "            print(chr(i),end=\"\")\n",
    "        else:\n",
    "            print(\"\")"
   ]
  },
  {
   "cell_type": "code",
   "execution_count": 3,
   "metadata": {},
   "outputs": [],
   "source": [
    "with open(\"./data/starship.txt\") as f:\n",
    "    lines = [l.rstrip('\\n') for l in f]"
   ]
  },
  {
   "cell_type": "code",
   "execution_count": 4,
   "metadata": {},
   "outputs": [
    {
     "name": "stdout",
     "output_type": "stream",
     "text": [
      "\n",
      "Items in your inventory:\n",
      "- prime number\n",
      "- candy cane\n",
      "- loom\n",
      "- asterisk\n",
      "- food ration\n",
      "- boulder\n",
      "- mutex\n",
      "- mug\n",
      "\n",
      "Command?\n"
     ]
    }
   ],
   "source": [
    "for i in lines:\n",
    "    sendToProgram(i)\n",
    "\n",
    "printASCII(d.getOutput())"
   ]
  },
  {
   "cell_type": "code",
   "execution_count": 5,
   "metadata": {},
   "outputs": [],
   "source": [
    "inventory = [ \n",
    "    'prime number', \n",
    "    'candy cane',\n",
    "    'loom',\n",
    "    'asterisk',\n",
    "    'food ration',\n",
    "    'boulder',\n",
    "    'mutex',\n",
    "    'mug']"
   ]
  },
  {
   "cell_type": "code",
   "execution_count": 6,
   "metadata": {},
   "outputs": [
    {
     "name": "stdout",
     "output_type": "stream",
     "text": [
      "\n",
      "You aren't carrying any items.\n",
      "\n",
      "Command?\n"
     ]
    }
   ],
   "source": [
    "for item in inventory:\n",
    "    command = \"drop \"+item\n",
    "    sendToProgram(command)\n",
    "sendToProgram(\"inv\")\n",
    "printASCII(d.getOutput())"
   ]
  },
  {
   "cell_type": "code",
   "execution_count": 7,
   "metadata": {},
   "outputs": [],
   "source": [
    "def analyzeOutput(o):\n",
    "    output = []\n",
    "    line = \"\"\n",
    "    for i in o:\n",
    "        if (i!=10):\n",
    "            line += chr(i)\n",
    "        else:\n",
    "            output.append(line)\n",
    "            line = \"\"\n",
    "    if \"lighter\" in output[9]:\n",
    "        return \"lighter\"\n",
    "    elif \"heavier\" in output[9]:\n",
    "        return \"heavier\"\n",
    "    else:\n",
    "        return output"
   ]
  },
  {
   "cell_type": "code",
   "execution_count": 8,
   "metadata": {},
   "outputs": [
    {
     "name": "stdout",
     "output_type": "stream",
     "text": [
      "('prime number', 'asterisk', 'mutex', 'mug')\n",
      "\n",
      "\n",
      "\n",
      "== Pressure-Sensitive Floor ==\n",
      "Analyzing...\n",
      "\n",
      "Doors here lead:\n",
      "- south\n",
      "\n",
      "A loud, robotic voice says \"Analysis complete! You may proceed.\" and you enter the cockpit.\n",
      "Santa notices your small droid, looks puzzled for a moment, realizes what has happened, and radios your ship directly.\n",
      "\"Oh, hello! You should be able to get in by typing 269520896 on the keypad at the main airlock.\"\n"
     ]
    }
   ],
   "source": [
    "from itertools import combinations\n",
    "\n",
    "found = False\n",
    "for n in range(1,len(inventory)+1):\n",
    "    comb = combinations(inventory,n)\n",
    "    out = []\n",
    "    for c in comb:\n",
    "        for i in c:\n",
    "            command = \"take \"+i\n",
    "            sendToProgram(command)\n",
    "        sendToProgram(\"north\") # trying to pass the Pressure-Sensitive Floor\n",
    "        #printASCII(d.getOutput())\n",
    "        out = analyzeOutput(d.getOutput())\n",
    "        if out==\"heavier\" or out==\"lighter\":\n",
    "            #print(c,\" --> need to be \",out)\n",
    "            for i in c:\n",
    "                command = \"drop \"+i\n",
    "                sendToProgram(command)\n",
    "        else:\n",
    "            print(c)\n",
    "            printASCII(d.getOutput())\n",
    "            found = True\n",
    "            break\n",
    "    if found:\n",
    "        break"
   ]
  },
  {
   "cell_type": "code",
   "execution_count": null,
   "metadata": {},
   "outputs": [],
   "source": []
  }
 ],
 "metadata": {
  "kernelspec": {
   "display_name": "Python 3",
   "language": "python",
   "name": "python3"
  },
  "language_info": {
   "codemirror_mode": {
    "name": "ipython",
    "version": 3
   },
   "file_extension": ".py",
   "mimetype": "text/x-python",
   "name": "python",
   "nbconvert_exporter": "python",
   "pygments_lexer": "ipython3",
   "version": "3.7.5"
  }
 },
 "nbformat": 4,
 "nbformat_minor": 2
}
