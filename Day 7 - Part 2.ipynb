{
 "cells": [
  {
   "cell_type": "code",
   "execution_count": 144,
   "metadata": {},
   "outputs": [],
   "source": [
    "def getDigits(num):\n",
    "    digits = []\n",
    "    while num > 0:\n",
    "        d = num%10\n",
    "        num = num//10\n",
    "        digits.append(d)\n",
    "    return digits\n",
    "\n",
    "def repackInstr(op):\n",
    "    dig = getDigits(op)\n",
    "    instr = [0,0,0,0]\n",
    "    n = 0\n",
    "    for i in dig:\n",
    "        if (n==0): instr[0] = i\n",
    "        elif (n==1): instr[0] += 10*i\n",
    "        else: instr[n-1] = i\n",
    "        n += 1\n",
    "    return instr"
   ]
  },
  {
   "cell_type": "code",
   "execution_count": 200,
   "metadata": {},
   "outputs": [],
   "source": [
    "class amplifier():\n",
    "    \"\"\"Amplifier\"\"\"\n",
    "\n",
    "    def __init__(self, digits, phase, name):\n",
    "        self.name = name\n",
    "        self.phase = phase\n",
    "        self.ip = 0\n",
    "        self.digits = list(digits)\n",
    "        self.output = -1\n",
    "        self.iinp = 0\n",
    "        self.isRunning = True\n",
    "        self.isHalted = False\n",
    "        \n",
    "    def getOutput(self):\n",
    "        return self.output\n",
    "    \n",
    "    def runProgram(self,theInput):\n",
    "        if self.isHalted:\n",
    "            self.isRunning = False\n",
    "            return\n",
    "        self.isRunning = True\n",
    "        inputs = [self.phase,theInput]\n",
    "        outputDig = 0\n",
    "        #if (self.ip and self.isRunning):\n",
    "        #    print(\"Resuming Amp\",self.name,\"operation at instruction\",self.ip,\"with input\",theInput)\n",
    "        while ( self.ip < len(self.digits) and self.isRunning ):\n",
    "            op_ = self.digits[self.ip]\n",
    "            if op_ == 99: \n",
    "                #print(\"Amp\",self.name,\"halted - Final output =\",self.output)\n",
    "                self.isRunning = False\n",
    "                self.isHalted = True\n",
    "                self.isRunning\n",
    "                break\n",
    "            p = repackInstr(op_)\n",
    "            op = p[0]\n",
    "            if op == 3:\n",
    "                inputDig = inputs[self.iinp]\n",
    "                self.iinp=1\n",
    "                a = self.digits[self.ip+1]\n",
    "                if p[1]:\n",
    "                    self.digits[ self.digits[a] ] = inputDig\n",
    "                else:\n",
    "                    self.digits[ a ] = inputDig\n",
    "                self.ip += 2\n",
    "            elif op==4:\n",
    "                a = self.digits[self.ip+1]\n",
    "                if p[1]:\n",
    "                    outputDig = a\n",
    "                else:\n",
    "                    outputDig = self.digits[a]\n",
    "                self.ip += 2\n",
    "                self.output = outputDig \n",
    "                self.isRunning = False\n",
    "                #print(\"Amp\",self.name,\"is waiting for new input at instruction\",self.ip,\"- Current output =\",self.output)\n",
    "            elif op==5:\n",
    "                a, b = self.digits[self.ip+1:self.ip+3]\n",
    "                if p[1]:\n",
    "                    a_ = a\n",
    "                else:\n",
    "                    a_ = self.digits[a]\n",
    "                if p[2]:\n",
    "                    b_ = b\n",
    "                else:\n",
    "                    b_ = self.digits[b]\n",
    "                if a_:\n",
    "                    self.ip = b_\n",
    "                else:\n",
    "                    self.ip += 3\n",
    "            elif op==6:\n",
    "                a, b = self.digits[self.ip+1:self.ip+3]\n",
    "                if p[1]:\n",
    "                    a_ = a\n",
    "                else:\n",
    "                    a_ = self.digits[a]\n",
    "                if p[2]:\n",
    "                    b_ = b\n",
    "                else:\n",
    "                    b_ = self.digits[b]\n",
    "                if not a_:\n",
    "                    self.ip = b_\n",
    "                else:\n",
    "                    self.ip += 3\n",
    "            elif op==7:\n",
    "                a, b, c = self.digits[self.ip+1:self.ip+4]\n",
    "                if p[1]:\n",
    "                    a_ = a\n",
    "                else:\n",
    "                    a_ = self.digits[a]\n",
    "                if p[2]:\n",
    "                    b_ = b\n",
    "                else:\n",
    "                    b_ = self.digits[b]\n",
    "                if a_ < b_:\n",
    "                    self.digits[c] = 1\n",
    "                else:\n",
    "                    self.digits[c] = 0\n",
    "                self.ip += 4\n",
    "            elif op==8:\n",
    "                a, b, c = self.digits[self.ip+1:self.ip+4]\n",
    "                if p[1]:\n",
    "                    a_ = a\n",
    "                else:\n",
    "                    a_ = self.digits[a]\n",
    "                if p[2]:\n",
    "                    b_ = b\n",
    "                else:\n",
    "                    b_ = self.digits[b]            \n",
    "                if a_ == b_:\n",
    "                    self.digits[c] = 1\n",
    "                else:\n",
    "                    self.digits[c] = 0\n",
    "                self.ip += 4\n",
    "            elif op == 1 or op == 2: \n",
    "                a, b, c = self.digits[self.ip+1:self.ip+4]            \n",
    "                if p[1]:\n",
    "                    a_ = a \n",
    "                else:\n",
    "                    a_ = self.digits[a]    \n",
    "                if p[2]:\n",
    "                    b_ = b\n",
    "                else:\n",
    "                    b_ = self.digits[b]       \n",
    "                if op == 1:\n",
    "                    self.digits[c] = a_ + b_\n",
    "                if op == 2:\n",
    "                    self.digits[c] = a_ * b_\n",
    "                self.ip += 4\n",
    "            else:\n",
    "                print(\"Illegal operator:\",op)\n",
    "                self.isRunning = False\n",
    "                return self.isRunning\n",
    "        return self.isRunning"
   ]
  },
  {
   "cell_type": "code",
   "execution_count": 201,
   "metadata": {},
   "outputs": [],
   "source": [
    "def amploop(prog,phase,inp):\n",
    "    \n",
    "    prog_ = list(prog)\n",
    "    phase_ = list(phase)\n",
    "\n",
    "    A = amplifier(prog_,phase_[0],\"A\")\n",
    "    B = amplifier(prog_,phase_[1],\"B\")\n",
    "    C = amplifier(prog_,phase_[2],\"C\")\n",
    "    D = amplifier(prog_,phase_[3],\"D\")\n",
    "    E = amplifier(prog_,phase_[4],\"E\")\n",
    "    \n",
    "    iA=inp\n",
    "\n",
    "    while(True):\n",
    "        if not A.isHalted: \n",
    "            A.runProgram(iA)\n",
    "        iB = A.getOutput()\n",
    "        if not B.isHalted: \n",
    "            B.runProgram(iB)\n",
    "        iC = B.getOutput()\n",
    "        if not C.isHalted: \n",
    "            C.runProgram(iC)\n",
    "        iD = C.getOutput()\n",
    "        if not C.isHalted: \n",
    "            D.runProgram(iD)\n",
    "        iE = D.getOutput()\n",
    "        if not E.isHalted: \n",
    "            E.runProgram(iE)\n",
    "        else: \n",
    "            output = E.getOutput()\n",
    "            break\n",
    "        iA = E.getOutput()\n",
    "    \n",
    "    return output"
   ]
  },
  {
   "cell_type": "code",
   "execution_count": 202,
   "metadata": {},
   "outputs": [
    {
     "name": "stdout",
     "output_type": "stream",
     "text": [
      "139629729\n"
     ]
    }
   ],
   "source": [
    "testprog = [3,26,1001,26,-4,26,3,27,1002,27,2,27,1,27,26,27,4,27,1001,28,-1,28,1005,28,6,99,0,0,5]\n",
    "testphase = [9,8,7,6,5]\n",
    "print( amploop(testprog,testphase,0) )"
   ]
  },
  {
   "cell_type": "code",
   "execution_count": 203,
   "metadata": {},
   "outputs": [
    {
     "name": "stdout",
     "output_type": "stream",
     "text": [
      "18216\n"
     ]
    }
   ],
   "source": [
    "testprog = [3,52,1001,52,-5,52,3,53,1,52,56,54,1007,54,5,55,1005,55,26,1001,54,-5,54,1105,1,12,1,53,54,53,1008,54,0,55,1001,55,1,55,2,53,55,53,4,53,1001,56,-1,56,1005,56,6,99,0,0,0,0,10]\n",
    "testphase = [9,7,8,5,6]\n",
    "print( amploop(testprog,testphase,0) )"
   ]
  },
  {
   "cell_type": "code",
   "execution_count": 204,
   "metadata": {},
   "outputs": [],
   "source": [
    "fullprog = [3,8,1001,8,10,8,105,1,0,0,21,38,55,64,89,114,195,276,357,438,99999,3,9,101,3,9,9,102,3,9,9,1001,9,5,9,4,9,99,3,9,101,2,9,9,1002,9,3,9,101,5,9,9,4,9,99,3,9,101,3,9,9,4,9,99,3,9,1002,9,4,9,101,5,9,9,1002,9,5,9,101,5,9,9,102,3,9,9,4,9,99,3,9,101,3,9,9,1002,9,4,9,101,5,9,9,102,5,9,9,1001,9,5,9,4,9,99,3,9,102,2,9,9,4,9,3,9,101,2,9,9,4,9,3,9,102,2,9,9,4,9,3,9,101,2,9,9,4,9,3,9,102,2,9,9,4,9,3,9,1002,9,2,9,4,9,3,9,101,1,9,9,4,9,3,9,101,1,9,9,4,9,3,9,1001,9,1,9,4,9,3,9,1002,9,2,9,4,9,99,3,9,1002,9,2,9,4,9,3,9,1001,9,1,9,4,9,3,9,102,2,9,9,4,9,3,9,102,2,9,9,4,9,3,9,101,2,9,9,4,9,3,9,1002,9,2,9,4,9,3,9,102,2,9,9,4,9,3,9,101,1,9,9,4,9,3,9,102,2,9,9,4,9,3,9,1002,9,2,9,4,9,99,3,9,101,2,9,9,4,9,3,9,101,2,9,9,4,9,3,9,102,2,9,9,4,9,3,9,102,2,9,9,4,9,3,9,1001,9,1,9,4,9,3,9,102,2,9,9,4,9,3,9,101,2,9,9,4,9,3,9,101,1,9,9,4,9,3,9,1001,9,1,9,4,9,3,9,1001,9,2,9,4,9,99,3,9,1001,9,1,9,4,9,3,9,1002,9,2,9,4,9,3,9,1001,9,2,9,4,9,3,9,101,1,9,9,4,9,3,9,101,1,9,9,4,9,3,9,102,2,9,9,4,9,3,9,1002,9,2,9,4,9,3,9,102,2,9,9,4,9,3,9,1002,9,2,9,4,9,3,9,101,1,9,9,4,9,99,3,9,1002,9,2,9,4,9,3,9,1001,9,1,9,4,9,3,9,101,2,9,9,4,9,3,9,1002,9,2,9,4,9,3,9,101,1,9,9,4,9,3,9,101,2,9,9,4,9,3,9,1001,9,1,9,4,9,3,9,1002,9,2,9,4,9,3,9,102,2,9,9,4,9,3,9,1001,9,1,9,4,9,99]"
   ]
  },
  {
   "cell_type": "code",
   "execution_count": 205,
   "metadata": {},
   "outputs": [
    {
     "name": "stdout",
     "output_type": "stream",
     "text": [
      "37930920\n"
     ]
    }
   ],
   "source": [
    "testphase = [9,7,8,5,6]\n",
    "print( amploop(fullprog,testphase,0) )"
   ]
  },
  {
   "cell_type": "code",
   "execution_count": 207,
   "metadata": {},
   "outputs": [
    {
     "name": "stdout",
     "output_type": "stream",
     "text": [
      "Max thrust signal = 61019896 for phase [7, 8, 9, 5, 6]\n"
     ]
    }
   ],
   "source": [
    "from sympy.utilities.iterables import multiset_permutations\n",
    "import numpy as np\n",
    "\n",
    "results = []\n",
    "outputmax = 0\n",
    "\n",
    "a = np.array([9, 8, 7, 6, 5])\n",
    "\n",
    "for p in multiset_permutations(a):\n",
    "    fullprog_  = list(fullprog)\n",
    "    testphase_ = list(p)\n",
    "    output = amploop(fullprog_,testphase_,0)\n",
    "    results.append(output)\n",
    "    if output > outputmax:\n",
    "        outputmax = output\n",
    "        phasemax = testphase_\n",
    "\n",
    "print(\"Max thrust signal =\",outputmax,\"for phase\",phasemax)"
   ]
  },
  {
   "cell_type": "code",
   "execution_count": null,
   "metadata": {},
   "outputs": [],
   "source": []
  }
 ],
 "metadata": {
  "kernelspec": {
   "display_name": "Python 3",
   "language": "python",
   "name": "python3"
  },
  "language_info": {
   "codemirror_mode": {
    "name": "ipython",
    "version": 3
   },
   "file_extension": ".py",
   "mimetype": "text/x-python",
   "name": "python",
   "nbconvert_exporter": "python",
   "pygments_lexer": "ipython3",
   "version": "3.7.5"
  }
 },
 "nbformat": 4,
 "nbformat_minor": 2
}
