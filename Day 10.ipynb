{
 "cells": [
  {
   "cell_type": "markdown",
   "metadata": {},
   "source": [
    "# Day 10"
   ]
  },
  {
   "cell_type": "code",
   "execution_count": 107,
   "metadata": {},
   "outputs": [],
   "source": [
    "import numpy as np\n",
    "import math as m"
   ]
  },
  {
   "cell_type": "code",
   "execution_count": 108,
   "metadata": {},
   "outputs": [],
   "source": [
    "infile = \"input10.txt\"\n",
    "#infile = \"day10test0.txt\"\n",
    "#infile = \"day10test1.txt\"\n",
    "\n",
    "with open(infile) as f:\n",
    "    lines = [l.rstrip('\\n') for l in f]\n",
    "    #print(lines)"
   ]
  },
  {
   "cell_type": "code",
   "execution_count": 109,
   "metadata": {},
   "outputs": [],
   "source": [
    "def reformatMap(map):\n",
    "    newmap = []\n",
    "    for l in map:\n",
    "        ll = []\n",
    "        for c in l.replace(\".\",\"0\").replace(\"#\",\"1\"):\n",
    "            ll.append(int(c))\n",
    "        newmap.append(ll)\n",
    "    return np.array(newmap,dtype='int')"
   ]
  },
  {
   "cell_type": "code",
   "execution_count": 110,
   "metadata": {},
   "outputs": [],
   "source": [
    "map = reformatMap(lines)\n",
    "#print(map)"
   ]
  },
  {
   "cell_type": "code",
   "execution_count": 111,
   "metadata": {},
   "outputs": [],
   "source": [
    "# fill list of cartesian coordinates of filled position in map\n",
    "def asteroidsCoord(map):\n",
    "    X = []\n",
    "    for i in range(map.shape[0]):\n",
    "        for j in range(map.shape[1]):\n",
    "            if map[i][j]==1:\n",
    "                X.append([float(i),float(j)])\n",
    "    return X"
   ]
  },
  {
   "cell_type": "code",
   "execution_count": 112,
   "metadata": {},
   "outputs": [
    {
     "name": "stdout",
     "output_type": "stream",
     "text": [
      "348\n"
     ]
    }
   ],
   "source": [
    "X = asteroidsCoord(map)\n",
    "print(len(X))"
   ]
  },
  {
   "cell_type": "markdown",
   "metadata": {},
   "source": [
    "## Part 1\n",
    "\n",
    "Probably not the most efficient strategy, but a good one for a physicist: moving to polar coordinates, check angle and distances between asteroids, if more than one asteoroids have the same angle with respect to the current one, only retain that with smaller distance"
   ]
  },
  {
   "cell_type": "code",
   "execution_count": 113,
   "metadata": {},
   "outputs": [],
   "source": [
    "# compute angle between points\n",
    "def angle(x0,x1):\n",
    "    return m.atan2(x1[1]-x0[1],x1[0]-x0[0])\n",
    "\n",
    "# compute distance between points\n",
    "def distance(x0,x1):\n",
    "    return m.sqrt((x1[0]-x0[0])**2 + (x1[1]-x0[1])**2)"
   ]
  },
  {
   "cell_type": "code",
   "execution_count": 114,
   "metadata": {},
   "outputs": [
    {
     "name": "stdout",
     "output_type": "stream",
     "text": [
      "Max asteroids detected = 299\n"
     ]
    }
   ],
   "source": [
    "nseen = []\n",
    "\n",
    "for x0 in X:\n",
    "    R = {} # dictionary of polar coordinates with respect to current position\n",
    "    for x1 in X: # check all asteroids\n",
    "        if x0==x1: continue\n",
    "        a = angle(x0,x1)\n",
    "        d = distance(x0,x1)\n",
    "        if not (a in R): # there's already an asteroids in the dictionary\n",
    "            R[a] = d # add asteroid to dictionary\n",
    "        else:\n",
    "            dprev = R[a]\n",
    "            R[a] = min(d,dprev)\n",
    "    nseen.append(len(R))\n",
    "\n",
    "#print(nseen)\n",
    "print(\"Max asteroids detected =\",max(nseen))"
   ]
  },
  {
   "cell_type": "code",
   "execution_count": null,
   "metadata": {},
   "outputs": [],
   "source": []
  }
 ],
 "metadata": {
  "kernelspec": {
   "display_name": "Python 3",
   "language": "python",
   "name": "python3"
  },
  "language_info": {
   "codemirror_mode": {
    "name": "ipython",
    "version": 3
   },
   "file_extension": ".py",
   "mimetype": "text/x-python",
   "name": "python",
   "nbconvert_exporter": "python",
   "pygments_lexer": "ipython3",
   "version": "3.7.5"
  }
 },
 "nbformat": 4,
 "nbformat_minor": 2
}
