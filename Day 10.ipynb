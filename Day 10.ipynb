{
 "cells": [
  {
   "cell_type": "markdown",
   "metadata": {},
   "source": [
    "# Day 10"
   ]
  },
  {
   "cell_type": "code",
   "execution_count": 1,
   "metadata": {},
   "outputs": [],
   "source": [
    "import numpy as np\n",
    "import math as m"
   ]
  },
  {
   "cell_type": "code",
   "execution_count": 2,
   "metadata": {},
   "outputs": [
    {
     "name": "stdout",
     "output_type": "stream",
     "text": [
      "['.............#..#.#......##........#..#', '.#...##....#........##.#......#......#.', '..#.#.#...#...#...##.#...#.............', '.....##.................#.....##..#.#.#', '......##...#.##......#..#.......#......', '......#.....#....#.#..#..##....#.......', '...................##.#..#.....#.....#.', '#.....#.##.....#...##....#####....#.#..', '..#.#..........#..##.......#.#...#....#', '...#.#..#...#......#..........###.#....', '##..##...#.#.......##....#.#..#...##...', '..........#.#....#.#.#......#.....#....', '....#.........#..#..##..#.##........#..', '........#......###..............#.#....', '...##.#...#.#.#......#........#........', '......##.#.....#.#.....#..#.....#.#....', '..#....#.###..#...##.#..##............#', '...##..#...#.##.#.#....#.#.....#...#..#', '......#............#.##..#..#....##....', '.#.#.......#..#...###...........#.#.##.', '........##........#.#...#.#......##....', '.#.#........#......#..........#....#...', '...............#...#........##..#.#....', '.#......#....#.......#..#......#.......', '.....#...#.#...#...#..###......#.##....', '.#...#..##................##.#.........', '..###...#.......#.##.#....#....#....#.#', '...#..#.......###.............##.#.....', '#..##....###.......##........#..#...#.#', '.#......#...#...#.##......#..#.........', '#...#.....#......#..##.............#...', '...###.........###.###.#.....###.#.#...', '#......#......#.#..#....#..#.....##.#..', '.##....#.....#...#.##..#.#..##.......#.', '..#........#.......##.##....#......#...', '##............#....#.#.....#...........', '........###.............##...#........#', '#.........#.....#..##.#.#.#..#....#....', '..............##.#.#.#...........#.....']\n"
     ]
    }
   ],
   "source": [
    "#infile = \"day10test0.txt\"\n",
    "#infile = \"day10test1.txt\"\n",
    "#infile = \"day10test2.txt\"\n",
    "#infile = \"day10test4.txt\"\n",
    "#infile = \"day10test5.txt\"\n",
    "\n",
    "infile = \"input10.txt\"\n",
    "\n",
    "with open(infile) as f:\n",
    "    lines = [l.rstrip('\\n') for l in f]\n",
    "    print(lines)"
   ]
  },
  {
   "cell_type": "code",
   "execution_count": 3,
   "metadata": {},
   "outputs": [],
   "source": [
    "def reformatMap(lines):\n",
    "    newmap = []\n",
    "    for l in lines:\n",
    "        ll = []\n",
    "        for c in l.replace(\".\",\"0\").replace(\"#\",\"1\").replace(\"X\",\"1\"):\n",
    "            ll.append(int(c))\n",
    "        newmap.append(ll)\n",
    "    return np.array(newmap,dtype='int')"
   ]
  },
  {
   "cell_type": "code",
   "execution_count": 4,
   "metadata": {},
   "outputs": [
    {
     "name": "stdout",
     "output_type": "stream",
     "text": [
      "[[0 0 0 ... 0 0 1]\n",
      " [0 1 0 ... 0 1 0]\n",
      " [0 0 1 ... 0 0 0]\n",
      " ...\n",
      " [0 0 0 ... 0 0 1]\n",
      " [1 0 0 ... 0 0 0]\n",
      " [0 0 0 ... 0 0 0]]\n"
     ]
    }
   ],
   "source": [
    "themap = reformatMap(lines)\n",
    "print(themap)"
   ]
  },
  {
   "cell_type": "code",
   "execution_count": 5,
   "metadata": {},
   "outputs": [],
   "source": [
    "# fill list of cartesian coordinates of filled position in map\n",
    "def asteroidsCoord(themap):\n",
    "    X = []\n",
    "    for j in range(themap.shape[0]):\n",
    "        for i in range(themap.shape[1]):\n",
    "            if themap[j][i]==1: # column, row\n",
    "                X.append([float(i),float(j)])                \n",
    "    return X"
   ]
  },
  {
   "cell_type": "code",
   "execution_count": 6,
   "metadata": {},
   "outputs": [
    {
     "name": "stdout",
     "output_type": "stream",
     "text": [
      "348\n"
     ]
    }
   ],
   "source": [
    "X = asteroidsCoord(themap)\n",
    "print(len(X))"
   ]
  },
  {
   "cell_type": "markdown",
   "metadata": {},
   "source": [
    "## Part 1\n",
    "\n",
    "Probably not the most efficient strategy, but a good one for a physicist: moving to polar coordinates, check angle and distances between asteroids, if more than one asteoroids have the same angle with respect to the current one, only retain that with smaller distance"
   ]
  },
  {
   "cell_type": "code",
   "execution_count": 7,
   "metadata": {},
   "outputs": [],
   "source": [
    "# compute angle between points\n",
    "def angle(x0,x1):\n",
    "    return m.atan2(x1[1]-x0[1],x1[0]-x0[0])\n",
    "\n",
    "# compute distance between points\n",
    "def distance(x0,x1):\n",
    "    return m.sqrt((x1[0]-x0[0])**2 + (x1[1]-x0[1])**2)"
   ]
  },
  {
   "cell_type": "code",
   "execution_count": 8,
   "metadata": {},
   "outputs": [],
   "source": [
    "def CountVisibleAsteroids(x0,X):\n",
    "    R = {} # dictionary of polar coordinates with respect to x0\n",
    "    for x1 in X: # check all asteroids in X\n",
    "        if x0==x1: continue\n",
    "        a = angle(x0,x1)\n",
    "        d = distance(x0,x1)\n",
    "        if not (a in R): # there's already an asteroids in the dictionary\n",
    "            R[a] = d # add asteroid to dictionary\n",
    "        else:\n",
    "            dprev = R[a]\n",
    "            R[a] = min(d,dprev)\n",
    "    return R\n",
    "\n",
    "nseen = []\n",
    "for x0 in X:\n",
    "    nseen.append(len(CountVisibleAsteroids(x0,X)))"
   ]
  },
  {
   "cell_type": "code",
   "execution_count": 9,
   "metadata": {},
   "outputs": [
    {
     "name": "stdout",
     "output_type": "stream",
     "text": [
      "Max asteroids detected = 299 from position [26. 29.]\n"
     ]
    }
   ],
   "source": [
    "C = np.array(X)\n",
    "N = np.array(nseen)\n",
    "i = np.where(N == N.max())\n",
    "print(\"Max asteroids detected =\",N.max(),\"from position\",C[i][0])"
   ]
  },
  {
   "cell_type": "markdown",
   "metadata": {},
   "source": [
    "## Part 2\n",
    "\n",
    "I'm lazy and do not want to implement the reversal from polar coordinates to cartesian coordinates. I will still work in polars, but save corresponding cartesians alongside in relevant vector."
   ]
  },
  {
   "cell_type": "code",
   "execution_count": 10,
   "metadata": {},
   "outputs": [],
   "source": [
    "x0 = list(C[i][0]) # this is where the base is"
   ]
  },
  {
   "cell_type": "code",
   "execution_count": 41,
   "metadata": {},
   "outputs": [],
   "source": [
    "halfpi = m.acos(0)\n",
    "\n",
    "def ListAsteroidsByAngle(x0,X):\n",
    "    R = {} # dictionary of polar coordinates with respect to x0\n",
    "    for x1 in X: # check all asteroids in X\n",
    "        if x0==x1: continue\n",
    "        a = angle(x0,x1)\n",
    "        d = distance(x0,x1)\n",
    "        if not (a in R): # there's already an asteroids in the dictionary\n",
    "            R[a] = [[d,x1]] # add distance of first asteroid to dictionary\n",
    "        else:\n",
    "            l = R[a]\n",
    "            l.append([d,x1]) # add distance of other asteroids at same angle\n",
    "            R[a] = l\n",
    "    # Python dictionaries are not ordered, neither are the distances for a given angle. \n",
    "    # Will do it by hand and return a matrix. \n",
    "    # This is where I save both polar and cartesian coordinates\n",
    "    D = []\n",
    "    for a, d in R.items():\n",
    "        a += halfpi # add pi/2 to angle to start from vertical position\n",
    "        d.sort() # sort by distance\n",
    "        D.append([a,d])\n",
    "    D.sort()\n",
    "    return D"
   ]
  },
  {
   "cell_type": "code",
   "execution_count": 42,
   "metadata": {},
   "outputs": [],
   "source": [
    "D = ListAsteroidsByAngle(x0,X)"
   ]
  },
  {
   "cell_type": "code",
   "execution_count": 43,
   "metadata": {},
   "outputs": [
    {
     "name": "stdout",
     "output_type": "stream",
     "text": [
      "157\n"
     ]
    }
   ],
   "source": [
    "# find index for zero angle to start destroying asteroids\n",
    "for i in range(len(D)):\n",
    "    if D[i][0]==0.: \n",
    "        break\n",
    "print(i)"
   ]
  },
  {
   "cell_type": "code",
   "execution_count": 44,
   "metadata": {},
   "outputs": [],
   "source": [
    "npop = 0\n",
    "nmax = 200\n",
    "while(npop<=nmax):\n",
    "    l = D[i][1]\n",
    "    #print(l)\n",
    "    if len(l):\n",
    "        npop += 1\n",
    "        #print(npop)\n",
    "        lastAsteroid = l.pop(0) # kill and destroy!\n",
    "        if (npop==nmax): break\n",
    "    i += 1 # increase D index\n",
    "    if i==len(D): i=0"
   ]
  },
  {
   "cell_type": "code",
   "execution_count": 45,
   "metadata": {},
   "outputs": [
    {
     "name": "stdout",
     "output_type": "stream",
     "text": [
      "Result = 1419\n"
     ]
    }
   ],
   "source": [
    "result = int(lastAsteroid[1][0]*100+lastAsteroid[1][1])\n",
    "print(\"Result =\",result)"
   ]
  },
  {
   "cell_type": "markdown",
   "metadata": {},
   "source": [
    "## Visualisation"
   ]
  },
  {
   "cell_type": "code",
   "execution_count": 46,
   "metadata": {},
   "outputs": [],
   "source": [
    "# This function rebuild the map after a change.\n",
    "# Ideally I'd use it in the popping loop to make an animation (if I had time to learn how to do it)\n",
    "\n",
    "def currentMap(D,themap,x0):\n",
    "    current = np.zeros(themap.shape)\n",
    "    for i in range(len(D)):\n",
    "        l = D[i][1]\n",
    "        if len(l):\n",
    "            for a in l:\n",
    "                x = int(a[1][0])\n",
    "                y = int(a[1][1])\n",
    "                current[y][x] = 1\n",
    "        x = int(x0[0])\n",
    "        y = int(x0[1])\n",
    "        current[y][x] = 2\n",
    "    return current"
   ]
  },
  {
   "cell_type": "code",
   "execution_count": 47,
   "metadata": {},
   "outputs": [],
   "source": [
    "thismap = currentMap(D,themap,x0)"
   ]
  },
  {
   "cell_type": "code",
   "execution_count": 48,
   "metadata": {},
   "outputs": [
    {
     "data": {
      "text/plain": [
       "<Figure size 432x288 with 0 Axes>"
      ]
     },
     "metadata": {},
     "output_type": "display_data"
    },
    {
     "data": {
      "image/png": "[encoded data removed]",
      "text/plain": [
       "<Figure size 288x288 with 1 Axes>"
      ]
     },
     "metadata": {
      "needs_background": "light"
     },
     "output_type": "display_data"
    }
   ],
   "source": [
    "import matplotlib.pyplot as plt\n",
    "from matplotlib import animation\n",
    "\n",
    "fig = plt.figure()\n",
    "plt.matshow(thismap)\n",
    "plt.show()"
   ]
  },
  {
   "cell_type": "code",
   "execution_count": null,
   "metadata": {},
   "outputs": [],
   "source": []
  }
 ],
 "metadata": {
  "kernelspec": {
   "display_name": "Python 3",
   "language": "python",
   "name": "python3"
  },
  "language_info": {
   "codemirror_mode": {
    "name": "ipython",
    "version": 3
   },
   "file_extension": ".py",
   "mimetype": "text/x-python",
   "name": "python",
   "nbconvert_exporter": "python",
   "pygments_lexer": "ipython3",
   "version": "3.7.5"
  }
 },
 "nbformat": 4,
 "nbformat_minor": 2
}
