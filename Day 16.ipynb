{
 "cells": [
  {
   "cell_type": "markdown",
   "metadata": {},
   "source": [
    "# Day 16: Flawed Frequency Transmission\n",
    "\n",
    "https://adventofcode.com/2019/day/16\n",
    "\n",
    "## Part 1"
   ]
  },
  {
   "cell_type": "code",
   "execution_count": 1,
   "metadata": {},
   "outputs": [],
   "source": [
    "with open(\"./data/input16.txt\") as f:\n",
    "    line = [l.rstrip('\\n') for l in f]\n",
    "message = []\n",
    "for i in range(len(line[0])):\n",
    "    message.append(int(line[0][i]))"
   ]
  },
  {
   "cell_type": "code",
   "execution_count": 2,
   "metadata": {},
   "outputs": [
    {
     "data": {
      "text/plain": [
       "[1, 0, -1, 0, 1, 0, -1, 0]"
      ]
     },
     "execution_count": 2,
     "metadata": {},
     "output_type": "execute_result"
    }
   ],
   "source": [
    "basepattern = [ 0, 1, 0, -1 ]\n",
    "\n",
    "def pattern(pos=0): # use C numbering starting from 0\n",
    "    pattern = []\n",
    "    for p in basepattern:\n",
    "        for i in range(pos+1):\n",
    "            pattern.append(p)\n",
    "    return pattern\n",
    "\n",
    "def fullpattern(signal,pos):\n",
    "    fullpattern = []\n",
    "    basep = pattern(pos)\n",
    "    np = len(basep)\n",
    "    j = 1\n",
    "    for i in range(len(signal)):\n",
    "        fullpattern.append(basep[j])\n",
    "        j+=1\n",
    "        if (j==np): j=0\n",
    "    return fullpattern\n",
    "\n",
    "signal = [ 1,2,3,4,5,6,7,8 ]\n",
    "fullpattern(signal,0)"
   ]
  },
  {
   "cell_type": "code",
   "execution_count": 3,
   "metadata": {},
   "outputs": [
    {
     "name": "stdout",
     "output_type": "stream",
     "text": [
      "[4, 8, 2, 2, 6, 1, 5, 8]\n"
     ]
    }
   ],
   "source": [
    "def applyPhase(signal):\n",
    "    output = []\n",
    "    for i in range(len(signal)):\n",
    "        sum = 0\n",
    "        ipattern = fullpattern(signal,i)\n",
    "        for j in range(len(signal)):\n",
    "            sum += signal[j]*ipattern[j]\n",
    "        output.append(abs(sum)%10)\n",
    "    return output\n",
    "\n",
    "print(applyPhase(signal))"
   ]
  },
  {
   "cell_type": "code",
   "execution_count": 4,
   "metadata": {},
   "outputs": [
    {
     "data": {
      "text/plain": [
       "[0, 1, 0, 2, 9, 4, 9, 8]"
      ]
     },
     "execution_count": 4,
     "metadata": {},
     "output_type": "execute_result"
    }
   ],
   "source": [
    "def applyNPhases(signal,nphase,verbose=False):\n",
    "    signal_ = list(signal)\n",
    "    iphase = 0\n",
    "    while(iphase<nphase):\n",
    "        if verbose:\n",
    "            print(\"Applying phase #\",iphase+1)\n",
    "        output = applyPhase(signal_)\n",
    "        signal_ = output\n",
    "        iphase += 1\n",
    "    return output\n",
    "\n",
    "applyNPhases(signal,4)[0:8]"
   ]
  },
  {
   "cell_type": "code",
   "execution_count": 5,
   "metadata": {},
   "outputs": [],
   "source": [
    "def vectorToInt(vector):\n",
    "    decimal = 1\n",
    "    total = 0\n",
    "    for d in reversed(vector):\n",
    "        total += d * decimal;\n",
    "        decimal *= 10;\n",
    "    return total"
   ]
  },
  {
   "cell_type": "code",
   "execution_count": 6,
   "metadata": {},
   "outputs": [
    {
     "name": "stdout",
     "output_type": "stream",
     "text": [
      "52432133\n"
     ]
    }
   ],
   "source": [
    "# 80871224585914546619083218645595 becomes 24176176.\n",
    "# 19617804207202209144916044189917 becomes 73745418.\n",
    "# 69317163492948606335995924319873 becomes 52432133.\n",
    "\n",
    "signal = [8,0,8,7,1,2,2,4,5,8,5,9,1,4,5,4,6,6,1,9,0,8,3,2,1,8,6,4,5,5,9,5]\n",
    "signal = [1,9,6,1,7,8,0,4,2,0,7,2,0,2,2,0,9,1,4,4,9,1,6,0,4,4,1,8,9,9,1,7]\n",
    "signal = [6,9,3,1,7,1,6,3,4,9,2,9,4,8,6,0,6,3,3,5,9,9,5,9,2,4,3,1,9,8,7,3]\n",
    "\n",
    "output = applyNPhases(signal,100)[0:8]\n",
    "print(vectorToInt(output))"
   ]
  },
  {
   "cell_type": "code",
   "execution_count": 7,
   "metadata": {},
   "outputs": [
    {
     "name": "stdout",
     "output_type": "stream",
     "text": [
      "28430146\n"
     ]
    }
   ],
   "source": [
    "output = applyNPhases(message,100)[0:8]\n",
    "print(vectorToInt(output))"
   ]
  },
  {
   "cell_type": "markdown",
   "metadata": {},
   "source": [
    "## Part 2\n",
    "\n",
    "Brute force with solution to Part 1 will not work, given the absurd size of the vector.\n",
    "\n",
    "Some toughts trying to crack the puzzle...\n",
    "\n",
    "- Given the presence of the offset and its value, it looks I'm only interested in the last ~10th of digits.\n",
    "Can I maybe start summing from the end of the vector and exploit string recurrency?\n",
    "\n",
    "- I notice that the pattern for a given digit have a period N = 4 * digit.\n",
    "\n",
    "- I also notice that, because of the nature of the pattern, the highest pattern is by definition [0,0,...,0,0,1], the second highest is [0,0,....0,1,1] and so on until I reach digit N/2, where a 0 at end appears (N is the lenght of the message). **THIS IS WHERE THE TRICK IS!**\n",
    "\n",
    "- Since I'm only interested in the digits in the last ~10th of digits, I can simply compute the last digits. **To do so, given the nature of the patterns, I can start from the end and compute only the last N/2 digits as partial sums, and I will only need the last N/2 digits for the next phase! No pattern is really needed since the offsets is saving me! The first N/2 digits will be gibberish, but since I have the offest to select the answer in the last part of the vector I DON'T CARE!**\n",
    "\n",
    "- The digits repetition is a red herring!"
   ]
  },
  {
   "cell_type": "code",
   "execution_count": 8,
   "metadata": {},
   "outputs": [
    {
     "name": "stdout",
     "output_type": "stream",
     "text": [
      "6500000 5970417 529583\n"
     ]
    }
   ],
   "source": [
    "offset = vectorToInt(message[0:7])\n",
    "ss = (10000*message)\n",
    "print(len(ss), offset, len(ss)-offset)"
   ]
  },
  {
   "cell_type": "code",
   "execution_count": 9,
   "metadata": {},
   "outputs": [],
   "source": [
    "import numpy as np"
   ]
  },
  {
   "cell_type": "code",
   "execution_count": null,
   "metadata": {},
   "outputs": [],
   "source": [
    "# 03036732577212944063491565474664 becomes 84462026.\n",
    "# 02935109699940807407585447034323 becomes 78725270.\n",
    "# 03081770884921959731165446850517 becomes 53553731.\n",
    "\n",
    "signal = [0,3,0,3,6,7,3,2,5,7,7,2,1,2,9,4,4,0,6,3,4,9,1,5,6,5,4,7,4,6,6,4]\n",
    "\n",
    "signal = list(message)\n",
    "\n",
    "offset = vectorToInt(signal[0:7])\n",
    "fullsignal = (10000*signal)\n",
    "\n",
    "nphase = 100\n",
    "t = np.array(fullsignal)\n",
    "t = t[::-1] # revert array to compute cumulative sums from the end\n",
    "for ph in range(nphase):\n",
    "    sums = np.cumsum(t)%10 # cumulative sums correspoding to results from high patterns, plus module 10 to take last digit\n",
    "    t = sums.copy()\n",
    "t = t[::-1] # revert array back\n",
    "output = t[offset:offset+8]\n",
    "\n",
    "print(vectorToInt(output))"
   ]
  },
  {
   "cell_type": "code",
   "execution_count": null,
   "metadata": {},
   "outputs": [],
   "source": []
  }
 ],
 "metadata": {
  "kernelspec": {
   "display_name": "Python 3",
   "language": "python",
   "name": "python3"
  },
  "language_info": {
   "codemirror_mode": {
    "name": "ipython",
    "version": 3
   },
   "file_extension": ".py",
   "mimetype": "text/x-python",
   "name": "python",
   "nbconvert_exporter": "python",
   "pygments_lexer": "ipython3",
   "version": "3.7.5"
  }
 },
 "nbformat": 4,
 "nbformat_minor": 2
}
