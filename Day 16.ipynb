{
 "cells": [
  {
   "cell_type": "markdown",
   "metadata": {},
   "source": [
    "# Day 16: Flawed Frequency Transmission\n",
    "\n",
    "https://adventofcode.com/2019/day/16"
   ]
  },
  {
   "cell_type": "code",
   "execution_count": 46,
   "metadata": {},
   "outputs": [],
   "source": [
    "with open(\"input16.txt\") as f:\n",
    "    line = [l.rstrip('\\n') for l in f]\n",
    "message = []\n",
    "for i in range(len(line[0])):\n",
    "    message.append(int(line[0][i]))"
   ]
  },
  {
   "cell_type": "code",
   "execution_count": 47,
   "metadata": {},
   "outputs": [
    {
     "data": {
      "text/plain": [
       "[1, 0, -1, 0, 1, 0, -1, 0]"
      ]
     },
     "execution_count": 47,
     "metadata": {},
     "output_type": "execute_result"
    }
   ],
   "source": [
    "basepattern = [ 0, 1, 0, -1 ]\n",
    "\n",
    "def pattern(pos=0): # use C numbering starting from 0\n",
    "    pattern = []\n",
    "    for p in basepattern:\n",
    "        for i in range(pos+1):\n",
    "            pattern.append(p)\n",
    "    return pattern\n",
    "\n",
    "def fullpattern(signal,pos):\n",
    "    fullpattern = []\n",
    "    basep = pattern(pos)\n",
    "    np = len(basep)\n",
    "    j = 1\n",
    "    for i in range(len(signal)):\n",
    "        fullpattern.append(basep[j])\n",
    "        j+=1\n",
    "        if (j==np): j=0\n",
    "    return fullpattern\n",
    "\n",
    "signal = [ 1,2,3,4,5,6,7,8 ]\n",
    "fullpattern(signal,0)"
   ]
  },
  {
   "cell_type": "code",
   "execution_count": 48,
   "metadata": {},
   "outputs": [
    {
     "name": "stdout",
     "output_type": "stream",
     "text": [
      "[4, 8, 2, 2, 6, 1, 5, 8]\n"
     ]
    }
   ],
   "source": [
    "def applyPhase(signal):\n",
    "    output = []\n",
    "    for i in range(len(signal)):\n",
    "        sum = 0\n",
    "        ipattern = fullpattern(signal,i)\n",
    "        for j in range(len(signal)):\n",
    "            sum += signal[j]*ipattern[j]\n",
    "        output.append(abs(sum)%10)\n",
    "    return output\n",
    "\n",
    "print(applyPhase(signal))"
   ]
  },
  {
   "cell_type": "code",
   "execution_count": 59,
   "metadata": {},
   "outputs": [
    {
     "data": {
      "text/plain": [
       "[3, 6, 6, 3, 8, 1, 7, 9]"
      ]
     },
     "execution_count": 59,
     "metadata": {},
     "output_type": "execute_result"
    }
   ],
   "source": [
    "def applyNPhases(signal,nphase,verbose=False):\n",
    "    signal_ = list(signal)\n",
    "    iphase = 0\n",
    "    while(iphase<nphase):\n",
    "        if verbose:\n",
    "            print(\"Applying phase #\",iphase+1)\n",
    "        output = applyPhase(signal_)\n",
    "        signal_ = output\n",
    "        iphase += 1\n",
    "    return output\n",
    "\n",
    "applyNPhases(signal,4)[0:8]"
   ]
  },
  {
   "cell_type": "code",
   "execution_count": 61,
   "metadata": {},
   "outputs": [],
   "source": [
    "# 80871224585914546619083218645595 becomes 24176176.\n",
    "# 19617804207202209144916044189917 becomes 73745418.\n",
    "# 69317163492948606335995924319873 becomes 52432133.\n",
    "\n",
    "signal = [8,0,8,7,1,2,2,4,5,8,5,9,1,4,5,4,6,6,1,9,0,8,3,2,1,8,6,4,5,5,9,5]\n",
    "signal = [1,9,6,1,7,8,0,4,2,0,7,2,0,2,2,0,9,1,4,4,9,1,6,0,4,4,1,8,9,9,1,7]\n",
    "signal = [6,9,3,1,7,1,6,3,4,9,2,9,4,8,6,0,6,3,3,5,9,9,5,9,2,4,3,1,9,8,7,3]\n",
    "\n",
    "output = applyNPhases(signal,100)[0:8]"
   ]
  },
  {
   "cell_type": "code",
   "execution_count": 62,
   "metadata": {},
   "outputs": [
    {
     "name": "stdout",
     "output_type": "stream",
     "text": [
      "Applying phase # 1\n",
      "Applying phase # 2\n",
      "Applying phase # 3\n",
      "Applying phase # 4\n",
      "Applying phase # 5\n",
      "Applying phase # 6\n",
      "Applying phase # 7\n",
      "Applying phase # 8\n",
      "Applying phase # 9\n",
      "Applying phase # 10\n",
      "Applying phase # 11\n",
      "Applying phase # 12\n",
      "Applying phase # 13\n",
      "Applying phase # 14\n",
      "Applying phase # 15\n",
      "Applying phase # 16\n",
      "Applying phase # 17\n",
      "Applying phase # 18\n",
      "Applying phase # 19\n",
      "Applying phase # 20\n",
      "Applying phase # 21\n",
      "Applying phase # 22\n",
      "Applying phase # 23\n",
      "Applying phase # 24\n",
      "Applying phase # 25\n",
      "Applying phase # 26\n",
      "Applying phase # 27\n",
      "Applying phase # 28\n",
      "Applying phase # 29\n",
      "Applying phase # 30\n",
      "Applying phase # 31\n",
      "Applying phase # 32\n",
      "Applying phase # 33\n",
      "Applying phase # 34\n",
      "Applying phase # 35\n",
      "Applying phase # 36\n",
      "Applying phase # 37\n",
      "Applying phase # 38\n",
      "Applying phase # 39\n",
      "Applying phase # 40\n",
      "Applying phase # 41\n",
      "Applying phase # 42\n",
      "Applying phase # 43\n",
      "Applying phase # 44\n",
      "Applying phase # 45\n",
      "Applying phase # 46\n",
      "Applying phase # 47\n",
      "Applying phase # 48\n",
      "Applying phase # 49\n",
      "Applying phase # 50\n",
      "Applying phase # 51\n",
      "Applying phase # 52\n",
      "Applying phase # 53\n",
      "Applying phase # 54\n",
      "Applying phase # 55\n",
      "Applying phase # 56\n",
      "Applying phase # 57\n",
      "Applying phase # 58\n",
      "Applying phase # 59\n",
      "Applying phase # 60\n",
      "Applying phase # 61\n",
      "Applying phase # 62\n",
      "Applying phase # 63\n",
      "Applying phase # 64\n",
      "Applying phase # 65\n",
      "Applying phase # 66\n",
      "Applying phase # 67\n",
      "Applying phase # 68\n",
      "Applying phase # 69\n",
      "Applying phase # 70\n",
      "Applying phase # 71\n",
      "Applying phase # 72\n",
      "Applying phase # 73\n",
      "Applying phase # 74\n",
      "Applying phase # 75\n",
      "Applying phase # 76\n",
      "Applying phase # 77\n",
      "Applying phase # 78\n",
      "Applying phase # 79\n",
      "Applying phase # 80\n",
      "Applying phase # 81\n",
      "Applying phase # 82\n",
      "Applying phase # 83\n",
      "Applying phase # 84\n",
      "Applying phase # 85\n",
      "Applying phase # 86\n",
      "Applying phase # 87\n",
      "Applying phase # 88\n",
      "Applying phase # 89\n",
      "Applying phase # 90\n",
      "Applying phase # 91\n",
      "Applying phase # 92\n",
      "Applying phase # 93\n",
      "Applying phase # 94\n",
      "Applying phase # 95\n",
      "Applying phase # 96\n",
      "Applying phase # 97\n",
      "Applying phase # 98\n",
      "Applying phase # 99\n",
      "Applying phase # 100\n"
     ]
    },
    {
     "data": {
      "text/plain": [
       "[2, 8, 4, 3, 0, 1, 4, 6]"
      ]
     },
     "execution_count": 62,
     "metadata": {},
     "output_type": "execute_result"
    }
   ],
   "source": [
    "applyNPhases(message,100,True)[0:8]"
   ]
  },
  {
   "cell_type": "code",
   "execution_count": null,
   "metadata": {},
   "outputs": [],
   "source": [
    "28430146"
   ]
  }
 ],
 "metadata": {
  "kernelspec": {
   "display_name": "Python 3",
   "language": "python",
   "name": "python3"
  },
  "language_info": {
   "codemirror_mode": {
    "name": "ipython",
    "version": 3
   },
   "file_extension": ".py",
   "mimetype": "text/x-python",
   "name": "python",
   "nbconvert_exporter": "python",
   "pygments_lexer": "ipython3",
   "version": "3.7.5"
  }
 },
 "nbformat": 4,
 "nbformat_minor": 2
}
