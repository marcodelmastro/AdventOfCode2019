{
 "cells": [
  {
   "cell_type": "markdown",
   "metadata": {},
   "source": [
    "# Day 7\n",
    "\n",
    "## Part 1"
   ]
  },
  {
   "cell_type": "code",
   "execution_count": 202,
   "metadata": {},
   "outputs": [],
   "source": [
    "def getDigits(num):\n",
    "    digits = []\n",
    "    while num > 0:\n",
    "        d = num%10\n",
    "        num = num//10\n",
    "        digits.append(d)\n",
    "    return digits # [::-1]\n",
    "\n",
    "def repackInstr(op):\n",
    "    dig = getDigits(op)\n",
    "    instr = [0,0,0,0]\n",
    "    n = 0\n",
    "    for i in dig:\n",
    "        if (n==0): instr[0] = i\n",
    "        elif (n==1): instr[0] += 10*i\n",
    "        else: instr[n-1] = i\n",
    "        n += 1\n",
    "    return instr\n",
    "\n",
    "def program(digits,inputs=[0,0],debug=False):\n",
    "    iinp = 0;\n",
    "    outputDig = 0\n",
    "    ip = 0\n",
    "    while ip < len(digits):\n",
    "        op_ = digits[ip]\n",
    "        if op_ == 99: \n",
    "            #print(\"Program halted!\")\n",
    "            break\n",
    "        p = repackInstr(op_)\n",
    "        op = p[0]\n",
    "        if debug:\n",
    "            print(\"Operator:\",op)\n",
    "            print(digits)\n",
    "        if op == 3:\n",
    "            ###\n",
    "            inputDig = inputs[iinp]\n",
    "            #print(iinp,inputDig)\n",
    "            iinp=1\n",
    "            ###\n",
    "            a = digits[ip+1]\n",
    "            if p[1]:\n",
    "                digits[ digits[a] ] = inputDig\n",
    "            else:\n",
    "                digits[ a ] = inputDig\n",
    "            ip += 2\n",
    "        elif op==4:\n",
    "            a = digits[ip+1]\n",
    "            if p[1]:\n",
    "                outputDig = a\n",
    "            else:\n",
    "                outputDig = digits[a]\n",
    "            ip += 2\n",
    "        elif op==5:\n",
    "            a, b = digits[ip+1:ip+3]\n",
    "            if p[1]:\n",
    "                a_ = a\n",
    "            else:\n",
    "                a_ = digits[a]\n",
    "            if p[2]:\n",
    "                b_ = b\n",
    "            else:\n",
    "                b_ = digits[b]\n",
    "            if a_:\n",
    "                ip = b_\n",
    "            else:\n",
    "                ip += 3\n",
    "        elif op==6:\n",
    "            a, b = digits[ip+1:ip+3]\n",
    "            if p[1]:\n",
    "                a_ = a\n",
    "            else:\n",
    "                a_ = digits[a]\n",
    "            if p[2]:\n",
    "                b_ = b\n",
    "            else:\n",
    "                b_ = digits[b]\n",
    "            if not a_:\n",
    "                ip = b_\n",
    "            else:\n",
    "                ip += 3\n",
    "        elif op==7:\n",
    "            a, b, c = digits[ip+1:ip+4]\n",
    "            if p[1]:\n",
    "                a_ = a\n",
    "            else:\n",
    "                a_ = digits[a]\n",
    "            if p[2]:\n",
    "                b_ = b\n",
    "            else:\n",
    "                b_ = digits[b]\n",
    "            if a_ < b_:\n",
    "                digits[c] = 1\n",
    "            else:\n",
    "                digits[c] = 0\n",
    "            ip += 4\n",
    "        elif op==8:\n",
    "            a, b, c = digits[ip+1:ip+4]\n",
    "            if p[1]:\n",
    "                a_ = a\n",
    "            else:\n",
    "                a_ = digits[a]\n",
    "            if p[2]:\n",
    "                b_ = b\n",
    "            else:\n",
    "                b_ = digits[b]            \n",
    "            if a_ == b_:\n",
    "                digits[c] = 1\n",
    "            else:\n",
    "                digits[c] = 0\n",
    "            ip += 4        \n",
    "        elif op == 1 or op == 2: \n",
    "            a, b, c = digits[ip+1:ip+4]            \n",
    "            if p[1]:\n",
    "                a_ = a \n",
    "            else:\n",
    "                a_ = digits[a]                 \n",
    "            if p[2]:\n",
    "                b_ = b\n",
    "            else:\n",
    "                b_ = digits[b]\n",
    "            \n",
    "            if op == 1:\n",
    "                digits[c] = a_ + b_\n",
    "            if op == 2:\n",
    "                digits[c] = a_ * b_\n",
    "            ip += 4            \n",
    "        else:\n",
    "            print(\"Illegal operator:\",op)\n",
    "            return        \n",
    "    return digits, outputDig"
   ]
  },
  {
   "cell_type": "code",
   "execution_count": 203,
   "metadata": {},
   "outputs": [],
   "source": [
    "testprog  = [3,15,3,16,1002,16,10,16,1,16,15,15,4,15,99,0,0]\n",
    "testphase = [4,3,2,1,0]"
   ]
  },
  {
   "cell_type": "code",
   "execution_count": 204,
   "metadata": {},
   "outputs": [
    {
     "name": "stdout",
     "output_type": "stream",
     "text": [
      "123\n"
     ]
    }
   ],
   "source": [
    "def amp(prog,phase,inp):\n",
    "    thisprog = list(prog)\n",
    "    dig, out = program(prog,[phase,inp])\n",
    "    return out\n",
    "\n",
    "phase = 3\n",
    "inp = 12\n",
    "testprog_ = list(testprog)\n",
    "print(amp(testprog_,phase,inp))"
   ]
  },
  {
   "cell_type": "code",
   "execution_count": 279,
   "metadata": {},
   "outputs": [
    {
     "name": "stdout",
     "output_type": "stream",
     "text": [
      "Amp A\n",
      "output =  6\n",
      "Amp B\n",
      "output =  65\n",
      "Amp C\n",
      "output =  652\n",
      "Amp D\n",
      "output =  6521\n",
      "Amp E\n",
      "output =  65210\n",
      "Trister signal = 65210 for phase [1, 0, 4, 3, 2]\n"
     ]
    }
   ],
   "source": [
    "def ampseries(prog,phases,debug=False):\n",
    "    inp = 0\n",
    "    names = [\"A\",\"B\",\"C\",\"D\",\"E\"]\n",
    "    iname = 0\n",
    "    thisprog = list(prog)\n",
    "    for ph in phases:        \n",
    "        out = amp(thisprog,ph,inp)\n",
    "        inp = out\n",
    "        if debug:\n",
    "            print(\"Amp\",names[iname])\n",
    "            print(\"output = \", out)\n",
    "            iname += 1\n",
    "    return out\n",
    "\n",
    "def testAmp(testprog,testphase,debug=True):\n",
    "    testprog_ = list(testprog)\n",
    "    testphase_ = list(testphase)\n",
    "    thrsig = ampseries(testprog_,testphase,debug)\n",
    "    print(\"Trister signal =\", thrsig,\"for phase\",testphase_)\n",
    "    \n",
    "testAmp(testprog,testphase)"
   ]
  },
  {
   "cell_type": "code",
   "execution_count": 280,
   "metadata": {},
   "outputs": [
    {
     "name": "stdout",
     "output_type": "stream",
     "text": [
      "Trister signal = 54321 for phase [0, 1, 2, 3, 4]\n"
     ]
    }
   ],
   "source": [
    "testprog = [3,23,3,24,1002,24,10,24,1002,23,-1,23,101,5,23,23,1,24,23,23,4,23,99,0,0]\n",
    "testphase = [0,1,2,3,4]\n",
    "testAmp(testprog,testphase,False)"
   ]
  },
  {
   "cell_type": "code",
   "execution_count": 281,
   "metadata": {},
   "outputs": [
    {
     "name": "stdout",
     "output_type": "stream",
     "text": [
      "Trister signal = 65210 for phase [1, 0, 4, 3, 2]\n"
     ]
    }
   ],
   "source": [
    "testprog = [3,31,3,32,1002,32,10,32,1001,31,-2,31,1007,31,0,33,1002,33,7,33,1,33,31,31,1,32,31,31,4,31,99,0,0,0]\n",
    "testphase = [1,0,4,3,2]\n",
    "testAmp(testprog,testphase,False)"
   ]
  },
  {
   "cell_type": "code",
   "execution_count": 282,
   "metadata": {},
   "outputs": [],
   "source": [
    "fullprog = [3,8,1001,8,10,8,105,1,0,0,21,38,55,64,89,114,195,276,357,438,99999,3,9,101,3,9,9,102,3,9,9,1001,9,5,9,4,9,99,3,9,101,2,9,9,1002,9,3,9,101,5,9,9,4,9,99,3,9,101,3,9,9,4,9,99,3,9,1002,9,4,9,101,5,9,9,1002,9,5,9,101,5,9,9,102,3,9,9,4,9,99,3,9,101,3,9,9,1002,9,4,9,101,5,9,9,102,5,9,9,1001,9,5,9,4,9,99,3,9,102,2,9,9,4,9,3,9,101,2,9,9,4,9,3,9,102,2,9,9,4,9,3,9,101,2,9,9,4,9,3,9,102,2,9,9,4,9,3,9,1002,9,2,9,4,9,3,9,101,1,9,9,4,9,3,9,101,1,9,9,4,9,3,9,1001,9,1,9,4,9,3,9,1002,9,2,9,4,9,99,3,9,1002,9,2,9,4,9,3,9,1001,9,1,9,4,9,3,9,102,2,9,9,4,9,3,9,102,2,9,9,4,9,3,9,101,2,9,9,4,9,3,9,1002,9,2,9,4,9,3,9,102,2,9,9,4,9,3,9,101,1,9,9,4,9,3,9,102,2,9,9,4,9,3,9,1002,9,2,9,4,9,99,3,9,101,2,9,9,4,9,3,9,101,2,9,9,4,9,3,9,102,2,9,9,4,9,3,9,102,2,9,9,4,9,3,9,1001,9,1,9,4,9,3,9,102,2,9,9,4,9,3,9,101,2,9,9,4,9,3,9,101,1,9,9,4,9,3,9,1001,9,1,9,4,9,3,9,1001,9,2,9,4,9,99,3,9,1001,9,1,9,4,9,3,9,1002,9,2,9,4,9,3,9,1001,9,2,9,4,9,3,9,101,1,9,9,4,9,3,9,101,1,9,9,4,9,3,9,102,2,9,9,4,9,3,9,1002,9,2,9,4,9,3,9,102,2,9,9,4,9,3,9,1002,9,2,9,4,9,3,9,101,1,9,9,4,9,99,3,9,1002,9,2,9,4,9,3,9,1001,9,1,9,4,9,3,9,101,2,9,9,4,9,3,9,1002,9,2,9,4,9,3,9,101,1,9,9,4,9,3,9,101,2,9,9,4,9,3,9,1001,9,1,9,4,9,3,9,1002,9,2,9,4,9,3,9,102,2,9,9,4,9,3,9,1001,9,1,9,4,9,99]"
   ]
  },
  {
   "cell_type": "code",
   "execution_count": 283,
   "metadata": {},
   "outputs": [
    {
     "name": "stdout",
     "output_type": "stream",
     "text": [
      "Trister signal = 65210 for phase [1, 0, 4, 3, 2]\n"
     ]
    }
   ],
   "source": [
    "testphase = [1,0,4,3,2]\n",
    "testAmp(testprog,testphase,False)"
   ]
  },
  {
   "cell_type": "code",
   "execution_count": 284,
   "metadata": {},
   "outputs": [
    {
     "name": "stdout",
     "output_type": "stream",
     "text": [
      "Max thrust signal = 101490 for phase [2, 0, 1, 4, 3]\n"
     ]
    }
   ],
   "source": [
    "from sympy.utilities.iterables import multiset_permutations\n",
    "import numpy as np\n",
    "\n",
    "results = []\n",
    "thrustmax = 0\n",
    "\n",
    "a = np.array([0, 1, 2, 3, 4])\n",
    "\n",
    "for p in multiset_permutations(a):\n",
    "    fullprog_  = list(fullprog)\n",
    "    testphase_ = list(p)\n",
    "    thrsig = ampseries(fullprog_,testphase_,False)\n",
    "    results.append(thrsig)\n",
    "    if thrsig > thrustmax:\n",
    "        thrustmax = thrsig\n",
    "        phasemax = testphase_\n",
    "\n",
    "print(\"Max thrust signal =\",thrustmax,\"for phase\",phasemax)"
   ]
  },
  {
   "cell_type": "code",
   "execution_count": null,
   "metadata": {},
   "outputs": [],
   "source": []
  }
 ],
 "metadata": {
  "kernelspec": {
   "display_name": "Python 3",
   "language": "python",
   "name": "python3"
  },
  "language_info": {
   "codemirror_mode": {
    "name": "ipython",
    "version": 3
   },
   "file_extension": ".py",
   "mimetype": "text/x-python",
   "name": "python",
   "nbconvert_exporter": "python",
   "pygments_lexer": "ipython3",
   "version": "3.7.5"
  }
 },
 "nbformat": 4,
 "nbformat_minor": 2
}
