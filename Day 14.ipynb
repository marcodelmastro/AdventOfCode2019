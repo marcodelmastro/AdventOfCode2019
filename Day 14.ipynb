{
 "cells": [
  {
   "cell_type": "markdown",
   "metadata": {},
   "source": [
    "# Day 14:  Space Stoichiometry\n",
    "\n",
    "https://adventofcode.com/2019/day/14"
   ]
  },
  {
   "cell_type": "code",
   "execution_count": 410,
   "metadata": {},
   "outputs": [],
   "source": [
    "import numpy as np"
   ]
  },
  {
   "cell_type": "code",
   "execution_count": 425,
   "metadata": {},
   "outputs": [],
   "source": [
    "def isInteger(s):\n",
    "    try:\n",
    "        int(s)\n",
    "        return True\n",
    "    except ValueError:\n",
    "        return False\n",
    "\n",
    "def IntOrString(s):\n",
    "    try:\n",
    "        int(s)\n",
    "        return int(s)\n",
    "    except ValueError:\n",
    "        return s"
   ]
  },
  {
   "cell_type": "code",
   "execution_count": 426,
   "metadata": {},
   "outputs": [],
   "source": [
    "#infile = \"day14test1.txt\"\n",
    "#infile = \"day14test2.txt\"\n",
    "#infile = \"day14test3.txt\"\n",
    "#infile = \"day14test4.txt\"\n",
    "infile = \"day14test5.txt\" # Problem with this, works with all other examples :-( \n",
    "\n",
    "#infile = \"input14.txt\""
   ]
  },
  {
   "cell_type": "code",
   "execution_count": 427,
   "metadata": {},
   "outputs": [],
   "source": [
    "lines = readInput(infile)\n",
    "R = {} # dictionary of all reactions, keys are chemicals\n",
    "for l in lines:\n",
    "    D = {} # dictionary of all needed ingredients for a given reaction, keys are chemicals\n",
    "    s = l.split(\" => \")\n",
    "    o = [ IntOrString(ss) for ss in s[1].split(\" \") ]\n",
    "    ing = [ [ IntOrString(sss) for sss in ss.split(\" \") ] for ss in s[0].split(\", \") ]\n",
    "    for i in ing:\n",
    "        D[i[1]] = i[0]\n",
    "    R[o[1]] = ( o[0], D )"
   ]
  },
  {
   "cell_type": "code",
   "execution_count": 428,
   "metadata": {},
   "outputs": [
    {
     "name": "stdout",
     "output_type": "stream",
     "text": [
      "(1, {'BHXH': 6, 'KTJDG': 18, 'WPTQ': 12, 'PLWSL': 7, 'FHTLT': 31, 'ZDVW': 37})\n"
     ]
    }
   ],
   "source": [
    "print(R['FUEL'])"
   ]
  },
  {
   "cell_type": "code",
   "execution_count": 429,
   "metadata": {},
   "outputs": [],
   "source": [
    "from math import ceil\n",
    "\n",
    "def ingredients(chem,howmuch):\n",
    "    returns = R[chem][0]\n",
    "    # how many times do I need to perform a reaction?\n",
    "    times = ceil(float(howmuch)/float(returns))\n",
    "    reac = R[chem][1]\n",
    "    ingr = {}\n",
    "    for r in reac.keys():\n",
    "        ingr[r] = times * reac[r]\n",
    "    return ingr"
   ]
  },
  {
   "cell_type": "code",
   "execution_count": 430,
   "metadata": {},
   "outputs": [
    {
     "data": {
      "text/plain": [
       "{'BHXH': 6, 'KTJDG': 18, 'WPTQ': 12, 'PLWSL': 7, 'FHTLT': 31, 'ZDVW': 37}"
      ]
     },
     "execution_count": 430,
     "metadata": {},
     "output_type": "execute_result"
    }
   ],
   "source": [
    "ingredients(\"FUEL\",1)"
   ]
  },
  {
   "cell_type": "code",
   "execution_count": 431,
   "metadata": {},
   "outputs": [
    {
     "name": "stdout",
     "output_type": "stream",
     "text": [
      "P -> FUEL 1\n",
      "    I -> BHXH 6\n",
      "    I -> KTJDG 18\n",
      "    I -> WPTQ 12\n",
      "    I -> PLWSL 7\n",
      "    I -> FHTLT 31\n",
      "    I -> ZDVW 37\n",
      "{'BHXH': 6, 'KTJDG': 18, 'WPTQ': 12, 'PLWSL': 7, 'FHTLT': 31, 'ZDVW': 37}\n",
      "{}\n",
      "P -> BHXH 6\n",
      "    I -> ORE 228\n",
      "P -> KTJDG 18\n",
      "    I -> ORE 378\n",
      "P -> WPTQ 12\n",
      "    I -> BMBT 15\n",
      "P -> PLWSL 7\n",
      "    I -> ZLQW 14\n",
      "    I -> BMBT 6\n",
      "    I -> XCVML 18\n",
      "    I -> XMNCP 52\n",
      "    I -> WPTQ 2\n",
      "    I -> MZWV 4\n",
      "    I -> RJRHP 2\n",
      "P -> FHTLT 31\n",
      "    I -> WPTQ 36\n",
      "    I -> BMBT 12\n",
      "    I -> ZLQW 48\n",
      "    I -> KTJDG 108\n",
      "    I -> XMNCP 6\n",
      "    I -> MZWV 36\n",
      "    I -> RJRHP 6\n",
      "P -> ZDVW 37\n",
      "    I -> WPTQ 481\n",
      "    I -> LTCX 370\n",
      "    I -> RJRHP 111\n",
      "    I -> XMNCP 518\n",
      "    I -> MZWV 74\n",
      "    I -> ZLQW 37\n",
      "{'BMBT': 33, 'ZLQW': 99, 'XCVML': 18, 'XMNCP': 576, 'WPTQ': 519, 'MZWV': 114, 'RJRHP': 119, 'KTJDG': 108, 'LTCX': 370}\n",
      "{'BHXH': 6, 'KTJDG': 18}\n",
      "P -> BMBT 33\n",
      "    I -> VRPVC 84\n",
      "P -> ZLQW 99\n",
      "    I -> XDBXC 255\n",
      "    I -> LTCX 34\n",
      "    I -> VRPVC 17\n",
      "P -> XCVML 18\n",
      "    I -> KTJDG 60\n",
      "    I -> BHXH 48\n",
      "P -> XMNCP 576\n",
      "    I -> MZWV 288\n",
      "    I -> XDBXC 4896\n",
      "    I -> XCVML 864\n",
      "P -> WPTQ 519\n",
      "    I -> BMBT 650\n",
      "P -> MZWV 114\n",
      "    I -> BHXH 51\n",
      "    I -> VRPVC 34\n",
      "P -> RJRHP 119\n",
      "    I -> XCVML 140\n",
      "P -> KTJDG 108\n",
      "    I -> ORE 2268\n",
      "P -> LTCX 370\n",
      "    I -> BHXH 370\n",
      "    I -> VRPVC 296\n",
      "{'VRPVC': 431, 'XDBXC': 5151, 'LTCX': 34, 'KTJDG': 60, 'BHXH': 469, 'MZWV': 288, 'XCVML': 1004, 'BMBT': 650}\n",
      "{'BHXH': 6, 'KTJDG': 126}\n",
      "P -> VRPVC 431\n",
      "    I -> ORE 7502\n",
      "P -> XDBXC 5151\n",
      "    I -> VRPVC 30912\n",
      "    I -> CNZTR 69552\n",
      "P -> LTCX 34\n",
      "    I -> BHXH 35\n",
      "    I -> VRPVC 28\n",
      "P -> KTJDG 60\n",
      "    I -> ORE 1323\n",
      "P -> BHXH 469\n",
      "    I -> ORE 13452\n",
      "P -> MZWV 288\n",
      "    I -> BHXH 126\n",
      "    I -> VRPVC 84\n",
      "P -> XCVML 1004\n",
      "    I -> KTJDG 3015\n",
      "    I -> BHXH 2412\n",
      "P -> BMBT 650\n",
      "    I -> VRPVC 1526\n",
      "{'VRPVC': 32550, 'CNZTR': 69552, 'BHXH': 2573, 'KTJDG': 3015}\n",
      "{'BHXH': 475, 'KTJDG': 186, 'VRPVC': 431}\n",
      "P -> VRPVC 32550\n",
      "    I -> ORE 562650\n",
      "P -> CNZTR 69552\n",
      "    I -> ORE 1486674\n",
      "P -> BHXH 2573\n",
      "    I -> ORE 73416\n",
      "P -> KTJDG 3015\n",
      "    I -> ORE 63315\n",
      "{}\n",
      "{'BHXH': 3048, 'KTJDG': 3201, 'VRPVC': 32981, 'CNZTR': 69552}\n",
      "{'BHXH': 3048, 'KTJDG': 3201, 'VRPVC': 32981, 'CNZTR': 69552}\n",
      "ORE needed =  2210978\n"
     ]
    }
   ],
   "source": [
    "P = {}\n",
    "P[\"FUEL\"] = 1\n",
    "\n",
    "Pfinal = {}\n",
    "while(True):\n",
    "    Pnew = {}\n",
    "    I = {}\n",
    "    for p in P.keys():\n",
    "        print(\"P ->\",p,P[p])\n",
    "        I = ingredients(p,P[p])\n",
    "        for i in I.keys():\n",
    "            print(\"    I ->\",i,I[i])\n",
    "            if i==\"ORE\":\n",
    "                if not p in Pfinal:\n",
    "                    Pfinal[p] = P[p]\n",
    "                else:\n",
    "                    Pfinal[p] += P[p]\n",
    "                break\n",
    "            else:\n",
    "                if not i in Pnew:\n",
    "                    Pnew[i] = I[i]\n",
    "                else:\n",
    "                    Pnew[i] += I[i]\n",
    "    print(Pnew)\n",
    "    print(Pfinal)\n",
    "    if not len(Pnew): # counted all elements that need ORE to be syntetized\n",
    "        break\n",
    "    else:\n",
    "        P = Pnew \n",
    "\n",
    "print(Pfinal)\n",
    " \n",
    "n_ore = 0\n",
    "for p in Pfinal.keys():\n",
    "    I = ingredients(p,Pfinal[p])\n",
    "    for i in I.keys():\n",
    "        if i==\"ORE\": # not really needed, since now P contains only elements needing ORE\n",
    "            n_ore += I[i]\n",
    "            \n",
    "print(\"ORE needed = \",n_ore)"
   ]
  },
  {
   "cell_type": "code",
   "execution_count": null,
   "metadata": {},
   "outputs": [],
   "source": []
  },
  {
   "cell_type": "code",
   "execution_count": null,
   "metadata": {},
   "outputs": [],
   "source": []
  }
 ],
 "metadata": {
  "kernelspec": {
   "display_name": "Python 3",
   "language": "python",
   "name": "python3"
  },
  "language_info": {
   "codemirror_mode": {
    "name": "ipython",
    "version": 3
   },
   "file_extension": ".py",
   "mimetype": "text/x-python",
   "name": "python",
   "nbconvert_exporter": "python",
   "pygments_lexer": "ipython3",
   "version": "3.7.5"
  }
 },
 "nbformat": 4,
 "nbformat_minor": 2
}
