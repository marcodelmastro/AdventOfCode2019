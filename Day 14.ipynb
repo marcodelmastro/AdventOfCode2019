{
 "cells": [
  {
   "cell_type": "markdown",
   "metadata": {},
   "source": [
    "# Day 14:  Space Stoichiometry\n",
    "\n",
    "https://adventofcode.com/2019/day/14"
   ]
  },
  {
   "cell_type": "code",
   "execution_count": 410,
   "metadata": {},
   "outputs": [],
   "source": [
    "import numpy as np"
   ]
  },
  {
   "cell_type": "code",
   "execution_count": 425,
   "metadata": {},
   "outputs": [],
   "source": [
    "def isInteger(s):\n",
    "    try:\n",
    "        int(s)\n",
    "        return True\n",
    "    except ValueError:\n",
    "        return False\n",
    "\n",
    "def IntOrString(s):\n",
    "    try:\n",
    "        int(s)\n",
    "        return int(s)\n",
    "    except ValueError:\n",
    "        return s"
   ]
  },
  {
   "cell_type": "code",
   "execution_count": 448,
   "metadata": {},
   "outputs": [],
   "source": [
    "#infile = \"day14test1.txt\"\n",
    "#infile = \"day14test2.txt\"\n",
    "#infile = \"day14test3.txt\"\n",
    "infile = \"day14test4.txt\"\n",
    "#infile = \"day14test5.txt\" # Problem with this, works with all other examples :-( \n",
    "\n",
    "# 2x 121 ORE => 7 VRPVC too much? excess is 242\n",
    "\n",
    "#infile = \"input14.txt\""
   ]
  },
  {
   "cell_type": "code",
   "execution_count": 449,
   "metadata": {},
   "outputs": [],
   "source": [
    "lines = readInput(infile)\n",
    "R = {} # dictionary of all reactions, keys are chemicals\n",
    "for l in lines:\n",
    "    D = {} # dictionary of all needed ingredients for a given reaction, keys are chemicals\n",
    "    s = l.split(\" => \")\n",
    "    o = [ IntOrString(ss) for ss in s[1].split(\" \") ]\n",
    "    ing = [ [ IntOrString(sss) for sss in ss.split(\" \") ] for ss in s[0].split(\", \") ]\n",
    "    for i in ing:\n",
    "        D[i[1]] = i[0]\n",
    "    R[o[1]] = ( o[0], D )"
   ]
  },
  {
   "cell_type": "code",
   "execution_count": 450,
   "metadata": {},
   "outputs": [
    {
     "name": "stdout",
     "output_type": "stream",
     "text": [
      "(1, {'STKFG': 53, 'MNCFX': 6, 'VJHF': 46, 'HVMC': 81, 'CXFTF': 68, 'GNMV': 25})\n"
     ]
    }
   ],
   "source": [
    "print(R['FUEL'])"
   ]
  },
  {
   "cell_type": "code",
   "execution_count": 451,
   "metadata": {},
   "outputs": [],
   "source": [
    "from math import ceil\n",
    "\n",
    "def ingredients(chem,howmuch):\n",
    "    returns = R[chem][0]\n",
    "    # how many times do I need to perform a reaction?\n",
    "    times = ceil(float(howmuch)/float(returns))\n",
    "    reac = R[chem][1]\n",
    "    ingr = {}\n",
    "    for r in reac.keys():\n",
    "        ingr[r] = times * reac[r]\n",
    "    return ingr"
   ]
  },
  {
   "cell_type": "code",
   "execution_count": 452,
   "metadata": {},
   "outputs": [
    {
     "data": {
      "text/plain": [
       "{'STKFG': 53, 'MNCFX': 6, 'VJHF': 46, 'HVMC': 81, 'CXFTF': 68, 'GNMV': 25}"
      ]
     },
     "execution_count": 452,
     "metadata": {},
     "output_type": "execute_result"
    }
   ],
   "source": [
    "ingredients(\"FUEL\",1)"
   ]
  },
  {
   "cell_type": "code",
   "execution_count": 453,
   "metadata": {},
   "outputs": [
    {
     "name": "stdout",
     "output_type": "stream",
     "text": [
      "P -> FUEL 1\n",
      "    I -> STKFG 53\n",
      "    I -> MNCFX 6\n",
      "    I -> VJHF 46\n",
      "    I -> HVMC 81\n",
      "    I -> CXFTF 68\n",
      "    I -> GNMV 25\n",
      "Pnew   =  {'STKFG': 53, 'MNCFX': 6, 'VJHF': 46, 'HVMC': 81, 'CXFTF': 68, 'GNMV': 25}\n",
      "Pfinal =  {}\n",
      "P -> STKFG 53\n",
      "    I -> VPVL 106\n",
      "    I -> FWMGM 371\n",
      "    I -> CXFTF 106\n",
      "    I -> MNCFX 583\n",
      "P -> MNCFX 6\n",
      "    I -> ORE 145\n",
      "P -> VJHF 46\n",
      "    I -> ORE 1408\n",
      "P -> HVMC 81\n",
      "    I -> MNCFX 135\n",
      "    I -> RFSQX 189\n",
      "    I -> FWMGM 54\n",
      "    I -> VPVL 54\n",
      "    I -> CXFTF 513\n",
      "P -> CXFTF 68\n",
      "    I -> NVRVD 9\n",
      "P -> GNMV 25\n",
      "    I -> VJHF 25\n",
      "    I -> MNCFX 35\n",
      "    I -> VPVL 45\n",
      "    I -> CXFTF 185\n",
      "Pnew   =  {'VPVL': 205, 'FWMGM': 425, 'CXFTF': 804, 'MNCFX': 753, 'RFSQX': 189, 'NVRVD': 9, 'VJHF': 25}\n",
      "Pfinal =  {'MNCFX': 6, 'VJHF': 46}\n",
      "P -> VPVL 205\n",
      "    I -> NVRVD 442\n",
      "    I -> JNWZP 78\n",
      "P -> FWMGM 425\n",
      "    I -> VJHF 1870\n",
      "    I -> MNCFX 3145\n",
      "P -> CXFTF 804\n",
      "    I -> NVRVD 101\n",
      "P -> MNCFX 753\n",
      "    I -> ORE 18270\n",
      "P -> RFSQX 189\n",
      "    I -> VJHF 48\n",
      "    I -> MNCFX 288\n",
      "P -> NVRVD 9\n",
      "    I -> ORE 417\n",
      "P -> VJHF 25\n",
      "    I -> ORE 880\n",
      "Pnew   =  {'NVRVD': 543, 'JNWZP': 78, 'VJHF': 1918, 'MNCFX': 3433}\n",
      "Pfinal =  {'MNCFX': 759, 'VJHF': 71, 'NVRVD': 9}\n",
      "P -> NVRVD 543\n",
      "    I -> ORE 18904\n",
      "P -> JNWZP 78\n",
      "    I -> ORE 1728\n",
      "P -> VJHF 1918\n",
      "    I -> ORE 56320\n",
      "P -> MNCFX 3433\n",
      "    I -> ORE 83085\n",
      "Pnew   =  {}\n",
      "Pfinal =  {'MNCFX': 4192, 'VJHF': 1989, 'NVRVD': 552, 'JNWZP': 78}\n",
      "{'MNCFX': 4192, 'VJHF': 1989, 'NVRVD': 552, 'JNWZP': 78}\n",
      "ORE needed =  180697\n"
     ]
    }
   ],
   "source": [
    "P = {}\n",
    "P[\"FUEL\"] = 1\n",
    "\n",
    "Pfinal = {}\n",
    "while(True):\n",
    "    Pnew = {}\n",
    "    I = {}\n",
    "    for p in P.keys():\n",
    "        print(\"P ->\",p,P[p])\n",
    "        I = ingredients(p,P[p])\n",
    "        for i in I.keys():\n",
    "            print(\"    I ->\",i,I[i])\n",
    "            if i==\"ORE\":\n",
    "                if not p in Pfinal:\n",
    "                    Pfinal[p] = P[p]\n",
    "                else:\n",
    "                    Pfinal[p] += P[p]\n",
    "                break\n",
    "            else:\n",
    "                if not i in Pnew:\n",
    "                    Pnew[i] = I[i]\n",
    "                else:\n",
    "                    Pnew[i] += I[i]\n",
    "    print(\"Pnew   = \",Pnew)\n",
    "    print(\"Pfinal = \",Pfinal)\n",
    "    if not len(Pnew): # counted all elements that need ORE to be syntetized\n",
    "        break\n",
    "    else:\n",
    "        P = Pnew \n",
    "\n",
    "print(Pfinal)\n",
    " \n",
    "n_ore = 0\n",
    "for p in Pfinal.keys():\n",
    "    I = ingredients(p,Pfinal[p])\n",
    "    for i in I.keys():\n",
    "        if i==\"ORE\": # not really needed, since now P contains only elements needing ORE\n",
    "            n_ore += I[i]\n",
    "            \n",
    "print(\"ORE needed = \",n_ore)"
   ]
  },
  {
   "cell_type": "code",
   "execution_count": null,
   "metadata": {},
   "outputs": [],
   "source": []
  }
 ],
 "metadata": {
  "kernelspec": {
   "display_name": "Python 3",
   "language": "python",
   "name": "python3"
  },
  "language_info": {
   "codemirror_mode": {
    "name": "ipython",
    "version": 3
   },
   "file_extension": ".py",
   "mimetype": "text/x-python",
   "name": "python",
   "nbconvert_exporter": "python",
   "pygments_lexer": "ipython3",
   "version": "3.7.5"
  }
 },
 "nbformat": 4,
 "nbformat_minor": 2
}
