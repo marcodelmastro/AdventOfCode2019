{
 "cells": [
  {
   "cell_type": "markdown",
   "metadata": {},
   "source": [
    "# Day 14:  Space Stoichiometry\n",
    "\n",
    "https://adventofcode.com/2019/day/14"
   ]
  },
  {
   "cell_type": "code",
   "execution_count": 144,
   "metadata": {},
   "outputs": [],
   "source": [
    "#infile = \"day14test1.txt\" # ORE needed = 31\n",
    "#infile = \"day14test2.txt\" # ORE needed = 165\n",
    "#infile = \"day14test3.txt\" # ORE needed = 13312\n",
    "#infile = \"day14test4.txt\" # ORE needed = 180697\n",
    "#infile = \"day14test5.txt\" # ORE needed = 2210736\n",
    "infile = \"input14.txt\""
   ]
  },
  {
   "cell_type": "code",
   "execution_count": 145,
   "metadata": {},
   "outputs": [],
   "source": [
    "with open(infile) as f:\n",
    "    lines = [l.rstrip('\\n') for l in f]\n",
    "#lines"
   ]
  },
  {
   "cell_type": "markdown",
   "metadata": {},
   "source": [
    "## Part 1\n",
    "\n",
    "Starting like in the previous attempt, but making the reaction dictionaly more esplicit with multiple keys"
   ]
  },
  {
   "cell_type": "code",
   "execution_count": 146,
   "metadata": {},
   "outputs": [
    {
     "data": {
      "text/plain": [
       "1"
      ]
     },
     "execution_count": 146,
     "metadata": {},
     "output_type": "execute_result"
    }
   ],
   "source": [
    "def getReactions(lines):\n",
    "    R = {}\n",
    "    for l in lines:\n",
    "        s = l.split(\" => \")\n",
    "        out = s[1].split(\" \")\n",
    "        material = out[1]\n",
    "        produced = int(out[0])\n",
    "        D = {}\n",
    "        for ingr in s[0].split(\", \"):\n",
    "            i = ingr.split(\" \")\n",
    "            ingredient = i[1]\n",
    "            amount = int(i[0])\n",
    "            D[ingredient] = { 'ingredient': ingredient, 'amount': amount}\n",
    "        R[material] = { 'produced': produced , 'ingredients': D} \n",
    "    return R\n",
    "\n",
    "R = getReactions(lines)\n",
    "R['FUEL']['produced']\n",
    "#R['A']['ingredients']['ORE']['amount']"
   ]
  },
  {
   "cell_type": "markdown",
   "metadata": {
    "slideshow": {
     "slide_type": "slide"
    }
   },
   "source": [
    "In my previous attempt I was trying to use temporary dictionary to store how much of each ingredients I had at each step. This was adding the complication of having to check the existence of each ingredient key each time. I discovered the existence of `defaultdict` that seems to solve this problem: a `defaultdict` will never raise a `KeyError`. Any key that does not exist gets the value returned by the default factory."
   ]
  },
  {
   "cell_type": "code",
   "execution_count": 147,
   "metadata": {},
   "outputs": [
    {
     "data": {
      "text/plain": [
       "0"
      ]
     },
     "execution_count": 147,
     "metadata": {},
     "output_type": "execute_result"
    }
   ],
   "source": [
    "from collections import defaultdict\n",
    "\n",
    "available = defaultdict(int)\n",
    "available['FUEL']"
   ]
  },
  {
   "cell_type": "markdown",
   "metadata": {
    "slideshow": {
     "slide_type": "slide"
    }
   },
   "source": [
    "I previous attempt I was lacking a structure to save the ingredients to be produced at each step, and to be freed when something was produced (I was using a simple dictionay with mixed results). Now trying to use a `Queue()` object to storean retrieve dictionary of ingredients to be produced at each step."
   ]
  },
  {
   "cell_type": "code",
   "execution_count": 148,
   "metadata": {},
   "outputs": [
    {
     "name": "stdout",
     "output_type": "stream",
     "text": [
      "{'ingredient': 'FUEL', 'amount': 1}\n",
      "True\n"
     ]
    }
   ],
   "source": [
    "from queue import Queue\n",
    "\n",
    "prod = Queue()\n",
    "P = { \"ingredient\": 'FUEL', \"amount\": 1}\n",
    "prod.put(P)\n",
    "Q = prod.get()\n",
    "print(Q)\n",
    "print(prod.empty())"
   ]
  },
  {
   "cell_type": "code",
   "execution_count": 149,
   "metadata": {},
   "outputs": [
    {
     "name": "stdout",
     "output_type": "stream",
     "text": [
      "Needed ORE = 136771\n"
     ]
    }
   ],
   "source": [
    "from math import ceil\n",
    "\n",
    "def oreNeeded(P):\n",
    "\n",
    "    available = defaultdict(int)\n",
    "    prod = Queue()\n",
    "    prod.put(P)\n",
    "    n_ore = 0\n",
    "\n",
    "    while(not prod.empty()):\n",
    "        prodstep = prod.get() # queue get freed from the production diction in use\n",
    "        ## print(\"Now producing\",prodstep['amount'],prodstep['ingredient'])\n",
    "        # if reached the need for ORE, summing up how much I need. No new order to added to the queue\n",
    "        if (prodstep['ingredient']=='ORE'):\n",
    "            n_ore += prodstep['amount']\n",
    "        # if I have enough leftover from previous production step, just use them for current step\n",
    "        elif prodstep['amount'] <= available[prodstep['ingredient']]:\n",
    "            available[prodstep['ingredient']] -= prodstep['amount']\n",
    "        # otherwise produce how much is needed\n",
    "        else:\n",
    "            # compute how much is needed given the leftovers from previous step, if any\n",
    "            needed = prodstep['amount'] - available[prodstep['ingredient']]\n",
    "            # get the reaction recipe\n",
    "            reaction = R[prodstep['ingredient']]\n",
    "            # compute the number of times the reaction need to be perfomed to get the needed amount\n",
    "            multiplier = ceil( needed / reaction['produced'] )\n",
    "            # make a new dictionary for each ingredient, add to production queue\n",
    "            for ingredient in reaction['ingredients']:\n",
    "                amount = reaction['ingredients'][ingredient]['amount']\n",
    "                P = { \"ingredient\": ingredient, \"amount\": multiplier * amount }\n",
    "                prod.put(P) # new production dictionary added to production queue\n",
    "            # compute and store leftovers\n",
    "            leftover = multiplier * reaction[\"produced\"] - needed\n",
    "            available[prodstep['ingredient']] = leftover\n",
    "    return n_ore\n",
    "\n",
    "tobeproduced = 'FUEL'\n",
    "amount = 1\n",
    "P = { \"ingredient\": tobeproduced, \"amount\": amount}\n",
    "n_ore = oreNeeded(P)\n",
    "print(\"Needed ORE =\", n_ore)"
   ]
  },
  {
   "cell_type": "markdown",
   "metadata": {},
   "source": [
    "### Comments on Part 1\n",
    "\n",
    "The clear problem I had in my prevoous attemp, apart from the techncal difficulties in handling the queue of production using a simple dictionary (this lead to tto many nested loop, while now I only have one), was the handling of the leftover ingredients that were not properly computed, stored and checked in case something was needed in a further production steps.\n",
    "\n",
    "#### Things I learned\n",
    "\n",
    "* Use of `defaultdict`\n",
    "* `Queue()` object"
   ]
  },
  {
   "cell_type": "markdown",
   "metadata": {},
   "source": [
    "## Part 2\n",
    "\n",
    "After collecting ORE for a while, you check your cargo hold: 1 trillion (1000000000000) units of ORE. Given 1 trillion ORE, what is the maximum amount of FUEL you can produce? With that much ore, given the examples above:\n",
    "\n",
    "* The 13312 ORE-per-FUEL example could produce 82892753 FUEL.\n",
    "* The 180697 ORE-per-FUEL example could produce 5586022 FUEL.\n",
    "* The 2210736 ORE-per-FUEL example could produce 460664 FUEL.\n",
    "\n",
    "Unless I want to reverse the production sequence (and I do not want to attempt this!), this looks like a dicotomic search problem: run the production for representative value of FUEL, get needed ORE, change FUEL accordingly to close in to target ORE value."
   ]
  },
  {
   "cell_type": "code",
   "execution_count": 151,
   "metadata": {
    "scrolled": true
   },
   "outputs": [
    {
     "name": "stdout",
     "output_type": "stream",
     "text": [
      "8193614 *** 8193614 *** 8193615\n"
     ]
    }
   ],
   "source": [
    "tobeproduced = 'FUEL'\n",
    "targetore = 1000000000000\n",
    "\n",
    "istep = 0\n",
    "imax = 100\n",
    "\n",
    "# set some extremes to initialize the search\n",
    "amountmin = 0\n",
    "amountmax = 1000000000000\n",
    "amount = int((amountmax + amountmin)/2)\n",
    "\n",
    "while(True):\n",
    "    \n",
    "    P = { \"ingredient\": tobeproduced, \"amount\": amount}\n",
    "    n_ore = oreNeeded(P)\n",
    "    #print('FUEL =', int(amount), 'ORE =',n_ore)\n",
    "\n",
    "    current = amount\n",
    "    if n_ore > targetore: # too high, move to lower values\n",
    "        amount = int((amountmin + amount)/2)\n",
    "        amountmax = current\n",
    "    else: # too low, move to lower values\n",
    "        amount = int((amount + amountmax)/2)\n",
    "        amountmin = current\n",
    "\n",
    "    # given the definition of the problem, I should always reach the solution from below\n",
    "    # (e.g amountmin==amount)\n",
    "    if amountmin==amount or amountmax==amount: \n",
    "        print(amountmin,\"***\",amount,\"***\",amountmax)\n",
    "        break"
   ]
  },
  {
   "cell_type": "code",
   "execution_count": null,
   "metadata": {},
   "outputs": [],
   "source": []
  }
 ],
 "metadata": {
  "kernelspec": {
   "display_name": "Python 3",
   "language": "python",
   "name": "python3"
  },
  "language_info": {
   "codemirror_mode": {
    "name": "ipython",
    "version": 3
   },
   "file_extension": ".py",
   "mimetype": "text/x-python",
   "name": "python",
   "nbconvert_exporter": "python",
   "pygments_lexer": "ipython3",
   "version": "3.7.5"
  }
 },
 "nbformat": 4,
 "nbformat_minor": 2
}
