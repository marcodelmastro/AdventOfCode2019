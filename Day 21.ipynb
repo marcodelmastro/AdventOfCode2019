{
 "cells": [
  {
   "cell_type": "markdown",
   "metadata": {},
   "source": [
    "# Day 21: Springdroid Adventure\n",
    "\n",
    "https://adventofcode.com/2019/day/21#part2\n",
    "\n",
    "## Part 1"
   ]
  },
  {
   "cell_type": "code",
   "execution_count": 1,
   "metadata": {},
   "outputs": [],
   "source": [
    "import numpy as np\n",
    "import matplotlib.pyplot as plt\n",
    "from AOC2019 import Intcode, IntcodeV2, readIntcodeProg"
   ]
  },
  {
   "cell_type": "code",
   "execution_count": 2,
   "metadata": {},
   "outputs": [],
   "source": [
    "prog = readIntcodeProg(\"./data/input21.txt\")"
   ]
  },
  {
   "cell_type": "code",
   "execution_count": 3,
   "metadata": {},
   "outputs": [],
   "source": [
    "def runSpringcode(prog,commands):\n",
    "    # convert commands to ASCII\n",
    "    com_ascii = []\n",
    "    for l in commands:\n",
    "        for c in l:\n",
    "            com_ascii.append(ord(c))\n",
    "        com_ascii.append(10)\n",
    "    # initialize and run Incode\n",
    "    d = IntcodeV2(prog,\"DROID\",com_ascii)\n",
    "    d.reset()\n",
    "    d.runProgram()\n",
    "    #convert output to ASCII\n",
    "    o = d.getOutput()\n",
    "    output = []\n",
    "    line = \"\"\n",
    "    hulldamage = -1\n",
    "    for i in o:\n",
    "        if (i>127):\n",
    "            hulldamage = i\n",
    "            print(\"Found hull damage = \",hulldamage)\n",
    "            return output, hulldamage\n",
    "        if (i!=10):\n",
    "            line += chr(i)\n",
    "        else:\n",
    "            line += '\\n'\n",
    "            output.append(line)\n",
    "            line = \"\"\n",
    "    return output, hulldamage"
   ]
  },
  {
   "cell_type": "code",
   "execution_count": 4,
   "metadata": {},
   "outputs": [
    {
     "name": "stdout",
     "output_type": "stream",
     "text": [
      "Hull damage = -1 \n",
      "\n",
      "Input instructions:\n",
      "\n",
      "Walking...\n",
      "\n",
      "\n",
      "Didn't make it across:\n",
      "\n",
      ".................\n",
      ".................\n",
      "@................\n",
      "#####.###########\n",
      "\n",
      ".................\n",
      ".................\n",
      ".@...............\n",
      "#####.###########\n",
      "\n",
      ".................\n",
      "..@..............\n",
      ".................\n",
      "#####.###########\n",
      "\n",
      "...@.............\n",
      ".................\n",
      ".................\n",
      "#####.###########\n",
      "\n",
      ".................\n",
      "....@............\n",
      ".................\n",
      "#####.###########\n",
      "\n",
      ".................\n",
      ".................\n",
      ".....@...........\n",
      "#####.###########\n",
      "\n",
      ".................\n",
      ".................\n",
      ".................\n",
      "#####@###########\n",
      "\n"
     ]
    }
   ],
   "source": [
    "commands = [\n",
    "    'NOT D J',\n",
    "    'WALK']\n",
    "\n",
    "# this is the first solution found by my brute force search:\n",
    "#commands = ['NOT A T', 'NOT C J', 'AND D J', 'OR T J', 'WALK']\n",
    "\n",
    "# ending commands for more clever search...\n",
    "#commands = ['NOT A T', 'OR T J', 'AND D J', 'WALK' ]\n",
    "\n",
    "# result of more clever search for Part 1\n",
    "#commands = ['NOT C J', 'NOT A T', 'OR T J', 'AND D J' ] \n",
    "\n",
    "output, hulldamage = runSpringcode(prog,commands)\n",
    "\n",
    "print(\"Hull damage =\", hulldamage,\"\\n\")\n",
    "for l in output:\n",
    "    print(l,end=\"\")"
   ]
  },
  {
   "cell_type": "markdown",
   "metadata": {},
   "source": [
    "I can attempt to brute force the solution by feeding the program all possible permutations of instructions. Of course the longer the successfull program is, the longer it'll take to find it... A solution is found with 4 instructions, but it takes quite some time!"
   ]
  },
  {
   "cell_type": "code",
   "execution_count": 5,
   "metadata": {},
   "outputs": [],
   "source": [
    "# Any instruction can be composed as [AND,OR,NOT] x [A,B,C,D,T,J] x [T,J]\n",
    "\n",
    "#bools = [\"AND\",\"OR\",\"NOT\"] # 3\n",
    "bools = [\"NOT\",\"AND\",\"OR\"] # 3\n",
    "tiles = [\"A\",\"B\",\"C\",\"D\",\"T\",\"J\"] # 6\n",
    "regs = [\"T\",\"J\"] # 2\n",
    "\n",
    "instr = []\n",
    "for b in bools:\n",
    "    for t in tiles:\n",
    "        for r in regs:\n",
    "            c = b+' '+t+' '+r\n",
    "            instr.append(c)\n",
    "            \n",
    "#print(instr)"
   ]
  },
  {
   "cell_type": "code",
   "execution_count": 17,
   "metadata": {},
   "outputs": [
    {
     "name": "stdout",
     "output_type": "stream",
     "text": [
      "Testing all possible sequences with 4 instructions...\n",
      "Found hull damage =  19357180\n",
      "Found solution!\n",
      "Instructions = ['NOT A T', 'NOT C J', 'AND D J', 'OR T J', 'WALK']\n",
      "Part 1 brute force search time = 5828.353593 seconds\n"
     ]
    }
   ],
   "source": [
    "# Full brute force scan\n",
    "\n",
    "import time\n",
    "start_time = time.time()\n",
    "\n",
    "from itertools import permutations\n",
    "\n",
    "commands = []\n",
    "output = []\n",
    "\n",
    "found = False\n",
    "#imin = 1\n",
    "imin = 4\n",
    "imax = 4\n",
    "\n",
    "for n in range(imin,imax+1):\n",
    "    print(\"Testing all possible sequences with\",n,\"instructions...\")\n",
    "    perm = permutations(instr,n)\n",
    "    for p in perm:\n",
    "        commands = []\n",
    "        for i in p:\n",
    "            commands.append(i)\n",
    "        commands.append('WALK')\n",
    "        output, hulldamage = runSpringcode(prog,commands)\n",
    "        if (hulldamage != -1):\n",
    "            print(\"Found solution!\")\n",
    "            print(\"Instructions =\",commands)\n",
    "            found = True\n",
    "            break\n",
    "    if found:\n",
    "        break \n",
    "\n",
    "print(\"Part 1 brute force search time = %f seconds\" % (time.time() - start_time))"
   ]
  },
  {
   "cell_type": "markdown",
   "metadata": {},
   "source": [
    "The search space can probably be reduced by making some assumption given the result of the first tests. For instance, given the nature of a jump  (see above) the springdroid should jump when the first sensor (A) is false, and should NOT jump when the fourth sensor is false (like it is doing in the above example), so any successful program should end with these 3 instructions:\n",
    "\n",
    "- NOT A T\n",
    "- OR T J\n",
    "- AND D J\n",
    "\n",
    "This also means that the program should at least be 4 instruction long, since these 3 instructions alone fail."
   ]
  },
  {
   "cell_type": "code",
   "execution_count": 18,
   "metadata": {},
   "outputs": [
    {
     "name": "stdout",
     "output_type": "stream",
     "text": [
      "Testing all possible sequences with 4 instructions...\n",
      "Found hull damage =  19357180\n",
      "Found solution! Instructions = ['NOT C J', 'NOT A T', 'OR T J', 'AND D J', 'WALK']\n"
     ]
    }
   ],
   "source": [
    "# slightly more clever scan\n",
    "\n",
    "endcoms = [\n",
    "    'NOT A T',\n",
    "    'OR T J',\n",
    "    'AND D J' ]\n",
    "\n",
    "found = False\n",
    "imin = 4\n",
    "imax = 10\n",
    "\n",
    "for n in range(imin,imax+1):\n",
    "    print(\"Testing all possible sequences with\",n,\"instructions...\")\n",
    "    perm = permutations(instr,n-len(endcoms))\n",
    "    for p in perm:\n",
    "        commands = []\n",
    "        for i in p:\n",
    "            commands.append(i)\n",
    "        for i in endcoms: # add ending command sequence\n",
    "            commands.append(i)\n",
    "        commands.append('WALK')\n",
    "        ##print(commands)\n",
    "        output, hulldamage = runSpringcode(prog,commands)\n",
    "        if (hulldamage != -1):\n",
    "            print(\"Found solution! Instructions =\",commands)\n",
    "            found = True\n",
    "            break\n",
    "    if found:\n",
    "        break"
   ]
  },
  {
   "cell_type": "markdown",
   "metadata": {},
   "source": [
    "## Part 2\n",
    "\n",
    "Brute force is clearly not an option!"
   ]
  },
  {
   "cell_type": "markdown",
   "metadata": {},
   "source": [
    "These are the hole patterns I should get trough:\n",
    "\n",
    "`#####.###########`\n",
    "\n",
    "`#####...#########`\n",
    "\n",
    "`#####.#.#########`\n",
    "\n",
    "`#####.#..########`\n",
    "\n",
    "`#####.##.##.#.###`\n",
    "\n",
    "`#####.####.#..###`\n",
    "\n",
    "Notes:\n",
    "- Jump lands 4 steps forward\n",
    "- Jump if there's an hole in 3rd position (C) checkinf that 4th tile (D) is not an hole for safe landing ) solves first 2 patterns\n",
    "   - `NOT C J` \n",
    "   - `AND D J`\n",
    "- Adding this sequence to jump if there's an hole in front:\n",
    "   - `NOT A T`\n",
    "   - `OR T J`\n",
    "  also solves the 4th pattern!\n",
    "- For the last pattern (2 \"islands\") I need to jump 2 tiles before the first hole: so basically jump whenever C (3rd tile ahead) is a hole, but also checking sencond landing spot 8 tiles away (H):\n",
    "  - `NOT C J` \n",
    "  - `AND D J` \n",
    "  - `AND H J`\n",
    "- This fails the 6th pattern above, that I did not see before, on the second jump. I should make the second jump before, checking whether the 2nd tile (B) is an hole, similar to the sequence I added to check an hole in front before:\n",
    "  - `NOT B T` \n",
    "  - `AND D T` \n",
    "  - `OR T J`"
   ]
  },
  {
   "cell_type": "code",
   "execution_count": 23,
   "metadata": {},
   "outputs": [
    {
     "name": "stdout",
     "output_type": "stream",
     "text": [
      "Found hull damage =  1139793906\n",
      "Hull damage = 1139793906 \n",
      "\n",
      "Input instructions:\n",
      "\n",
      "Running...\n",
      "\n"
     ]
    }
   ],
   "source": [
    "commands = [\n",
    "    'NOT C J', \n",
    "    'AND D J',\n",
    "    'AND H J',\n",
    "#\n",
    "    'NOT B T', \n",
    "    'AND D T', \n",
    "    'OR T J',\n",
    "#\n",
    "    'NOT A T',\n",
    "    'OR T J',\n",
    "    'RUN'\n",
    "]\n",
    "\n",
    "output, hulldamage = runSpringcode(prog,commands)\n",
    "\n",
    "print(\"Hull damage =\", hulldamage,\"\\n\")\n",
    "for l in output:\n",
    "    print(l,end=\"\")"
   ]
  },
  {
   "cell_type": "code",
   "execution_count": null,
   "metadata": {},
   "outputs": [],
   "source": []
  }
 ],
 "metadata": {
  "kernelspec": {
   "display_name": "Python 3",
   "language": "python",
   "name": "python3"
  },
  "language_info": {
   "codemirror_mode": {
    "name": "ipython",
    "version": 3
   },
   "file_extension": ".py",
   "mimetype": "text/x-python",
   "name": "python",
   "nbconvert_exporter": "python",
   "pygments_lexer": "ipython3",
   "version": "3.7.5"
  }
 },
 "nbformat": 4,
 "nbformat_minor": 2
}
