{
 "cells": [
  {
   "cell_type": "markdown",
   "metadata": {},
   "source": [
    "# Day 21: Springdroid Adventure\n",
    "\n",
    "https://adventofcode.com/2019/day/21#part2\n",
    "\n",
    "## Part 1"
   ]
  },
  {
   "cell_type": "code",
   "execution_count": 1,
   "metadata": {},
   "outputs": [],
   "source": [
    "import numpy as np\n",
    "import matplotlib.pyplot as plt\n",
    "from AOC2019 import Intcode, IntcodeV2, readIntcodeProg"
   ]
  },
  {
   "cell_type": "code",
   "execution_count": 2,
   "metadata": {},
   "outputs": [],
   "source": [
    "prog = readIntcodeProg(\"input21.txt\")"
   ]
  },
  {
   "cell_type": "markdown",
   "metadata": {},
   "source": [
    "Two registers are available: \n",
    "- T, the temporary value register\n",
    "- J, the jump register. \n",
    "\n",
    "If the jump register is true at the end of the springscript program, the springdroid will try to jump. Both of these registers start with the value false.\n",
    "\n",
    "The springdroid can detect ground at four distances: \n",
    "\n",
    "- one tile away (A), \n",
    "- two tiles away (B), \n",
    "- three tiles away (C), \n",
    "- four tiles away (D). \n",
    "\n",
    "If there is ground at the given distance, the register will be true; if there is a hole, the register will be false.\n",
    "\n",
    "There are only three instructions available in springscript:\n",
    "\n",
    "- AND X Y sets Y to true if both X and Y are true; otherwise, it sets Y to false.\n",
    "- OR X Y sets Y to true if at least one of X or Y is true; otherwise, it sets Y to false.\n",
    "- NOT X Y sets Y to true if X is false; otherwise, it sets Y to false.\n",
    "\n",
    "In all three instructions, the second argument (Y) needs to be a writable register (either T or J). The first argument (X) can be any register (including A, B, C, or D)."
   ]
  },
  {
   "cell_type": "code",
   "execution_count": null,
   "metadata": {},
   "outputs": [],
   "source": [
    "def runSpringcode(prog,commands):\n",
    "    # convert commands to ASCII\n",
    "    com_ascii = []\n",
    "    for l in commands:\n",
    "        for c in l:\n",
    "            com_ascii.append(ord(c))\n",
    "        com_ascii.append(10)\n",
    "    # initialize and run Incode\n",
    "    d = IntcodeV2(prog,\"DROID\",com_ascii)\n",
    "    d.reset()\n",
    "    d.runProgram()\n",
    "    #convert output to ASCII\n",
    "    o = d.getOutput()\n",
    "    output = []\n",
    "    line = \"\"\n",
    "    hulldamage = -1\n",
    "    for i in o:\n",
    "        if (i>127):\n",
    "            hulldamage = i\n",
    "            print(\"Found hull damage = \",hulldamage)\n",
    "            return output, hulldamage\n",
    "        if (i!=10):\n",
    "            line += chr(i)\n",
    "        else:\n",
    "            line += '\\n'\n",
    "            output.append(line)\n",
    "            line = \"\"\n",
    "    return output, hulldamage"
   ]
  },
  {
   "cell_type": "code",
   "execution_count": 126,
   "metadata": {},
   "outputs": [
    {
     "name": "stdout",
     "output_type": "stream",
     "text": [
      "Hull damage = -1 \n",
      "\n",
      "Input instructions:\n",
      "\n",
      "Walking...\n",
      "\n",
      "\n",
      "Didn't make it across:\n",
      "\n",
      ".................\n",
      ".................\n",
      "@................\n",
      "#####.#..########\n",
      "\n",
      ".................\n",
      ".................\n",
      ".@...............\n",
      "#####.#..########\n",
      "\n",
      ".................\n",
      ".................\n",
      "..@..............\n",
      "#####.#..########\n",
      "\n",
      ".................\n",
      ".................\n",
      "...@.............\n",
      "#####.#..########\n",
      "\n",
      ".................\n",
      ".................\n",
      "....@............\n",
      "#####.#..########\n",
      "\n",
      ".................\n",
      ".................\n",
      ".................\n",
      "#####@#..########\n",
      "\n"
     ]
    }
   ],
   "source": [
    "commands = [\n",
    "    'NOT D J',\n",
    "    'WALK']\n",
    "\n",
    "commands = [\n",
    "    'NOT A T',\n",
    "    'OR T J',\n",
    "    'AND D J',\n",
    "    'WALK' ]\n",
    "\n",
    "# this is the first solution found by brute force:\n",
    "#commands = ['NOT A T', 'NOT C J', 'AND D J', 'OR T J', 'WALK']\n",
    "\n",
    "output, hulldamage = runSpringcode(prog,commands)\n",
    "\n",
    "print(\"Hull damage =\", hulldamage,\"\\n\")\n",
    "for l in output:\n",
    "    print(l,end=\"\")"
   ]
  },
  {
   "cell_type": "markdown",
   "metadata": {},
   "source": [
    "I can attempt to brute force the solution by feeding the program all possible permutations of instructions. Of course the longer the successfull program is, the longer it'll take to find it... A solution is found with 4 instructions, but it took quite some time!\n",
    "\n",
    "The search space can probably be reduced by making some assumption given the result of the first tests. For instance, given the nature of a jump  (see above) the springdroid should jump when the first sensor (A) is false, and should NOT jump when the fourth sensor is false (like it is doing in the above example), so any successful program should end with these 3 instructions:\n",
    "\n",
    "NOT A T\n",
    "\n",
    "OR T J\n",
    "\n",
    "AND D J\n",
    "\n",
    "This also means that the program should at least be 4 instruction long, since these 3 instructions alone fail."
   ]
  },
  {
   "cell_type": "code",
   "execution_count": null,
   "metadata": {},
   "outputs": [],
   "source": [
    "# Any instruction can be composed as [AND,OR,NOT] x [A,B,C,D,T,J] x [T,J]\n",
    "\n",
    "bools = [\"AND\",\"OR\",\"NOT\"] # 3\n",
    "tiles = [\"A\",\"B\",\"C\",\"D\",\"T\",\"J\"] # 6\n",
    "regs = [\"T\",\"J\"] # 2\n",
    "\n",
    "instr = []\n",
    "for b in bools:\n",
    "    for t in tiles:\n",
    "        for r in regs:\n",
    "            c = b+' '+t+' '+r\n",
    "            instr.append(c)\n",
    "            \n",
    "#print(instr)"
   ]
  },
  {
   "cell_type": "code",
   "execution_count": 133,
   "metadata": {},
   "outputs": [
    {
     "name": "stdout",
     "output_type": "stream",
     "text": [
      "Testing all possible sequences with 4 instructions...\n",
      "Found hull damage =  19357180\n",
      "Found solution! Instructions = ['NOT C J', 'NOT A T', 'OR T J', 'AND D J', 'WALK']\n"
     ]
    }
   ],
   "source": [
    "from itertools import permutations\n",
    "\n",
    "commands = []\n",
    "output = []\n",
    "\n",
    "found = False\n",
    "imin = 1\n",
    "imax = 4\n",
    "\n",
    "# Full brute force scan\n",
    "#for n in range(imin,imax+1):\n",
    "#    print(\"Testing all possible sequences with\",n,\"instructions...\")\n",
    "#    perm = permutations(instr,n)\n",
    "#    for p in perm:\n",
    "#        commands = []\n",
    "#        for i in p:\n",
    "#            commands.append(i)\n",
    "#        commands.append('WALK')\n",
    "#        output, hulldamage = runSpringcode(prog,commands)\n",
    "#        if (hulldamage != -1):\n",
    "#            print(\"Found solution!\")\n",
    "#            print(\"Instructions =\",commands)\n",
    "#            found = True\n",
    "#            break\n",
    "#    if found:\n",
    "#        break\n",
    "\n",
    "# slightly more clever scan\n",
    "\n",
    "endcoms = [\n",
    "    'NOT A T',\n",
    "    'OR T J',\n",
    "    'AND D J' ]\n",
    "\n",
    "found = False\n",
    "imin = 4\n",
    "imax = 10\n",
    "\n",
    "for n in range(imin,imax+1):\n",
    "    print(\"Testing all possible sequences with\",n,\"instructions...\")\n",
    "    perm = permutations(instr,n-len(endcoms))\n",
    "    for p in perm:\n",
    "        commands = []\n",
    "        for i in p:\n",
    "            commands.append(i)\n",
    "        for i in endcoms: # add ending command sequence\n",
    "            commands.append(i)\n",
    "        commands.append('WALK')\n",
    "        ##print(commands)\n",
    "        output, hulldamage = runSpringcode(prog,commands)\n",
    "        if (hulldamage != -1):\n",
    "            print(\"Found solution! Instructions =\",commands)\n",
    "            found = True\n",
    "            break\n",
    "    if found:\n",
    "        break"
   ]
  },
  {
   "cell_type": "code",
   "execution_count": null,
   "metadata": {},
   "outputs": [],
   "source": []
  }
 ],
 "metadata": {
  "kernelspec": {
   "display_name": "Python 3",
   "language": "python",
   "name": "python3"
  },
  "language_info": {
   "codemirror_mode": {
    "name": "ipython",
    "version": 3
   },
   "file_extension": ".py",
   "mimetype": "text/x-python",
   "name": "python",
   "nbconvert_exporter": "python",
   "pygments_lexer": "ipython3",
   "version": "3.7.5"
  }
 },
 "nbformat": 4,
 "nbformat_minor": 2
}
